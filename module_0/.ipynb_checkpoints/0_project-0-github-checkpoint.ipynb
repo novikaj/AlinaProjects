{
 "cells": [
  {
   "cell_type": "markdown",
   "metadata": {},
   "source": [
    "## Модуль 0, проект 0\n",
    "## Угадай число!\n",
    "Суть игры: компьютер загадывает число, которое нужно угадать за наименьшее количество попыток. В примере, приведенном на курсе, алгоритм угадывал число за 33 попытки в среднем, попробуем улучшить результат. \n",
    "\n",
    "Суть алгоритма: фактически здесь представлен бинарный поиск - мы ищем число в определенном интервале, который на каждой итерации сокращается в два раза, таким образом, сужая количество вариантов. \n"
   ]
  },
  {
   "cell_type": "code",
   "execution_count": 25,
   "metadata": {},
   "outputs": [],
   "source": [
    "import numpy as np \n",
    "\n",
    "def guess_number_game(number):\n",
    "    '''Функция считает количество попыток угадывания рандомного числа.'''\n",
    "    count = 0  #Равен нулю, поскольку первая попытка засчитывается в начале цикла while.\n",
    "    lower_boundary = 0  #Нижняя граница интервала угадывания.\n",
    "    upper_boundary = 101  #Верхняя граница интервала угадывания.\n",
    "    predict = np.random.randint(1,101)\n",
    "    while number != predict:\n",
    "        count += 1\n",
    "        if number > predict: \n",
    "            upper_boundary = number  #Если число больше, чем угадываемое, берем его как верхнюю границу интервала угадывания.\n",
    "        else: \n",
    "            lower_boundary = number  #Если число меньше, чем угадываемое, берем его как нижнюю границу интервала угадывания.\n",
    "        number = (lower_boundary+upper_boundary) // 2  #Следующей попыткой будет число в середине интервала.\n",
    "    if count == 0:  #Если число угадано с первой попытки, то возвратить нужно не 0, а 1. \n",
    "        return 1   \n",
    "    return(count)\n",
    "\n",
    "\n",
    "def score_guess(game_core):\n",
    "    '''Запускаем игру 1000 раз, чтобы узнать, как быстро игра угадывает число'''\n",
    "    count_ls = []\n",
    "    np.random.seed(1)  # Фиксируем RANDOM SEED, чтобы ваш эксперимент был воспроизводим!\n",
    "    random_array = np.random.randint(1,101,size=(1000))  #Создаем список из чисел от 1 до 100, длина списка 1000\n",
    "    for number in random_array:\n",
    "        count_ls.append(game_core(number))  #Создаем список из количества попыток\n",
    "    score = int(np.mean(count_ls))  #Вычисляем среднее количество попыток\n",
    "    print(f\"Ваш алгоритм угадывает число в среднем за {score} попыток\")\n",
    "    return(score)"
   ]
  },
  {
   "cell_type": "code",
   "execution_count": 26,
   "metadata": {},
   "outputs": [
    {
     "name": "stdout",
     "output_type": "stream",
     "text": [
      "Ваш алгоритм угадывает число в среднем за 5 попыток\n"
     ]
    },
    {
     "data": {
      "text/plain": [
       "5"
      ]
     },
     "execution_count": 26,
     "metadata": {},
     "output_type": "execute_result"
    }
   ],
   "source": [
    "score_guess(guess_number_game)"
   ]
  },
  {
   "cell_type": "markdown",
   "metadata": {},
   "source": [
    "### Результат улучшен! Алгоритм угадывает число в среднем за 5 попыток."
   ]
  }
 ],
 "metadata": {
  "kernelspec": {
   "display_name": "Python 3",
   "language": "python",
   "name": "python3"
  },
  "language_info": {
   "codemirror_mode": {
    "name": "ipython",
    "version": 3
   },
   "file_extension": ".py",
   "mimetype": "text/x-python",
   "name": "python",
   "nbconvert_exporter": "python",
   "pygments_lexer": "ipython3",
   "version": "3.8.3"
  }
 },
 "nbformat": 4,
 "nbformat_minor": 4
}
