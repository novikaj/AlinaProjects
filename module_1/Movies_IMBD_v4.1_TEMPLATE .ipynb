{
 "cells": [
  {
   "cell_type": "code",
   "execution_count": 2,
   "metadata": {
    "_cell_guid": "b1076dfc-b9ad-4769-8c92-a6c4dae69d19",
    "_uuid": "8f2839f25d086af736a60e9eeb907d3b93b6e0e5",
    "colab": {},
    "colab_type": "code",
    "id": "U2D2gTdJVp90"
   },
   "outputs": [],
   "source": [
    "import numpy as np\n",
    "import pandas as pd\n",
    "import seaborn as sns\n",
    "import matplotlib.pyplot as plt\n",
    "from collections import Counter"
   ]
  },
  {
   "cell_type": "code",
   "execution_count": 3,
   "metadata": {
    "_cell_guid": "79c7e3d0-c299-4dcb-8224-4455121ee9b0",
    "_uuid": "d629ff2d2480ee46fbb7e2d37f6b5fab8052498a",
    "colab": {},
    "colab_type": "code",
    "id": "oyGfxL3eVp9-"
   },
   "outputs": [
    {
     "data": {
      "text/html": [
       "<div>\n",
       "<style scoped>\n",
       "    .dataframe tbody tr th:only-of-type {\n",
       "        vertical-align: middle;\n",
       "    }\n",
       "\n",
       "    .dataframe tbody tr th {\n",
       "        vertical-align: top;\n",
       "    }\n",
       "\n",
       "    .dataframe thead th {\n",
       "        text-align: right;\n",
       "    }\n",
       "</style>\n",
       "<table border=\"1\" class=\"dataframe\">\n",
       "  <thead>\n",
       "    <tr style=\"text-align: right;\">\n",
       "      <th></th>\n",
       "      <th>imdb_id</th>\n",
       "      <th>budget</th>\n",
       "      <th>revenue</th>\n",
       "      <th>original_title</th>\n",
       "      <th>cast</th>\n",
       "      <th>director</th>\n",
       "      <th>tagline</th>\n",
       "      <th>overview</th>\n",
       "      <th>runtime</th>\n",
       "      <th>genres</th>\n",
       "      <th>production_companies</th>\n",
       "      <th>release_date</th>\n",
       "      <th>vote_average</th>\n",
       "      <th>release_year</th>\n",
       "    </tr>\n",
       "  </thead>\n",
       "  <tbody>\n",
       "    <tr>\n",
       "      <th>494</th>\n",
       "      <td>tt1396208</td>\n",
       "      <td>10000000</td>\n",
       "      <td>5000000</td>\n",
       "      <td>Action Replayy</td>\n",
       "      <td>Akshay Kumar|Aishwarya Rai Bachchan|Neha Dhupi...</td>\n",
       "      <td>Vipul Amrutlal Shah</td>\n",
       "      <td>Romance 1970s style</td>\n",
       "      <td>A young man tries to revive his parents' wilti...</td>\n",
       "      <td>100</td>\n",
       "      <td>Drama|Comedy|Romance|Foreign</td>\n",
       "      <td>PVR Cinemas|Hari Om Entertainment Co.|Blockbus...</td>\n",
       "      <td>11/5/2010</td>\n",
       "      <td>4.9</td>\n",
       "      <td>2010</td>\n",
       "    </tr>\n",
       "    <tr>\n",
       "      <th>182</th>\n",
       "      <td>tt2397535</td>\n",
       "      <td>5500000</td>\n",
       "      <td>3000000</td>\n",
       "      <td>Predestination</td>\n",
       "      <td>Ethan Hawke|Sarah Snook|Noah Taylor|Christophe...</td>\n",
       "      <td>Michael Spierig|Peter Spierig</td>\n",
       "      <td>To save the future he must reshape the past.</td>\n",
       "      <td>Predestination chronicles the life of a Tempor...</td>\n",
       "      <td>97</td>\n",
       "      <td>Science Fiction|Thriller</td>\n",
       "      <td>Screen Australia|Screen Queensland|Blacklab En...</td>\n",
       "      <td>8/28/2014</td>\n",
       "      <td>7.2</td>\n",
       "      <td>2014</td>\n",
       "    </tr>\n",
       "    <tr>\n",
       "      <th>316</th>\n",
       "      <td>tt1187043</td>\n",
       "      <td>9000000</td>\n",
       "      <td>70000000</td>\n",
       "      <td>3 Idiots</td>\n",
       "      <td>Aamir Khan|Kareena Kapoor|Madhavan|Sharman Jos...</td>\n",
       "      <td>Rajkumar Hirani</td>\n",
       "      <td>Don't BE A STUPID BE AN I.D.I.O.T.</td>\n",
       "      <td>In the tradition of â€œFerris Buellerâ€™s Day ...</td>\n",
       "      <td>170</td>\n",
       "      <td>Drama|Comedy|Romance</td>\n",
       "      <td>Vidhu Vinod Chopra Productions</td>\n",
       "      <td>12/23/2009</td>\n",
       "      <td>7.8</td>\n",
       "      <td>2009</td>\n",
       "    </tr>\n",
       "    <tr>\n",
       "      <th>1613</th>\n",
       "      <td>tt0371246</td>\n",
       "      <td>80000000</td>\n",
       "      <td>55041367</td>\n",
       "      <td>Spanglish</td>\n",
       "      <td>Adam Sandler|TÃ©a Leoni|Paz Vega|Cloris Leachm...</td>\n",
       "      <td>James L. Brooks</td>\n",
       "      <td>Every family has a hero.</td>\n",
       "      <td>Mexican immigrant and single mother Flor Moren...</td>\n",
       "      <td>130</td>\n",
       "      <td>Comedy</td>\n",
       "      <td>Gracie Films|Columbia Pictures Corporation</td>\n",
       "      <td>12/17/2004</td>\n",
       "      <td>5.6</td>\n",
       "      <td>2004</td>\n",
       "    </tr>\n",
       "    <tr>\n",
       "      <th>586</th>\n",
       "      <td>tt0212985</td>\n",
       "      <td>87000000</td>\n",
       "      <td>351692268</td>\n",
       "      <td>Hannibal</td>\n",
       "      <td>Anthony Hopkins|Julianne Moore|Gary Oldman|Ray...</td>\n",
       "      <td>Ridley Scott</td>\n",
       "      <td>His genius undeniable. His evil, unspeakable.</td>\n",
       "      <td>After having successfully eluded the authoriti...</td>\n",
       "      <td>131</td>\n",
       "      <td>Crime|Drama|Thriller|Horror</td>\n",
       "      <td>Universal Pictures|Scott Free Productions|Metr...</td>\n",
       "      <td>2/8/2001</td>\n",
       "      <td>6.3</td>\n",
       "      <td>2001</td>\n",
       "    </tr>\n",
       "  </tbody>\n",
       "</table>\n",
       "</div>"
      ],
      "text/plain": [
       "        imdb_id    budget    revenue  original_title  \\\n",
       "494   tt1396208  10000000    5000000  Action Replayy   \n",
       "182   tt2397535   5500000    3000000  Predestination   \n",
       "316   tt1187043   9000000   70000000        3 Idiots   \n",
       "1613  tt0371246  80000000   55041367       Spanglish   \n",
       "586   tt0212985  87000000  351692268        Hannibal   \n",
       "\n",
       "                                                   cast  \\\n",
       "494   Akshay Kumar|Aishwarya Rai Bachchan|Neha Dhupi...   \n",
       "182   Ethan Hawke|Sarah Snook|Noah Taylor|Christophe...   \n",
       "316   Aamir Khan|Kareena Kapoor|Madhavan|Sharman Jos...   \n",
       "1613  Adam Sandler|TÃ©a Leoni|Paz Vega|Cloris Leachm...   \n",
       "586   Anthony Hopkins|Julianne Moore|Gary Oldman|Ray...   \n",
       "\n",
       "                           director  \\\n",
       "494             Vipul Amrutlal Shah   \n",
       "182   Michael Spierig|Peter Spierig   \n",
       "316                 Rajkumar Hirani   \n",
       "1613                James L. Brooks   \n",
       "586                    Ridley Scott   \n",
       "\n",
       "                                            tagline  \\\n",
       "494                             Romance 1970s style   \n",
       "182    To save the future he must reshape the past.   \n",
       "316              Don't BE A STUPID BE AN I.D.I.O.T.   \n",
       "1613                       Every family has a hero.   \n",
       "586   His genius undeniable. His evil, unspeakable.   \n",
       "\n",
       "                                               overview  runtime  \\\n",
       "494   A young man tries to revive his parents' wilti...      100   \n",
       "182   Predestination chronicles the life of a Tempor...       97   \n",
       "316   In the tradition of â€œFerris Buellerâ€™s Day ...      170   \n",
       "1613  Mexican immigrant and single mother Flor Moren...      130   \n",
       "586   After having successfully eluded the authoriti...      131   \n",
       "\n",
       "                            genres  \\\n",
       "494   Drama|Comedy|Romance|Foreign   \n",
       "182       Science Fiction|Thriller   \n",
       "316           Drama|Comedy|Romance   \n",
       "1613                        Comedy   \n",
       "586    Crime|Drama|Thriller|Horror   \n",
       "\n",
       "                                   production_companies release_date  \\\n",
       "494   PVR Cinemas|Hari Om Entertainment Co.|Blockbus...    11/5/2010   \n",
       "182   Screen Australia|Screen Queensland|Blacklab En...    8/28/2014   \n",
       "316                      Vidhu Vinod Chopra Productions   12/23/2009   \n",
       "1613         Gracie Films|Columbia Pictures Corporation   12/17/2004   \n",
       "586   Universal Pictures|Scott Free Productions|Metr...     2/8/2001   \n",
       "\n",
       "      vote_average  release_year  \n",
       "494            4.9          2010  \n",
       "182            7.2          2014  \n",
       "316            7.8          2009  \n",
       "1613           5.6          2004  \n",
       "586            6.3          2001  "
      ]
     },
     "execution_count": 3,
     "metadata": {},
     "output_type": "execute_result"
    }
   ],
   "source": [
    "imdb = pd.read_csv('movie_bd_v5.csv')\n",
    "imdb.sample(5)"
   ]
  },
  {
   "cell_type": "code",
   "execution_count": 4,
   "metadata": {
    "colab": {},
    "colab_type": "code",
    "id": "CoYUnagMVp-C"
   },
   "outputs": [
    {
     "data": {
      "text/html": [
       "<div>\n",
       "<style scoped>\n",
       "    .dataframe tbody tr th:only-of-type {\n",
       "        vertical-align: middle;\n",
       "    }\n",
       "\n",
       "    .dataframe tbody tr th {\n",
       "        vertical-align: top;\n",
       "    }\n",
       "\n",
       "    .dataframe thead th {\n",
       "        text-align: right;\n",
       "    }\n",
       "</style>\n",
       "<table border=\"1\" class=\"dataframe\">\n",
       "  <thead>\n",
       "    <tr style=\"text-align: right;\">\n",
       "      <th></th>\n",
       "      <th>budget</th>\n",
       "      <th>revenue</th>\n",
       "      <th>runtime</th>\n",
       "      <th>vote_average</th>\n",
       "      <th>release_year</th>\n",
       "    </tr>\n",
       "  </thead>\n",
       "  <tbody>\n",
       "    <tr>\n",
       "      <th>count</th>\n",
       "      <td>1.889000e+03</td>\n",
       "      <td>1.889000e+03</td>\n",
       "      <td>1889.000000</td>\n",
       "      <td>1889.000000</td>\n",
       "      <td>1889.000000</td>\n",
       "    </tr>\n",
       "    <tr>\n",
       "      <th>mean</th>\n",
       "      <td>5.431083e+07</td>\n",
       "      <td>1.553653e+08</td>\n",
       "      <td>109.658549</td>\n",
       "      <td>6.140762</td>\n",
       "      <td>2007.860773</td>\n",
       "    </tr>\n",
       "    <tr>\n",
       "      <th>std</th>\n",
       "      <td>4.858721e+07</td>\n",
       "      <td>2.146698e+08</td>\n",
       "      <td>18.017041</td>\n",
       "      <td>0.764763</td>\n",
       "      <td>4.468841</td>\n",
       "    </tr>\n",
       "    <tr>\n",
       "      <th>min</th>\n",
       "      <td>5.000000e+06</td>\n",
       "      <td>2.033165e+06</td>\n",
       "      <td>63.000000</td>\n",
       "      <td>3.300000</td>\n",
       "      <td>2000.000000</td>\n",
       "    </tr>\n",
       "    <tr>\n",
       "      <th>25%</th>\n",
       "      <td>2.000000e+07</td>\n",
       "      <td>3.456058e+07</td>\n",
       "      <td>97.000000</td>\n",
       "      <td>5.600000</td>\n",
       "      <td>2004.000000</td>\n",
       "    </tr>\n",
       "    <tr>\n",
       "      <th>50%</th>\n",
       "      <td>3.800000e+07</td>\n",
       "      <td>8.361541e+07</td>\n",
       "      <td>107.000000</td>\n",
       "      <td>6.100000</td>\n",
       "      <td>2008.000000</td>\n",
       "    </tr>\n",
       "    <tr>\n",
       "      <th>75%</th>\n",
       "      <td>7.200000e+07</td>\n",
       "      <td>1.782626e+08</td>\n",
       "      <td>120.000000</td>\n",
       "      <td>6.600000</td>\n",
       "      <td>2012.000000</td>\n",
       "    </tr>\n",
       "    <tr>\n",
       "      <th>max</th>\n",
       "      <td>3.800000e+08</td>\n",
       "      <td>2.781506e+09</td>\n",
       "      <td>214.000000</td>\n",
       "      <td>8.100000</td>\n",
       "      <td>2015.000000</td>\n",
       "    </tr>\n",
       "  </tbody>\n",
       "</table>\n",
       "</div>"
      ],
      "text/plain": [
       "             budget       revenue      runtime  vote_average  release_year\n",
       "count  1.889000e+03  1.889000e+03  1889.000000   1889.000000   1889.000000\n",
       "mean   5.431083e+07  1.553653e+08   109.658549      6.140762   2007.860773\n",
       "std    4.858721e+07  2.146698e+08    18.017041      0.764763      4.468841\n",
       "min    5.000000e+06  2.033165e+06    63.000000      3.300000   2000.000000\n",
       "25%    2.000000e+07  3.456058e+07    97.000000      5.600000   2004.000000\n",
       "50%    3.800000e+07  8.361541e+07   107.000000      6.100000   2008.000000\n",
       "75%    7.200000e+07  1.782626e+08   120.000000      6.600000   2012.000000\n",
       "max    3.800000e+08  2.781506e+09   214.000000      8.100000   2015.000000"
      ]
     },
     "execution_count": 4,
     "metadata": {},
     "output_type": "execute_result"
    }
   ],
   "source": [
    "imdb.describe()"
   ]
  },
  {
   "cell_type": "markdown",
   "metadata": {
    "colab_type": "text",
    "id": "DTIt7ezGVp-G"
   },
   "source": [
    "# Предобработка"
   ]
  },
  {
   "cell_type": "code",
   "execution_count": 69,
   "metadata": {
    "colab": {},
    "colab_type": "code",
    "id": "jNb40DwKVp-H"
   },
   "outputs": [],
   "source": [
    "answers = {} # создадим словарь для ответов\n",
    "# добавим колонку 'profit' в датафрейм: \n",
    "imdb['profit'] = imdb['revenue'] - imdb['budget']\n",
    "# отфильтруем фильмы 2008 года: \n",
    "imdb_2008 = imdb[imdb.release_year == 2008]\n",
    "# отфильтруем фильмы с 2012 по 2014 год: \n",
    "imdb_1214 = imdb[(imdb.release_year >= 2012) & (imdb.release_year <= 2014)]"
   ]
  },
  {
   "cell_type": "markdown",
   "metadata": {
    "colab_type": "text",
    "id": "YxZaH-nPVp-L"
   },
   "source": [
    "# 1. У какого фильма из списка самый большой бюджет?"
   ]
  },
  {
   "cell_type": "markdown",
   "metadata": {
    "colab_type": "text",
    "id": "Nd-G5gX6Vp-M"
   },
   "source": [
    "Использовать варианты ответов в коде решения запрещено.    \n",
    "Вы думаете и в жизни у вас будут варианты ответов?)"
   ]
  },
  {
   "cell_type": "code",
   "execution_count": 70,
   "metadata": {
    "colab": {},
    "colab_type": "code",
    "id": "uVnXAY5RVp-O"
   },
   "outputs": [],
   "source": [
    "answers['1'] = 'Pirates of the Caribbean: On Stranger Tides (tt1298650)'\n",
    "# +"
   ]
  },
  {
   "cell_type": "code",
   "execution_count": 47,
   "metadata": {
    "colab": {},
    "colab_type": "code",
    "id": "dZwb3m28Vp-S"
   },
   "outputs": [
    {
     "data": {
      "text/plain": [
       "723    Pirates of the Caribbean: On Stranger Tides\n",
       "Name: original_title, dtype: object"
      ]
     },
     "execution_count": 47,
     "metadata": {},
     "output_type": "execute_result"
    }
   ],
   "source": [
    "max_budget = imdb[imdb.budget==imdb['budget'].max()].original_title\n",
    "max_budget"
   ]
  },
  {
   "cell_type": "markdown",
   "metadata": {
    "colab_type": "text",
    "id": "FNRbbI3vVp-c"
   },
   "source": [
    "# 2. Какой из фильмов самый длительный (в минутах)?"
   ]
  },
  {
   "cell_type": "code",
   "execution_count": 71,
   "metadata": {
    "colab": {},
    "colab_type": "code",
    "id": "vHAoEXNTVp-d"
   },
   "outputs": [],
   "source": [
    "answers['2'] = 'Gods and Generals (tt0279111)'\n",
    "# +"
   ]
  },
  {
   "cell_type": "code",
   "execution_count": 49,
   "metadata": {
    "colab": {},
    "colab_type": "code",
    "id": "ot-VX2XrVp-g"
   },
   "outputs": [
    {
     "data": {
      "text/plain": [
       "1157    Gods and Generals\n",
       "Name: original_title, dtype: object"
      ]
     },
     "execution_count": 49,
     "metadata": {},
     "output_type": "execute_result"
    }
   ],
   "source": [
    "longest_movie = imdb[imdb.runtime == imdb['runtime'].max()].original_title\n",
    "longest_movie"
   ]
  },
  {
   "cell_type": "markdown",
   "metadata": {
    "colab_type": "text",
    "id": "bapLlpW8Vp-k"
   },
   "source": [
    "# 3. Какой из фильмов самый короткий (в минутах)?\n",
    "\n",
    "\n",
    "\n"
   ]
  },
  {
   "cell_type": "code",
   "execution_count": 72,
   "metadata": {
    "colab": {},
    "colab_type": "code",
    "id": "YBxaSHuAVp-l"
   },
   "outputs": [],
   "source": [
    "answers['3'] = 'Winnie the Pooh (tt1449283)' \n",
    "# +"
   ]
  },
  {
   "cell_type": "code",
   "execution_count": 51,
   "metadata": {},
   "outputs": [
    {
     "data": {
      "text/plain": [
       "768    Winnie the Pooh\n",
       "Name: original_title, dtype: object"
      ]
     },
     "execution_count": 51,
     "metadata": {},
     "output_type": "execute_result"
    }
   ],
   "source": [
    "shortest_movie = imdb[imdb.runtime == imdb['runtime'].min()].original_title\n",
    "shortest_movie"
   ]
  },
  {
   "cell_type": "markdown",
   "metadata": {
    "colab_type": "text",
    "id": "TfQbxbfNVp-p"
   },
   "source": [
    "# 4. Какова средняя длительность фильмов?\n"
   ]
  },
  {
   "cell_type": "code",
   "execution_count": 73,
   "metadata": {
    "colab": {},
    "colab_type": "code",
    "id": "5K6dKZYVVp-q"
   },
   "outputs": [],
   "source": [
    "answers['4'] = 110\n",
    "# +"
   ]
  },
  {
   "cell_type": "code",
   "execution_count": 53,
   "metadata": {},
   "outputs": [
    {
     "data": {
      "text/plain": [
       "110"
      ]
     },
     "execution_count": 53,
     "metadata": {},
     "output_type": "execute_result"
    }
   ],
   "source": [
    "mean_runtime = round(imdb['runtime'].mean())\n",
    "mean_runtime"
   ]
  },
  {
   "cell_type": "markdown",
   "metadata": {
    "colab_type": "text",
    "id": "r5TvbnT_Vp-u"
   },
   "source": [
    "# 5. Каково медианное значение длительности фильмов? "
   ]
  },
  {
   "cell_type": "code",
   "execution_count": 74,
   "metadata": {
    "colab": {},
    "colab_type": "code",
    "id": "iBROplKnVp-v"
   },
   "outputs": [],
   "source": [
    "answers['5'] = 107\n",
    "# +"
   ]
  },
  {
   "cell_type": "code",
   "execution_count": 55,
   "metadata": {},
   "outputs": [
    {
     "data": {
      "text/plain": [
       "107"
      ]
     },
     "execution_count": 55,
     "metadata": {},
     "output_type": "execute_result"
    }
   ],
   "source": [
    "median_runtime = round(imdb['runtime'].median())\n",
    "median_runtime"
   ]
  },
  {
   "cell_type": "markdown",
   "metadata": {
    "colab_type": "text",
    "id": "39P-deDSVp-y"
   },
   "source": [
    "# 6. Какой самый прибыльный фильм?\n",
    "#### Внимание! Здесь и далее под «прибылью» или «убытками» понимается разность между сборами и бюджетом фильма. (прибыль = сборы - бюджет) в нашем датасете это будет (profit = revenue - budget) "
   ]
  },
  {
   "cell_type": "code",
   "execution_count": 75,
   "metadata": {
    "colab": {},
    "colab_type": "code",
    "id": "UYZh4T9WVp-y"
   },
   "outputs": [],
   "source": [
    "answers['6'] = 'Avatar (tt0499549)'\n",
    "# +"
   ]
  },
  {
   "cell_type": "code",
   "execution_count": 57,
   "metadata": {},
   "outputs": [
    {
     "data": {
      "text/plain": [
       "239    Avatar\n",
       "Name: original_title, dtype: object"
      ]
     },
     "execution_count": 57,
     "metadata": {},
     "output_type": "execute_result"
    }
   ],
   "source": [
    "most_profitable_film = imdb[imdb.profit == imdb.profit.max()].original_title\n",
    "most_profitable_film"
   ]
  },
  {
   "cell_type": "markdown",
   "metadata": {
    "colab_type": "text",
    "id": "M99JmIX4Vp-2"
   },
   "source": [
    "# 7. Какой фильм самый убыточный? "
   ]
  },
  {
   "cell_type": "code",
   "execution_count": 76,
   "metadata": {
    "colab": {},
    "colab_type": "code",
    "id": "w-D2m4XPVp-3"
   },
   "outputs": [],
   "source": [
    "answers['7'] = 'The Lone Ranger (tt1210819)'\n",
    "# +"
   ]
  },
  {
   "cell_type": "code",
   "execution_count": 59,
   "metadata": {},
   "outputs": [
    {
     "data": {
      "text/plain": [
       "1245    The Lone Ranger\n",
       "Name: original_title, dtype: object"
      ]
     },
     "execution_count": 59,
     "metadata": {},
     "output_type": "execute_result"
    }
   ],
   "source": [
    "least_profitable_film = imdb[imdb.profit == imdb.profit.min()].original_title\n",
    "least_profitable_film\n"
   ]
  },
  {
   "cell_type": "markdown",
   "metadata": {
    "colab_type": "text",
    "id": "wEOM5ERVVp-6"
   },
   "source": [
    "# 8. У скольких фильмов из датасета объем сборов оказался выше бюджета?"
   ]
  },
  {
   "cell_type": "code",
   "execution_count": 77,
   "metadata": {},
   "outputs": [],
   "source": [
    "answers['8'] = 1478\n",
    "# +"
   ]
  },
  {
   "cell_type": "code",
   "execution_count": 61,
   "metadata": {
    "colab": {},
    "colab_type": "code",
    "id": "y00_7HD6Vp-7"
   },
   "outputs": [
    {
     "data": {
      "text/plain": [
       "imdb_id                 1478\n",
       "budget                  1478\n",
       "revenue                 1478\n",
       "original_title          1478\n",
       "cast                    1478\n",
       "director                1478\n",
       "tagline                 1478\n",
       "overview                1478\n",
       "runtime                 1478\n",
       "genres                  1478\n",
       "production_companies    1478\n",
       "release_date            1478\n",
       "vote_average            1478\n",
       "release_year            1478\n",
       "profit                  1478\n",
       "dtype: int64"
      ]
     },
     "execution_count": 61,
     "metadata": {},
     "output_type": "execute_result"
    }
   ],
   "source": [
    "profitable_movies_amount = imdb[imdb.revenue > imdb.budget].count()\n",
    "profitable_movies_amount"
   ]
  },
  {
   "cell_type": "markdown",
   "metadata": {
    "colab_type": "text",
    "id": "xhpspA9KVp_A"
   },
   "source": [
    "# 9. Какой фильм оказался самым кассовым в 2008 году?"
   ]
  },
  {
   "cell_type": "code",
   "execution_count": 78,
   "metadata": {
    "colab": {},
    "colab_type": "code",
    "id": "MoUyQr9RVp_B"
   },
   "outputs": [],
   "source": [
    "answers['9'] = 'The Dark Knight (tt0468569)'\n",
    "# +"
   ]
  },
  {
   "cell_type": "code",
   "execution_count": 63,
   "metadata": {},
   "outputs": [
    {
     "data": {
      "text/plain": [
       "599    The Dark Knight\n",
       "Name: original_title, dtype: object"
      ]
     },
     "execution_count": 63,
     "metadata": {},
     "output_type": "execute_result"
    }
   ],
   "source": [
    "highest_revenue_2008 = imdb_2008[imdb_2008.profit == imdb_2008.profit.max()].original_title\n",
    "highest_revenue_2008"
   ]
  },
  {
   "cell_type": "markdown",
   "metadata": {
    "colab_type": "text",
    "id": "Zi4hDKidVp_F"
   },
   "source": [
    "# 10. Самый убыточный фильм за период с 2012 по 2014 г. (включительно)?\n"
   ]
  },
  {
   "cell_type": "code",
   "execution_count": 79,
   "metadata": {},
   "outputs": [],
   "source": [
    "answers['10'] = 'The Lone Ranger (tt1210819)'\n",
    "# +"
   ]
  },
  {
   "cell_type": "code",
   "execution_count": 65,
   "metadata": {
    "colab": {},
    "colab_type": "code",
    "id": "XqyRmufJVp_F"
   },
   "outputs": [
    {
     "data": {
      "text/plain": [
       "1245    The Lone Ranger\n",
       "Name: original_title, dtype: object"
      ]
     },
     "execution_count": 65,
     "metadata": {},
     "output_type": "execute_result"
    }
   ],
   "source": [
    "# период 2012 - 2014 для уменьшения места указан как 1214\n",
    "lowest_revenue_1214 = imdb_1214[imdb_1214.profit == imdb_1214.profit.min()].original_title\n",
    "lowest_revenue_1214"
   ]
  },
  {
   "cell_type": "markdown",
   "metadata": {
    "colab_type": "text",
    "id": "EA7Sa9dkVp_I"
   },
   "source": [
    "# 11. Какого жанра фильмов больше всего?"
   ]
  },
  {
   "cell_type": "code",
   "execution_count": 80,
   "metadata": {
    "colab": {},
    "colab_type": "code",
    "id": "zsJAwJ8QVp_J"
   },
   "outputs": [],
   "source": [
    "answers['11'] = 'Comedy'\n",
    "# +"
   ]
  },
  {
   "cell_type": "code",
   "execution_count": 67,
   "metadata": {},
   "outputs": [
    {
     "data": {
      "text/plain": [
       "Comedy                                          141\n",
       "Drama                                           102\n",
       "Comedy|Romance                                   60\n",
       "Drama|Romance                                    45\n",
       "Horror|Thriller                                  35\n",
       "                                               ... \n",
       "Drama|History|Thriller                            1\n",
       "Western|Drama|Adventure|Thriller                  1\n",
       "Action|Drama|Horror|Science Fiction|Thriller      1\n",
       "Fantasy|Action|Thriller|Science Fiction           1\n",
       "Drama|Romance|Comedy                              1\n",
       "Name: genres, Length: 652, dtype: int64"
      ]
     },
     "execution_count": 67,
     "metadata": {},
     "output_type": "execute_result"
    }
   ],
   "source": [
    "popular_genres = imdb.genres.value_counts()\n",
    "popular_genres"
   ]
  },
  {
   "cell_type": "markdown",
   "metadata": {
    "colab_type": "text",
    "id": "T9_bPWpkVp_Q"
   },
   "source": [
    "# 12. Фильмы какого жанра чаще всего становятся прибыльными? "
   ]
  },
  {
   "cell_type": "code",
   "execution_count": null,
   "metadata": {
    "colab": {},
    "colab_type": "code",
    "id": "Tmt8MaK1Vp_R"
   },
   "outputs": [],
   "source": []
  },
  {
   "cell_type": "markdown",
   "metadata": {
    "colab_type": "text",
    "id": "0F23bgsDVp_U"
   },
   "source": [
    "# 13. У какого режиссера самые большие суммарные кассовые сборы?"
   ]
  },
  {
   "cell_type": "code",
   "execution_count": null,
   "metadata": {
    "colab": {},
    "colab_type": "code",
    "id": "K6Z3J8ygVp_X"
   },
   "outputs": [],
   "source": []
  },
  {
   "cell_type": "markdown",
   "metadata": {
    "colab_type": "text",
    "id": "PsYC9FgRVp_a"
   },
   "source": [
    "# 14. Какой режисер снял больше всего фильмов в стиле Action?"
   ]
  },
  {
   "cell_type": "code",
   "execution_count": 0,
   "metadata": {
    "colab": {},
    "colab_type": "code",
    "id": "wd2M-wHeVp_b"
   },
   "outputs": [],
   "source": []
  },
  {
   "cell_type": "markdown",
   "metadata": {
    "colab_type": "text",
    "id": "PQ0KciD7Vp_f"
   },
   "source": [
    "# 15. Фильмы с каким актером принесли самые высокие кассовые сборы в 2012 году? "
   ]
  },
  {
   "cell_type": "code",
   "execution_count": 0,
   "metadata": {
    "colab": {},
    "colab_type": "code",
    "id": "aga62oeKVp_g"
   },
   "outputs": [],
   "source": []
  },
  {
   "cell_type": "markdown",
   "metadata": {
    "colab_type": "text",
    "id": "mWHyyL7QVp_j"
   },
   "source": [
    "# 16. Какой актер снялся в большем количестве высокобюджетных фильмов?"
   ]
  },
  {
   "cell_type": "code",
   "execution_count": 0,
   "metadata": {
    "colab": {},
    "colab_type": "code",
    "id": "qQtmHKTFVp_k"
   },
   "outputs": [],
   "source": []
  },
  {
   "cell_type": "markdown",
   "metadata": {
    "colab_type": "text",
    "id": "NIh6AaW5Vp_n"
   },
   "source": [
    "# 17. В фильмах какого жанра больше всего снимался Nicolas Cage? "
   ]
  },
  {
   "cell_type": "code",
   "execution_count": 0,
   "metadata": {
    "colab": {},
    "colab_type": "code",
    "id": "H74SJDIBVp_n"
   },
   "outputs": [],
   "source": []
  },
  {
   "cell_type": "markdown",
   "metadata": {
    "colab_type": "text",
    "id": "RqOmPRfWVp_q"
   },
   "source": [
    "# 18. Самый убыточный фильм от Paramount Pictures"
   ]
  },
  {
   "cell_type": "code",
   "execution_count": 0,
   "metadata": {
    "colab": {},
    "colab_type": "code",
    "id": "9E_B0Y96Vp_r"
   },
   "outputs": [],
   "source": []
  },
  {
   "cell_type": "markdown",
   "metadata": {
    "colab_type": "text",
    "id": "vS8Ur6ddVp_u"
   },
   "source": [
    "# 19. Какой год стал самым успешным по суммарным кассовым сборам?"
   ]
  },
  {
   "cell_type": "code",
   "execution_count": 0,
   "metadata": {
    "colab": {},
    "colab_type": "code",
    "id": "Dnbt4GdIVp_v"
   },
   "outputs": [],
   "source": []
  },
  {
   "cell_type": "markdown",
   "metadata": {
    "colab_type": "text",
    "id": "JAzJh4QAVp_z"
   },
   "source": [
    "# 20. Какой самый прибыльный год для студии Warner Bros?"
   ]
  },
  {
   "cell_type": "code",
   "execution_count": 0,
   "metadata": {
    "colab": {},
    "colab_type": "code",
    "id": "wgVu02DEVp_0"
   },
   "outputs": [],
   "source": []
  },
  {
   "cell_type": "markdown",
   "metadata": {
    "colab_type": "text",
    "id": "8Im1S2HRVp_4"
   },
   "source": [
    "# 21. В каком месяце за все годы суммарно вышло больше всего фильмов?"
   ]
  },
  {
   "cell_type": "code",
   "execution_count": 0,
   "metadata": {
    "colab": {},
    "colab_type": "code",
    "id": "lev6TH7gVp_4"
   },
   "outputs": [],
   "source": []
  },
  {
   "cell_type": "markdown",
   "metadata": {
    "colab_type": "text",
    "id": "uAJsZ_NeVp_7"
   },
   "source": [
    "# 22. Сколько суммарно вышло фильмов летом? (за июнь, июль, август)"
   ]
  },
  {
   "cell_type": "code",
   "execution_count": 0,
   "metadata": {
    "colab": {},
    "colab_type": "code",
    "id": "Aa-hEREoVp_8"
   },
   "outputs": [],
   "source": []
  },
  {
   "cell_type": "markdown",
   "metadata": {
    "colab_type": "text",
    "id": "G94ppOY1VqAA"
   },
   "source": [
    "# 23. Для какого режиссера зима – самое продуктивное время года? "
   ]
  },
  {
   "cell_type": "code",
   "execution_count": 0,
   "metadata": {
    "colab": {},
    "colab_type": "code",
    "id": "RhNTsamuVqAB"
   },
   "outputs": [],
   "source": [
    "lala llalalla "
   ]
  },
  {
   "cell_type": "markdown",
   "metadata": {
    "colab_type": "text",
    "id": "RBo0JVjVVqAF"
   },
   "source": [
    "# 24. Какая студия дает самые длинные названия своим фильмам по количеству символов?"
   ]
  },
  {
   "cell_type": "code",
   "execution_count": 0,
   "metadata": {
    "colab": {},
    "colab_type": "code",
    "id": "QRGS8L0iVqAG"
   },
   "outputs": [],
   "source": []
  },
  {
   "cell_type": "markdown",
   "metadata": {
    "colab_type": "text",
    "id": "9G0hbvR7VqAK"
   },
   "source": [
    "# 25. Описание фильмов какой студии в среднем самые длинные по количеству слов?"
   ]
  },
  {
   "cell_type": "code",
   "execution_count": 0,
   "metadata": {
    "colab": {},
    "colab_type": "code",
    "id": "Ge2GsLNxVqAK"
   },
   "outputs": [],
   "source": []
  },
  {
   "cell_type": "markdown",
   "metadata": {
    "colab_type": "text",
    "id": "FJ1AFt90VqAP"
   },
   "source": [
    "# 26. Какие фильмы входят в 1 процент лучших по рейтингу? \n",
    "по vote_average"
   ]
  },
  {
   "cell_type": "code",
   "execution_count": 0,
   "metadata": {
    "colab": {},
    "colab_type": "code",
    "id": "8qmJVq4CVqAQ"
   },
   "outputs": [],
   "source": []
  },
  {
   "cell_type": "markdown",
   "metadata": {
    "colab_type": "text",
    "id": "MdXsUXbCVqAV"
   },
   "source": [
    "# 27. Какие актеры чаще всего снимаются в одном фильме вместе?\n"
   ]
  },
  {
   "cell_type": "markdown",
   "metadata": {
    "colab_type": "text",
    "id": "4ymnxEVoVqAW"
   },
   "source": [
    "ВАРИАНТ 2"
   ]
  },
  {
   "cell_type": "markdown",
   "metadata": {
    "colab_type": "text",
    "id": "U0nONFnGVqAX"
   },
   "source": [
    "# Submission"
   ]
  },
  {
   "cell_type": "code",
   "execution_count": 81,
   "metadata": {
    "colab": {},
    "colab_type": "code",
    "id": "IfcaRO9-VqAX",
    "outputId": "0f132912-32bb-4196-c98c-abfbc4ad5a5f"
   },
   "outputs": [
    {
     "data": {
      "text/plain": [
       "{'1': 'Pirates of the Caribbean: On Stranger Tides (tt1298650)',\n",
       " '2': 'Gods and Generals (tt0279111)',\n",
       " '3': 'Winnie the Pooh (tt1449283)',\n",
       " '4': 110,\n",
       " '5': 107,\n",
       " '6': 'Avatar (tt0499549)',\n",
       " '7': 'The Lone Ranger (tt1210819)',\n",
       " '8': 1478,\n",
       " '9': 'The Dark Knight (tt0468569)',\n",
       " '10': 'The Lone Ranger (tt1210819)',\n",
       " '11': 'Comedy'}"
      ]
     },
     "execution_count": 81,
     "metadata": {},
     "output_type": "execute_result"
    }
   ],
   "source": [
    "# в конце можно посмотреть свои ответы к каждому вопросу\n",
    "answers"
   ]
  },
  {
   "cell_type": "code",
   "execution_count": 82,
   "metadata": {
    "colab": {},
    "colab_type": "code",
    "id": "SiRmHPl8VqAd"
   },
   "outputs": [
    {
     "data": {
      "text/plain": [
       "11"
      ]
     },
     "execution_count": 82,
     "metadata": {},
     "output_type": "execute_result"
    }
   ],
   "source": [
    "# и убедиться что ни чего не пропустил)\n",
    "len(answers)"
   ]
  },
  {
   "cell_type": "code",
   "execution_count": 0,
   "metadata": {
    "colab": {},
    "colab_type": "code",
    "id": "uCfuTkRbVqAg"
   },
   "outputs": [],
   "source": []
  },
  {
   "cell_type": "code",
   "execution_count": 0,
   "metadata": {
    "colab": {},
    "colab_type": "code",
    "id": "Vwx3NrkSVqAl"
   },
   "outputs": [],
   "source": []
  }
 ],
 "metadata": {
  "colab": {
   "name": "Copy of [SF-DST] Movies IMBD v4.1 TEMPLATE.ipynb",
   "provenance": []
  },
  "kernelspec": {
   "display_name": "Python 3",
   "language": "python",
   "name": "python3"
  },
  "language_info": {
   "codemirror_mode": {
    "name": "ipython",
    "version": 3
   },
   "file_extension": ".py",
   "mimetype": "text/x-python",
   "name": "python",
   "nbconvert_exporter": "python",
   "pygments_lexer": "ipython3",
   "version": "3.8.3"
  }
 },
 "nbformat": 4,
 "nbformat_minor": 1
}
