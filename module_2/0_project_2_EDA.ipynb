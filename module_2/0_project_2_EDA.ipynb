{
 "cells": [
  {
   "cell_type": "markdown",
   "metadata": {},
   "source": [
    "# Первичный анализ данных"
   ]
  },
  {
   "cell_type": "markdown",
   "metadata": {},
   "source": [
    "### Для начала импортируем необходимые для анализа библиотеки и датасет:"
   ]
  },
  {
   "cell_type": "code",
   "execution_count": 1,
   "metadata": {},
   "outputs": [],
   "source": [
    "import pandas as pd\n",
    "import matplotlib.pyplot as plt\n",
    "import seaborn as sns\n",
    "import numpy as np\n",
    "from itertools import combinations\n",
    "from scipy.stats import ttest_ind\n",
    "import random\n",
    "%matplotlib inline\n",
    "\n",
    "pd.set_option('display.max_rows', 50) # показывать больше строк\n",
    "pd.set_option('display.max_columns', 50) # показывать больше колонок\n",
    "\n",
    "\n",
    "studying = pd.read_csv('stud_math.csv')\n",
    "studying = studying[studying['score'].notnull()] # удаляем все строки, где отсутствует значение целевой переменной ('score')"
   ]
  },
  {
   "cell_type": "markdown",
   "metadata": {},
   "source": [
    "## Предобработка"
   ]
  },
  {
   "cell_type": "code",
   "execution_count": 2,
   "metadata": {},
   "outputs": [],
   "source": [
    "# Определим функцию, которая заменяет значения nan на None: \n",
    "\n",
    "def none_function(column, data=studying): \n",
    "    data[column] = data[column].astype(str).apply(lambda x: None if x.strip() =='' else x)\n",
    "    return data[column]\n",
    "\n",
    "# Для уменьшения кода выпишем функцию count_values, которая считает количество уникальных значений по отдельным столбцам: \n",
    "\n",
    "def count_values(column_name, data=studying): \n",
    "    return data[column_name].value_counts()\n",
    "\n",
    "# Функция интерквартильного размаха: \n",
    "def iqr_condition(column, condition, value, data=studying):\n",
    "    cond_data = data[data[condition]==value]\n",
    "    IQR = cond_data[column].quantile(0.75) - cond_data[column].quantile(0.25) #Интерквартильный размах\n",
    "    perc25 = cond_data[column].quantile(0.25)\n",
    "    perc75 = cond_data[column].quantile(0.75)\n",
    " \n",
    "    return print(\n",
    "    '25-й перцентиль: {},'.format(perc25),\n",
    "    '75-й перцентиль: {},'.format(perc75),\n",
    "    \"IQR: {}, \".format(IQR),\n",
    "    \"Границы выбросов: [{f}, {l}].\".format(f=perc25 - 1.5*IQR, l=perc75 + 1.5*IQR))\n",
    "\n",
    "def iqr(column, data=studying):\n",
    "    IQR = data[column].quantile(0.75) - data[column].quantile(0.25) #Интерквартильный размах\n",
    "    perc25 = data[column].quantile(0.25)\n",
    "    perc75 = data[column].quantile(0.75)\n",
    " \n",
    "    return print(\n",
    "    '25-й перцентиль: {},'.format(perc25),\n",
    "    '75-й перцентиль: {},'.format(perc75),\n",
    "    \"IQR: {}, \".format(IQR),\n",
    "    \"Границы выбросов: [{f}, {l}].\".format(f=perc25 - 1.5*IQR, l=perc75 + 1.5*IQR))"
   ]
  },
  {
   "cell_type": "markdown",
   "metadata": {},
   "source": [
    "### Посмотрим на данные и информацию о них: "
   ]
  },
  {
   "cell_type": "code",
   "execution_count": 3,
   "metadata": {},
   "outputs": [
    {
     "data": {
      "text/html": [
       "<div>\n",
       "<style scoped>\n",
       "    .dataframe tbody tr th:only-of-type {\n",
       "        vertical-align: middle;\n",
       "    }\n",
       "\n",
       "    .dataframe tbody tr th {\n",
       "        vertical-align: top;\n",
       "    }\n",
       "\n",
       "    .dataframe thead th {\n",
       "        text-align: right;\n",
       "    }\n",
       "</style>\n",
       "<table border=\"1\" class=\"dataframe\">\n",
       "  <thead>\n",
       "    <tr style=\"text-align: right;\">\n",
       "      <th></th>\n",
       "      <th>school</th>\n",
       "      <th>sex</th>\n",
       "      <th>age</th>\n",
       "      <th>address</th>\n",
       "      <th>famsize</th>\n",
       "      <th>Pstatus</th>\n",
       "      <th>Medu</th>\n",
       "      <th>Fedu</th>\n",
       "      <th>Mjob</th>\n",
       "      <th>Fjob</th>\n",
       "      <th>reason</th>\n",
       "      <th>guardian</th>\n",
       "      <th>traveltime</th>\n",
       "      <th>studytime</th>\n",
       "      <th>failures</th>\n",
       "      <th>schoolsup</th>\n",
       "      <th>famsup</th>\n",
       "      <th>paid</th>\n",
       "      <th>activities</th>\n",
       "      <th>nursery</th>\n",
       "      <th>studytime, granular</th>\n",
       "      <th>higher</th>\n",
       "      <th>internet</th>\n",
       "      <th>romantic</th>\n",
       "      <th>famrel</th>\n",
       "      <th>freetime</th>\n",
       "      <th>goout</th>\n",
       "      <th>health</th>\n",
       "      <th>absences</th>\n",
       "      <th>score</th>\n",
       "    </tr>\n",
       "  </thead>\n",
       "  <tbody>\n",
       "    <tr>\n",
       "      <th>0</th>\n",
       "      <td>GP</td>\n",
       "      <td>F</td>\n",
       "      <td>18</td>\n",
       "      <td>U</td>\n",
       "      <td>NaN</td>\n",
       "      <td>A</td>\n",
       "      <td>4.0</td>\n",
       "      <td>4.0</td>\n",
       "      <td>at_home</td>\n",
       "      <td>teacher</td>\n",
       "      <td>course</td>\n",
       "      <td>mother</td>\n",
       "      <td>2.0</td>\n",
       "      <td>2.0</td>\n",
       "      <td>0.0</td>\n",
       "      <td>yes</td>\n",
       "      <td>no</td>\n",
       "      <td>no</td>\n",
       "      <td>no</td>\n",
       "      <td>yes</td>\n",
       "      <td>-6.0</td>\n",
       "      <td>yes</td>\n",
       "      <td>NaN</td>\n",
       "      <td>no</td>\n",
       "      <td>4.0</td>\n",
       "      <td>3.0</td>\n",
       "      <td>4.0</td>\n",
       "      <td>3.0</td>\n",
       "      <td>6.0</td>\n",
       "      <td>30.0</td>\n",
       "    </tr>\n",
       "    <tr>\n",
       "      <th>1</th>\n",
       "      <td>GP</td>\n",
       "      <td>F</td>\n",
       "      <td>17</td>\n",
       "      <td>U</td>\n",
       "      <td>GT3</td>\n",
       "      <td>NaN</td>\n",
       "      <td>1.0</td>\n",
       "      <td>1.0</td>\n",
       "      <td>at_home</td>\n",
       "      <td>other</td>\n",
       "      <td>course</td>\n",
       "      <td>father</td>\n",
       "      <td>1.0</td>\n",
       "      <td>2.0</td>\n",
       "      <td>0.0</td>\n",
       "      <td>no</td>\n",
       "      <td>yes</td>\n",
       "      <td>no</td>\n",
       "      <td>no</td>\n",
       "      <td>no</td>\n",
       "      <td>-6.0</td>\n",
       "      <td>yes</td>\n",
       "      <td>yes</td>\n",
       "      <td>no</td>\n",
       "      <td>5.0</td>\n",
       "      <td>3.0</td>\n",
       "      <td>3.0</td>\n",
       "      <td>3.0</td>\n",
       "      <td>4.0</td>\n",
       "      <td>30.0</td>\n",
       "    </tr>\n",
       "    <tr>\n",
       "      <th>2</th>\n",
       "      <td>GP</td>\n",
       "      <td>F</td>\n",
       "      <td>15</td>\n",
       "      <td>U</td>\n",
       "      <td>LE3</td>\n",
       "      <td>T</td>\n",
       "      <td>1.0</td>\n",
       "      <td>1.0</td>\n",
       "      <td>at_home</td>\n",
       "      <td>other</td>\n",
       "      <td>other</td>\n",
       "      <td>mother</td>\n",
       "      <td>1.0</td>\n",
       "      <td>2.0</td>\n",
       "      <td>3.0</td>\n",
       "      <td>yes</td>\n",
       "      <td>no</td>\n",
       "      <td>NaN</td>\n",
       "      <td>no</td>\n",
       "      <td>yes</td>\n",
       "      <td>-6.0</td>\n",
       "      <td>yes</td>\n",
       "      <td>yes</td>\n",
       "      <td>NaN</td>\n",
       "      <td>4.0</td>\n",
       "      <td>3.0</td>\n",
       "      <td>2.0</td>\n",
       "      <td>3.0</td>\n",
       "      <td>10.0</td>\n",
       "      <td>50.0</td>\n",
       "    </tr>\n",
       "    <tr>\n",
       "      <th>3</th>\n",
       "      <td>GP</td>\n",
       "      <td>F</td>\n",
       "      <td>15</td>\n",
       "      <td>U</td>\n",
       "      <td>GT3</td>\n",
       "      <td>T</td>\n",
       "      <td>4.0</td>\n",
       "      <td>2.0</td>\n",
       "      <td>health</td>\n",
       "      <td>NaN</td>\n",
       "      <td>home</td>\n",
       "      <td>mother</td>\n",
       "      <td>1.0</td>\n",
       "      <td>3.0</td>\n",
       "      <td>0.0</td>\n",
       "      <td>no</td>\n",
       "      <td>yes</td>\n",
       "      <td>yes</td>\n",
       "      <td>yes</td>\n",
       "      <td>yes</td>\n",
       "      <td>-9.0</td>\n",
       "      <td>yes</td>\n",
       "      <td>yes</td>\n",
       "      <td>yes</td>\n",
       "      <td>3.0</td>\n",
       "      <td>2.0</td>\n",
       "      <td>2.0</td>\n",
       "      <td>5.0</td>\n",
       "      <td>2.0</td>\n",
       "      <td>75.0</td>\n",
       "    </tr>\n",
       "    <tr>\n",
       "      <th>4</th>\n",
       "      <td>GP</td>\n",
       "      <td>F</td>\n",
       "      <td>16</td>\n",
       "      <td>U</td>\n",
       "      <td>GT3</td>\n",
       "      <td>T</td>\n",
       "      <td>3.0</td>\n",
       "      <td>3.0</td>\n",
       "      <td>other</td>\n",
       "      <td>other</td>\n",
       "      <td>home</td>\n",
       "      <td>father</td>\n",
       "      <td>1.0</td>\n",
       "      <td>2.0</td>\n",
       "      <td>0.0</td>\n",
       "      <td>no</td>\n",
       "      <td>yes</td>\n",
       "      <td>yes</td>\n",
       "      <td>no</td>\n",
       "      <td>yes</td>\n",
       "      <td>-6.0</td>\n",
       "      <td>yes</td>\n",
       "      <td>no</td>\n",
       "      <td>no</td>\n",
       "      <td>4.0</td>\n",
       "      <td>3.0</td>\n",
       "      <td>2.0</td>\n",
       "      <td>5.0</td>\n",
       "      <td>4.0</td>\n",
       "      <td>50.0</td>\n",
       "    </tr>\n",
       "    <tr>\n",
       "      <th>...</th>\n",
       "      <td>...</td>\n",
       "      <td>...</td>\n",
       "      <td>...</td>\n",
       "      <td>...</td>\n",
       "      <td>...</td>\n",
       "      <td>...</td>\n",
       "      <td>...</td>\n",
       "      <td>...</td>\n",
       "      <td>...</td>\n",
       "      <td>...</td>\n",
       "      <td>...</td>\n",
       "      <td>...</td>\n",
       "      <td>...</td>\n",
       "      <td>...</td>\n",
       "      <td>...</td>\n",
       "      <td>...</td>\n",
       "      <td>...</td>\n",
       "      <td>...</td>\n",
       "      <td>...</td>\n",
       "      <td>...</td>\n",
       "      <td>...</td>\n",
       "      <td>...</td>\n",
       "      <td>...</td>\n",
       "      <td>...</td>\n",
       "      <td>...</td>\n",
       "      <td>...</td>\n",
       "      <td>...</td>\n",
       "      <td>...</td>\n",
       "      <td>...</td>\n",
       "      <td>...</td>\n",
       "    </tr>\n",
       "    <tr>\n",
       "      <th>390</th>\n",
       "      <td>MS</td>\n",
       "      <td>M</td>\n",
       "      <td>20</td>\n",
       "      <td>U</td>\n",
       "      <td>LE3</td>\n",
       "      <td>A</td>\n",
       "      <td>2.0</td>\n",
       "      <td>2.0</td>\n",
       "      <td>services</td>\n",
       "      <td>services</td>\n",
       "      <td>course</td>\n",
       "      <td>NaN</td>\n",
       "      <td>1.0</td>\n",
       "      <td>2.0</td>\n",
       "      <td>2.0</td>\n",
       "      <td>no</td>\n",
       "      <td>yes</td>\n",
       "      <td>yes</td>\n",
       "      <td>no</td>\n",
       "      <td>yes</td>\n",
       "      <td>-6.0</td>\n",
       "      <td>yes</td>\n",
       "      <td>no</td>\n",
       "      <td>no</td>\n",
       "      <td>5.0</td>\n",
       "      <td>5.0</td>\n",
       "      <td>4.0</td>\n",
       "      <td>4.0</td>\n",
       "      <td>212.0</td>\n",
       "      <td>45.0</td>\n",
       "    </tr>\n",
       "    <tr>\n",
       "      <th>391</th>\n",
       "      <td>MS</td>\n",
       "      <td>M</td>\n",
       "      <td>17</td>\n",
       "      <td>U</td>\n",
       "      <td>LE3</td>\n",
       "      <td>T</td>\n",
       "      <td>3.0</td>\n",
       "      <td>1.0</td>\n",
       "      <td>services</td>\n",
       "      <td>services</td>\n",
       "      <td>course</td>\n",
       "      <td>mother</td>\n",
       "      <td>2.0</td>\n",
       "      <td>1.0</td>\n",
       "      <td>0.0</td>\n",
       "      <td>no</td>\n",
       "      <td>no</td>\n",
       "      <td>no</td>\n",
       "      <td>no</td>\n",
       "      <td>no</td>\n",
       "      <td>-3.0</td>\n",
       "      <td>yes</td>\n",
       "      <td>yes</td>\n",
       "      <td>no</td>\n",
       "      <td>2.0</td>\n",
       "      <td>4.0</td>\n",
       "      <td>5.0</td>\n",
       "      <td>2.0</td>\n",
       "      <td>3.0</td>\n",
       "      <td>80.0</td>\n",
       "    </tr>\n",
       "    <tr>\n",
       "      <th>392</th>\n",
       "      <td>MS</td>\n",
       "      <td>M</td>\n",
       "      <td>21</td>\n",
       "      <td>R</td>\n",
       "      <td>GT3</td>\n",
       "      <td>T</td>\n",
       "      <td>1.0</td>\n",
       "      <td>1.0</td>\n",
       "      <td>other</td>\n",
       "      <td>other</td>\n",
       "      <td>course</td>\n",
       "      <td>NaN</td>\n",
       "      <td>1.0</td>\n",
       "      <td>1.0</td>\n",
       "      <td>3.0</td>\n",
       "      <td>NaN</td>\n",
       "      <td>no</td>\n",
       "      <td>no</td>\n",
       "      <td>no</td>\n",
       "      <td>no</td>\n",
       "      <td>-3.0</td>\n",
       "      <td>NaN</td>\n",
       "      <td>no</td>\n",
       "      <td>no</td>\n",
       "      <td>5.0</td>\n",
       "      <td>5.0</td>\n",
       "      <td>3.0</td>\n",
       "      <td>3.0</td>\n",
       "      <td>3.0</td>\n",
       "      <td>35.0</td>\n",
       "    </tr>\n",
       "    <tr>\n",
       "      <th>393</th>\n",
       "      <td>MS</td>\n",
       "      <td>M</td>\n",
       "      <td>18</td>\n",
       "      <td>R</td>\n",
       "      <td>LE3</td>\n",
       "      <td>T</td>\n",
       "      <td>3.0</td>\n",
       "      <td>2.0</td>\n",
       "      <td>services</td>\n",
       "      <td>other</td>\n",
       "      <td>course</td>\n",
       "      <td>mother</td>\n",
       "      <td>3.0</td>\n",
       "      <td>1.0</td>\n",
       "      <td>0.0</td>\n",
       "      <td>no</td>\n",
       "      <td>no</td>\n",
       "      <td>no</td>\n",
       "      <td>NaN</td>\n",
       "      <td>no</td>\n",
       "      <td>-3.0</td>\n",
       "      <td>yes</td>\n",
       "      <td>yes</td>\n",
       "      <td>no</td>\n",
       "      <td>4.0</td>\n",
       "      <td>4.0</td>\n",
       "      <td>1.0</td>\n",
       "      <td>5.0</td>\n",
       "      <td>0.0</td>\n",
       "      <td>50.0</td>\n",
       "    </tr>\n",
       "    <tr>\n",
       "      <th>394</th>\n",
       "      <td>MS</td>\n",
       "      <td>M</td>\n",
       "      <td>19</td>\n",
       "      <td>U</td>\n",
       "      <td>LE3</td>\n",
       "      <td>T</td>\n",
       "      <td>1.0</td>\n",
       "      <td>1.0</td>\n",
       "      <td>other</td>\n",
       "      <td>at_home</td>\n",
       "      <td>NaN</td>\n",
       "      <td>father</td>\n",
       "      <td>1.0</td>\n",
       "      <td>1.0</td>\n",
       "      <td>0.0</td>\n",
       "      <td>NaN</td>\n",
       "      <td>no</td>\n",
       "      <td>no</td>\n",
       "      <td>no</td>\n",
       "      <td>yes</td>\n",
       "      <td>-3.0</td>\n",
       "      <td>yes</td>\n",
       "      <td>yes</td>\n",
       "      <td>no</td>\n",
       "      <td>3.0</td>\n",
       "      <td>2.0</td>\n",
       "      <td>3.0</td>\n",
       "      <td>5.0</td>\n",
       "      <td>5.0</td>\n",
       "      <td>45.0</td>\n",
       "    </tr>\n",
       "  </tbody>\n",
       "</table>\n",
       "<p>389 rows × 30 columns</p>\n",
       "</div>"
      ],
      "text/plain": [
       "    school sex  age address famsize Pstatus  Medu  Fedu      Mjob      Fjob  \\\n",
       "0       GP   F   18       U     NaN       A   4.0   4.0   at_home   teacher   \n",
       "1       GP   F   17       U     GT3     NaN   1.0   1.0   at_home     other   \n",
       "2       GP   F   15       U     LE3       T   1.0   1.0   at_home     other   \n",
       "3       GP   F   15       U     GT3       T   4.0   2.0    health       NaN   \n",
       "4       GP   F   16       U     GT3       T   3.0   3.0     other     other   \n",
       "..     ...  ..  ...     ...     ...     ...   ...   ...       ...       ...   \n",
       "390     MS   M   20       U     LE3       A   2.0   2.0  services  services   \n",
       "391     MS   M   17       U     LE3       T   3.0   1.0  services  services   \n",
       "392     MS   M   21       R     GT3       T   1.0   1.0     other     other   \n",
       "393     MS   M   18       R     LE3       T   3.0   2.0  services     other   \n",
       "394     MS   M   19       U     LE3       T   1.0   1.0     other   at_home   \n",
       "\n",
       "     reason guardian  traveltime  studytime  failures schoolsup famsup paid  \\\n",
       "0    course   mother         2.0        2.0       0.0       yes     no   no   \n",
       "1    course   father         1.0        2.0       0.0        no    yes   no   \n",
       "2     other   mother         1.0        2.0       3.0       yes     no  NaN   \n",
       "3      home   mother         1.0        3.0       0.0        no    yes  yes   \n",
       "4      home   father         1.0        2.0       0.0        no    yes  yes   \n",
       "..      ...      ...         ...        ...       ...       ...    ...  ...   \n",
       "390  course      NaN         1.0        2.0       2.0        no    yes  yes   \n",
       "391  course   mother         2.0        1.0       0.0        no     no   no   \n",
       "392  course      NaN         1.0        1.0       3.0       NaN     no   no   \n",
       "393  course   mother         3.0        1.0       0.0        no     no   no   \n",
       "394     NaN   father         1.0        1.0       0.0       NaN     no   no   \n",
       "\n",
       "    activities nursery  studytime, granular higher internet romantic  famrel  \\\n",
       "0           no     yes                 -6.0    yes      NaN       no     4.0   \n",
       "1           no      no                 -6.0    yes      yes       no     5.0   \n",
       "2           no     yes                 -6.0    yes      yes      NaN     4.0   \n",
       "3          yes     yes                 -9.0    yes      yes      yes     3.0   \n",
       "4           no     yes                 -6.0    yes       no       no     4.0   \n",
       "..         ...     ...                  ...    ...      ...      ...     ...   \n",
       "390         no     yes                 -6.0    yes       no       no     5.0   \n",
       "391         no      no                 -3.0    yes      yes       no     2.0   \n",
       "392         no      no                 -3.0    NaN       no       no     5.0   \n",
       "393        NaN      no                 -3.0    yes      yes       no     4.0   \n",
       "394         no     yes                 -3.0    yes      yes       no     3.0   \n",
       "\n",
       "     freetime  goout  health  absences  score  \n",
       "0         3.0    4.0     3.0       6.0   30.0  \n",
       "1         3.0    3.0     3.0       4.0   30.0  \n",
       "2         3.0    2.0     3.0      10.0   50.0  \n",
       "3         2.0    2.0     5.0       2.0   75.0  \n",
       "4         3.0    2.0     5.0       4.0   50.0  \n",
       "..        ...    ...     ...       ...    ...  \n",
       "390       5.0    4.0     4.0     212.0   45.0  \n",
       "391       4.0    5.0     2.0       3.0   80.0  \n",
       "392       5.0    3.0     3.0       3.0   35.0  \n",
       "393       4.0    1.0     5.0       0.0   50.0  \n",
       "394       2.0    3.0     5.0       5.0   45.0  \n",
       "\n",
       "[389 rows x 30 columns]"
      ]
     },
     "metadata": {},
     "output_type": "display_data"
    },
    {
     "name": "stdout",
     "output_type": "stream",
     "text": [
      "<class 'pandas.core.frame.DataFrame'>\n",
      "Int64Index: 389 entries, 0 to 394\n",
      "Data columns (total 30 columns):\n",
      " #   Column               Non-Null Count  Dtype  \n",
      "---  ------               --------------  -----  \n",
      " 0   school               389 non-null    object \n",
      " 1   sex                  389 non-null    object \n",
      " 2   age                  389 non-null    int64  \n",
      " 3   address              374 non-null    object \n",
      " 4   famsize              362 non-null    object \n",
      " 5   Pstatus              344 non-null    object \n",
      " 6   Medu                 386 non-null    float64\n",
      " 7   Fedu                 365 non-null    float64\n",
      " 8   Mjob                 370 non-null    object \n",
      " 9   Fjob                 353 non-null    object \n",
      " 10  reason               372 non-null    object \n",
      " 11  guardian             358 non-null    object \n",
      " 12  traveltime           361 non-null    float64\n",
      " 13  studytime            382 non-null    float64\n",
      " 14  failures             367 non-null    float64\n",
      " 15  schoolsup            380 non-null    object \n",
      " 16  famsup               351 non-null    object \n",
      " 17  paid                 350 non-null    object \n",
      " 18  activities           375 non-null    object \n",
      " 19  nursery              374 non-null    object \n",
      " 20  studytime, granular  382 non-null    float64\n",
      " 21  higher               369 non-null    object \n",
      " 22  internet             355 non-null    object \n",
      " 23  romantic             358 non-null    object \n",
      " 24  famrel               362 non-null    float64\n",
      " 25  freetime             380 non-null    float64\n",
      " 26  goout                382 non-null    float64\n",
      " 27  health               374 non-null    float64\n",
      " 28  absences             378 non-null    float64\n",
      " 29  score                389 non-null    float64\n",
      "dtypes: float64(12), int64(1), object(17)\n",
      "memory usage: 94.2+ KB\n"
     ]
    }
   ],
   "source": [
    "display(studying)\n",
    "studying.info()"
   ]
  },
  {
   "cell_type": "markdown",
   "metadata": {},
   "source": [
    "### По результатам в колонке Non-Null Count видно, что количество ненулевых значений в разных столбцах отличается, а значит необходимо сначала данные очистить. \n",
    "### Также, понятно что в датасете 13 числовых и 17 строковых столбцов\n",
    "\n",
    "### Проанализируем каждый столбец отдельно:"
   ]
  },
  {
   "cell_type": "code",
   "execution_count": 4,
   "metadata": {},
   "outputs": [
    {
     "data": {
      "text/plain": [
       "GP    344\n",
       "MS     45\n",
       "Name: school, dtype: int64"
      ]
     },
     "execution_count": 4,
     "metadata": {},
     "output_type": "execute_result"
    }
   ],
   "source": [
    "# Подсчитаем количество уникальных значений школ. По результатам их всего 2 - GP и MS. \n",
    "none_function('school')\n",
    "count_values('school')"
   ]
  },
  {
   "cell_type": "markdown",
   "metadata": {},
   "source": [
    "#### Как видим, у нас всего две школы - GP и MS, данные полные"
   ]
  },
  {
   "cell_type": "markdown",
   "metadata": {},
   "source": [
    "### Посмотрим, влияет ли школа обучения на финальную оценку:"
   ]
  },
  {
   "cell_type": "code",
   "execution_count": 5,
   "metadata": {},
   "outputs": [
    {
     "data": {
      "text/plain": [
       "<AxesSubplot:xlabel='school', ylabel='score'>"
      ]
     },
     "execution_count": 5,
     "metadata": {},
     "output_type": "execute_result"
    },
    {
     "data": {
      "image/png": "[encoded data removed]",
      "text/plain": [
       "<Figure size 432x288 with 1 Axes>"
      ]
     },
     "metadata": {
      "needs_background": "light"
     },
     "output_type": "display_data"
    }
   ],
   "source": [
    "studying['score'] = studying['score'].astype(float)\n",
    "sns.barplot(x='school', y='score', data=studying)"
   ]
  },
  {
   "cell_type": "markdown",
   "metadata": {},
   "source": [
    "#### Как видим, в среднем в школе GP успеваемость лишь немного лучше, чем в школе MS. \n",
    "\n",
    "## Рассмотрим также влияет ли пол на успеваемость: "
   ]
  },
  {
   "cell_type": "code",
   "execution_count": 6,
   "metadata": {},
   "outputs": [
    {
     "data": {
      "text/plain": [
       "F    204\n",
       "M    185\n",
       "Name: sex, dtype: int64"
      ]
     },
     "execution_count": 6,
     "metadata": {},
     "output_type": "execute_result"
    }
   ],
   "source": [
    "none_function('sex')\n",
    "count_values('sex')"
   ]
  },
  {
   "cell_type": "markdown",
   "metadata": {},
   "source": [
    "### Количество учащихся девочек и мальчиков почти одинаковое, но девочек немного больше. Данные полные. "
   ]
  },
  {
   "cell_type": "code",
   "execution_count": 7,
   "metadata": {},
   "outputs": [
    {
     "data": {
      "text/plain": [
       "<AxesSubplot:xlabel='sex', ylabel='score'>"
      ]
     },
     "execution_count": 7,
     "metadata": {},
     "output_type": "execute_result"
    },
    {
     "data": {
      "image/png": "[encoded data removed]",
      "text/plain": [
       "<Figure size 432x288 with 1 Axes>"
      ]
     },
     "metadata": {
      "needs_background": "light"
     },
     "output_type": "display_data"
    }
   ],
   "source": [
    "sns.barplot(x='sex', y='score', data=studying)"
   ]
  },
  {
   "cell_type": "markdown",
   "metadata": {},
   "source": [
    "### По распределению успеваемости видим, что мальчики в среднем учатся лучше, чем девочки.\n",
    "\n",
    "## Теперь посмотрим как влияет возраст ученика на оценку:"
   ]
  },
  {
   "cell_type": "code",
   "execution_count": 8,
   "metadata": {},
   "outputs": [
    {
     "data": {
      "text/plain": [
       "16    103\n",
       "17     98\n",
       "15     82\n",
       "18     80\n",
       "19     21\n",
       "20      3\n",
       "22      1\n",
       "21      1\n",
       "Name: age, dtype: int64"
      ]
     },
     "execution_count": 8,
     "metadata": {},
     "output_type": "execute_result"
    }
   ],
   "source": [
    "count_values('age')"
   ]
  },
  {
   "cell_type": "code",
   "execution_count": 9,
   "metadata": {},
   "outputs": [
    {
     "data": {
      "text/plain": [
       "<AxesSubplot:>"
      ]
     },
     "execution_count": 9,
     "metadata": {},
     "output_type": "execute_result"
    },
    {
     "data": {
      "image/png": "[encoded data removed]",
      "text/plain": [
       "<Figure size 432x288 with 1 Axes>"
      ]
     },
     "metadata": {
      "needs_background": "light"
     },
     "output_type": "display_data"
    }
   ],
   "source": [
    "# Как видим по гистограмме, количество учеников старше 19 лет очень мало, что может быть связано с тем, что в таком возрасте \n",
    "# многие идут работать, а не учиться. \n",
    "studying.age.hist(bins=8)"
   ]
  },
  {
   "cell_type": "code",
   "execution_count": 10,
   "metadata": {},
   "outputs": [
    {
     "name": "stdout",
     "output_type": "stream",
     "text": [
      "25-й перцентиль: 16.0, 75-й перцентиль: 18.0, IQR: 2.0,  Границы выбросов: [13.0, 21.0].\n"
     ]
    }
   ],
   "source": [
    "#Посмотрим на выбросы: \n",
    "iqr('age')"
   ]
  },
  {
   "cell_type": "markdown",
   "metadata": {},
   "source": [
    "#### По результатам интерквартильного размаха понятно, что возраст 21-22 является выбросом, так как границей выбросов является возраст 21. Но в данном случае это значение можно не считать аномальным, и оставить его для анализа.\n",
    "\n",
    "### Рассмотрим влияние возраста ученика на его оценку: "
   ]
  },
  {
   "cell_type": "code",
   "execution_count": 11,
   "metadata": {},
   "outputs": [
    {
     "data": {
      "text/plain": [
       "<AxesSubplot:xlabel='age', ylabel='score'>"
      ]
     },
     "execution_count": 11,
     "metadata": {},
     "output_type": "execute_result"
    },
    {
     "data": {
      "image/png": "[encoded data removed]",
      "text/plain": [
       "<Figure size 432x288 with 1 Axes>"
      ]
     },
     "metadata": {
      "needs_background": "light"
     },
     "output_type": "display_data"
    }
   ],
   "source": [
    "sns.barplot(x='age', y='score', data=studying)"
   ]
  },
  {
   "cell_type": "markdown",
   "metadata": {},
   "source": [
    "### Получился достаточно интересный результат. Средняя успеваемость с возрастом снижается, но в возрасте 20 лет успеваемость аномально высокая, что может свидетельствовать об уникальности учеников, наличии выбросов или других факторах. Стоит рассмотреть значения подробнее."
   ]
  },
  {
   "cell_type": "code",
   "execution_count": 12,
   "metadata": {},
   "outputs": [
    {
     "data": {
      "text/plain": [
       "306    90.0\n",
       "376    75.0\n",
       "390    45.0\n",
       "Name: score, dtype: float64"
      ]
     },
     "execution_count": 12,
     "metadata": {},
     "output_type": "execute_result"
    }
   ],
   "source": [
    "studying[studying['age']==20].score"
   ]
  },
  {
   "cell_type": "markdown",
   "metadata": {},
   "source": [
    "### Как видим, никаких аномалий в оценках учеников в возрасте 20 лет нету, что свидетельствует о том, что проблем с выбросами здесь нет. Рассмотрим, какие причины могут провоцировать снижение оценок учеников возраста до 20 лет: "
   ]
  },
  {
   "cell_type": "code",
   "execution_count": 13,
   "metadata": {},
   "outputs": [
    {
     "data": {
      "text/plain": [
       "50.0     54\n",
       "55.0     46\n",
       "0.0      37\n",
       "75.0     33\n",
       "65.0     31\n",
       "40.0     31\n",
       "60.0     31\n",
       "70.0     27\n",
       "45.0     27\n",
       "80.0     16\n",
       "30.0     15\n",
       "90.0     12\n",
       "35.0      9\n",
       "25.0      7\n",
       "85.0      6\n",
       "95.0      5\n",
       "100.0     1\n",
       "20.0      1\n",
       "Name: score, dtype: int64"
      ]
     },
     "execution_count": 13,
     "metadata": {},
     "output_type": "execute_result"
    }
   ],
   "source": [
    "studying.score.value_counts()"
   ]
  },
  {
   "cell_type": "markdown",
   "metadata": {},
   "source": [
    "### Как видим, в датасете присутствуют целых 37 (!!) нулевых значений целевой переменной, которые могут искажать результат успеваемости. Посмотрим на их количество по разным возрастам: "
   ]
  },
  {
   "cell_type": "code",
   "execution_count": 14,
   "metadata": {},
   "outputs": [
    {
     "data": {
      "text/plain": [
       "18    11\n",
       "17     8\n",
       "16     7\n",
       "15     6\n",
       "19     5\n",
       "Name: age, dtype: int64"
      ]
     },
     "execution_count": 14,
     "metadata": {},
     "output_type": "execute_result"
    }
   ],
   "source": [
    "studying[studying['score']==0].age.value_counts()"
   ]
  },
  {
   "cell_type": "markdown",
   "metadata": {},
   "source": [
    "### Как видим, с возрастом количество нулевых оценок увеличивается, возможно, по причине увеличения пропусков. \n",
    "\n",
    "# Рассмотрим распределение пропусков по возрасту:"
   ]
  },
  {
   "cell_type": "code",
   "execution_count": 15,
   "metadata": {},
   "outputs": [
    {
     "data": {
      "text/plain": [
       "<AxesSubplot:xlabel='age', ylabel='absences'>"
      ]
     },
     "execution_count": 15,
     "metadata": {},
     "output_type": "execute_result"
    },
    {
     "data": {
      "image/png": "[encoded data removed]",
      "text/plain": [
       "<Figure size 432x288 with 1 Axes>"
      ]
     },
     "metadata": {
      "needs_background": "light"
     },
     "output_type": "display_data"
    }
   ],
   "source": [
    "sns.barplot(x='age', y='absences', data=studying)"
   ]
  },
  {
   "cell_type": "markdown",
   "metadata": {},
   "source": [
    "### Весьма удивительно, но именно у учеников 20 лет, у которых самая высокая успеваемость, в среднем самое высокое количество пропусков. Это дает право подозревать, что в пропусках есть выбросы, рассмотрим их более подробно."
   ]
  },
  {
   "cell_type": "code",
   "execution_count": 16,
   "metadata": {},
   "outputs": [
    {
     "data": {
      "text/plain": [
       "<AxesSubplot:xlabel='age', ylabel='absences'>"
      ]
     },
     "execution_count": 16,
     "metadata": {},
     "output_type": "execute_result"
    },
    {
     "data": {
      "image/png": "[encoded data removed]",
      "text/plain": [
       "<Figure size 432x288 with 1 Axes>"
      ]
     },
     "metadata": {
      "needs_background": "light"
     },
     "output_type": "display_data"
    }
   ],
   "source": [
    "sns.boxplot(x='age', y='absences', data=studying)"
   ]
  },
  {
   "cell_type": "markdown",
   "metadata": {},
   "source": [
    "### Учитывая, что учеников возраста 20 лет всего трое, выбросов в их значении как раз нету, потому что статистически их неоткуда брать. Тем не менее, такое высокое значение пропусков является скорее исключением из правил, чем правилом, поэтому я думаю, что для дальнейшего анализа это значение лучше все-таки преобразовать либо исключить из датасета. "
   ]
  },
  {
   "cell_type": "code",
   "execution_count": 17,
   "metadata": {},
   "outputs": [
    {
     "data": {
      "text/html": [
       "<div>\n",
       "<style scoped>\n",
       "    .dataframe tbody tr th:only-of-type {\n",
       "        vertical-align: middle;\n",
       "    }\n",
       "\n",
       "    .dataframe tbody tr th {\n",
       "        vertical-align: top;\n",
       "    }\n",
       "\n",
       "    .dataframe thead th {\n",
       "        text-align: right;\n",
       "    }\n",
       "</style>\n",
       "<table border=\"1\" class=\"dataframe\">\n",
       "  <thead>\n",
       "    <tr style=\"text-align: right;\">\n",
       "      <th></th>\n",
       "      <th>school</th>\n",
       "      <th>sex</th>\n",
       "      <th>age</th>\n",
       "      <th>address</th>\n",
       "      <th>famsize</th>\n",
       "      <th>Pstatus</th>\n",
       "      <th>Medu</th>\n",
       "      <th>Fedu</th>\n",
       "      <th>Mjob</th>\n",
       "      <th>Fjob</th>\n",
       "      <th>reason</th>\n",
       "      <th>guardian</th>\n",
       "      <th>traveltime</th>\n",
       "      <th>studytime</th>\n",
       "      <th>failures</th>\n",
       "      <th>schoolsup</th>\n",
       "      <th>famsup</th>\n",
       "      <th>paid</th>\n",
       "      <th>activities</th>\n",
       "      <th>nursery</th>\n",
       "      <th>studytime, granular</th>\n",
       "      <th>higher</th>\n",
       "      <th>internet</th>\n",
       "      <th>romantic</th>\n",
       "      <th>famrel</th>\n",
       "      <th>freetime</th>\n",
       "      <th>goout</th>\n",
       "      <th>health</th>\n",
       "      <th>absences</th>\n",
       "      <th>score</th>\n",
       "    </tr>\n",
       "  </thead>\n",
       "  <tbody>\n",
       "    <tr>\n",
       "      <th>306</th>\n",
       "      <td>GP</td>\n",
       "      <td>M</td>\n",
       "      <td>20</td>\n",
       "      <td>U</td>\n",
       "      <td>GT3</td>\n",
       "      <td>A</td>\n",
       "      <td>3.0</td>\n",
       "      <td>2.0</td>\n",
       "      <td>services</td>\n",
       "      <td>other</td>\n",
       "      <td>course</td>\n",
       "      <td>other</td>\n",
       "      <td>1.0</td>\n",
       "      <td>1.0</td>\n",
       "      <td>0.0</td>\n",
       "      <td>no</td>\n",
       "      <td>no</td>\n",
       "      <td>no</td>\n",
       "      <td>yes</td>\n",
       "      <td>yes</td>\n",
       "      <td>-3.0</td>\n",
       "      <td>yes</td>\n",
       "      <td>no</td>\n",
       "      <td>no</td>\n",
       "      <td>5.0</td>\n",
       "      <td>5.0</td>\n",
       "      <td>3.0</td>\n",
       "      <td>5.0</td>\n",
       "      <td>0.0</td>\n",
       "      <td>90.0</td>\n",
       "    </tr>\n",
       "    <tr>\n",
       "      <th>376</th>\n",
       "      <td>MS</td>\n",
       "      <td>F</td>\n",
       "      <td>20</td>\n",
       "      <td>NaN</td>\n",
       "      <td>GT3</td>\n",
       "      <td>T</td>\n",
       "      <td>4.0</td>\n",
       "      <td>2.0</td>\n",
       "      <td>health</td>\n",
       "      <td>other</td>\n",
       "      <td>course</td>\n",
       "      <td>NaN</td>\n",
       "      <td>2.0</td>\n",
       "      <td>3.0</td>\n",
       "      <td>2.0</td>\n",
       "      <td>no</td>\n",
       "      <td>yes</td>\n",
       "      <td>yes</td>\n",
       "      <td>no</td>\n",
       "      <td>no</td>\n",
       "      <td>-9.0</td>\n",
       "      <td>yes</td>\n",
       "      <td>yes</td>\n",
       "      <td>yes</td>\n",
       "      <td>5.0</td>\n",
       "      <td>4.0</td>\n",
       "      <td>3.0</td>\n",
       "      <td>3.0</td>\n",
       "      <td>4.0</td>\n",
       "      <td>75.0</td>\n",
       "    </tr>\n",
       "    <tr>\n",
       "      <th>390</th>\n",
       "      <td>MS</td>\n",
       "      <td>M</td>\n",
       "      <td>20</td>\n",
       "      <td>U</td>\n",
       "      <td>LE3</td>\n",
       "      <td>A</td>\n",
       "      <td>2.0</td>\n",
       "      <td>2.0</td>\n",
       "      <td>services</td>\n",
       "      <td>services</td>\n",
       "      <td>course</td>\n",
       "      <td>NaN</td>\n",
       "      <td>1.0</td>\n",
       "      <td>2.0</td>\n",
       "      <td>2.0</td>\n",
       "      <td>no</td>\n",
       "      <td>yes</td>\n",
       "      <td>yes</td>\n",
       "      <td>no</td>\n",
       "      <td>yes</td>\n",
       "      <td>-6.0</td>\n",
       "      <td>yes</td>\n",
       "      <td>no</td>\n",
       "      <td>no</td>\n",
       "      <td>5.0</td>\n",
       "      <td>5.0</td>\n",
       "      <td>4.0</td>\n",
       "      <td>4.0</td>\n",
       "      <td>212.0</td>\n",
       "      <td>45.0</td>\n",
       "    </tr>\n",
       "  </tbody>\n",
       "</table>\n",
       "</div>"
      ],
      "text/plain": [
       "    school sex  age address famsize Pstatus  Medu  Fedu      Mjob      Fjob  \\\n",
       "306     GP   M   20       U     GT3       A   3.0   2.0  services     other   \n",
       "376     MS   F   20     NaN     GT3       T   4.0   2.0    health     other   \n",
       "390     MS   M   20       U     LE3       A   2.0   2.0  services  services   \n",
       "\n",
       "     reason guardian  traveltime  studytime  failures schoolsup famsup paid  \\\n",
       "306  course    other         1.0        1.0       0.0        no     no   no   \n",
       "376  course      NaN         2.0        3.0       2.0        no    yes  yes   \n",
       "390  course      NaN         1.0        2.0       2.0        no    yes  yes   \n",
       "\n",
       "    activities nursery  studytime, granular higher internet romantic  famrel  \\\n",
       "306        yes     yes                 -3.0    yes       no       no     5.0   \n",
       "376         no      no                 -9.0    yes      yes      yes     5.0   \n",
       "390         no     yes                 -6.0    yes       no       no     5.0   \n",
       "\n",
       "     freetime  goout  health  absences  score  \n",
       "306       5.0    3.0     5.0       0.0   90.0  \n",
       "376       4.0    3.0     3.0       4.0   75.0  \n",
       "390       5.0    4.0     4.0     212.0   45.0  "
      ]
     },
     "execution_count": 17,
     "metadata": {},
     "output_type": "execute_result"
    }
   ],
   "source": [
    "# Посмотрим на значения показателей для учеников 20 лет, в особенности интересуют колонки 'absences' и 'score'\n",
    "studying[studying['age']==20]"
   ]
  },
  {
   "cell_type": "markdown",
   "metadata": {},
   "source": [
    "### У ученика с 212 пропусками оценка составляет 45 баллов. Допустим, что произошла опечатка, и на самом деле количество пропусков не 212, а 21, и заменим значение: "
   ]
  },
  {
   "cell_type": "code",
   "execution_count": 18,
   "metadata": {},
   "outputs": [],
   "source": [
    "studying['absences']=studying['absences'].replace(212.0, 21.0)"
   ]
  },
  {
   "cell_type": "code",
   "execution_count": 19,
   "metadata": {},
   "outputs": [
    {
     "data": {
      "text/plain": [
       "<AxesSubplot:xlabel='age', ylabel='absences'>"
      ]
     },
     "execution_count": 19,
     "metadata": {},
     "output_type": "execute_result"
    },
    {
     "data": {
      "image/png": "[encoded data removed]",
      "text/plain": [
       "<Figure size 432x288 with 1 Axes>"
      ]
     },
     "metadata": {
      "needs_background": "light"
     },
     "output_type": "display_data"
    }
   ],
   "source": [
    "sns.boxplot(x='age', y='absences', data=studying)"
   ]
  },
  {
   "cell_type": "markdown",
   "metadata": {},
   "source": [
    "### Как видим, ситуация улучшилась. Поскольку мы уже видим выбросы в количестве пропусков для других возрастов, рассмотрим их тоже: "
   ]
  },
  {
   "cell_type": "code",
   "execution_count": 20,
   "metadata": {},
   "outputs": [
    {
     "data": {
      "text/html": [
       "<div>\n",
       "<style scoped>\n",
       "    .dataframe tbody tr th:only-of-type {\n",
       "        vertical-align: middle;\n",
       "    }\n",
       "\n",
       "    .dataframe tbody tr th {\n",
       "        vertical-align: top;\n",
       "    }\n",
       "\n",
       "    .dataframe thead th {\n",
       "        text-align: right;\n",
       "    }\n",
       "</style>\n",
       "<table border=\"1\" class=\"dataframe\">\n",
       "  <thead>\n",
       "    <tr style=\"text-align: right;\">\n",
       "      <th></th>\n",
       "      <th>school</th>\n",
       "      <th>sex</th>\n",
       "      <th>age</th>\n",
       "      <th>address</th>\n",
       "      <th>famsize</th>\n",
       "      <th>Pstatus</th>\n",
       "      <th>Medu</th>\n",
       "      <th>Fedu</th>\n",
       "      <th>Mjob</th>\n",
       "      <th>Fjob</th>\n",
       "      <th>reason</th>\n",
       "      <th>guardian</th>\n",
       "      <th>traveltime</th>\n",
       "      <th>studytime</th>\n",
       "      <th>failures</th>\n",
       "      <th>schoolsup</th>\n",
       "      <th>famsup</th>\n",
       "      <th>paid</th>\n",
       "      <th>activities</th>\n",
       "      <th>nursery</th>\n",
       "      <th>studytime, granular</th>\n",
       "      <th>higher</th>\n",
       "      <th>internet</th>\n",
       "      <th>romantic</th>\n",
       "      <th>famrel</th>\n",
       "      <th>freetime</th>\n",
       "      <th>goout</th>\n",
       "      <th>health</th>\n",
       "      <th>absences</th>\n",
       "      <th>score</th>\n",
       "    </tr>\n",
       "  </thead>\n",
       "  <tbody>\n",
       "    <tr>\n",
       "      <th>74</th>\n",
       "      <td>GP</td>\n",
       "      <td>F</td>\n",
       "      <td>16</td>\n",
       "      <td>U</td>\n",
       "      <td>GT3</td>\n",
       "      <td>T</td>\n",
       "      <td>3.0</td>\n",
       "      <td>3.0</td>\n",
       "      <td>other</td>\n",
       "      <td>services</td>\n",
       "      <td>home</td>\n",
       "      <td>mother</td>\n",
       "      <td>1.0</td>\n",
       "      <td>2.0</td>\n",
       "      <td>0.0</td>\n",
       "      <td>yes</td>\n",
       "      <td>yes</td>\n",
       "      <td>yes</td>\n",
       "      <td>yes</td>\n",
       "      <td>yes</td>\n",
       "      <td>-6.0</td>\n",
       "      <td>yes</td>\n",
       "      <td>yes</td>\n",
       "      <td>no</td>\n",
       "      <td>4.0</td>\n",
       "      <td>NaN</td>\n",
       "      <td>3.0</td>\n",
       "      <td>5.0</td>\n",
       "      <td>54.0</td>\n",
       "      <td>55.0</td>\n",
       "    </tr>\n",
       "    <tr>\n",
       "      <th>183</th>\n",
       "      <td>GP</td>\n",
       "      <td>F</td>\n",
       "      <td>17</td>\n",
       "      <td>U</td>\n",
       "      <td>LE3</td>\n",
       "      <td>NaN</td>\n",
       "      <td>3.0</td>\n",
       "      <td>3.0</td>\n",
       "      <td>other</td>\n",
       "      <td>other</td>\n",
       "      <td>reputation</td>\n",
       "      <td>mother</td>\n",
       "      <td>1.0</td>\n",
       "      <td>2.0</td>\n",
       "      <td>0.0</td>\n",
       "      <td>no</td>\n",
       "      <td>yes</td>\n",
       "      <td>no</td>\n",
       "      <td>yes</td>\n",
       "      <td>yes</td>\n",
       "      <td>-6.0</td>\n",
       "      <td>yes</td>\n",
       "      <td>yes</td>\n",
       "      <td>yes</td>\n",
       "      <td>5.0</td>\n",
       "      <td>3.0</td>\n",
       "      <td>3.0</td>\n",
       "      <td>1.0</td>\n",
       "      <td>56.0</td>\n",
       "      <td>40.0</td>\n",
       "    </tr>\n",
       "    <tr>\n",
       "      <th>222</th>\n",
       "      <td>GP</td>\n",
       "      <td>F</td>\n",
       "      <td>16</td>\n",
       "      <td>U</td>\n",
       "      <td>GT3</td>\n",
       "      <td>T</td>\n",
       "      <td>2.0</td>\n",
       "      <td>3.0</td>\n",
       "      <td>services</td>\n",
       "      <td>teacher</td>\n",
       "      <td>other</td>\n",
       "      <td>mother</td>\n",
       "      <td>1.0</td>\n",
       "      <td>2.0</td>\n",
       "      <td>0.0</td>\n",
       "      <td>yes</td>\n",
       "      <td>NaN</td>\n",
       "      <td>no</td>\n",
       "      <td>no</td>\n",
       "      <td>yes</td>\n",
       "      <td>-6.0</td>\n",
       "      <td>yes</td>\n",
       "      <td>yes</td>\n",
       "      <td>no</td>\n",
       "      <td>2.0</td>\n",
       "      <td>3.0</td>\n",
       "      <td>1.0</td>\n",
       "      <td>3.0</td>\n",
       "      <td>385.0</td>\n",
       "      <td>85.0</td>\n",
       "    </tr>\n",
       "    <tr>\n",
       "      <th>276</th>\n",
       "      <td>GP</td>\n",
       "      <td>F</td>\n",
       "      <td>18</td>\n",
       "      <td>R</td>\n",
       "      <td>GT3</td>\n",
       "      <td>A</td>\n",
       "      <td>3.0</td>\n",
       "      <td>2.0</td>\n",
       "      <td>other</td>\n",
       "      <td>services</td>\n",
       "      <td>home</td>\n",
       "      <td>mother</td>\n",
       "      <td>2.0</td>\n",
       "      <td>2.0</td>\n",
       "      <td>0.0</td>\n",
       "      <td>no</td>\n",
       "      <td>NaN</td>\n",
       "      <td>no</td>\n",
       "      <td>no</td>\n",
       "      <td>no</td>\n",
       "      <td>-6.0</td>\n",
       "      <td>no</td>\n",
       "      <td>yes</td>\n",
       "      <td>yes</td>\n",
       "      <td>NaN</td>\n",
       "      <td>1.0</td>\n",
       "      <td>1.0</td>\n",
       "      <td>5.0</td>\n",
       "      <td>75.0</td>\n",
       "      <td>45.0</td>\n",
       "    </tr>\n",
       "  </tbody>\n",
       "</table>\n",
       "</div>"
      ],
      "text/plain": [
       "    school sex  age address famsize Pstatus  Medu  Fedu      Mjob      Fjob  \\\n",
       "74      GP   F   16       U     GT3       T   3.0   3.0     other  services   \n",
       "183     GP   F   17       U     LE3     NaN   3.0   3.0     other     other   \n",
       "222     GP   F   16       U     GT3       T   2.0   3.0  services   teacher   \n",
       "276     GP   F   18       R     GT3       A   3.0   2.0     other  services   \n",
       "\n",
       "         reason guardian  traveltime  studytime  failures schoolsup famsup  \\\n",
       "74         home   mother         1.0        2.0       0.0       yes    yes   \n",
       "183  reputation   mother         1.0        2.0       0.0        no    yes   \n",
       "222       other   mother         1.0        2.0       0.0       yes    NaN   \n",
       "276        home   mother         2.0        2.0       0.0        no    NaN   \n",
       "\n",
       "    paid activities nursery  studytime, granular higher internet romantic  \\\n",
       "74   yes        yes     yes                 -6.0    yes      yes       no   \n",
       "183   no        yes     yes                 -6.0    yes      yes      yes   \n",
       "222   no         no     yes                 -6.0    yes      yes       no   \n",
       "276   no         no      no                 -6.0     no      yes      yes   \n",
       "\n",
       "     famrel  freetime  goout  health  absences  score  \n",
       "74      4.0       NaN    3.0     5.0      54.0   55.0  \n",
       "183     5.0       3.0    3.0     1.0      56.0   40.0  \n",
       "222     2.0       3.0    1.0     3.0     385.0   85.0  \n",
       "276     NaN       1.0    1.0     5.0      75.0   45.0  "
      ]
     },
     "execution_count": 20,
     "metadata": {},
     "output_type": "execute_result"
    }
   ],
   "source": [
    "studying[studying['absences']>50]"
   ]
  },
  {
   "cell_type": "markdown",
   "metadata": {},
   "source": [
    "### Наиболее аномальное значение пропусков во всем датасете - 385. Звучит весьма нереалистично, особенно учитывая тот факт, что это число больше, чем количество дней в году. Учитывая, что у этого ученика высокий балл (85), допустим, что количество пропусков у него равно верхней границе интерквартильного размаха, и заменим это значение."
   ]
  },
  {
   "cell_type": "code",
   "execution_count": 21,
   "metadata": {},
   "outputs": [
    {
     "name": "stdout",
     "output_type": "stream",
     "text": [
      "25-й перцентиль: 0.0, 75-й перцентиль: 8.0, IQR: 8.0,  Границы выбросов: [-12.0, 20.0].\n"
     ]
    }
   ],
   "source": [
    "# Ищем границы выбросов интерквартильного размаха для возраста 16 лет:\n",
    "iqr_condition('absences', 'age', 16)"
   ]
  },
  {
   "cell_type": "markdown",
   "metadata": {},
   "source": [
    "### Верхняя граница выбросов равна 20, поэтому заменим значение 385 на 20: "
   ]
  },
  {
   "cell_type": "code",
   "execution_count": 22,
   "metadata": {},
   "outputs": [
    {
     "data": {
      "text/html": [
       "<div>\n",
       "<style scoped>\n",
       "    .dataframe tbody tr th:only-of-type {\n",
       "        vertical-align: middle;\n",
       "    }\n",
       "\n",
       "    .dataframe tbody tr th {\n",
       "        vertical-align: top;\n",
       "    }\n",
       "\n",
       "    .dataframe thead th {\n",
       "        text-align: right;\n",
       "    }\n",
       "</style>\n",
       "<table border=\"1\" class=\"dataframe\">\n",
       "  <thead>\n",
       "    <tr style=\"text-align: right;\">\n",
       "      <th></th>\n",
       "      <th>school</th>\n",
       "      <th>sex</th>\n",
       "      <th>age</th>\n",
       "      <th>address</th>\n",
       "      <th>famsize</th>\n",
       "      <th>Pstatus</th>\n",
       "      <th>Medu</th>\n",
       "      <th>Fedu</th>\n",
       "      <th>Mjob</th>\n",
       "      <th>Fjob</th>\n",
       "      <th>reason</th>\n",
       "      <th>guardian</th>\n",
       "      <th>traveltime</th>\n",
       "      <th>studytime</th>\n",
       "      <th>failures</th>\n",
       "      <th>schoolsup</th>\n",
       "      <th>famsup</th>\n",
       "      <th>paid</th>\n",
       "      <th>activities</th>\n",
       "      <th>nursery</th>\n",
       "      <th>studytime, granular</th>\n",
       "      <th>higher</th>\n",
       "      <th>internet</th>\n",
       "      <th>romantic</th>\n",
       "      <th>famrel</th>\n",
       "      <th>freetime</th>\n",
       "      <th>goout</th>\n",
       "      <th>health</th>\n",
       "      <th>absences</th>\n",
       "      <th>score</th>\n",
       "    </tr>\n",
       "  </thead>\n",
       "  <tbody>\n",
       "    <tr>\n",
       "      <th>74</th>\n",
       "      <td>GP</td>\n",
       "      <td>F</td>\n",
       "      <td>16</td>\n",
       "      <td>U</td>\n",
       "      <td>GT3</td>\n",
       "      <td>T</td>\n",
       "      <td>3.0</td>\n",
       "      <td>3.0</td>\n",
       "      <td>other</td>\n",
       "      <td>services</td>\n",
       "      <td>home</td>\n",
       "      <td>mother</td>\n",
       "      <td>1.0</td>\n",
       "      <td>2.0</td>\n",
       "      <td>0.0</td>\n",
       "      <td>yes</td>\n",
       "      <td>yes</td>\n",
       "      <td>yes</td>\n",
       "      <td>yes</td>\n",
       "      <td>yes</td>\n",
       "      <td>-6.0</td>\n",
       "      <td>yes</td>\n",
       "      <td>yes</td>\n",
       "      <td>no</td>\n",
       "      <td>4.0</td>\n",
       "      <td>NaN</td>\n",
       "      <td>3.0</td>\n",
       "      <td>5.0</td>\n",
       "      <td>54.0</td>\n",
       "      <td>55.0</td>\n",
       "    </tr>\n",
       "    <tr>\n",
       "      <th>183</th>\n",
       "      <td>GP</td>\n",
       "      <td>F</td>\n",
       "      <td>17</td>\n",
       "      <td>U</td>\n",
       "      <td>LE3</td>\n",
       "      <td>NaN</td>\n",
       "      <td>3.0</td>\n",
       "      <td>3.0</td>\n",
       "      <td>other</td>\n",
       "      <td>other</td>\n",
       "      <td>reputation</td>\n",
       "      <td>mother</td>\n",
       "      <td>1.0</td>\n",
       "      <td>2.0</td>\n",
       "      <td>0.0</td>\n",
       "      <td>no</td>\n",
       "      <td>yes</td>\n",
       "      <td>no</td>\n",
       "      <td>yes</td>\n",
       "      <td>yes</td>\n",
       "      <td>-6.0</td>\n",
       "      <td>yes</td>\n",
       "      <td>yes</td>\n",
       "      <td>yes</td>\n",
       "      <td>5.0</td>\n",
       "      <td>3.0</td>\n",
       "      <td>3.0</td>\n",
       "      <td>1.0</td>\n",
       "      <td>56.0</td>\n",
       "      <td>40.0</td>\n",
       "    </tr>\n",
       "    <tr>\n",
       "      <th>276</th>\n",
       "      <td>GP</td>\n",
       "      <td>F</td>\n",
       "      <td>18</td>\n",
       "      <td>R</td>\n",
       "      <td>GT3</td>\n",
       "      <td>A</td>\n",
       "      <td>3.0</td>\n",
       "      <td>2.0</td>\n",
       "      <td>other</td>\n",
       "      <td>services</td>\n",
       "      <td>home</td>\n",
       "      <td>mother</td>\n",
       "      <td>2.0</td>\n",
       "      <td>2.0</td>\n",
       "      <td>0.0</td>\n",
       "      <td>no</td>\n",
       "      <td>NaN</td>\n",
       "      <td>no</td>\n",
       "      <td>no</td>\n",
       "      <td>no</td>\n",
       "      <td>-6.0</td>\n",
       "      <td>no</td>\n",
       "      <td>yes</td>\n",
       "      <td>yes</td>\n",
       "      <td>NaN</td>\n",
       "      <td>1.0</td>\n",
       "      <td>1.0</td>\n",
       "      <td>5.0</td>\n",
       "      <td>75.0</td>\n",
       "      <td>45.0</td>\n",
       "    </tr>\n",
       "  </tbody>\n",
       "</table>\n",
       "</div>"
      ],
      "text/plain": [
       "    school sex  age address famsize Pstatus  Medu  Fedu   Mjob      Fjob  \\\n",
       "74      GP   F   16       U     GT3       T   3.0   3.0  other  services   \n",
       "183     GP   F   17       U     LE3     NaN   3.0   3.0  other     other   \n",
       "276     GP   F   18       R     GT3       A   3.0   2.0  other  services   \n",
       "\n",
       "         reason guardian  traveltime  studytime  failures schoolsup famsup  \\\n",
       "74         home   mother         1.0        2.0       0.0       yes    yes   \n",
       "183  reputation   mother         1.0        2.0       0.0        no    yes   \n",
       "276        home   mother         2.0        2.0       0.0        no    NaN   \n",
       "\n",
       "    paid activities nursery  studytime, granular higher internet romantic  \\\n",
       "74   yes        yes     yes                 -6.0    yes      yes       no   \n",
       "183   no        yes     yes                 -6.0    yes      yes      yes   \n",
       "276   no         no      no                 -6.0     no      yes      yes   \n",
       "\n",
       "     famrel  freetime  goout  health  absences  score  \n",
       "74      4.0       NaN    3.0     5.0      54.0   55.0  \n",
       "183     5.0       3.0    3.0     1.0      56.0   40.0  \n",
       "276     NaN       1.0    1.0     5.0      75.0   45.0  "
      ]
     },
     "execution_count": 22,
     "metadata": {},
     "output_type": "execute_result"
    }
   ],
   "source": [
    "studying['absences']=studying['absences'].replace(385.0, 20.0)\n",
    "studying[studying['absences']>50]"
   ]
  },
  {
   "cell_type": "code",
   "execution_count": 23,
   "metadata": {},
   "outputs": [
    {
     "data": {
      "text/plain": [
       "<AxesSubplot:xlabel='age', ylabel='absences'>"
      ]
     },
     "execution_count": 23,
     "metadata": {},
     "output_type": "execute_result"
    },
    {
     "data": {
      "image/png": "[encoded data removed]",
      "text/plain": [
       "<Figure size 432x288 with 1 Axes>"
      ]
     },
     "metadata": {
      "needs_background": "light"
     },
     "output_type": "display_data"
    }
   ],
   "source": [
    "sns.boxplot(x='age', y='absences', data=studying)"
   ]
  },
  {
   "cell_type": "markdown",
   "metadata": {},
   "source": [
    "### Посмотрим на значения пропусков безотносительно каких-либо факторов: "
   ]
  },
  {
   "cell_type": "code",
   "execution_count": 24,
   "metadata": {},
   "outputs": [
    {
     "data": {
      "text/plain": [
       "<AxesSubplot:xlabel='absences'>"
      ]
     },
     "execution_count": 24,
     "metadata": {},
     "output_type": "execute_result"
    },
    {
     "data": {
      "image/png": "[encoded data removed]",
      "text/plain": [
       "<Figure size 432x288 with 1 Axes>"
      ]
     },
     "metadata": {
      "needs_background": "light"
     },
     "output_type": "display_data"
    }
   ],
   "source": [
    "sns.boxplot(x='absences', data=studying)"
   ]
  },
  {
   "cell_type": "markdown",
   "metadata": {},
   "source": [
    "### Как видим, верхняя граница выбросов составляет 20 пропусков, но пока оставим эти данные как есть, возможно они будут полезны в целом для анализа, вернемся к этому вопросу позже\n",
    "\n",
    "## Двигаемся дальше. Рассмотрим как адрес (местность проживания) влияет на успеваемость: "
   ]
  },
  {
   "cell_type": "code",
   "execution_count": 25,
   "metadata": {},
   "outputs": [
    {
     "data": {
      "text/plain": [
       "U      291\n",
       "R       83\n",
       "nan     15\n",
       "Name: address, dtype: int64"
      ]
     },
     "execution_count": 25,
     "metadata": {},
     "output_type": "execute_result"
    }
   ],
   "source": [
    "none_function('address')\n",
    "count_values('address') "
   ]
  },
  {
   "cell_type": "markdown",
   "metadata": {},
   "source": [
    "#### Как видим, присутствуют значения, которые мы не сможем пока заполнить. Большинство учащихся живут в городе, значит можно допустить, что данное значение можно будет вычислить по количеству времени, которое ученики тратят на дорогу \n",
    "\n",
    "## Посмотрим на распределение: "
   ]
  },
  {
   "cell_type": "code",
   "execution_count": 26,
   "metadata": {},
   "outputs": [
    {
     "data": {
      "text/plain": [
       "<AxesSubplot:xlabel='address', ylabel='score'>"
      ]
     },
     "execution_count": 26,
     "metadata": {},
     "output_type": "execute_result"
    },
    {
     "data": {
      "image/png": "[encoded data removed]",
      "text/plain": [
       "<Figure size 432x288 with 1 Axes>"
      ]
     },
     "metadata": {
      "needs_background": "light"
     },
     "output_type": "display_data"
    }
   ],
   "source": [
    "sns.barplot(x='address', y='score', data=studying)"
   ]
  },
  {
   "cell_type": "markdown",
   "metadata": {},
   "source": [
    "### Как видим, успеваемость учеников из городской местности немного выше, чем учеников сельской местности, но стоит понимать, что по 15 ученикам информация отсутствует. \n",
    "\n",
    "### Попробуем посмотреть на распределение количества времени, которое учащиеся тратят на дорогу, возможно это даст нам понять каким образом можно заполнить пропуски по адресам. "
   ]
  },
  {
   "cell_type": "code",
   "execution_count": 27,
   "metadata": {},
   "outputs": [
    {
     "data": {
      "text/plain": [
       "1.0    239\n",
       "2.0     94\n",
       "nan     28\n",
       "3.0     21\n",
       "4.0      7\n",
       "Name: traveltime, dtype: int64"
      ]
     },
     "execution_count": 27,
     "metadata": {},
     "output_type": "execute_result"
    }
   ],
   "source": [
    "none_function('traveltime')\n",
    "count_values('traveltime')"
   ]
  },
  {
   "cell_type": "code",
   "execution_count": 28,
   "metadata": {},
   "outputs": [
    {
     "data": {
      "text/plain": [
       "<AxesSubplot:xlabel='traveltime', ylabel='score'>"
      ]
     },
     "execution_count": 28,
     "metadata": {},
     "output_type": "execute_result"
    },
    {
     "data": {
      "image/png": "[encoded data removed]",
      "text/plain": [
       "<Figure size 432x288 with 1 Axes>"
      ]
     },
     "metadata": {
      "needs_background": "light"
     },
     "output_type": "display_data"
    }
   ],
   "source": [
    "sns.boxplot(x='traveltime', y='score', data=studying)"
   ]
  },
  {
   "cell_type": "markdown",
   "metadata": {},
   "source": [
    "## На первый взгляд, коробки с усами для расстояния 1,2, 3 выглядят похоже. Выделяется распределение для признака с отсутствующими значениями и распределение для расстояния 4. \n",
    "## Посмотрим на график зависимости успеваемости от времени, которое ученики тратят на дорогу"
   ]
  },
  {
   "cell_type": "code",
   "execution_count": 29,
   "metadata": {},
   "outputs": [
    {
     "data": {
      "text/plain": [
       "<matplotlib.collections.PathCollection at 0x7fe74cc7f3d0>"
      ]
     },
     "execution_count": 29,
     "metadata": {},
     "output_type": "execute_result"
    },
    {
     "data": {
      "image/png": "[encoded data removed]",
      "text/plain": [
       "<Figure size 432x288 with 1 Axes>"
      ]
     },
     "metadata": {
      "needs_background": "light"
     },
     "output_type": "display_data"
    }
   ],
   "source": [
    "plt.scatter('traveltime', 'score', data=studying)"
   ]
  },
  {
   "cell_type": "markdown",
   "metadata": {},
   "source": [
    "## Нетрудно заметить, что наиболее информативным показателем является показатель расстояния, равный 4, поскольку значений в нем мало, и их разброс не очень большой. Можно вынести этот показатель как отдельный признак, но возможно, что nan-значения относятся именно к нему. В таком случае этот показатель тоже нельзя будет считать информативным. \n",
    "## Проверим, нельзя ли заполнить пропуски при помощи информации по адресам: "
   ]
  },
  {
   "cell_type": "code",
   "execution_count": 30,
   "metadata": {},
   "outputs": [
    {
     "data": {
      "text/plain": [
       "U      198\n",
       "R       34\n",
       "nan      7\n",
       "Name: address, dtype: int64"
      ]
     },
     "execution_count": 30,
     "metadata": {},
     "output_type": "execute_result"
    }
   ],
   "source": [
    "studying[studying['traveltime']=='1.0'].address.value_counts()"
   ]
  },
  {
   "cell_type": "markdown",
   "metadata": {},
   "source": [
    "### Большинство значений для расстояния 1 - Urban, поэтому значения nan в поле адрес для этого расстояния мы заменим на 'U': "
   ]
  },
  {
   "cell_type": "code",
   "execution_count": 31,
   "metadata": {},
   "outputs": [
    {
     "data": {
      "text/plain": [
       "U    205\n",
       "R     34\n",
       "Name: address, dtype: int64"
      ]
     },
     "execution_count": 31,
     "metadata": {},
     "output_type": "execute_result"
    }
   ],
   "source": [
    "studying.loc[(studying['address']=='nan') & (studying['traveltime']=='1.0'), 'address']='U'\n",
    "studying[studying['traveltime']=='1.0'].address.value_counts() #Проверка"
   ]
  },
  {
   "cell_type": "code",
   "execution_count": 32,
   "metadata": {},
   "outputs": [
    {
     "data": {
      "text/plain": [
       "U      63\n",
       "R      26\n",
       "nan     5\n",
       "Name: address, dtype: int64"
      ]
     },
     "execution_count": 32,
     "metadata": {},
     "output_type": "execute_result"
    }
   ],
   "source": [
    "# Делаем то же самое для расстояния 2.0\n",
    "studying[studying['traveltime']=='2.0'].address.value_counts()"
   ]
  },
  {
   "cell_type": "markdown",
   "metadata": {},
   "source": [
    "### Большинство значений для расстояния 2 - Urban, поэтому значения nan в поле адрес для этого расстояния мы тоже заменим на 'U': "
   ]
  },
  {
   "cell_type": "code",
   "execution_count": 33,
   "metadata": {},
   "outputs": [
    {
     "data": {
      "text/plain": [
       "U    68\n",
       "R    26\n",
       "Name: address, dtype: int64"
      ]
     },
     "execution_count": 33,
     "metadata": {},
     "output_type": "execute_result"
    }
   ],
   "source": [
    "studying.loc[(studying['address']=='nan') & (studying['traveltime']=='2.0'), 'address']='U'\n",
    "studying[studying['traveltime']=='2.0'].address.value_counts() #Проверка"
   ]
  },
  {
   "cell_type": "markdown",
   "metadata": {},
   "source": [
    "##  Делаем то же самое для адресов с расстоянием 3 и 4. Как видно ниже, пустых значений для них нету"
   ]
  },
  {
   "cell_type": "code",
   "execution_count": 34,
   "metadata": {},
   "outputs": [
    {
     "data": {
      "text/plain": [
       "R    12\n",
       "U     9\n",
       "Name: address, dtype: int64"
      ]
     },
     "execution_count": 34,
     "metadata": {},
     "output_type": "execute_result"
    }
   ],
   "source": [
    "studying[studying['traveltime']=='3.0'].address.value_counts()"
   ]
  },
  {
   "cell_type": "code",
   "execution_count": 35,
   "metadata": {},
   "outputs": [
    {
     "data": {
      "text/plain": [
       "R    4\n",
       "U    3\n",
       "Name: address, dtype: int64"
      ]
     },
     "execution_count": 35,
     "metadata": {},
     "output_type": "execute_result"
    }
   ],
   "source": [
    "studying[studying['traveltime']=='4.0'].address.value_counts()"
   ]
  },
  {
   "cell_type": "markdown",
   "metadata": {},
   "source": [
    "## Проверим адреса для расстояний, которые не указаны (nan-значения). Видим ниже, что большинство - это городские адреса, поэтому заменим nan-значения городских адресов на 'U' (их всего 3): "
   ]
  },
  {
   "cell_type": "code",
   "execution_count": 36,
   "metadata": {},
   "outputs": [
    {
     "data": {
      "text/plain": [
       "U      18\n",
       "R       7\n",
       "nan     3\n",
       "Name: address, dtype: int64"
      ]
     },
     "execution_count": 36,
     "metadata": {},
     "output_type": "execute_result"
    }
   ],
   "source": [
    "studying[studying['traveltime']=='nan'].address.value_counts()"
   ]
  },
  {
   "cell_type": "code",
   "execution_count": 37,
   "metadata": {},
   "outputs": [
    {
     "data": {
      "text/plain": [
       "U    21\n",
       "R     7\n",
       "Name: address, dtype: int64"
      ]
     },
     "execution_count": 37,
     "metadata": {},
     "output_type": "execute_result"
    }
   ],
   "source": [
    "studying.loc[(studying['address']=='nan') & (studying['traveltime']=='nan'), 'address']='U'\n",
    "studying[studying['traveltime']=='nan'].address.value_counts() # Проверка\n"
   ]
  },
  {
   "cell_type": "markdown",
   "metadata": {},
   "source": [
    "## Посмотрим снова на распределение оценок в зависимости от места проживания: \n"
   ]
  },
  {
   "cell_type": "code",
   "execution_count": 38,
   "metadata": {},
   "outputs": [
    {
     "data": {
      "text/plain": [
       "<AxesSubplot:xlabel='address', ylabel='score'>"
      ]
     },
     "execution_count": 38,
     "metadata": {},
     "output_type": "execute_result"
    },
    {
     "data": {
      "image/png": "[encoded data removed]",
      "text/plain": [
       "<Figure size 432x288 with 1 Axes>"
      ]
     },
     "metadata": {
      "needs_background": "light"
     },
     "output_type": "display_data"
    }
   ],
   "source": [
    "sns.barplot(x='address', y='score', data=studying)"
   ]
  },
  {
   "cell_type": "markdown",
   "metadata": {},
   "source": [
    "###  Как видим, ситуация почти не изменилась, но оставим эту переменную для дальнейшего анализа\n",
    "\n",
    "## Попробуем заполнить пропуски переменной traveltime: "
   ]
  },
  {
   "cell_type": "code",
   "execution_count": 39,
   "metadata": {},
   "outputs": [
    {
     "data": {
      "text/plain": [
       "U    21\n",
       "R     7\n",
       "Name: address, dtype: int64"
      ]
     },
     "execution_count": 39,
     "metadata": {},
     "output_type": "execute_result"
    }
   ],
   "source": [
    "studying[studying['traveltime']=='nan'].address.value_counts()"
   ]
  },
  {
   "cell_type": "markdown",
   "metadata": {},
   "source": [
    "### По предыдущему анализу можно сделать выводы, что большинство адресов Urban имеют расстояние 1 или 2, в то время как большинство адресов Rural имеют расстояния 3 или 4. Поэтому все nan-расстояния с адресом Urban мы заменим на значение 1.0, а все nan-расстояния со значением местности Rural мы заменим на значения 4.0. "
   ]
  },
  {
   "cell_type": "code",
   "execution_count": 40,
   "metadata": {},
   "outputs": [],
   "source": [
    "studying.loc[(studying['address']=='U') & (studying['traveltime']=='nan'), 'traveltime']='1.0'\n",
    "studying.loc[(studying['address']=='R') & (studying['traveltime']=='nan'), 'traveltime']='4.0'"
   ]
  },
  {
   "cell_type": "code",
   "execution_count": 41,
   "metadata": {},
   "outputs": [
    {
     "data": {
      "text/plain": [
       "<matplotlib.collections.PathCollection at 0x7fe74ce38e20>"
      ]
     },
     "execution_count": 41,
     "metadata": {},
     "output_type": "execute_result"
    },
    {
     "data": {
      "image/png": "[encoded data removed]",
      "text/plain": [
       "<Figure size 432x288 with 1 Axes>"
      ]
     },
     "metadata": {
      "needs_background": "light"
     },
     "output_type": "display_data"
    }
   ],
   "source": [
    "plt.scatter('traveltime', 'score', data=studying)"
   ]
  },
  {
   "cell_type": "code",
   "execution_count": 42,
   "metadata": {},
   "outputs": [
    {
     "data": {
      "text/plain": [
       "<AxesSubplot:xlabel='traveltime', ylabel='score'>"
      ]
     },
     "execution_count": 42,
     "metadata": {},
     "output_type": "execute_result"
    },
    {
     "data": {
      "image/png": "[encoded data removed]",
      "text/plain": [
       "<Figure size 432x288 with 1 Axes>"
      ]
     },
     "metadata": {
      "needs_background": "light"
     },
     "output_type": "display_data"
    }
   ],
   "source": [
    "sns.boxplot(x='traveltime', y='score', data=studying)"
   ]
  },
  {
   "cell_type": "markdown",
   "metadata": {},
   "source": [
    "## По графиках выше видно, что после \"восстановления\" отсутствующих значений признаки стали более информативными. Например, сейчас явно можно заметить спадную тенденцию в значениях оценок при увеличении расстояния, которое ученики тратят на дорогу - при условии, что им нужно дольше добираться до школы, их медианные оценки ухудшаются. Поэтому признак traveltime оставим для дальнейшего анализа и включения его в модель"
   ]
  },
  {
   "cell_type": "markdown",
   "metadata": {},
   "source": [
    "\n",
    "### Далее рассмотрим состав семьи учеников (GT3 - больше 3 человек, LE3 - меньше 3 человек): "
   ]
  },
  {
   "cell_type": "code",
   "execution_count": 43,
   "metadata": {},
   "outputs": [
    {
     "data": {
      "text/plain": [
       "GT3    255\n",
       "LE3    107\n",
       "nan     27\n",
       "Name: famsize, dtype: int64"
      ]
     },
     "execution_count": 43,
     "metadata": {},
     "output_type": "execute_result"
    }
   ],
   "source": [
    "none_function('famsize')\n",
    "count_values('famsize')"
   ]
  },
  {
   "cell_type": "markdown",
   "metadata": {},
   "source": [
    "#### В результате видим, что 27 значений в колонке размера семьи являются пустыми. На данный момент заполнить пропуски не представляется возможным. Количество неполных семей в два раза меньше, чем полных. \n",
    "\n",
    "### Теперь рассмотрим, вместе ли живут родители учеников (T - вместе, А - раздельно): "
   ]
  },
  {
   "cell_type": "code",
   "execution_count": 44,
   "metadata": {},
   "outputs": [
    {
     "data": {
      "text/plain": [
       "T      308\n",
       "nan     45\n",
       "A       36\n",
       "Name: Pstatus, dtype: int64"
      ]
     },
     "execution_count": 44,
     "metadata": {},
     "output_type": "execute_result"
    }
   ],
   "source": [
    "none_function('Pstatus')\n",
    "count_values('Pstatus')"
   ]
  },
  {
   "cell_type": "markdown",
   "metadata": {},
   "source": [
    "#### Как видим, количество пропущенных значений для данного показателя больше, чем для показателя 'famsize', но можно попробовать заполнить некоторые пропуски. "
   ]
  },
  {
   "cell_type": "markdown",
   "metadata": {},
   "source": [
    "## Для заполнения пропусков в предыдущих переменных могут быть полезными переменные Mjob, Fjob, guardian. Рассмотрим каждую из них: "
   ]
  },
  {
   "cell_type": "code",
   "execution_count": 45,
   "metadata": {},
   "outputs": [
    {
     "data": {
      "text/plain": [
       "other       127\n",
       "services     98\n",
       "at_home      58\n",
       "teacher      55\n",
       "health       32\n",
       "nan          19\n",
       "Name: Mjob, dtype: int64"
      ]
     },
     "execution_count": 45,
     "metadata": {},
     "output_type": "execute_result"
    }
   ],
   "source": [
    "none_function('Mjob')\n",
    "count_values('Mjob')"
   ]
  },
  {
   "cell_type": "code",
   "execution_count": 46,
   "metadata": {},
   "outputs": [
    {
     "data": {
      "text/plain": [
       "other       194\n",
       "services     99\n",
       "nan          36\n",
       "teacher      29\n",
       "at_home      16\n",
       "health       15\n",
       "Name: Fjob, dtype: int64"
      ]
     },
     "execution_count": 46,
     "metadata": {},
     "output_type": "execute_result"
    }
   ],
   "source": [
    "none_function('Fjob')\n",
    "count_values('Fjob')"
   ]
  },
  {
   "cell_type": "code",
   "execution_count": 47,
   "metadata": {},
   "outputs": [
    {
     "data": {
      "text/plain": [
       "mother    248\n",
       "father     86\n",
       "nan        31\n",
       "other      24\n",
       "Name: guardian, dtype: int64"
      ]
     },
     "execution_count": 47,
     "metadata": {},
     "output_type": "execute_result"
    }
   ],
   "source": [
    "none_function('guardian')\n",
    "count_values('guardian')"
   ]
  },
  {
   "cell_type": "markdown",
   "metadata": {},
   "source": [
    "## В каждой из перечисленных переменных присутствуют от 19 до 36 nan-значений. Попробуем заполнить пропуски"
   ]
  },
  {
   "cell_type": "code",
   "execution_count": 48,
   "metadata": {},
   "outputs": [
    {
     "data": {
      "text/plain": [
       "other       25\n",
       "services    22\n",
       "teacher     13\n",
       "at_home     12\n",
       "health       8\n",
       "nan          1\n",
       "Name: Mjob, dtype: int64"
      ]
     },
     "execution_count": 48,
     "metadata": {},
     "output_type": "execute_result"
    }
   ],
   "source": [
    "studying[(studying['famsize']=='LE3') & (studying['Pstatus']=='T')].Mjob.value_counts()"
   ]
  },
  {
   "cell_type": "code",
   "execution_count": 49,
   "metadata": {},
   "outputs": [
    {
     "data": {
      "text/plain": [
       "other       10\n",
       "services     4\n",
       "teacher      2\n",
       "nan          2\n",
       "at_home      1\n",
       "health       1\n",
       "Name: Fjob, dtype: int64"
      ]
     },
     "execution_count": 49,
     "metadata": {},
     "output_type": "execute_result"
    }
   ],
   "source": [
    "studying[(studying['famsize']=='GT3') & (studying['Pstatus']=='A')].Fjob.value_counts()"
   ]
  },
  {
   "cell_type": "markdown",
   "metadata": {},
   "source": [
    "## В семьях, где родители живут и вместе, и отдельно в большинстве случаев опекуном является мама, независимо от того, где она работает. Поэтому пропуски в столбце guardian просто заменим на mother (я пробовала много вариантов, но ничего особенного не нашла, по всем из них пропуски можно заполнить mother)"
   ]
  },
  {
   "cell_type": "code",
   "execution_count": 50,
   "metadata": {},
   "outputs": [
    {
     "data": {
      "text/plain": [
       "mother    279\n",
       "father     86\n",
       "other      24\n",
       "Name: guardian, dtype: int64"
      ]
     },
     "execution_count": 50,
     "metadata": {},
     "output_type": "execute_result"
    }
   ],
   "source": [
    "studying.loc[studying['guardian']=='nan', 'guardian']='mother'\n",
    "studying.guardian.value_counts() # Проверка"
   ]
  },
  {
   "cell_type": "markdown",
   "metadata": {},
   "source": [
    "## Также, были рассмотрены разные комбинации переменных famsize, Pstatus, Fjob, Mjob. Для каждого варианта большинство значений для Mjob и Fjob - other, как и для общего случая (без учета других факторов). Поэтому nan-значения для переменных Fjob и Mjob будут заменены на other (в принципе, other мы тоже не особо можем интерпретировать)\n"
   ]
  },
  {
   "cell_type": "code",
   "execution_count": 51,
   "metadata": {},
   "outputs": [],
   "source": [
    "studying.loc[studying['Mjob']=='nan', 'Mjob']='other' # Заменяем nan-значения в Mjob на other\n",
    "studying.loc[studying['Fjob']=='nan', 'Fjob']='other' # Заменяем nan-значения в Fjob на other"
   ]
  },
  {
   "cell_type": "markdown",
   "metadata": {},
   "source": [
    "## Теперь поработаем над пропусками в Famsize и Pstatus: "
   ]
  },
  {
   "cell_type": "code",
   "execution_count": 52,
   "metadata": {},
   "outputs": [
    {
     "data": {
      "text/plain": [
       "T      81\n",
       "A      13\n",
       "nan    13\n",
       "Name: Pstatus, dtype: int64"
      ]
     },
     "execution_count": 52,
     "metadata": {},
     "output_type": "execute_result"
    }
   ],
   "source": [
    "studying[studying['famsize']=='LE3'].Pstatus.value_counts()"
   ]
  },
  {
   "cell_type": "code",
   "execution_count": 53,
   "metadata": {},
   "outputs": [
    {
     "data": {
      "text/plain": [
       "T      207\n",
       "nan     28\n",
       "A       20\n",
       "Name: Pstatus, dtype: int64"
      ]
     },
     "execution_count": 53,
     "metadata": {},
     "output_type": "execute_result"
    }
   ],
   "source": [
    "studying[studying['famsize']=='GT3'].Pstatus.value_counts()"
   ]
  },
  {
   "cell_type": "markdown",
   "metadata": {},
   "source": [
    "## Как видим, независимо от размера семьи, в большинстве случаев Pstatus равен Т, поэтому заменим отсутствующие значения в Pstatus на Т "
   ]
  },
  {
   "cell_type": "code",
   "execution_count": 54,
   "metadata": {},
   "outputs": [
    {
     "data": {
      "text/plain": [
       "T    353\n",
       "A     36\n",
       "Name: Pstatus, dtype: int64"
      ]
     },
     "execution_count": 54,
     "metadata": {},
     "output_type": "execute_result"
    }
   ],
   "source": [
    "studying.loc[studying['Pstatus']=='nan', 'Pstatus']='T'\n",
    "count_values('Pstatus') # Проверка"
   ]
  },
  {
   "cell_type": "markdown",
   "metadata": {},
   "source": [
    "## То же самое касается и famsize: независимо от того, вместе или раздельно живут родители, в большинстве случаев размер семьи составляет больше трех человек. Таким образом, заменим nan-значения в столбце famsize на GT3"
   ]
  },
  {
   "cell_type": "code",
   "execution_count": 55,
   "metadata": {},
   "outputs": [
    {
     "data": {
      "text/plain": [
       "GT3    20\n",
       "LE3    13\n",
       "nan     3\n",
       "Name: famsize, dtype: int64"
      ]
     },
     "execution_count": 55,
     "metadata": {},
     "output_type": "execute_result"
    }
   ],
   "source": [
    "studying[studying['Pstatus']=='A'].famsize.value_counts()"
   ]
  },
  {
   "cell_type": "code",
   "execution_count": 56,
   "metadata": {},
   "outputs": [
    {
     "data": {
      "text/plain": [
       "GT3    235\n",
       "LE3     94\n",
       "nan     24\n",
       "Name: famsize, dtype: int64"
      ]
     },
     "execution_count": 56,
     "metadata": {},
     "output_type": "execute_result"
    }
   ],
   "source": [
    "studying[studying['Pstatus']=='T'].famsize.value_counts()"
   ]
  },
  {
   "cell_type": "code",
   "execution_count": 57,
   "metadata": {},
   "outputs": [
    {
     "data": {
      "text/plain": [
       "GT3    282\n",
       "LE3    107\n",
       "Name: famsize, dtype: int64"
      ]
     },
     "execution_count": 57,
     "metadata": {},
     "output_type": "execute_result"
    }
   ],
   "source": [
    "studying.loc[studying['famsize']=='nan', 'famsize']='GT3'\n",
    "count_values('famsize') # Проверка"
   ]
  },
  {
   "cell_type": "markdown",
   "metadata": {},
   "source": [
    "## Теперь рассмотрим переменные Medu и Fedu: \n",
    "        "
   ]
  },
  {
   "cell_type": "code",
   "execution_count": 58,
   "metadata": {},
   "outputs": [
    {
     "data": {
      "text/plain": [
       "4.0    131\n",
       "2.0    100\n",
       "3.0     96\n",
       "1.0     56\n",
       "nan      3\n",
       "0.0      3\n",
       "Name: Medu, dtype: int64"
      ]
     },
     "execution_count": 58,
     "metadata": {},
     "output_type": "execute_result"
    }
   ],
   "source": [
    "none_function('Medu')\n",
    "count_values('Medu')"
   ]
  },
  {
   "cell_type": "code",
   "execution_count": 59,
   "metadata": {},
   "outputs": [
    {
     "data": {
      "text/plain": [
       "92        other\n",
       "193    services\n",
       "239       other\n",
       "Name: Mjob, dtype: object"
      ]
     },
     "execution_count": 59,
     "metadata": {},
     "output_type": "execute_result"
    }
   ],
   "source": [
    "studying[studying['Medu']=='nan'].Mjob # Проверяем тип работы мамы при условии nan-значения Medu"
   ]
  },
  {
   "cell_type": "code",
   "execution_count": 60,
   "metadata": {},
   "outputs": [
    {
     "data": {
      "text/plain": [
       "3.0    80\n",
       "2.0    77\n",
       "4.0    53\n",
       "1.0    30\n",
       "nan     3\n",
       "0.0     1\n",
       "Name: Medu, dtype: int64"
      ]
     },
     "execution_count": 60,
     "metadata": {},
     "output_type": "execute_result"
    }
   ],
   "source": [
    "studying[(studying['Mjob']=='other') | (studying['Mjob']=='services')].Medu.value_counts() \n",
    "# Для работы other или services наиболее частое значение Medu - 3.0"
   ]
  },
  {
   "cell_type": "code",
   "execution_count": 61,
   "metadata": {},
   "outputs": [
    {
     "data": {
      "text/plain": [
       "4.0    131\n",
       "2.0    100\n",
       "3.0     99\n",
       "1.0     56\n",
       "0.0      3\n",
       "Name: Medu, dtype: int64"
      ]
     },
     "execution_count": 61,
     "metadata": {},
     "output_type": "execute_result"
    }
   ],
   "source": [
    "# Заменим nan-значения Medu на 3.0: \n",
    "studying.loc[(studying['Medu']=='nan'), 'Medu']='3.0'\n",
    "count_values('Medu') # Проверка"
   ]
  },
  {
   "cell_type": "code",
   "execution_count": 62,
   "metadata": {},
   "outputs": [
    {
     "data": {
      "text/plain": [
       "2.0     105\n",
       "3.0      94\n",
       "4.0      88\n",
       "1.0      75\n",
       "nan      24\n",
       "0.0       2\n",
       "40.0      1\n",
       "Name: Fedu, dtype: int64"
      ]
     },
     "execution_count": 62,
     "metadata": {},
     "output_type": "execute_result"
    }
   ],
   "source": [
    "none_function('Fedu')\n",
    "count_values('Fedu')"
   ]
  },
  {
   "cell_type": "code",
   "execution_count": 63,
   "metadata": {},
   "outputs": [
    {
     "data": {
      "text/plain": [
       "other       9\n",
       "services    8\n",
       "teacher     3\n",
       "at_home     2\n",
       "health      2\n",
       "Name: Fjob, dtype: int64"
      ]
     },
     "execution_count": 63,
     "metadata": {},
     "output_type": "execute_result"
    }
   ],
   "source": [
    "studying[studying['Fedu']=='nan'].Fjob.value_counts()"
   ]
  },
  {
   "cell_type": "markdown",
   "metadata": {},
   "source": [
    "### Наиболее часто встречаются два значения типа работы отца при условии, что отсутствуют данные о его образовании - это other и services (как и в случае с мамами). Поэтому заменим nan-значения об уровне обучения, базируясь на этих данных: "
   ]
  },
  {
   "cell_type": "code",
   "execution_count": 64,
   "metadata": {},
   "outputs": [
    {
     "data": {
      "text/plain": [
       "2.0     98\n",
       "3.0     87\n",
       "1.0     71\n",
       "4.0     53\n",
       "nan     17\n",
       "0.0      2\n",
       "40.0     1\n",
       "Name: Fedu, dtype: int64"
      ]
     },
     "execution_count": 64,
     "metadata": {},
     "output_type": "execute_result"
    }
   ],
   "source": [
    "studying[(studying['Fjob']=='other') | (studying['Fjob']=='services')].Fedu.value_counts() "
   ]
  },
  {
   "cell_type": "code",
   "execution_count": 65,
   "metadata": {},
   "outputs": [
    {
     "data": {
      "text/plain": [
       "2.0     129\n",
       "3.0      94\n",
       "4.0      88\n",
       "1.0      75\n",
       "0.0       2\n",
       "40.0      1\n",
       "Name: Fedu, dtype: int64"
      ]
     },
     "execution_count": 65,
     "metadata": {},
     "output_type": "execute_result"
    }
   ],
   "source": [
    "studying.loc[studying['Fedu']=='nan', 'Fedu']='2.0'\n",
    "count_values('Fedu') # Проверка"
   ]
  },
  {
   "cell_type": "markdown",
   "metadata": {},
   "source": [
    "### Также стоит отметить, что в данных Fedu есть явная опечатка (значение 40), заменим его на 4: "
   ]
  },
  {
   "cell_type": "code",
   "execution_count": 66,
   "metadata": {},
   "outputs": [
    {
     "data": {
      "text/plain": [
       "2.0    129\n",
       "3.0     94\n",
       "4.0     89\n",
       "1.0     75\n",
       "0.0      2\n",
       "Name: Fedu, dtype: int64"
      ]
     },
     "execution_count": 66,
     "metadata": {},
     "output_type": "execute_result"
    }
   ],
   "source": [
    "studying.loc[studying['Fedu']=='40.0', 'Fedu']='4.0'\n",
    "count_values('Fedu') # Проверка"
   ]
  },
  {
   "cell_type": "markdown",
   "metadata": {},
   "source": [
    "### Рассмотрим переменную reason, которая объясняет причины выбора конкретной школы"
   ]
  },
  {
   "cell_type": "code",
   "execution_count": 67,
   "metadata": {},
   "outputs": [
    {
     "data": {
      "text/plain": [
       "course        135\n",
       "reputation    102\n",
       "home          101\n",
       "other          34\n",
       "nan            17\n",
       "Name: reason, dtype: int64"
      ]
     },
     "execution_count": 67,
     "metadata": {},
     "output_type": "execute_result"
    }
   ],
   "source": [
    "none_function('reason')\n",
    "count_values('reason')"
   ]
  },
  {
   "cell_type": "code",
   "execution_count": 68,
   "metadata": {},
   "outputs": [
    {
     "data": {
      "text/plain": [
       "<AxesSubplot:xlabel='reason', ylabel='score'>"
      ]
     },
     "execution_count": 68,
     "metadata": {},
     "output_type": "execute_result"
    },
    {
     "data": {
      "image/png": "[encoded data removed]",
      "text/plain": [
       "<Figure size 432x288 with 1 Axes>"
      ]
     },
     "metadata": {
      "needs_background": "light"
     },
     "output_type": "display_data"
    }
   ],
   "source": [
    "sns.boxplot(x='reason', y='score', data=studying)"
   ]
  },
  {
   "cell_type": "markdown",
   "metadata": {},
   "source": [
    "## Судя по построенной диаграмме с усами, нельзя сказать что какой-либо из этих признаков является информативным, поскольку медианные значения по всем признакам, кроме course - одинаковы, и сами коробки с усами похожи друг на друга. Попробуем посмотреть на отсутствующие значения. \n",
    "\n",
    "### При условии, что главным приоритетом при выборе школы является наполнение программы, стоит посмотреть, хотят ли ученики платить за дополнительные занятия: "
   ]
  },
  {
   "cell_type": "code",
   "execution_count": 69,
   "metadata": {},
   "outputs": [
    {
     "data": {
      "text/plain": [
       "no     81\n",
       "yes    44\n",
       "Name: paid, dtype: int64"
      ]
     },
     "execution_count": 69,
     "metadata": {},
     "output_type": "execute_result"
    }
   ],
   "source": [
    "studying[studying['reason']=='course'].paid.value_counts()"
   ]
  },
  {
   "cell_type": "markdown",
   "metadata": {},
   "source": [
    "### Как видим, нет. Попробуем заполнить пропуски с учетом этой информации: "
   ]
  },
  {
   "cell_type": "code",
   "execution_count": 70,
   "metadata": {},
   "outputs": [
    {
     "data": {
      "text/plain": [
       "course        81\n",
       "reputation    46\n",
       "home          44\n",
       "other         14\n",
       "nan           12\n",
       "Name: reason, dtype: int64"
      ]
     },
     "execution_count": 70,
     "metadata": {},
     "output_type": "execute_result"
    }
   ],
   "source": [
    "studying[studying['paid']=='no'].reason.value_counts() "
   ]
  },
  {
   "cell_type": "code",
   "execution_count": 71,
   "metadata": {},
   "outputs": [
    {
     "data": {
      "text/plain": [
       "course        147\n",
       "reputation    102\n",
       "home          101\n",
       "other          34\n",
       "nan             5\n",
       "Name: reason, dtype: int64"
      ]
     },
     "execution_count": 71,
     "metadata": {},
     "output_type": "execute_result"
    }
   ],
   "source": [
    "studying.loc[(studying['paid']=='no') & (studying['reason']=='nan'), 'reason']='course'\n",
    "studying.reason.value_counts()"
   ]
  },
  {
   "cell_type": "markdown",
   "metadata": {},
   "source": [
    "### Теперь посмотрим, какие категории учеников готовы заплатить за дополнительное обучение: "
   ]
  },
  {
   "cell_type": "code",
   "execution_count": 72,
   "metadata": {},
   "outputs": [
    {
     "data": {
      "text/plain": [
       "home          49\n",
       "course        44\n",
       "reputation    44\n",
       "other         12\n",
       "nan            4\n",
       "Name: reason, dtype: int64"
      ]
     },
     "execution_count": 72,
     "metadata": {},
     "output_type": "execute_result"
    }
   ],
   "source": [
    "studying[studying['paid']=='yes'].reason.value_counts()"
   ]
  },
  {
   "cell_type": "markdown",
   "metadata": {},
   "source": [
    "### Как видим, распределение почти равномерно между группами home, course и reputation, но именно для категории home количество студентов, готовых заплатить за дополнительные уроки является большим, чем тех, кто не готов. Заполним соответственно пропуски: "
   ]
  },
  {
   "cell_type": "code",
   "execution_count": 73,
   "metadata": {},
   "outputs": [
    {
     "data": {
      "text/plain": [
       "yes    49\n",
       "no     44\n",
       "Name: paid, dtype: int64"
      ]
     },
     "execution_count": 73,
     "metadata": {},
     "output_type": "execute_result"
    }
   ],
   "source": [
    "studying[studying['reason']=='home'].paid.value_counts()"
   ]
  },
  {
   "cell_type": "code",
   "execution_count": 74,
   "metadata": {},
   "outputs": [
    {
     "data": {
      "text/plain": [
       "no     46\n",
       "yes    44\n",
       "Name: paid, dtype: int64"
      ]
     },
     "execution_count": 74,
     "metadata": {},
     "output_type": "execute_result"
    }
   ],
   "source": [
    "studying[studying['reason']=='reputation'].paid.value_counts()"
   ]
  },
  {
   "cell_type": "code",
   "execution_count": 75,
   "metadata": {},
   "outputs": [
    {
     "data": {
      "text/plain": [
       "course        147\n",
       "home          106\n",
       "reputation    102\n",
       "other          34\n",
       "Name: reason, dtype: int64"
      ]
     },
     "execution_count": 75,
     "metadata": {},
     "output_type": "execute_result"
    }
   ],
   "source": [
    "studying.loc[(studying['traveltime']=='1.0') & (studying['reason']=='nan'), 'reason']='home'\n",
    "count_values('reason')"
   ]
  },
  {
   "cell_type": "code",
   "execution_count": 76,
   "metadata": {},
   "outputs": [
    {
     "data": {
      "text/plain": [
       "<AxesSubplot:xlabel='reason', ylabel='score'>"
      ]
     },
     "execution_count": 76,
     "metadata": {},
     "output_type": "execute_result"
    },
    {
     "data": {
      "image/png": "[encoded data removed]",
      "text/plain": [
       "<Figure size 432x288 with 1 Axes>"
      ]
     },
     "metadata": {
      "needs_background": "light"
     },
     "output_type": "display_data"
    }
   ],
   "source": [
    "sns.boxplot(x='reason', y='score', data=studying)"
   ]
  },
  {
   "cell_type": "markdown",
   "metadata": {},
   "source": [
    "### Теперь с уверенностью можно сказать, что данный признак не является информативным, поэтому его можно не брать во внимание для последующего анализа. Все коробки с усами очень похожи, поэтому мы не будем рассматривать показатель причины выбора школы"
   ]
  },
  {
   "cell_type": "markdown",
   "metadata": {},
   "source": [
    "## Рассмотрим фактор Studytime - уж он точно должен влиять на успеваемость по математике!"
   ]
  },
  {
   "cell_type": "code",
   "execution_count": 77,
   "metadata": {},
   "outputs": [
    {
     "data": {
      "text/plain": [
       "2.0    189\n",
       "1.0    103\n",
       "3.0     63\n",
       "4.0     27\n",
       "nan      7\n",
       "Name: studytime, dtype: int64"
      ]
     },
     "execution_count": 77,
     "metadata": {},
     "output_type": "execute_result"
    }
   ],
   "source": [
    "none_function('studytime')\n",
    "count_values('studytime')"
   ]
  },
  {
   "cell_type": "code",
   "execution_count": 78,
   "metadata": {},
   "outputs": [],
   "source": [
    "# Пропущенных значений 7, заменим их на наиболее часто встречающееся: \n",
    "studying.loc[studying['studytime']=='nan', 'studytime']='2.0'"
   ]
  },
  {
   "cell_type": "markdown",
   "metadata": {},
   "source": [
    "### Посмотрим как количество времени, посвященного учебе влияет на успеваемость: "
   ]
  },
  {
   "cell_type": "code",
   "execution_count": 79,
   "metadata": {},
   "outputs": [
    {
     "data": {
      "text/plain": [
       "<AxesSubplot:xlabel='studytime', ylabel='score'>"
      ]
     },
     "execution_count": 79,
     "metadata": {},
     "output_type": "execute_result"
    },
    {
     "data": {
      "image/png": "[encoded data removed]",
      "text/plain": [
       "<Figure size 432x288 with 1 Axes>"
      ]
     },
     "metadata": {
      "needs_background": "light"
     },
     "output_type": "display_data"
    }
   ],
   "source": [
    "sns.boxplot(x='studytime', y='score', data=studying)"
   ]
  },
  {
   "cell_type": "markdown",
   "metadata": {},
   "source": [
    "## Как видим, количество времени, которое ученики посвящают учебе, имеет влияние на успеваемость, при чем наиболее заметна разница у тех, кто посвящает в среднем 5-10 часов на обучение в неделю. Стоит отметить, что для категорий 1 и 2 существенных отличий в успеваемости нет, то есть успеваемость заметно увеличивается, если количество времени, потраченного на обучение, увеличивается хотя бы до 5 часов в неделю"
   ]
  },
  {
   "cell_type": "markdown",
   "metadata": {},
   "source": [
    "## Рассмотрим зависимость оценок от количества внеучебных неудач"
   ]
  },
  {
   "cell_type": "code",
   "execution_count": 80,
   "metadata": {},
   "outputs": [
    {
     "data": {
      "text/plain": [
       "0.0    290\n",
       "1.0     48\n",
       "nan     22\n",
       "2.0     15\n",
       "3.0     14\n",
       "Name: failures, dtype: int64"
      ]
     },
     "execution_count": 80,
     "metadata": {},
     "output_type": "execute_result"
    }
   ],
   "source": [
    "none_function('failures')\n",
    "count_values('failures')"
   ]
  },
  {
   "cell_type": "markdown",
   "metadata": {},
   "source": [
    "### Сразу заменим отсутствующие значения на медианный признак: "
   ]
  },
  {
   "cell_type": "code",
   "execution_count": 81,
   "metadata": {},
   "outputs": [
    {
     "data": {
      "text/plain": [
       "0.0"
      ]
     },
     "execution_count": 81,
     "metadata": {},
     "output_type": "execute_result"
    }
   ],
   "source": [
    "studying['failures'].median()"
   ]
  },
  {
   "cell_type": "code",
   "execution_count": 82,
   "metadata": {},
   "outputs": [],
   "source": [
    "studying.loc[studying['failures']=='nan', 'failures']=0.0"
   ]
  },
  {
   "cell_type": "markdown",
   "metadata": {},
   "source": [
    "### Посмотрим, влияют ли внеучебные неудачи на успеваемость: "
   ]
  },
  {
   "cell_type": "code",
   "execution_count": 83,
   "metadata": {},
   "outputs": [
    {
     "data": {
      "text/plain": [
       "<AxesSubplot:xlabel='failures', ylabel='score'>"
      ]
     },
     "execution_count": 83,
     "metadata": {},
     "output_type": "execute_result"
    },
    {
     "data": {
      "image/png": "[encoded data removed]",
      "text/plain": [
       "<Figure size 432x288 with 1 Axes>"
      ]
     },
     "metadata": {
      "needs_background": "light"
     },
     "output_type": "display_data"
    }
   ],
   "source": [
    "none_function('failures')\n",
    "sns.boxplot(x='failures', y='score', data=studying)"
   ]
  },
  {
   "cell_type": "markdown",
   "metadata": {},
   "source": [
    "### Как видим, этот признак является значимым, при увеличении количества неудач возрастает вероятность получения худшей оценки. "
   ]
  },
  {
   "cell_type": "markdown",
   "metadata": {},
   "source": [
    "## Теперь посмотрим на влияние фактора дополнительной школьной поддержки: "
   ]
  },
  {
   "cell_type": "code",
   "execution_count": 84,
   "metadata": {},
   "outputs": [
    {
     "data": {
      "text/plain": [
       "no     331\n",
       "yes     49\n",
       "nan      9\n",
       "Name: schoolsup, dtype: int64"
      ]
     },
     "execution_count": 84,
     "metadata": {},
     "output_type": "execute_result"
    }
   ],
   "source": [
    "none_function('schoolsup')\n",
    "count_values('schoolsup')"
   ]
  },
  {
   "cell_type": "markdown",
   "metadata": {},
   "source": [
    "### Сразу заменим nan-значения на 'no' - значение моды "
   ]
  },
  {
   "cell_type": "code",
   "execution_count": 85,
   "metadata": {},
   "outputs": [
    {
     "data": {
      "text/plain": [
       "no     340\n",
       "yes     49\n",
       "Name: schoolsup, dtype: int64"
      ]
     },
     "execution_count": 85,
     "metadata": {},
     "output_type": "execute_result"
    }
   ],
   "source": [
    "studying.loc[studying['schoolsup']=='nan', 'schoolsup']='no'\n",
    "count_values('schoolsup')"
   ]
  },
  {
   "cell_type": "code",
   "execution_count": 86,
   "metadata": {},
   "outputs": [
    {
     "data": {
      "text/plain": [
       "<AxesSubplot:xlabel='schoolsup', ylabel='score'>"
      ]
     },
     "execution_count": 86,
     "metadata": {},
     "output_type": "execute_result"
    },
    {
     "data": {
      "image/png": "[encoded data removed]",
      "text/plain": [
       "<Figure size 432x288 with 1 Axes>"
      ]
     },
     "metadata": {
      "needs_background": "light"
     },
     "output_type": "display_data"
    }
   ],
   "source": [
    "## Глянем на boxplot\n",
    "sns.boxplot(x='schoolsup', y='score', data=studying)"
   ]
  },
  {
   "cell_type": "markdown",
   "metadata": {},
   "source": [
    "### Как видим, признак дополнительной поддержки в школе является значимым. Проверим насколько влияет поддержка семьи на успеваемость: "
   ]
  },
  {
   "cell_type": "code",
   "execution_count": 87,
   "metadata": {},
   "outputs": [
    {
     "data": {
      "text/plain": [
       "yes    216\n",
       "no     135\n",
       "nan     38\n",
       "Name: famsup, dtype: int64"
      ]
     },
     "execution_count": 87,
     "metadata": {},
     "output_type": "execute_result"
    }
   ],
   "source": [
    "none_function('famsup')\n",
    "count_values('famsup')"
   ]
  },
  {
   "cell_type": "markdown",
   "metadata": {},
   "source": [
    "### Поскольку количество отсутствующих значений по этому признаку составляет достаточно большую часть от обеих категорий, которые в нем присутствуют, попробуем найти зависимость между его значением и значением признака famrel (семейные отношения): "
   ]
  },
  {
   "cell_type": "code",
   "execution_count": 88,
   "metadata": {},
   "outputs": [
    {
     "data": {
      "text/plain": [
       " 4.0    104\n",
       " 5.0     49\n",
       " 3.0     31\n",
       " 2.0      9\n",
       " 1.0      4\n",
       "-1.0      1\n",
       "Name: famrel, dtype: int64"
      ]
     },
     "execution_count": 88,
     "metadata": {},
     "output_type": "execute_result"
    }
   ],
   "source": [
    "studying[studying['famsup']=='yes'].famrel.value_counts() "
   ]
  },
  {
   "cell_type": "code",
   "execution_count": 89,
   "metadata": {},
   "outputs": [
    {
     "data": {
      "text/plain": [
       "4.0    55\n",
       "5.0    38\n",
       "3.0    26\n",
       "2.0     6\n",
       "1.0     3\n",
       "Name: famrel, dtype: int64"
      ]
     },
     "execution_count": 89,
     "metadata": {},
     "output_type": "execute_result"
    }
   ],
   "source": [
    "studying[studying['famsup']=='no'].famrel.value_counts()"
   ]
  },
  {
   "cell_type": "code",
   "execution_count": 90,
   "metadata": {},
   "outputs": [
    {
     "data": {
      "text/plain": [
       "4.0    19\n",
       "5.0    10\n",
       "3.0     5\n",
       "2.0     2\n",
       "Name: famrel, dtype: int64"
      ]
     },
     "execution_count": 90,
     "metadata": {},
     "output_type": "execute_result"
    }
   ],
   "source": [
    "studying[studying['famsup']=='nan'].famrel.value_counts()"
   ]
  },
  {
   "cell_type": "markdown",
   "metadata": {},
   "source": [
    "### По всем значениям famsup (yes, no, nan) - наиболее часто отношения в семье оцениваются как 4. Посмотрим еще как отношения влияют непосредственно на оценки: "
   ]
  },
  {
   "cell_type": "code",
   "execution_count": 91,
   "metadata": {},
   "outputs": [
    {
     "data": {
      "text/plain": [
       "<AxesSubplot:xlabel='famsup', ylabel='score'>"
      ]
     },
     "execution_count": 91,
     "metadata": {},
     "output_type": "execute_result"
    },
    {
     "data": {
      "image/png": "[encoded data removed]",
      "text/plain": [
       "<Figure size 432x288 with 1 Axes>"
      ]
     },
     "metadata": {
      "needs_background": "light"
     },
     "output_type": "display_data"
    }
   ],
   "source": [
    "sns.boxplot(x='famsup', y='score', data=studying)"
   ]
  },
  {
   "cell_type": "markdown",
   "metadata": {},
   "source": [
    "### По диаграмме коробок с усами видим, что этот признак вряд ли является значимым для анализа. Попробуем заменить отсутствующие значения на моду (yes):"
   ]
  },
  {
   "cell_type": "code",
   "execution_count": 92,
   "metadata": {},
   "outputs": [
    {
     "data": {
      "text/plain": [
       "<AxesSubplot:xlabel='famsup', ylabel='score'>"
      ]
     },
     "execution_count": 92,
     "metadata": {},
     "output_type": "execute_result"
    },
    {
     "data": {
      "image/png": "[encoded data removed]",
      "text/plain": [
       "<Figure size 432x288 with 1 Axes>"
      ]
     },
     "metadata": {
      "needs_background": "light"
     },
     "output_type": "display_data"
    }
   ],
   "source": [
    "studying.loc[studying['famsup']=='nan', 'famsup']='yes'\n",
    "sns.boxplot(x='famsup', y='score', data=studying)"
   ]
  },
  {
   "cell_type": "markdown",
   "metadata": {},
   "source": [
    "### Результаты показывают, что наличие поддержки особо не влияет на успеваемость - медианное значение одинаковое у обоих значений, а интерквартильный размах при наличии поддержки даже выше, при этом максимальная оценка немного ниже. \n",
    "\n",
    "## Поскольку мы уже рассмотрели фактор famrel, уберем в нем сразу отсутствующие значения (заменим на моду - 4.0) и посмотрим на его влияние на успеваемость:"
   ]
  },
  {
   "cell_type": "code",
   "execution_count": 103,
   "metadata": {},
   "outputs": [],
   "source": [
    "none_function('famrel')\n",
    "count_values('famrel')\n",
    "studying.loc[studying['famrel']=='nan', 'famrel']='4.0'\n",
    "studying.loc[studying['famrel'].astype(float)==-1.0, 'famrel']='1.0' # Опечатка в значениях"
   ]
  },
  {
   "cell_type": "code",
   "execution_count": 279,
   "metadata": {},
   "outputs": [],
   "source": [
    "studying.famrel.value_counts()\n",
    "studying.famrel = studying.famrel.astype(float)"
   ]
  },
  {
   "cell_type": "code",
   "execution_count": 280,
   "metadata": {},
   "outputs": [
    {
     "data": {
      "text/plain": [
       "<AxesSubplot:xlabel='famrel', ylabel='score'>"
      ]
     },
     "execution_count": 280,
     "metadata": {},
     "output_type": "execute_result"
    },
    {
     "data": {
      "image/png": "[encoded data removed]",
      "text/plain": [
       "<Figure size 432x288 with 1 Axes>"
      ]
     },
     "metadata": {
      "needs_background": "light"
     },
     "output_type": "display_data"
    }
   ],
   "source": [
    "sns.boxplot(x='famrel', y='score', data=studying)"
   ]
  },
  {
   "cell_type": "code",
   "execution_count": 281,
   "metadata": {},
   "outputs": [
    {
     "data": {
      "text/plain": [
       "<matplotlib.collections.PathCollection at 0x7fe75158ad90>"
      ]
     },
     "execution_count": 281,
     "metadata": {},
     "output_type": "execute_result"
    },
    {
     "data": {
      "image/png": "[encoded data removed]",
      "text/plain": [
       "<Figure size 432x288 with 1 Axes>"
      ]
     },
     "metadata": {
      "needs_background": "light"
     },
     "output_type": "display_data"
    }
   ],
   "source": [
    "plt.scatter('famrel', 'score', data=studying)"
   ]
  },
  {
   "cell_type": "markdown",
   "metadata": {},
   "source": [
    "### Как видим, хорошие семейные отношения (уровень 3-5) особо не влияют на успеваемость, зато можно отметить, что успеваемость студентов, у которых проблемы в семье (отношения 1-2) успеваемость по математике в целом ниже, что проявляется в отсутствии максимальных оценок."
   ]
  },
  {
   "cell_type": "markdown",
   "metadata": {},
   "source": [
    "## Теперь посмотрим насколько дополнительные занятия по математике повлияли на успеваемость: "
   ]
  },
  {
   "cell_type": "code",
   "execution_count": 107,
   "metadata": {},
   "outputs": [
    {
     "data": {
      "text/plain": [
       "no     197\n",
       "yes    153\n",
       "nan     39\n",
       "Name: paid, dtype: int64"
      ]
     },
     "execution_count": 107,
     "metadata": {},
     "output_type": "execute_result"
    }
   ],
   "source": [
    "none_function('paid')\n",
    "count_values('paid')"
   ]
  },
  {
   "cell_type": "code",
   "execution_count": 108,
   "metadata": {},
   "outputs": [
    {
     "data": {
      "text/plain": [
       "<AxesSubplot:xlabel='paid', ylabel='score'>"
      ]
     },
     "execution_count": 108,
     "metadata": {},
     "output_type": "execute_result"
    },
    {
     "data": {
      "image/png": "[encoded data removed]",
      "text/plain": [
       "<Figure size 432x288 with 1 Axes>"
      ]
     },
     "metadata": {
      "needs_background": "light"
     },
     "output_type": "display_data"
    }
   ],
   "source": [
    "sns.boxplot(x='paid', y='score', data=studying)"
   ]
  },
  {
   "cell_type": "markdown",
   "metadata": {},
   "source": [
    "### Глядя на коробки с усами, можно сделать выводы, что распределение отсутствующих значений больше похоже на распределение оценок учеников, которые платили за дополнительные занятия, хотя медиана в отсутствующих значениях смещена вниз. Заменим nan на yes:"
   ]
  },
  {
   "cell_type": "code",
   "execution_count": 109,
   "metadata": {},
   "outputs": [
    {
     "data": {
      "text/plain": [
       "no     197\n",
       "yes    192\n",
       "Name: paid, dtype: int64"
      ]
     },
     "execution_count": 109,
     "metadata": {},
     "output_type": "execute_result"
    }
   ],
   "source": [
    "studying.loc[studying['paid']=='nan', 'paid']='yes'\n",
    "studying.paid.value_counts()"
   ]
  },
  {
   "cell_type": "code",
   "execution_count": 110,
   "metadata": {},
   "outputs": [
    {
     "data": {
      "text/plain": [
       "<AxesSubplot:xlabel='paid', ylabel='score'>"
      ]
     },
     "execution_count": 110,
     "metadata": {},
     "output_type": "execute_result"
    },
    {
     "data": {
      "image/png": "[encoded data removed]",
      "text/plain": [
       "<Figure size 432x288 with 1 Axes>"
      ]
     },
     "metadata": {
      "needs_background": "light"
     },
     "output_type": "display_data"
    }
   ],
   "source": [
    "sns.boxplot(x='paid', y='score', data=studying)"
   ]
  },
  {
   "cell_type": "markdown",
   "metadata": {},
   "source": [
    "### Посмотрим, влияют ли на успеваемость внеучебные занятия: "
   ]
  },
  {
   "cell_type": "code",
   "execution_count": 111,
   "metadata": {},
   "outputs": [
    {
     "data": {
      "text/plain": [
       "yes    192\n",
       "no     183\n",
       "nan     14\n",
       "Name: activities, dtype: int64"
      ]
     },
     "execution_count": 111,
     "metadata": {},
     "output_type": "execute_result"
    }
   ],
   "source": [
    "none_function('activities')\n",
    "count_values('activities')"
   ]
  },
  {
   "cell_type": "code",
   "execution_count": 112,
   "metadata": {},
   "outputs": [
    {
     "data": {
      "text/plain": [
       "<AxesSubplot:xlabel='activities', ylabel='score'>"
      ]
     },
     "execution_count": 112,
     "metadata": {},
     "output_type": "execute_result"
    },
    {
     "data": {
      "image/png": "[encoded data removed]",
      "text/plain": [
       "<Figure size 432x288 with 1 Axes>"
      ]
     },
     "metadata": {
      "needs_background": "light"
     },
     "output_type": "display_data"
    }
   ],
   "source": [
    "sns.boxplot(x='activities', y='score', data=studying)"
   ]
  },
  {
   "cell_type": "markdown",
   "metadata": {},
   "source": [
    "### Как видим, медиана оценок для nan-значений больше подходит для распределения оценок для значений 'no', поэтому такую замену и сделаем: "
   ]
  },
  {
   "cell_type": "code",
   "execution_count": 113,
   "metadata": {},
   "outputs": [],
   "source": [
    "studying.loc[studying['activities']=='nan', 'activities']='no'"
   ]
  },
  {
   "cell_type": "code",
   "execution_count": 114,
   "metadata": {},
   "outputs": [
    {
     "data": {
      "text/plain": [
       "<AxesSubplot:xlabel='activities', ylabel='score'>"
      ]
     },
     "execution_count": 114,
     "metadata": {},
     "output_type": "execute_result"
    },
    {
     "data": {
      "image/png": "[encoded data removed]",
      "text/plain": [
       "<Figure size 432x288 with 1 Axes>"
      ]
     },
     "metadata": {
      "needs_background": "light"
     },
     "output_type": "display_data"
    }
   ],
   "source": [
    "sns.boxplot(x='activities', y='score', data=studying)"
   ]
  },
  {
   "cell_type": "markdown",
   "metadata": {},
   "source": [
    "### Как видим, медианные значения у этих переменных одинаковы, но дополнительные учебные занятия все-таки немного влияют на успеваемость\n",
    "\n",
    "## Посмотрим, каким образом на успеваемость по математике влияет посещение детского сада: "
   ]
  },
  {
   "cell_type": "code",
   "execution_count": 115,
   "metadata": {},
   "outputs": [
    {
     "data": {
      "text/plain": [
       "yes    297\n",
       "no      77\n",
       "nan     15\n",
       "Name: nursery, dtype: int64"
      ]
     },
     "execution_count": 115,
     "metadata": {},
     "output_type": "execute_result"
    }
   ],
   "source": [
    "none_function('nursery')\n",
    "count_values('nursery')"
   ]
  },
  {
   "cell_type": "markdown",
   "metadata": {},
   "source": [
    "### Здесь все просто: значения nan заменяем на моду: "
   ]
  },
  {
   "cell_type": "code",
   "execution_count": 116,
   "metadata": {},
   "outputs": [],
   "source": [
    "studying.loc[studying['nursery']=='nan', 'nursery']='yes'"
   ]
  },
  {
   "cell_type": "code",
   "execution_count": 117,
   "metadata": {},
   "outputs": [
    {
     "data": {
      "text/plain": [
       "<AxesSubplot:xlabel='nursery', ylabel='score'>"
      ]
     },
     "execution_count": 117,
     "metadata": {},
     "output_type": "execute_result"
    },
    {
     "data": {
      "image/png": "[encoded data removed]",
      "text/plain": [
       "<Figure size 432x288 with 1 Axes>"
      ]
     },
     "metadata": {
      "needs_background": "light"
     },
     "output_type": "display_data"
    }
   ],
   "source": [
    "sns.boxplot(x='nursery', y='score', data=studying)"
   ]
  },
  {
   "cell_type": "markdown",
   "metadata": {},
   "source": [
    "### Вряд ли этот признак является информативным, но пока не будем исключать его из анализа\n",
    "\n",
    "## Рассмотрим показатель, который не был указан в изначальных инструкциях - studytime, granular. "
   ]
  },
  {
   "cell_type": "code",
   "execution_count": 118,
   "metadata": {},
   "outputs": [
    {
     "data": {
      "text/plain": [
       "-6.0     189\n",
       "-3.0     103\n",
       "-9.0      63\n",
       "-12.0     27\n",
       "nan        7\n",
       "Name: studytime, granular, dtype: int64"
      ]
     },
     "execution_count": 118,
     "metadata": {},
     "output_type": "execute_result"
    }
   ],
   "source": [
    "none_function('studytime, granular')\n",
    "count_values('studytime, granular')"
   ]
  },
  {
   "cell_type": "code",
   "execution_count": 119,
   "metadata": {},
   "outputs": [
    {
     "data": {
      "text/plain": [
       "<AxesSubplot:xlabel='studytime, granular', ylabel='score'>"
      ]
     },
     "execution_count": 119,
     "metadata": {},
     "output_type": "execute_result"
    },
    {
     "data": {
      "image/png": "[encoded data removed]",
      "text/plain": [
       "<Figure size 432x288 with 1 Axes>"
      ]
     },
     "metadata": {
      "needs_background": "light"
     },
     "output_type": "display_data"
    }
   ],
   "source": [
    "sns.boxplot(x='studytime, granular', y='score', data=studying)"
   ]
  },
  {
   "cell_type": "markdown",
   "metadata": {},
   "source": [
    "### Заменим nan-значения на медианное: "
   ]
  },
  {
   "cell_type": "code",
   "execution_count": 120,
   "metadata": {},
   "outputs": [
    {
     "data": {
      "text/plain": [
       "-6.0"
      ]
     },
     "execution_count": 120,
     "metadata": {},
     "output_type": "execute_result"
    }
   ],
   "source": [
    "studying['studytime, granular'].median()"
   ]
  },
  {
   "cell_type": "code",
   "execution_count": 121,
   "metadata": {},
   "outputs": [],
   "source": [
    "studying.loc[studying['studytime, granular']=='nan', 'studytime, granular']=-6"
   ]
  },
  {
   "cell_type": "code",
   "execution_count": 122,
   "metadata": {},
   "outputs": [
    {
     "data": {
      "text/plain": [
       "<AxesSubplot:xlabel='studytime, granular', ylabel='score'>"
      ]
     },
     "execution_count": 122,
     "metadata": {},
     "output_type": "execute_result"
    },
    {
     "data": {
      "image/png": "[encoded data removed]",
      "text/plain": [
       "<Figure size 432x288 with 1 Axes>"
      ]
     },
     "metadata": {
      "needs_background": "light"
     },
     "output_type": "display_data"
    }
   ],
   "source": [
    "sns.boxplot(x='studytime, granular', y='score', data=studying)"
   ]
  },
  {
   "cell_type": "markdown",
   "metadata": {},
   "source": [
    "## Сложно говорить о том, что означает этот признак, но можно сделать выводы о его значимости. Явно выделяющегося признака нету, разве что значение -9. Пока оставим этот показатель \n",
    "\n",
    "### Рассмотрим, влияет ли на успеваемость учеников желание поступить в университет: "
   ]
  },
  {
   "cell_type": "code",
   "execution_count": 123,
   "metadata": {},
   "outputs": [
    {
     "data": {
      "text/plain": [
       "yes    350\n",
       "nan     20\n",
       "no      19\n",
       "Name: higher, dtype: int64"
      ]
     },
     "execution_count": 123,
     "metadata": {},
     "output_type": "execute_result"
    }
   ],
   "source": [
    "none_function('higher')\n",
    "count_values('higher')"
   ]
  },
  {
   "cell_type": "markdown",
   "metadata": {},
   "source": [
    "## Тут все просто, nan-значения заменяем на моду: "
   ]
  },
  {
   "cell_type": "code",
   "execution_count": 124,
   "metadata": {},
   "outputs": [],
   "source": [
    "studying.loc[studying['higher']=='nan', 'higher']='yes'"
   ]
  },
  {
   "cell_type": "code",
   "execution_count": 125,
   "metadata": {},
   "outputs": [
    {
     "data": {
      "text/plain": [
       "<AxesSubplot:xlabel='higher', ylabel='score'>"
      ]
     },
     "execution_count": 125,
     "metadata": {},
     "output_type": "execute_result"
    },
    {
     "data": {
      "image/png": "[encoded data removed]",
      "text/plain": [
       "<Figure size 432x288 with 1 Axes>"
      ]
     },
     "metadata": {
      "needs_background": "light"
     },
     "output_type": "display_data"
    }
   ],
   "source": [
    "sns.boxplot(x='higher', y='score', data=studying)"
   ]
  },
  {
   "cell_type": "markdown",
   "metadata": {},
   "source": [
    "## Ожидаемый и очень явный результат: желание поступить в университет явно влияет на оценки по математике в сторону повышения\n",
    "\n",
    "### Посмотрим как влияет на оценку наличие интернета в доме: "
   ]
  },
  {
   "cell_type": "code",
   "execution_count": 126,
   "metadata": {},
   "outputs": [
    {
     "data": {
      "text/plain": [
       "yes    300\n",
       "no      55\n",
       "nan     34\n",
       "Name: internet, dtype: int64"
      ]
     },
     "execution_count": 126,
     "metadata": {},
     "output_type": "execute_result"
    }
   ],
   "source": [
    "none_function('internet')\n",
    "count_values('internet')"
   ]
  },
  {
   "cell_type": "markdown",
   "metadata": {},
   "source": [
    "### Заменим отсутствующие значения на моду: "
   ]
  },
  {
   "cell_type": "code",
   "execution_count": 127,
   "metadata": {},
   "outputs": [],
   "source": [
    "studying.loc[studying['internet']=='nan', 'internet']='yes'"
   ]
  },
  {
   "cell_type": "code",
   "execution_count": 128,
   "metadata": {},
   "outputs": [
    {
     "data": {
      "text/plain": [
       "<AxesSubplot:xlabel='internet', ylabel='score'>"
      ]
     },
     "execution_count": 128,
     "metadata": {},
     "output_type": "execute_result"
    },
    {
     "data": {
      "image/png": "[encoded data removed]",
      "text/plain": [
       "<Figure size 432x288 with 1 Axes>"
      ]
     },
     "metadata": {
      "needs_background": "light"
     },
     "output_type": "display_data"
    }
   ],
   "source": [
    "sns.boxplot(x='internet', y='score', data=studying)"
   ]
  },
  {
   "cell_type": "markdown",
   "metadata": {},
   "source": [
    "### Видим что здесь тоже присутствует явная зависимость\n",
    "\n",
    "## Посмотрим как на успеваемость учеников влияет наличие у них романтических отношений: "
   ]
  },
  {
   "cell_type": "code",
   "execution_count": 129,
   "metadata": {},
   "outputs": [
    {
     "data": {
      "text/plain": [
       "no     235\n",
       "yes    123\n",
       "nan     31\n",
       "Name: romantic, dtype: int64"
      ]
     },
     "execution_count": 129,
     "metadata": {},
     "output_type": "execute_result"
    }
   ],
   "source": [
    "none_function('romantic')\n",
    "count_values('romantic')"
   ]
  },
  {
   "cell_type": "code",
   "execution_count": 130,
   "metadata": {},
   "outputs": [],
   "source": [
    "# Недостающие значения меняем на моду: \n",
    "studying.loc[studying['romantic']=='nan', 'romantic']='no'"
   ]
  },
  {
   "cell_type": "code",
   "execution_count": 131,
   "metadata": {},
   "outputs": [
    {
     "data": {
      "text/plain": [
       "<AxesSubplot:xlabel='romantic', ylabel='score'>"
      ]
     },
     "execution_count": 131,
     "metadata": {},
     "output_type": "execute_result"
    },
    {
     "data": {
      "image/png": "[encoded data removed]",
      "text/plain": [
       "<Figure size 432x288 with 1 Axes>"
      ]
     },
     "metadata": {
      "needs_background": "light"
     },
     "output_type": "display_data"
    }
   ],
   "source": [
    "sns.boxplot(x='romantic', y='score', data=studying)"
   ]
  },
  {
   "cell_type": "markdown",
   "metadata": {},
   "source": [
    "### Ну тут можно сказать, что успеваемость немного выше у тех, у кого романтических отношений нету\n",
    "\n",
    "## Посмотрим как на успеваемость влияет наличие свободного времени после школы"
   ]
  },
  {
   "cell_type": "code",
   "execution_count": 132,
   "metadata": {},
   "outputs": [
    {
     "data": {
      "text/plain": [
       "3.0    152\n",
       "4.0    110\n",
       "2.0     63\n",
       "5.0     37\n",
       "1.0     18\n",
       "nan      9\n",
       "Name: freetime, dtype: int64"
      ]
     },
     "execution_count": 132,
     "metadata": {},
     "output_type": "execute_result"
    }
   ],
   "source": [
    "none_function('freetime')\n",
    "count_values('freetime')"
   ]
  },
  {
   "cell_type": "code",
   "execution_count": 139,
   "metadata": {},
   "outputs": [
    {
     "data": {
      "text/plain": [
       "3.0"
      ]
     },
     "execution_count": 139,
     "metadata": {},
     "output_type": "execute_result"
    }
   ],
   "source": [
    "# nan-значения заменим на медианные: \n",
    "studying['freetime'].median()"
   ]
  },
  {
   "cell_type": "code",
   "execution_count": 277,
   "metadata": {},
   "outputs": [],
   "source": [
    "studying.loc[studying['freetime']=='nan', 'freetime']=3.0\n",
    "studying.freetime.value_counts()\n",
    "studying.freetime=studying.freetime.astype(float)"
   ]
  },
  {
   "cell_type": "code",
   "execution_count": 278,
   "metadata": {},
   "outputs": [
    {
     "data": {
      "text/plain": [
       "<AxesSubplot:xlabel='freetime', ylabel='score'>"
      ]
     },
     "execution_count": 278,
     "metadata": {},
     "output_type": "execute_result"
    },
    {
     "data": {
      "image/png": "[encoded data removed]",
      "text/plain": [
       "<Figure size 432x288 with 1 Axes>"
      ]
     },
     "metadata": {
      "needs_background": "light"
     },
     "output_type": "display_data"
    }
   ],
   "source": [
    "sns.boxplot(x='freetime', y='score', data=studying)"
   ]
  },
  {
   "cell_type": "markdown",
   "metadata": {},
   "source": [
    "### Стоит отметить, что особо выделяется категория учеников, у которых  мало свободного времени - успеваемость у них явно ниже, чем у остальных. Категории 3-5 очень похожи, категория учеников, у которых всего 2 часа свободного времени справляется немного лучше остальных, что видно по уровню медианы, а также границ выбросов\n",
    "\n",
    "## Посмотрим как на успеваемость влияет проведение времени с друзьями: "
   ]
  },
  {
   "cell_type": "code",
   "execution_count": 272,
   "metadata": {},
   "outputs": [
    {
     "data": {
      "text/plain": [
       "[23, 51, 81, 101, 133]"
      ]
     },
     "execution_count": 272,
     "metadata": {},
     "output_type": "execute_result"
    }
   ],
   "source": [
    "none_function('goout')\n",
    "studying.goout.value_counts()"
   ]
  },
  {
   "cell_type": "code",
   "execution_count": 275,
   "metadata": {},
   "outputs": [],
   "source": [
    "# Заменим nan-значения на моду:\n",
    "studying.loc[studying['goout']=='nan', 'goout']=3.0\n",
    "studying.goout = studying.goout.astype(float)"
   ]
  },
  {
   "cell_type": "code",
   "execution_count": 276,
   "metadata": {},
   "outputs": [
    {
     "data": {
      "text/plain": [
       "<AxesSubplot:xlabel='goout', ylabel='score'>"
      ]
     },
     "execution_count": 276,
     "metadata": {},
     "output_type": "execute_result"
    },
    {
     "data": {
      "image/png": "[encoded data removed]",
      "text/plain": [
       "<Figure size 432x288 with 1 Axes>"
      ]
     },
     "metadata": {
      "needs_background": "light"
     },
     "output_type": "display_data"
    }
   ],
   "source": [
    "sns.boxplot(x='goout', y='score', data=studying) "
   ]
  },
  {
   "cell_type": "markdown",
   "metadata": {},
   "source": [
    "### Интересный результат. Если ученик проводит с друзьями слишком мало времени (значение 1), это сказывается на его обучении, баллы по математике ниже, чем если он проводит с друзьями чуть больше времени (значение 2). Но если количество времени, которое ученик проводит с друзьями слишком велико, то его баллы снижаются. Делу время - потехе час :) \n",
    "\n",
    "## Посмотрим так же как на результат влияет состояние здоровья: "
   ]
  },
  {
   "cell_type": "code",
   "execution_count": 154,
   "metadata": {},
   "outputs": [
    {
     "data": {
      "text/plain": [
       "5.0    137\n",
       "3.0     88\n",
       "4.0     60\n",
       "1.0     47\n",
       "2.0     42\n",
       "nan     15\n",
       "Name: health, dtype: int64"
      ]
     },
     "execution_count": 154,
     "metadata": {},
     "output_type": "execute_result"
    }
   ],
   "source": [
    "none_function('health')\n",
    "count_values('health')"
   ]
  },
  {
   "cell_type": "code",
   "execution_count": 155,
   "metadata": {},
   "outputs": [],
   "source": [
    "# Заменим отсутствующие значения на моду: \n",
    "studying.loc[studying['health']=='nan', 'health']=5.0"
   ]
  },
  {
   "cell_type": "code",
   "execution_count": 270,
   "metadata": {},
   "outputs": [
    {
     "data": {
      "text/plain": [
       "[1.0,\n",
       " 1.0,\n",
       " 1.0,\n",
       " 1.0,\n",
       " 1.0,\n",
       " 1.0,\n",
       " 1.0,\n",
       " 1.0,\n",
       " 1.0,\n",
       " 1.0,\n",
       " 1.0,\n",
       " 1.0,\n",
       " 1.0,\n",
       " 1.0,\n",
       " 1.0,\n",
       " 1.0,\n",
       " 1.0,\n",
       " 1.0,\n",
       " 1.0,\n",
       " 1.0,\n",
       " 1.0,\n",
       " 1.0,\n",
       " 1.0,\n",
       " 1.0,\n",
       " 1.0,\n",
       " 1.0,\n",
       " 1.0,\n",
       " 1.0,\n",
       " 1.0,\n",
       " 1.0,\n",
       " 1.0,\n",
       " 1.0,\n",
       " 1.0,\n",
       " 1.0,\n",
       " 1.0,\n",
       " 1.0,\n",
       " 1.0,\n",
       " 1.0,\n",
       " 1.0,\n",
       " 1.0,\n",
       " 1.0,\n",
       " 1.0,\n",
       " 1.0,\n",
       " 1.0,\n",
       " 1.0,\n",
       " 1.0,\n",
       " 1.0,\n",
       " 2.0,\n",
       " 2.0,\n",
       " 2.0,\n",
       " 2.0,\n",
       " 2.0,\n",
       " 2.0,\n",
       " 2.0,\n",
       " 2.0,\n",
       " 2.0,\n",
       " 2.0,\n",
       " 2.0,\n",
       " 2.0,\n",
       " 2.0,\n",
       " 2.0,\n",
       " 2.0,\n",
       " 2.0,\n",
       " 2.0,\n",
       " 2.0,\n",
       " 2.0,\n",
       " 2.0,\n",
       " 2.0,\n",
       " 2.0,\n",
       " 2.0,\n",
       " 2.0,\n",
       " 2.0,\n",
       " 2.0,\n",
       " 2.0,\n",
       " 2.0,\n",
       " 2.0,\n",
       " 2.0,\n",
       " 2.0,\n",
       " 2.0,\n",
       " 2.0,\n",
       " 2.0,\n",
       " 2.0,\n",
       " 2.0,\n",
       " 2.0,\n",
       " 2.0,\n",
       " 2.0,\n",
       " 2.0,\n",
       " 2.0,\n",
       " 2.0,\n",
       " 3.0,\n",
       " 3.0,\n",
       " 3.0,\n",
       " 3.0,\n",
       " 3.0,\n",
       " 3.0,\n",
       " 3.0,\n",
       " 3.0,\n",
       " 3.0,\n",
       " 3.0,\n",
       " 3.0,\n",
       " 3.0,\n",
       " 3.0,\n",
       " 3.0,\n",
       " 3.0,\n",
       " 3.0,\n",
       " 3.0,\n",
       " 3.0,\n",
       " 3.0,\n",
       " 3.0,\n",
       " 3.0,\n",
       " 3.0,\n",
       " 3.0,\n",
       " 3.0,\n",
       " 3.0,\n",
       " 3.0,\n",
       " 3.0,\n",
       " 3.0,\n",
       " 3.0,\n",
       " 3.0,\n",
       " 3.0,\n",
       " 3.0,\n",
       " 3.0,\n",
       " 3.0,\n",
       " 3.0,\n",
       " 3.0,\n",
       " 3.0,\n",
       " 3.0,\n",
       " 3.0,\n",
       " 3.0,\n",
       " 3.0,\n",
       " 3.0,\n",
       " 3.0,\n",
       " 3.0,\n",
       " 3.0,\n",
       " 3.0,\n",
       " 3.0,\n",
       " 3.0,\n",
       " 3.0,\n",
       " 3.0,\n",
       " 3.0,\n",
       " 3.0,\n",
       " 3.0,\n",
       " 3.0,\n",
       " 3.0,\n",
       " 3.0,\n",
       " 3.0,\n",
       " 3.0,\n",
       " 3.0,\n",
       " 3.0,\n",
       " 3.0,\n",
       " 3.0,\n",
       " 3.0,\n",
       " 3.0,\n",
       " 3.0,\n",
       " 3.0,\n",
       " 3.0,\n",
       " 3.0,\n",
       " 3.0,\n",
       " 3.0,\n",
       " 3.0,\n",
       " 3.0,\n",
       " 3.0,\n",
       " 3.0,\n",
       " 3.0,\n",
       " 3.0,\n",
       " 3.0,\n",
       " 3.0,\n",
       " 3.0,\n",
       " 3.0,\n",
       " 3.0,\n",
       " 3.0,\n",
       " 3.0,\n",
       " 3.0,\n",
       " 3.0,\n",
       " 3.0,\n",
       " 3.0,\n",
       " 3.0,\n",
       " 4.0,\n",
       " 4.0,\n",
       " 4.0,\n",
       " 4.0,\n",
       " 4.0,\n",
       " 4.0,\n",
       " 4.0,\n",
       " 4.0,\n",
       " 4.0,\n",
       " 4.0,\n",
       " 4.0,\n",
       " 4.0,\n",
       " 4.0,\n",
       " 4.0,\n",
       " 4.0,\n",
       " 4.0,\n",
       " 4.0,\n",
       " 4.0,\n",
       " 4.0,\n",
       " 4.0,\n",
       " 4.0,\n",
       " 4.0,\n",
       " 4.0,\n",
       " 4.0,\n",
       " 4.0,\n",
       " 4.0,\n",
       " 4.0,\n",
       " 4.0,\n",
       " 4.0,\n",
       " 4.0,\n",
       " 4.0,\n",
       " 4.0,\n",
       " 4.0,\n",
       " 4.0,\n",
       " 4.0,\n",
       " 4.0,\n",
       " 4.0,\n",
       " 4.0,\n",
       " 4.0,\n",
       " 4.0,\n",
       " 4.0,\n",
       " 4.0,\n",
       " 4.0,\n",
       " 4.0,\n",
       " 4.0,\n",
       " 4.0,\n",
       " 4.0,\n",
       " 4.0,\n",
       " 4.0,\n",
       " 4.0,\n",
       " 4.0,\n",
       " 4.0,\n",
       " 4.0,\n",
       " 4.0,\n",
       " 4.0,\n",
       " 4.0,\n",
       " 4.0,\n",
       " 4.0,\n",
       " 4.0,\n",
       " 4.0,\n",
       " 5.0,\n",
       " 5.0,\n",
       " 5.0,\n",
       " 5.0,\n",
       " 5.0,\n",
       " 5.0,\n",
       " 5.0,\n",
       " 5.0,\n",
       " 5.0,\n",
       " 5.0,\n",
       " 5.0,\n",
       " 5.0,\n",
       " 5.0,\n",
       " 5.0,\n",
       " 5.0,\n",
       " 5.0,\n",
       " 5.0,\n",
       " 5.0,\n",
       " 5.0,\n",
       " 5.0,\n",
       " 5.0,\n",
       " 5.0,\n",
       " 5.0,\n",
       " 5.0,\n",
       " 5.0,\n",
       " 5.0,\n",
       " 5.0,\n",
       " 5.0,\n",
       " 5.0,\n",
       " 5.0,\n",
       " 5.0,\n",
       " 5.0,\n",
       " 5.0,\n",
       " 5.0,\n",
       " 5.0,\n",
       " 5.0,\n",
       " 5.0,\n",
       " 5.0,\n",
       " 5.0,\n",
       " 5.0,\n",
       " 5.0,\n",
       " 5.0,\n",
       " 5.0,\n",
       " 5.0,\n",
       " 5.0,\n",
       " 5.0,\n",
       " 5.0,\n",
       " 5.0,\n",
       " 5.0,\n",
       " 5.0,\n",
       " 5.0,\n",
       " 5.0,\n",
       " 5.0,\n",
       " 5.0,\n",
       " 5.0,\n",
       " 5.0,\n",
       " 5.0,\n",
       " 5.0,\n",
       " 5.0,\n",
       " 5.0,\n",
       " 5.0,\n",
       " 5.0,\n",
       " 5.0,\n",
       " 5.0,\n",
       " 5.0,\n",
       " 5.0,\n",
       " 5.0,\n",
       " 5.0,\n",
       " 5.0,\n",
       " 5.0,\n",
       " 5.0,\n",
       " 5.0,\n",
       " 5.0,\n",
       " 5.0,\n",
       " 5.0,\n",
       " 5.0,\n",
       " 5.0,\n",
       " 5.0,\n",
       " 5.0,\n",
       " 5.0,\n",
       " 5.0,\n",
       " 5.0,\n",
       " 5.0,\n",
       " 5.0,\n",
       " 5.0,\n",
       " 5.0,\n",
       " 5.0,\n",
       " 5.0,\n",
       " 5.0,\n",
       " 5.0,\n",
       " 5.0,\n",
       " 5.0,\n",
       " 5.0,\n",
       " 5.0,\n",
       " 5.0,\n",
       " 5.0,\n",
       " 5.0,\n",
       " 5.0,\n",
       " 5.0,\n",
       " 5.0,\n",
       " 5.0,\n",
       " 5.0,\n",
       " 5.0,\n",
       " 5.0,\n",
       " 5.0,\n",
       " 5.0,\n",
       " 5.0,\n",
       " 5.0,\n",
       " 5.0,\n",
       " 5.0,\n",
       " 5.0,\n",
       " 5.0,\n",
       " 5.0,\n",
       " 5.0,\n",
       " 5.0,\n",
       " 5.0,\n",
       " 5.0,\n",
       " 5.0,\n",
       " 5.0,\n",
       " 5.0,\n",
       " 5.0,\n",
       " 5.0,\n",
       " 5.0,\n",
       " 5.0,\n",
       " 5.0,\n",
       " 5.0,\n",
       " 5.0,\n",
       " 5.0,\n",
       " 5.0,\n",
       " 5.0,\n",
       " 5.0,\n",
       " 5.0,\n",
       " 5.0,\n",
       " 5.0,\n",
       " 5.0,\n",
       " 5.0,\n",
       " 5.0,\n",
       " 5.0,\n",
       " 5.0,\n",
       " 5.0,\n",
       " 5.0,\n",
       " 5.0,\n",
       " 5.0,\n",
       " 5.0,\n",
       " 5.0,\n",
       " 5.0,\n",
       " 5.0,\n",
       " 5.0,\n",
       " 5.0,\n",
       " 5.0,\n",
       " 5.0,\n",
       " 5.0]"
      ]
     },
     "execution_count": 270,
     "metadata": {},
     "output_type": "execute_result"
    }
   ],
   "source": [
    "sorted(studying['health'])"
   ]
  },
  {
   "cell_type": "code",
   "execution_count": 271,
   "metadata": {},
   "outputs": [
    {
     "data": {
      "text/plain": [
       "<AxesSubplot:xlabel='health', ylabel='score'>"
      ]
     },
     "execution_count": 271,
     "metadata": {},
     "output_type": "execute_result"
    },
    {
     "data": {
      "image/png": "[encoded data removed]",
      "text/plain": [
       "<Figure size 432x288 with 1 Axes>"
      ]
     },
     "metadata": {
      "needs_background": "light"
     },
     "output_type": "display_data"
    }
   ],
   "source": [
    "sns.boxplot(x='health', y='score', data=studying)"
   ]
  },
  {
   "cell_type": "markdown",
   "metadata": {},
   "source": [
    "### Видим спадную зависимость: чем хуже здоровье, тем лучше баллы по математике."
   ]
  },
  {
   "cell_type": "markdown",
   "metadata": {},
   "source": [
    "## Ну и уберем пропуски в значении absences, используя медианное значение:"
   ]
  },
  {
   "cell_type": "code",
   "execution_count": 158,
   "metadata": {},
   "outputs": [
    {
     "data": {
      "text/plain": [
       "4.0"
      ]
     },
     "execution_count": 158,
     "metadata": {},
     "output_type": "execute_result"
    }
   ],
   "source": [
    "none_function('absences')\n",
    "studying.absences.median()"
   ]
  },
  {
   "cell_type": "code",
   "execution_count": 159,
   "metadata": {},
   "outputs": [],
   "source": [
    "studying.loc[studying['absences']=='nan', 'absences']=4.0"
   ]
  },
  {
   "cell_type": "markdown",
   "metadata": {},
   "source": [
    "# Мы исследовали все переменные, убрали пропуски. Посмотрим снова на наш датасет:"
   ]
  },
  {
   "cell_type": "code",
   "execution_count": 160,
   "metadata": {},
   "outputs": [
    {
     "name": "stdout",
     "output_type": "stream",
     "text": [
      "<class 'pandas.core.frame.DataFrame'>\n",
      "Int64Index: 389 entries, 0 to 394\n",
      "Data columns (total 30 columns):\n",
      " #   Column               Non-Null Count  Dtype  \n",
      "---  ------               --------------  -----  \n",
      " 0   school               389 non-null    object \n",
      " 1   sex                  389 non-null    object \n",
      " 2   age                  389 non-null    int64  \n",
      " 3   address              389 non-null    object \n",
      " 4   famsize              389 non-null    object \n",
      " 5   Pstatus              389 non-null    object \n",
      " 6   Medu                 389 non-null    object \n",
      " 7   Fedu                 389 non-null    object \n",
      " 8   Mjob                 389 non-null    object \n",
      " 9   Fjob                 389 non-null    object \n",
      " 10  reason               389 non-null    object \n",
      " 11  guardian             389 non-null    object \n",
      " 12  traveltime           389 non-null    object \n",
      " 13  studytime            389 non-null    object \n",
      " 14  failures             389 non-null    object \n",
      " 15  schoolsup            389 non-null    object \n",
      " 16  famsup               389 non-null    object \n",
      " 17  paid                 389 non-null    object \n",
      " 18  activities           389 non-null    object \n",
      " 19  nursery              389 non-null    object \n",
      " 20  studytime, granular  389 non-null    object \n",
      " 21  higher               389 non-null    object \n",
      " 22  internet             389 non-null    object \n",
      " 23  romantic             389 non-null    object \n",
      " 24  famrel               389 non-null    object \n",
      " 25  freetime             389 non-null    object \n",
      " 26  goout                389 non-null    object \n",
      " 27  health               389 non-null    object \n",
      " 28  absences             389 non-null    object \n",
      " 29  score                389 non-null    float64\n",
      "dtypes: float64(1), int64(1), object(28)\n",
      "memory usage: 104.2+ KB\n"
     ]
    }
   ],
   "source": [
    "studying.info()"
   ]
  },
  {
   "cell_type": "markdown",
   "metadata": {},
   "source": [
    "### Вернем числовой формат нужным колонкам: "
   ]
  },
  {
   "cell_type": "code",
   "execution_count": 161,
   "metadata": {},
   "outputs": [],
   "source": [
    "studying['Medu'] = studying['Medu'].astype(float)\n",
    "studying['Fedu'] = studying['Fedu'].astype(float)\n",
    "studying['traveltime'] = studying['traveltime'].astype(float)\n",
    "studying['studytime'] = studying['studytime'].astype(float)\n",
    "studying['failures'] = studying['failures'].astype(float)\n",
    "studying['studytime, granular'] = studying['studytime, granular'].astype(float)\n",
    "studying['famrel'] = studying['famrel'].astype(float)\n",
    "studying['freetime'] = studying['freetime'].astype(float)\n",
    "studying['goout'] = studying['goout'].astype(float)\n",
    "studying['health'] = studying['health'].astype(float)\n",
    "studying['absences'] = studying['absences'].astype(float)"
   ]
  },
  {
   "cell_type": "markdown",
   "metadata": {},
   "source": [
    "## Теперь устраним выбросы для числовых переменных: "
   ]
  },
  {
   "cell_type": "code",
   "execution_count": 162,
   "metadata": {},
   "outputs": [
    {
     "name": "stdout",
     "output_type": "stream",
     "text": [
      "25-й перцентиль: 16.0, 75-й перцентиль: 18.0, IQR: 2.0,  Границы выбросов: [13.0, 21.0].\n"
     ]
    },
    {
     "data": {
      "text/plain": [
       "<AxesSubplot:xlabel='age'>"
      ]
     },
     "execution_count": 162,
     "metadata": {},
     "output_type": "execute_result"
    },
    {
     "data": {
      "image/png": "[encoded data removed]",
      "text/plain": [
       "<Figure size 432x288 with 1 Axes>"
      ]
     },
     "metadata": {
      "needs_background": "light"
     },
     "output_type": "display_data"
    }
   ],
   "source": [
    "iqr('age')\n",
    "sns.boxplot(x=studying['age']) # ранее было решено возраст в 22 года выбромо не считать) "
   ]
  },
  {
   "cell_type": "markdown",
   "metadata": {},
   "source": [
    "## В переменных Medu, Fedu, traveltime, studytime, failures, studytime, granular, famrel, freetime, goout, health выбросов нету"
   ]
  },
  {
   "cell_type": "code",
   "execution_count": 163,
   "metadata": {},
   "outputs": [
    {
     "name": "stdout",
     "output_type": "stream",
     "text": [
      "25-й перцентиль: 0.0, 75-й перцентиль: 8.0, IQR: 8.0,  Границы выбросов: [-12.0, 20.0].\n"
     ]
    },
    {
     "data": {
      "text/plain": [
       "<AxesSubplot:xlabel='absences'>"
      ]
     },
     "execution_count": 163,
     "metadata": {},
     "output_type": "execute_result"
    },
    {
     "data": {
      "image/png": "[encoded data removed]",
      "text/plain": [
       "<Figure size 432x288 with 1 Axes>"
      ]
     },
     "metadata": {
      "needs_background": "light"
     },
     "output_type": "display_data"
    }
   ],
   "source": [
    "iqr('absences')\n",
    "sns.boxplot(x=studying['absences'])"
   ]
  },
  {
   "cell_type": "markdown",
   "metadata": {},
   "source": [
    "### Ну в случае с переменной пропусков, избавимся от выбросов путем приравнивания их к верхней границе "
   ]
  },
  {
   "cell_type": "code",
   "execution_count": 164,
   "metadata": {},
   "outputs": [],
   "source": [
    "studying.loc[studying['absences']>20, 'absences'] = 20"
   ]
  },
  {
   "cell_type": "code",
   "execution_count": 165,
   "metadata": {},
   "outputs": [
    {
     "name": "stdout",
     "output_type": "stream",
     "text": [
      "25-й перцентиль: 0.0, 75-й перцентиль: 8.0, IQR: 8.0,  Границы выбросов: [-12.0, 20.0].\n"
     ]
    },
    {
     "data": {
      "text/plain": [
       "<AxesSubplot:xlabel='absences'>"
      ]
     },
     "execution_count": 165,
     "metadata": {},
     "output_type": "execute_result"
    },
    {
     "data": {
      "image/png": "[encoded data removed]",
      "text/plain": [
       "<Figure size 432x288 with 1 Axes>"
      ]
     },
     "metadata": {
      "needs_background": "light"
     },
     "output_type": "display_data"
    }
   ],
   "source": [
    "iqr('absences')\n",
    "\n",
    "sns.boxplot(x=studying['absences'])"
   ]
  },
  {
   "cell_type": "markdown",
   "metadata": {},
   "source": [
    "### Посмотрим на целевую переменную: "
   ]
  },
  {
   "cell_type": "code",
   "execution_count": 166,
   "metadata": {},
   "outputs": [
    {
     "name": "stdout",
     "output_type": "stream",
     "text": [
      "25-й перцентиль: 40.0, 75-й перцентиль: 70.0, IQR: 30.0,  Границы выбросов: [-5.0, 115.0].\n"
     ]
    },
    {
     "data": {
      "text/plain": [
       "<AxesSubplot:xlabel='score'>"
      ]
     },
     "execution_count": 166,
     "metadata": {},
     "output_type": "execute_result"
    },
    {
     "data": {
      "image/png": "[encoded data removed]",
      "text/plain": [
       "<Figure size 432x288 with 1 Axes>"
      ]
     },
     "metadata": {
      "needs_background": "light"
     },
     "output_type": "display_data"
    }
   ],
   "source": [
    "iqr('score')\n",
    "sns.boxplot(x=studying['score'])"
   ]
  },
  {
   "cell_type": "markdown",
   "metadata": {},
   "source": [
    "## Посмотрим таблицу корреляций числовых переменных: "
   ]
  },
  {
   "cell_type": "code",
   "execution_count": 167,
   "metadata": {},
   "outputs": [
    {
     "data": {
      "text/html": [
       "<div>\n",
       "<style scoped>\n",
       "    .dataframe tbody tr th:only-of-type {\n",
       "        vertical-align: middle;\n",
       "    }\n",
       "\n",
       "    .dataframe tbody tr th {\n",
       "        vertical-align: top;\n",
       "    }\n",
       "\n",
       "    .dataframe thead th {\n",
       "        text-align: right;\n",
       "    }\n",
       "</style>\n",
       "<table border=\"1\" class=\"dataframe\">\n",
       "  <thead>\n",
       "    <tr style=\"text-align: right;\">\n",
       "      <th></th>\n",
       "      <th>age</th>\n",
       "      <th>Medu</th>\n",
       "      <th>Fedu</th>\n",
       "      <th>traveltime</th>\n",
       "      <th>studytime</th>\n",
       "      <th>failures</th>\n",
       "      <th>studytime, granular</th>\n",
       "      <th>famrel</th>\n",
       "      <th>freetime</th>\n",
       "      <th>goout</th>\n",
       "      <th>health</th>\n",
       "      <th>absences</th>\n",
       "      <th>score</th>\n",
       "    </tr>\n",
       "  </thead>\n",
       "  <tbody>\n",
       "    <tr>\n",
       "      <th>age</th>\n",
       "      <td>1.000000</td>\n",
       "      <td>-0.146405</td>\n",
       "      <td>-0.143849</td>\n",
       "      <td>0.070212</td>\n",
       "      <td>-0.018019</td>\n",
       "      <td>0.206279</td>\n",
       "      <td>0.018019</td>\n",
       "      <td>0.056941</td>\n",
       "      <td>0.013994</td>\n",
       "      <td>0.121057</td>\n",
       "      <td>-0.061752</td>\n",
       "      <td>0.192897</td>\n",
       "      <td>-0.155726</td>\n",
       "    </tr>\n",
       "    <tr>\n",
       "      <th>Medu</th>\n",
       "      <td>-0.146405</td>\n",
       "      <td>1.000000</td>\n",
       "      <td>0.589360</td>\n",
       "      <td>-0.149258</td>\n",
       "      <td>0.079513</td>\n",
       "      <td>-0.239668</td>\n",
       "      <td>-0.079513</td>\n",
       "      <td>-0.003566</td>\n",
       "      <td>0.037699</td>\n",
       "      <td>0.071235</td>\n",
       "      <td>-0.067791</td>\n",
       "      <td>0.098201</td>\n",
       "      <td>0.209758</td>\n",
       "    </tr>\n",
       "    <tr>\n",
       "      <th>Fedu</th>\n",
       "      <td>-0.143849</td>\n",
       "      <td>0.589360</td>\n",
       "      <td>1.000000</td>\n",
       "      <td>-0.109999</td>\n",
       "      <td>0.011723</td>\n",
       "      <td>-0.260794</td>\n",
       "      <td>-0.011723</td>\n",
       "      <td>-0.015492</td>\n",
       "      <td>-0.022669</td>\n",
       "      <td>0.046401</td>\n",
       "      <td>-0.015777</td>\n",
       "      <td>0.019381</td>\n",
       "      <td>0.124829</td>\n",
       "    </tr>\n",
       "    <tr>\n",
       "      <th>traveltime</th>\n",
       "      <td>0.070212</td>\n",
       "      <td>-0.149258</td>\n",
       "      <td>-0.109999</td>\n",
       "      <td>1.000000</td>\n",
       "      <td>-0.102979</td>\n",
       "      <td>0.086399</td>\n",
       "      <td>0.102979</td>\n",
       "      <td>0.002038</td>\n",
       "      <td>-0.041205</td>\n",
       "      <td>0.044696</td>\n",
       "      <td>0.004051</td>\n",
       "      <td>-0.028489</td>\n",
       "      <td>-0.106562</td>\n",
       "    </tr>\n",
       "    <tr>\n",
       "      <th>studytime</th>\n",
       "      <td>-0.018019</td>\n",
       "      <td>0.079513</td>\n",
       "      <td>0.011723</td>\n",
       "      <td>-0.102979</td>\n",
       "      <td>1.000000</td>\n",
       "      <td>-0.169399</td>\n",
       "      <td>-1.000000</td>\n",
       "      <td>0.037950</td>\n",
       "      <td>-0.122057</td>\n",
       "      <td>-0.053554</td>\n",
       "      <td>-0.063876</td>\n",
       "      <td>-0.082602</td>\n",
       "      <td>0.114295</td>\n",
       "    </tr>\n",
       "    <tr>\n",
       "      <th>failures</th>\n",
       "      <td>0.206279</td>\n",
       "      <td>-0.239668</td>\n",
       "      <td>-0.260794</td>\n",
       "      <td>0.086399</td>\n",
       "      <td>-0.169399</td>\n",
       "      <td>1.000000</td>\n",
       "      <td>0.169399</td>\n",
       "      <td>-0.028517</td>\n",
       "      <td>0.087558</td>\n",
       "      <td>0.101036</td>\n",
       "      <td>0.079030</td>\n",
       "      <td>0.100804</td>\n",
       "      <td>-0.337187</td>\n",
       "    </tr>\n",
       "    <tr>\n",
       "      <th>studytime, granular</th>\n",
       "      <td>0.018019</td>\n",
       "      <td>-0.079513</td>\n",
       "      <td>-0.011723</td>\n",
       "      <td>0.102979</td>\n",
       "      <td>-1.000000</td>\n",
       "      <td>0.169399</td>\n",
       "      <td>1.000000</td>\n",
       "      <td>-0.037950</td>\n",
       "      <td>0.122057</td>\n",
       "      <td>0.053554</td>\n",
       "      <td>0.063876</td>\n",
       "      <td>0.082602</td>\n",
       "      <td>-0.114295</td>\n",
       "    </tr>\n",
       "    <tr>\n",
       "      <th>famrel</th>\n",
       "      <td>0.056941</td>\n",
       "      <td>-0.003566</td>\n",
       "      <td>-0.015492</td>\n",
       "      <td>0.002038</td>\n",
       "      <td>0.037950</td>\n",
       "      <td>-0.028517</td>\n",
       "      <td>-0.037950</td>\n",
       "      <td>1.000000</td>\n",
       "      <td>0.164830</td>\n",
       "      <td>0.069514</td>\n",
       "      <td>0.093256</td>\n",
       "      <td>-0.085939</td>\n",
       "      <td>0.052902</td>\n",
       "    </tr>\n",
       "    <tr>\n",
       "      <th>freetime</th>\n",
       "      <td>0.013994</td>\n",
       "      <td>0.037699</td>\n",
       "      <td>-0.022669</td>\n",
       "      <td>-0.041205</td>\n",
       "      <td>-0.122057</td>\n",
       "      <td>0.087558</td>\n",
       "      <td>0.122057</td>\n",
       "      <td>0.164830</td>\n",
       "      <td>1.000000</td>\n",
       "      <td>0.294450</td>\n",
       "      <td>0.067629</td>\n",
       "      <td>0.003876</td>\n",
       "      <td>0.017481</td>\n",
       "    </tr>\n",
       "    <tr>\n",
       "      <th>goout</th>\n",
       "      <td>0.121057</td>\n",
       "      <td>0.071235</td>\n",
       "      <td>0.046401</td>\n",
       "      <td>0.044696</td>\n",
       "      <td>-0.053554</td>\n",
       "      <td>0.101036</td>\n",
       "      <td>0.053554</td>\n",
       "      <td>0.069514</td>\n",
       "      <td>0.294450</td>\n",
       "      <td>1.000000</td>\n",
       "      <td>-0.015108</td>\n",
       "      <td>0.084490</td>\n",
       "      <td>-0.127742</td>\n",
       "    </tr>\n",
       "    <tr>\n",
       "      <th>health</th>\n",
       "      <td>-0.061752</td>\n",
       "      <td>-0.067791</td>\n",
       "      <td>-0.015777</td>\n",
       "      <td>0.004051</td>\n",
       "      <td>-0.063876</td>\n",
       "      <td>0.079030</td>\n",
       "      <td>0.063876</td>\n",
       "      <td>0.093256</td>\n",
       "      <td>0.067629</td>\n",
       "      <td>-0.015108</td>\n",
       "      <td>1.000000</td>\n",
       "      <td>-0.049303</td>\n",
       "      <td>-0.080583</td>\n",
       "    </tr>\n",
       "    <tr>\n",
       "      <th>absences</th>\n",
       "      <td>0.192897</td>\n",
       "      <td>0.098201</td>\n",
       "      <td>0.019381</td>\n",
       "      <td>-0.028489</td>\n",
       "      <td>-0.082602</td>\n",
       "      <td>0.100804</td>\n",
       "      <td>0.082602</td>\n",
       "      <td>-0.085939</td>\n",
       "      <td>0.003876</td>\n",
       "      <td>0.084490</td>\n",
       "      <td>-0.049303</td>\n",
       "      <td>1.000000</td>\n",
       "      <td>0.068007</td>\n",
       "    </tr>\n",
       "    <tr>\n",
       "      <th>score</th>\n",
       "      <td>-0.155726</td>\n",
       "      <td>0.209758</td>\n",
       "      <td>0.124829</td>\n",
       "      <td>-0.106562</td>\n",
       "      <td>0.114295</td>\n",
       "      <td>-0.337187</td>\n",
       "      <td>-0.114295</td>\n",
       "      <td>0.052902</td>\n",
       "      <td>0.017481</td>\n",
       "      <td>-0.127742</td>\n",
       "      <td>-0.080583</td>\n",
       "      <td>0.068007</td>\n",
       "      <td>1.000000</td>\n",
       "    </tr>\n",
       "  </tbody>\n",
       "</table>\n",
       "</div>"
      ],
      "text/plain": [
       "                          age      Medu      Fedu  traveltime  studytime  \\\n",
       "age                  1.000000 -0.146405 -0.143849    0.070212  -0.018019   \n",
       "Medu                -0.146405  1.000000  0.589360   -0.149258   0.079513   \n",
       "Fedu                -0.143849  0.589360  1.000000   -0.109999   0.011723   \n",
       "traveltime           0.070212 -0.149258 -0.109999    1.000000  -0.102979   \n",
       "studytime           -0.018019  0.079513  0.011723   -0.102979   1.000000   \n",
       "failures             0.206279 -0.239668 -0.260794    0.086399  -0.169399   \n",
       "studytime, granular  0.018019 -0.079513 -0.011723    0.102979  -1.000000   \n",
       "famrel               0.056941 -0.003566 -0.015492    0.002038   0.037950   \n",
       "freetime             0.013994  0.037699 -0.022669   -0.041205  -0.122057   \n",
       "goout                0.121057  0.071235  0.046401    0.044696  -0.053554   \n",
       "health              -0.061752 -0.067791 -0.015777    0.004051  -0.063876   \n",
       "absences             0.192897  0.098201  0.019381   -0.028489  -0.082602   \n",
       "score               -0.155726  0.209758  0.124829   -0.106562   0.114295   \n",
       "\n",
       "                     failures  studytime, granular    famrel  freetime  \\\n",
       "age                  0.206279             0.018019  0.056941  0.013994   \n",
       "Medu                -0.239668            -0.079513 -0.003566  0.037699   \n",
       "Fedu                -0.260794            -0.011723 -0.015492 -0.022669   \n",
       "traveltime           0.086399             0.102979  0.002038 -0.041205   \n",
       "studytime           -0.169399            -1.000000  0.037950 -0.122057   \n",
       "failures             1.000000             0.169399 -0.028517  0.087558   \n",
       "studytime, granular  0.169399             1.000000 -0.037950  0.122057   \n",
       "famrel              -0.028517            -0.037950  1.000000  0.164830   \n",
       "freetime             0.087558             0.122057  0.164830  1.000000   \n",
       "goout                0.101036             0.053554  0.069514  0.294450   \n",
       "health               0.079030             0.063876  0.093256  0.067629   \n",
       "absences             0.100804             0.082602 -0.085939  0.003876   \n",
       "score               -0.337187            -0.114295  0.052902  0.017481   \n",
       "\n",
       "                        goout    health  absences     score  \n",
       "age                  0.121057 -0.061752  0.192897 -0.155726  \n",
       "Medu                 0.071235 -0.067791  0.098201  0.209758  \n",
       "Fedu                 0.046401 -0.015777  0.019381  0.124829  \n",
       "traveltime           0.044696  0.004051 -0.028489 -0.106562  \n",
       "studytime           -0.053554 -0.063876 -0.082602  0.114295  \n",
       "failures             0.101036  0.079030  0.100804 -0.337187  \n",
       "studytime, granular  0.053554  0.063876  0.082602 -0.114295  \n",
       "famrel               0.069514  0.093256 -0.085939  0.052902  \n",
       "freetime             0.294450  0.067629  0.003876  0.017481  \n",
       "goout                1.000000 -0.015108  0.084490 -0.127742  \n",
       "health              -0.015108  1.000000 -0.049303 -0.080583  \n",
       "absences             0.084490 -0.049303  1.000000  0.068007  \n",
       "score               -0.127742 -0.080583  0.068007  1.000000  "
      ]
     },
     "execution_count": 167,
     "metadata": {},
     "output_type": "execute_result"
    }
   ],
   "source": [
    "studying.corr()"
   ]
  },
  {
   "cell_type": "markdown",
   "metadata": {},
   "source": [
    "## Корреляции признаков с оценками\n",
    "### По матрице корреляций можно сказать, что наибольшая зависимость оценок от числовых показателей - это негативная зависимость между показателями failures и score - то есть, при возникновении количества неудач вне учебы, успеваемость учеников падает. Хотя этот показатель составляет всего лишь -0.33. После него наиболее сильная линейная зависимость наблюдается между фактором образования матери и оценкой ребенка - чем выше образование, тем успешнее ребенок в математике. Но снова-таки, эта зависимость составляет всего лишь 0.2. ДалееБ можно отметить что с возрастом успеваемость падает (корреляция -0.15). Также, при увеличении количества время провождения с друзьями, успеваемость также падает. Стоит отметить, что переменная studytime, granular - это всего лишь обратная переменная от studytime, по модулю у них одинаковая корреляция, поэтому этот показатель можно удалить. Стоит также отметить, что образование отца на успеваемость тоже влияет положительно, но очень незначительно (корреляция 0.12) "
   ]
  },
  {
   "cell_type": "markdown",
   "metadata": {},
   "source": [
    "## Корреляции между признаками\n",
    "### Наиболее коррелируют (0.58) показатели образования отца и матери, что свидетельствует о том, что они находятся на одинаковом уровне (как минимум образования). Корреляция между признаками goout и freetime тоже понятна, при этом показатель freetime вообще не влияет на оценку. Также, стоит отметить, что между неудачами ребенка и образованием родителей существует обратная связь: то есть, чем выше уровень образования родителей, тем меньше уровень неудач, который случается с ребенком. Но при этом существует положительная зависимость между возрастом ученика и уровнем неудач."
   ]
  },
  {
   "cell_type": "markdown",
   "metadata": {},
   "source": [
    "### Удалим столбец studytime, granular: "
   ]
  },
  {
   "cell_type": "code",
   "execution_count": 168,
   "metadata": {},
   "outputs": [],
   "source": [
    "studying.drop(['studytime, granular'], inplace = True, axis = 1)"
   ]
  },
  {
   "cell_type": "markdown",
   "metadata": {},
   "source": [
    "### Несмотря на то, что остальные столбцы не очень значимы, удалять мы их не будем, поскольку вполне возможно, что между данными присутствует зависимость, но не линейная"
   ]
  },
  {
   "cell_type": "markdown",
   "metadata": {},
   "source": [
    "## Сделаем dummy-переменные: "
   ]
  },
  {
   "cell_type": "code",
   "execution_count": 246,
   "metadata": {},
   "outputs": [
    {
     "data": {
      "text/html": [
       "<div>\n",
       "<style scoped>\n",
       "    .dataframe tbody tr th:only-of-type {\n",
       "        vertical-align: middle;\n",
       "    }\n",
       "\n",
       "    .dataframe tbody tr th {\n",
       "        vertical-align: top;\n",
       "    }\n",
       "\n",
       "    .dataframe thead th {\n",
       "        text-align: right;\n",
       "    }\n",
       "</style>\n",
       "<table border=\"1\" class=\"dataframe\">\n",
       "  <thead>\n",
       "    <tr style=\"text-align: right;\">\n",
       "      <th></th>\n",
       "      <th>school</th>\n",
       "      <th>age</th>\n",
       "      <th>address</th>\n",
       "      <th>famsize</th>\n",
       "      <th>Pstatus</th>\n",
       "      <th>Medu</th>\n",
       "      <th>Fedu</th>\n",
       "      <th>Mjob</th>\n",
       "      <th>Fjob</th>\n",
       "      <th>reason</th>\n",
       "      <th>guardian</th>\n",
       "      <th>traveltime</th>\n",
       "      <th>studytime</th>\n",
       "      <th>failures</th>\n",
       "      <th>schoolsup</th>\n",
       "      <th>famsup</th>\n",
       "      <th>paid</th>\n",
       "      <th>activities</th>\n",
       "      <th>nursery</th>\n",
       "      <th>higher</th>\n",
       "      <th>internet</th>\n",
       "      <th>romantic</th>\n",
       "      <th>famrel</th>\n",
       "      <th>freetime</th>\n",
       "      <th>goout</th>\n",
       "      <th>health</th>\n",
       "      <th>absences</th>\n",
       "      <th>score</th>\n",
       "      <th>sex_F</th>\n",
       "      <th>sex_M</th>\n",
       "    </tr>\n",
       "  </thead>\n",
       "  <tbody>\n",
       "    <tr>\n",
       "      <th>0</th>\n",
       "      <td>GP</td>\n",
       "      <td>18</td>\n",
       "      <td>U</td>\n",
       "      <td>GT3</td>\n",
       "      <td>A</td>\n",
       "      <td>4.0</td>\n",
       "      <td>4.0</td>\n",
       "      <td>at_home</td>\n",
       "      <td>teacher</td>\n",
       "      <td>course</td>\n",
       "      <td>mother</td>\n",
       "      <td>2.0</td>\n",
       "      <td>2.0</td>\n",
       "      <td>0.0</td>\n",
       "      <td>yes</td>\n",
       "      <td>no</td>\n",
       "      <td>no</td>\n",
       "      <td>no</td>\n",
       "      <td>yes</td>\n",
       "      <td>yes</td>\n",
       "      <td>yes</td>\n",
       "      <td>no</td>\n",
       "      <td>4.0</td>\n",
       "      <td>3.0</td>\n",
       "      <td>4.0</td>\n",
       "      <td>3.0</td>\n",
       "      <td>6.0</td>\n",
       "      <td>30.0</td>\n",
       "      <td>1</td>\n",
       "      <td>0</td>\n",
       "    </tr>\n",
       "    <tr>\n",
       "      <th>1</th>\n",
       "      <td>GP</td>\n",
       "      <td>17</td>\n",
       "      <td>U</td>\n",
       "      <td>GT3</td>\n",
       "      <td>T</td>\n",
       "      <td>1.0</td>\n",
       "      <td>1.0</td>\n",
       "      <td>at_home</td>\n",
       "      <td>other</td>\n",
       "      <td>course</td>\n",
       "      <td>father</td>\n",
       "      <td>1.0</td>\n",
       "      <td>2.0</td>\n",
       "      <td>0.0</td>\n",
       "      <td>no</td>\n",
       "      <td>yes</td>\n",
       "      <td>no</td>\n",
       "      <td>no</td>\n",
       "      <td>no</td>\n",
       "      <td>yes</td>\n",
       "      <td>yes</td>\n",
       "      <td>no</td>\n",
       "      <td>5.0</td>\n",
       "      <td>3.0</td>\n",
       "      <td>3.0</td>\n",
       "      <td>3.0</td>\n",
       "      <td>4.0</td>\n",
       "      <td>30.0</td>\n",
       "      <td>1</td>\n",
       "      <td>0</td>\n",
       "    </tr>\n",
       "    <tr>\n",
       "      <th>2</th>\n",
       "      <td>GP</td>\n",
       "      <td>15</td>\n",
       "      <td>U</td>\n",
       "      <td>LE3</td>\n",
       "      <td>T</td>\n",
       "      <td>1.0</td>\n",
       "      <td>1.0</td>\n",
       "      <td>at_home</td>\n",
       "      <td>other</td>\n",
       "      <td>other</td>\n",
       "      <td>mother</td>\n",
       "      <td>1.0</td>\n",
       "      <td>2.0</td>\n",
       "      <td>3.0</td>\n",
       "      <td>yes</td>\n",
       "      <td>no</td>\n",
       "      <td>yes</td>\n",
       "      <td>no</td>\n",
       "      <td>yes</td>\n",
       "      <td>yes</td>\n",
       "      <td>yes</td>\n",
       "      <td>no</td>\n",
       "      <td>4.0</td>\n",
       "      <td>3.0</td>\n",
       "      <td>2.0</td>\n",
       "      <td>3.0</td>\n",
       "      <td>10.0</td>\n",
       "      <td>50.0</td>\n",
       "      <td>1</td>\n",
       "      <td>0</td>\n",
       "    </tr>\n",
       "    <tr>\n",
       "      <th>3</th>\n",
       "      <td>GP</td>\n",
       "      <td>15</td>\n",
       "      <td>U</td>\n",
       "      <td>GT3</td>\n",
       "      <td>T</td>\n",
       "      <td>4.0</td>\n",
       "      <td>2.0</td>\n",
       "      <td>health</td>\n",
       "      <td>other</td>\n",
       "      <td>home</td>\n",
       "      <td>mother</td>\n",
       "      <td>1.0</td>\n",
       "      <td>3.0</td>\n",
       "      <td>0.0</td>\n",
       "      <td>no</td>\n",
       "      <td>yes</td>\n",
       "      <td>yes</td>\n",
       "      <td>yes</td>\n",
       "      <td>yes</td>\n",
       "      <td>yes</td>\n",
       "      <td>yes</td>\n",
       "      <td>yes</td>\n",
       "      <td>3.0</td>\n",
       "      <td>2.0</td>\n",
       "      <td>2.0</td>\n",
       "      <td>5.0</td>\n",
       "      <td>2.0</td>\n",
       "      <td>75.0</td>\n",
       "      <td>1</td>\n",
       "      <td>0</td>\n",
       "    </tr>\n",
       "    <tr>\n",
       "      <th>4</th>\n",
       "      <td>GP</td>\n",
       "      <td>16</td>\n",
       "      <td>U</td>\n",
       "      <td>GT3</td>\n",
       "      <td>T</td>\n",
       "      <td>3.0</td>\n",
       "      <td>3.0</td>\n",
       "      <td>other</td>\n",
       "      <td>other</td>\n",
       "      <td>home</td>\n",
       "      <td>father</td>\n",
       "      <td>1.0</td>\n",
       "      <td>2.0</td>\n",
       "      <td>0.0</td>\n",
       "      <td>no</td>\n",
       "      <td>yes</td>\n",
       "      <td>yes</td>\n",
       "      <td>no</td>\n",
       "      <td>yes</td>\n",
       "      <td>yes</td>\n",
       "      <td>no</td>\n",
       "      <td>no</td>\n",
       "      <td>4.0</td>\n",
       "      <td>3.0</td>\n",
       "      <td>2.0</td>\n",
       "      <td>5.0</td>\n",
       "      <td>4.0</td>\n",
       "      <td>50.0</td>\n",
       "      <td>1</td>\n",
       "      <td>0</td>\n",
       "    </tr>\n",
       "    <tr>\n",
       "      <th>...</th>\n",
       "      <td>...</td>\n",
       "      <td>...</td>\n",
       "      <td>...</td>\n",
       "      <td>...</td>\n",
       "      <td>...</td>\n",
       "      <td>...</td>\n",
       "      <td>...</td>\n",
       "      <td>...</td>\n",
       "      <td>...</td>\n",
       "      <td>...</td>\n",
       "      <td>...</td>\n",
       "      <td>...</td>\n",
       "      <td>...</td>\n",
       "      <td>...</td>\n",
       "      <td>...</td>\n",
       "      <td>...</td>\n",
       "      <td>...</td>\n",
       "      <td>...</td>\n",
       "      <td>...</td>\n",
       "      <td>...</td>\n",
       "      <td>...</td>\n",
       "      <td>...</td>\n",
       "      <td>...</td>\n",
       "      <td>...</td>\n",
       "      <td>...</td>\n",
       "      <td>...</td>\n",
       "      <td>...</td>\n",
       "      <td>...</td>\n",
       "      <td>...</td>\n",
       "      <td>...</td>\n",
       "    </tr>\n",
       "    <tr>\n",
       "      <th>390</th>\n",
       "      <td>MS</td>\n",
       "      <td>20</td>\n",
       "      <td>U</td>\n",
       "      <td>LE3</td>\n",
       "      <td>A</td>\n",
       "      <td>2.0</td>\n",
       "      <td>2.0</td>\n",
       "      <td>services</td>\n",
       "      <td>services</td>\n",
       "      <td>course</td>\n",
       "      <td>mother</td>\n",
       "      <td>1.0</td>\n",
       "      <td>2.0</td>\n",
       "      <td>2.0</td>\n",
       "      <td>no</td>\n",
       "      <td>yes</td>\n",
       "      <td>yes</td>\n",
       "      <td>no</td>\n",
       "      <td>yes</td>\n",
       "      <td>yes</td>\n",
       "      <td>no</td>\n",
       "      <td>no</td>\n",
       "      <td>5.0</td>\n",
       "      <td>5.0</td>\n",
       "      <td>4.0</td>\n",
       "      <td>4.0</td>\n",
       "      <td>20.0</td>\n",
       "      <td>45.0</td>\n",
       "      <td>0</td>\n",
       "      <td>1</td>\n",
       "    </tr>\n",
       "    <tr>\n",
       "      <th>391</th>\n",
       "      <td>MS</td>\n",
       "      <td>17</td>\n",
       "      <td>U</td>\n",
       "      <td>LE3</td>\n",
       "      <td>T</td>\n",
       "      <td>3.0</td>\n",
       "      <td>1.0</td>\n",
       "      <td>services</td>\n",
       "      <td>services</td>\n",
       "      <td>course</td>\n",
       "      <td>mother</td>\n",
       "      <td>2.0</td>\n",
       "      <td>1.0</td>\n",
       "      <td>0.0</td>\n",
       "      <td>no</td>\n",
       "      <td>no</td>\n",
       "      <td>no</td>\n",
       "      <td>no</td>\n",
       "      <td>no</td>\n",
       "      <td>yes</td>\n",
       "      <td>yes</td>\n",
       "      <td>no</td>\n",
       "      <td>2.0</td>\n",
       "      <td>4.0</td>\n",
       "      <td>5.0</td>\n",
       "      <td>2.0</td>\n",
       "      <td>3.0</td>\n",
       "      <td>80.0</td>\n",
       "      <td>0</td>\n",
       "      <td>1</td>\n",
       "    </tr>\n",
       "    <tr>\n",
       "      <th>392</th>\n",
       "      <td>MS</td>\n",
       "      <td>21</td>\n",
       "      <td>R</td>\n",
       "      <td>GT3</td>\n",
       "      <td>T</td>\n",
       "      <td>1.0</td>\n",
       "      <td>1.0</td>\n",
       "      <td>other</td>\n",
       "      <td>other</td>\n",
       "      <td>course</td>\n",
       "      <td>mother</td>\n",
       "      <td>1.0</td>\n",
       "      <td>1.0</td>\n",
       "      <td>3.0</td>\n",
       "      <td>no</td>\n",
       "      <td>no</td>\n",
       "      <td>no</td>\n",
       "      <td>no</td>\n",
       "      <td>no</td>\n",
       "      <td>yes</td>\n",
       "      <td>no</td>\n",
       "      <td>no</td>\n",
       "      <td>5.0</td>\n",
       "      <td>5.0</td>\n",
       "      <td>3.0</td>\n",
       "      <td>3.0</td>\n",
       "      <td>3.0</td>\n",
       "      <td>35.0</td>\n",
       "      <td>0</td>\n",
       "      <td>1</td>\n",
       "    </tr>\n",
       "    <tr>\n",
       "      <th>393</th>\n",
       "      <td>MS</td>\n",
       "      <td>18</td>\n",
       "      <td>R</td>\n",
       "      <td>LE3</td>\n",
       "      <td>T</td>\n",
       "      <td>3.0</td>\n",
       "      <td>2.0</td>\n",
       "      <td>services</td>\n",
       "      <td>other</td>\n",
       "      <td>course</td>\n",
       "      <td>mother</td>\n",
       "      <td>3.0</td>\n",
       "      <td>1.0</td>\n",
       "      <td>0.0</td>\n",
       "      <td>no</td>\n",
       "      <td>no</td>\n",
       "      <td>no</td>\n",
       "      <td>no</td>\n",
       "      <td>no</td>\n",
       "      <td>yes</td>\n",
       "      <td>yes</td>\n",
       "      <td>no</td>\n",
       "      <td>4.0</td>\n",
       "      <td>4.0</td>\n",
       "      <td>1.0</td>\n",
       "      <td>5.0</td>\n",
       "      <td>0.0</td>\n",
       "      <td>50.0</td>\n",
       "      <td>0</td>\n",
       "      <td>1</td>\n",
       "    </tr>\n",
       "    <tr>\n",
       "      <th>394</th>\n",
       "      <td>MS</td>\n",
       "      <td>19</td>\n",
       "      <td>U</td>\n",
       "      <td>LE3</td>\n",
       "      <td>T</td>\n",
       "      <td>1.0</td>\n",
       "      <td>1.0</td>\n",
       "      <td>other</td>\n",
       "      <td>at_home</td>\n",
       "      <td>course</td>\n",
       "      <td>father</td>\n",
       "      <td>1.0</td>\n",
       "      <td>1.0</td>\n",
       "      <td>0.0</td>\n",
       "      <td>no</td>\n",
       "      <td>no</td>\n",
       "      <td>no</td>\n",
       "      <td>no</td>\n",
       "      <td>yes</td>\n",
       "      <td>yes</td>\n",
       "      <td>yes</td>\n",
       "      <td>no</td>\n",
       "      <td>3.0</td>\n",
       "      <td>2.0</td>\n",
       "      <td>3.0</td>\n",
       "      <td>5.0</td>\n",
       "      <td>5.0</td>\n",
       "      <td>45.0</td>\n",
       "      <td>0</td>\n",
       "      <td>1</td>\n",
       "    </tr>\n",
       "  </tbody>\n",
       "</table>\n",
       "<p>389 rows × 30 columns</p>\n",
       "</div>"
      ],
      "text/plain": [
       "    school  age address famsize Pstatus  Medu  Fedu      Mjob      Fjob  \\\n",
       "0       GP   18       U     GT3       A   4.0   4.0   at_home   teacher   \n",
       "1       GP   17       U     GT3       T   1.0   1.0   at_home     other   \n",
       "2       GP   15       U     LE3       T   1.0   1.0   at_home     other   \n",
       "3       GP   15       U     GT3       T   4.0   2.0    health     other   \n",
       "4       GP   16       U     GT3       T   3.0   3.0     other     other   \n",
       "..     ...  ...     ...     ...     ...   ...   ...       ...       ...   \n",
       "390     MS   20       U     LE3       A   2.0   2.0  services  services   \n",
       "391     MS   17       U     LE3       T   3.0   1.0  services  services   \n",
       "392     MS   21       R     GT3       T   1.0   1.0     other     other   \n",
       "393     MS   18       R     LE3       T   3.0   2.0  services     other   \n",
       "394     MS   19       U     LE3       T   1.0   1.0     other   at_home   \n",
       "\n",
       "     reason guardian  traveltime  studytime  failures schoolsup famsup paid  \\\n",
       "0    course   mother         2.0        2.0       0.0       yes     no   no   \n",
       "1    course   father         1.0        2.0       0.0        no    yes   no   \n",
       "2     other   mother         1.0        2.0       3.0       yes     no  yes   \n",
       "3      home   mother         1.0        3.0       0.0        no    yes  yes   \n",
       "4      home   father         1.0        2.0       0.0        no    yes  yes   \n",
       "..      ...      ...         ...        ...       ...       ...    ...  ...   \n",
       "390  course   mother         1.0        2.0       2.0        no    yes  yes   \n",
       "391  course   mother         2.0        1.0       0.0        no     no   no   \n",
       "392  course   mother         1.0        1.0       3.0        no     no   no   \n",
       "393  course   mother         3.0        1.0       0.0        no     no   no   \n",
       "394  course   father         1.0        1.0       0.0        no     no   no   \n",
       "\n",
       "    activities nursery higher internet romantic  famrel  freetime  goout  \\\n",
       "0           no     yes    yes      yes       no     4.0       3.0    4.0   \n",
       "1           no      no    yes      yes       no     5.0       3.0    3.0   \n",
       "2           no     yes    yes      yes       no     4.0       3.0    2.0   \n",
       "3          yes     yes    yes      yes      yes     3.0       2.0    2.0   \n",
       "4           no     yes    yes       no       no     4.0       3.0    2.0   \n",
       "..         ...     ...    ...      ...      ...     ...       ...    ...   \n",
       "390         no     yes    yes       no       no     5.0       5.0    4.0   \n",
       "391         no      no    yes      yes       no     2.0       4.0    5.0   \n",
       "392         no      no    yes       no       no     5.0       5.0    3.0   \n",
       "393         no      no    yes      yes       no     4.0       4.0    1.0   \n",
       "394         no     yes    yes      yes       no     3.0       2.0    3.0   \n",
       "\n",
       "     health  absences  score  sex_F  sex_M  \n",
       "0       3.0       6.0   30.0      1      0  \n",
       "1       3.0       4.0   30.0      1      0  \n",
       "2       3.0      10.0   50.0      1      0  \n",
       "3       5.0       2.0   75.0      1      0  \n",
       "4       5.0       4.0   50.0      1      0  \n",
       "..      ...       ...    ...    ...    ...  \n",
       "390     4.0      20.0   45.0      0      1  \n",
       "391     2.0       3.0   80.0      0      1  \n",
       "392     3.0       3.0   35.0      0      1  \n",
       "393     5.0       0.0   50.0      0      1  \n",
       "394     5.0       5.0   45.0      0      1  \n",
       "\n",
       "[389 rows x 30 columns]"
      ]
     },
     "execution_count": 246,
     "metadata": {},
     "output_type": "execute_result"
    }
   ],
   "source": [
    "studying_dummies= pd.get_dummies(studying, columns = ['sex'])\n",
    "studying_dummies"
   ]
  },
  {
   "cell_type": "code",
   "execution_count": 247,
   "metadata": {},
   "outputs": [],
   "source": [
    "studying_dummies = pd.get_dummies(studying_dummies, columns = ['school'])"
   ]
  },
  {
   "cell_type": "code",
   "execution_count": 248,
   "metadata": {},
   "outputs": [],
   "source": [
    "studying_dummies = pd.get_dummies(studying_dummies, columns = ['address'])"
   ]
  },
  {
   "cell_type": "code",
   "execution_count": 249,
   "metadata": {},
   "outputs": [],
   "source": [
    "studying_dummies = pd.get_dummies(studying_dummies, columns = ['famsize'])"
   ]
  },
  {
   "cell_type": "code",
   "execution_count": 250,
   "metadata": {},
   "outputs": [],
   "source": [
    "studying_dummies = pd.get_dummies(studying_dummies, columns = ['Pstatus'])"
   ]
  },
  {
   "cell_type": "code",
   "execution_count": 251,
   "metadata": {},
   "outputs": [],
   "source": [
    "studying_dummies = pd.get_dummies(studying_dummies, columns = ['schoolsup'])"
   ]
  },
  {
   "cell_type": "code",
   "execution_count": 252,
   "metadata": {},
   "outputs": [],
   "source": [
    "studying_dummies = pd.get_dummies(studying_dummies, columns = ['famsup'])"
   ]
  },
  {
   "cell_type": "code",
   "execution_count": 253,
   "metadata": {},
   "outputs": [],
   "source": [
    "studying_dummies = pd.get_dummies(studying_dummies, columns = ['paid'])"
   ]
  },
  {
   "cell_type": "code",
   "execution_count": 254,
   "metadata": {},
   "outputs": [],
   "source": [
    "studying_dummies = pd.get_dummies(studying_dummies, columns = ['activities'])"
   ]
  },
  {
   "cell_type": "code",
   "execution_count": 255,
   "metadata": {},
   "outputs": [],
   "source": [
    "studying_dummies = pd.get_dummies(studying_dummies, columns = ['nursery'])"
   ]
  },
  {
   "cell_type": "code",
   "execution_count": 256,
   "metadata": {},
   "outputs": [],
   "source": [
    "studying_dummies = pd.get_dummies(studying_dummies, columns = ['higher'])"
   ]
  },
  {
   "cell_type": "code",
   "execution_count": 257,
   "metadata": {},
   "outputs": [],
   "source": [
    "studying_dummies = pd.get_dummies(studying_dummies, columns = ['internet'])"
   ]
  },
  {
   "cell_type": "code",
   "execution_count": 258,
   "metadata": {},
   "outputs": [],
   "source": [
    "studying_dummies = pd.get_dummies(studying_dummies, columns = ['romantic'])"
   ]
  },
  {
   "cell_type": "code",
   "execution_count": 259,
   "metadata": {},
   "outputs": [
    {
     "data": {
      "text/html": [
       "<div>\n",
       "<style scoped>\n",
       "    .dataframe tbody tr th:only-of-type {\n",
       "        vertical-align: middle;\n",
       "    }\n",
       "\n",
       "    .dataframe tbody tr th {\n",
       "        vertical-align: top;\n",
       "    }\n",
       "\n",
       "    .dataframe thead th {\n",
       "        text-align: right;\n",
       "    }\n",
       "</style>\n",
       "<table border=\"1\" class=\"dataframe\">\n",
       "  <thead>\n",
       "    <tr style=\"text-align: right;\">\n",
       "      <th></th>\n",
       "      <th>age</th>\n",
       "      <th>Medu</th>\n",
       "      <th>Fedu</th>\n",
       "      <th>Mjob</th>\n",
       "      <th>Fjob</th>\n",
       "      <th>reason</th>\n",
       "      <th>guardian</th>\n",
       "      <th>traveltime</th>\n",
       "      <th>studytime</th>\n",
       "      <th>failures</th>\n",
       "      <th>famrel</th>\n",
       "      <th>freetime</th>\n",
       "      <th>goout</th>\n",
       "      <th>health</th>\n",
       "      <th>absences</th>\n",
       "      <th>score</th>\n",
       "      <th>sex_F</th>\n",
       "      <th>sex_M</th>\n",
       "      <th>school_GP</th>\n",
       "      <th>school_MS</th>\n",
       "      <th>address_R</th>\n",
       "      <th>address_U</th>\n",
       "      <th>famsize_GT3</th>\n",
       "      <th>famsize_LE3</th>\n",
       "      <th>Pstatus_A</th>\n",
       "      <th>Pstatus_T</th>\n",
       "      <th>schoolsup_no</th>\n",
       "      <th>schoolsup_yes</th>\n",
       "      <th>famsup_no</th>\n",
       "      <th>famsup_yes</th>\n",
       "      <th>paid_no</th>\n",
       "      <th>paid_yes</th>\n",
       "      <th>activities_no</th>\n",
       "      <th>activities_yes</th>\n",
       "      <th>nursery_no</th>\n",
       "      <th>nursery_yes</th>\n",
       "      <th>higher_no</th>\n",
       "      <th>higher_yes</th>\n",
       "      <th>internet_no</th>\n",
       "      <th>internet_yes</th>\n",
       "      <th>romantic_no</th>\n",
       "      <th>romantic_yes</th>\n",
       "    </tr>\n",
       "  </thead>\n",
       "  <tbody>\n",
       "    <tr>\n",
       "      <th>0</th>\n",
       "      <td>18</td>\n",
       "      <td>4.0</td>\n",
       "      <td>4.0</td>\n",
       "      <td>at_home</td>\n",
       "      <td>teacher</td>\n",
       "      <td>course</td>\n",
       "      <td>mother</td>\n",
       "      <td>2.0</td>\n",
       "      <td>2.0</td>\n",
       "      <td>0.0</td>\n",
       "      <td>4.0</td>\n",
       "      <td>3.0</td>\n",
       "      <td>4.0</td>\n",
       "      <td>3.0</td>\n",
       "      <td>6.0</td>\n",
       "      <td>30.0</td>\n",
       "      <td>1</td>\n",
       "      <td>0</td>\n",
       "      <td>1</td>\n",
       "      <td>0</td>\n",
       "      <td>0</td>\n",
       "      <td>1</td>\n",
       "      <td>1</td>\n",
       "      <td>0</td>\n",
       "      <td>1</td>\n",
       "      <td>0</td>\n",
       "      <td>0</td>\n",
       "      <td>1</td>\n",
       "      <td>1</td>\n",
       "      <td>0</td>\n",
       "      <td>1</td>\n",
       "      <td>0</td>\n",
       "      <td>1</td>\n",
       "      <td>0</td>\n",
       "      <td>0</td>\n",
       "      <td>1</td>\n",
       "      <td>0</td>\n",
       "      <td>1</td>\n",
       "      <td>0</td>\n",
       "      <td>1</td>\n",
       "      <td>1</td>\n",
       "      <td>0</td>\n",
       "    </tr>\n",
       "    <tr>\n",
       "      <th>1</th>\n",
       "      <td>17</td>\n",
       "      <td>1.0</td>\n",
       "      <td>1.0</td>\n",
       "      <td>at_home</td>\n",
       "      <td>other</td>\n",
       "      <td>course</td>\n",
       "      <td>father</td>\n",
       "      <td>1.0</td>\n",
       "      <td>2.0</td>\n",
       "      <td>0.0</td>\n",
       "      <td>5.0</td>\n",
       "      <td>3.0</td>\n",
       "      <td>3.0</td>\n",
       "      <td>3.0</td>\n",
       "      <td>4.0</td>\n",
       "      <td>30.0</td>\n",
       "      <td>1</td>\n",
       "      <td>0</td>\n",
       "      <td>1</td>\n",
       "      <td>0</td>\n",
       "      <td>0</td>\n",
       "      <td>1</td>\n",
       "      <td>1</td>\n",
       "      <td>0</td>\n",
       "      <td>0</td>\n",
       "      <td>1</td>\n",
       "      <td>1</td>\n",
       "      <td>0</td>\n",
       "      <td>0</td>\n",
       "      <td>1</td>\n",
       "      <td>1</td>\n",
       "      <td>0</td>\n",
       "      <td>1</td>\n",
       "      <td>0</td>\n",
       "      <td>1</td>\n",
       "      <td>0</td>\n",
       "      <td>0</td>\n",
       "      <td>1</td>\n",
       "      <td>0</td>\n",
       "      <td>1</td>\n",
       "      <td>1</td>\n",
       "      <td>0</td>\n",
       "    </tr>\n",
       "    <tr>\n",
       "      <th>2</th>\n",
       "      <td>15</td>\n",
       "      <td>1.0</td>\n",
       "      <td>1.0</td>\n",
       "      <td>at_home</td>\n",
       "      <td>other</td>\n",
       "      <td>other</td>\n",
       "      <td>mother</td>\n",
       "      <td>1.0</td>\n",
       "      <td>2.0</td>\n",
       "      <td>3.0</td>\n",
       "      <td>4.0</td>\n",
       "      <td>3.0</td>\n",
       "      <td>2.0</td>\n",
       "      <td>3.0</td>\n",
       "      <td>10.0</td>\n",
       "      <td>50.0</td>\n",
       "      <td>1</td>\n",
       "      <td>0</td>\n",
       "      <td>1</td>\n",
       "      <td>0</td>\n",
       "      <td>0</td>\n",
       "      <td>1</td>\n",
       "      <td>0</td>\n",
       "      <td>1</td>\n",
       "      <td>0</td>\n",
       "      <td>1</td>\n",
       "      <td>0</td>\n",
       "      <td>1</td>\n",
       "      <td>1</td>\n",
       "      <td>0</td>\n",
       "      <td>0</td>\n",
       "      <td>1</td>\n",
       "      <td>1</td>\n",
       "      <td>0</td>\n",
       "      <td>0</td>\n",
       "      <td>1</td>\n",
       "      <td>0</td>\n",
       "      <td>1</td>\n",
       "      <td>0</td>\n",
       "      <td>1</td>\n",
       "      <td>1</td>\n",
       "      <td>0</td>\n",
       "    </tr>\n",
       "    <tr>\n",
       "      <th>3</th>\n",
       "      <td>15</td>\n",
       "      <td>4.0</td>\n",
       "      <td>2.0</td>\n",
       "      <td>health</td>\n",
       "      <td>other</td>\n",
       "      <td>home</td>\n",
       "      <td>mother</td>\n",
       "      <td>1.0</td>\n",
       "      <td>3.0</td>\n",
       "      <td>0.0</td>\n",
       "      <td>3.0</td>\n",
       "      <td>2.0</td>\n",
       "      <td>2.0</td>\n",
       "      <td>5.0</td>\n",
       "      <td>2.0</td>\n",
       "      <td>75.0</td>\n",
       "      <td>1</td>\n",
       "      <td>0</td>\n",
       "      <td>1</td>\n",
       "      <td>0</td>\n",
       "      <td>0</td>\n",
       "      <td>1</td>\n",
       "      <td>1</td>\n",
       "      <td>0</td>\n",
       "      <td>0</td>\n",
       "      <td>1</td>\n",
       "      <td>1</td>\n",
       "      <td>0</td>\n",
       "      <td>0</td>\n",
       "      <td>1</td>\n",
       "      <td>0</td>\n",
       "      <td>1</td>\n",
       "      <td>0</td>\n",
       "      <td>1</td>\n",
       "      <td>0</td>\n",
       "      <td>1</td>\n",
       "      <td>0</td>\n",
       "      <td>1</td>\n",
       "      <td>0</td>\n",
       "      <td>1</td>\n",
       "      <td>0</td>\n",
       "      <td>1</td>\n",
       "    </tr>\n",
       "    <tr>\n",
       "      <th>4</th>\n",
       "      <td>16</td>\n",
       "      <td>3.0</td>\n",
       "      <td>3.0</td>\n",
       "      <td>other</td>\n",
       "      <td>other</td>\n",
       "      <td>home</td>\n",
       "      <td>father</td>\n",
       "      <td>1.0</td>\n",
       "      <td>2.0</td>\n",
       "      <td>0.0</td>\n",
       "      <td>4.0</td>\n",
       "      <td>3.0</td>\n",
       "      <td>2.0</td>\n",
       "      <td>5.0</td>\n",
       "      <td>4.0</td>\n",
       "      <td>50.0</td>\n",
       "      <td>1</td>\n",
       "      <td>0</td>\n",
       "      <td>1</td>\n",
       "      <td>0</td>\n",
       "      <td>0</td>\n",
       "      <td>1</td>\n",
       "      <td>1</td>\n",
       "      <td>0</td>\n",
       "      <td>0</td>\n",
       "      <td>1</td>\n",
       "      <td>1</td>\n",
       "      <td>0</td>\n",
       "      <td>0</td>\n",
       "      <td>1</td>\n",
       "      <td>0</td>\n",
       "      <td>1</td>\n",
       "      <td>1</td>\n",
       "      <td>0</td>\n",
       "      <td>0</td>\n",
       "      <td>1</td>\n",
       "      <td>0</td>\n",
       "      <td>1</td>\n",
       "      <td>1</td>\n",
       "      <td>0</td>\n",
       "      <td>1</td>\n",
       "      <td>0</td>\n",
       "    </tr>\n",
       "    <tr>\n",
       "      <th>...</th>\n",
       "      <td>...</td>\n",
       "      <td>...</td>\n",
       "      <td>...</td>\n",
       "      <td>...</td>\n",
       "      <td>...</td>\n",
       "      <td>...</td>\n",
       "      <td>...</td>\n",
       "      <td>...</td>\n",
       "      <td>...</td>\n",
       "      <td>...</td>\n",
       "      <td>...</td>\n",
       "      <td>...</td>\n",
       "      <td>...</td>\n",
       "      <td>...</td>\n",
       "      <td>...</td>\n",
       "      <td>...</td>\n",
       "      <td>...</td>\n",
       "      <td>...</td>\n",
       "      <td>...</td>\n",
       "      <td>...</td>\n",
       "      <td>...</td>\n",
       "      <td>...</td>\n",
       "      <td>...</td>\n",
       "      <td>...</td>\n",
       "      <td>...</td>\n",
       "      <td>...</td>\n",
       "      <td>...</td>\n",
       "      <td>...</td>\n",
       "      <td>...</td>\n",
       "      <td>...</td>\n",
       "      <td>...</td>\n",
       "      <td>...</td>\n",
       "      <td>...</td>\n",
       "      <td>...</td>\n",
       "      <td>...</td>\n",
       "      <td>...</td>\n",
       "      <td>...</td>\n",
       "      <td>...</td>\n",
       "      <td>...</td>\n",
       "      <td>...</td>\n",
       "      <td>...</td>\n",
       "      <td>...</td>\n",
       "    </tr>\n",
       "    <tr>\n",
       "      <th>390</th>\n",
       "      <td>20</td>\n",
       "      <td>2.0</td>\n",
       "      <td>2.0</td>\n",
       "      <td>services</td>\n",
       "      <td>services</td>\n",
       "      <td>course</td>\n",
       "      <td>mother</td>\n",
       "      <td>1.0</td>\n",
       "      <td>2.0</td>\n",
       "      <td>2.0</td>\n",
       "      <td>5.0</td>\n",
       "      <td>5.0</td>\n",
       "      <td>4.0</td>\n",
       "      <td>4.0</td>\n",
       "      <td>20.0</td>\n",
       "      <td>45.0</td>\n",
       "      <td>0</td>\n",
       "      <td>1</td>\n",
       "      <td>0</td>\n",
       "      <td>1</td>\n",
       "      <td>0</td>\n",
       "      <td>1</td>\n",
       "      <td>0</td>\n",
       "      <td>1</td>\n",
       "      <td>1</td>\n",
       "      <td>0</td>\n",
       "      <td>1</td>\n",
       "      <td>0</td>\n",
       "      <td>0</td>\n",
       "      <td>1</td>\n",
       "      <td>0</td>\n",
       "      <td>1</td>\n",
       "      <td>1</td>\n",
       "      <td>0</td>\n",
       "      <td>0</td>\n",
       "      <td>1</td>\n",
       "      <td>0</td>\n",
       "      <td>1</td>\n",
       "      <td>1</td>\n",
       "      <td>0</td>\n",
       "      <td>1</td>\n",
       "      <td>0</td>\n",
       "    </tr>\n",
       "    <tr>\n",
       "      <th>391</th>\n",
       "      <td>17</td>\n",
       "      <td>3.0</td>\n",
       "      <td>1.0</td>\n",
       "      <td>services</td>\n",
       "      <td>services</td>\n",
       "      <td>course</td>\n",
       "      <td>mother</td>\n",
       "      <td>2.0</td>\n",
       "      <td>1.0</td>\n",
       "      <td>0.0</td>\n",
       "      <td>2.0</td>\n",
       "      <td>4.0</td>\n",
       "      <td>5.0</td>\n",
       "      <td>2.0</td>\n",
       "      <td>3.0</td>\n",
       "      <td>80.0</td>\n",
       "      <td>0</td>\n",
       "      <td>1</td>\n",
       "      <td>0</td>\n",
       "      <td>1</td>\n",
       "      <td>0</td>\n",
       "      <td>1</td>\n",
       "      <td>0</td>\n",
       "      <td>1</td>\n",
       "      <td>0</td>\n",
       "      <td>1</td>\n",
       "      <td>1</td>\n",
       "      <td>0</td>\n",
       "      <td>1</td>\n",
       "      <td>0</td>\n",
       "      <td>1</td>\n",
       "      <td>0</td>\n",
       "      <td>1</td>\n",
       "      <td>0</td>\n",
       "      <td>1</td>\n",
       "      <td>0</td>\n",
       "      <td>0</td>\n",
       "      <td>1</td>\n",
       "      <td>0</td>\n",
       "      <td>1</td>\n",
       "      <td>1</td>\n",
       "      <td>0</td>\n",
       "    </tr>\n",
       "    <tr>\n",
       "      <th>392</th>\n",
       "      <td>21</td>\n",
       "      <td>1.0</td>\n",
       "      <td>1.0</td>\n",
       "      <td>other</td>\n",
       "      <td>other</td>\n",
       "      <td>course</td>\n",
       "      <td>mother</td>\n",
       "      <td>1.0</td>\n",
       "      <td>1.0</td>\n",
       "      <td>3.0</td>\n",
       "      <td>5.0</td>\n",
       "      <td>5.0</td>\n",
       "      <td>3.0</td>\n",
       "      <td>3.0</td>\n",
       "      <td>3.0</td>\n",
       "      <td>35.0</td>\n",
       "      <td>0</td>\n",
       "      <td>1</td>\n",
       "      <td>0</td>\n",
       "      <td>1</td>\n",
       "      <td>1</td>\n",
       "      <td>0</td>\n",
       "      <td>1</td>\n",
       "      <td>0</td>\n",
       "      <td>0</td>\n",
       "      <td>1</td>\n",
       "      <td>1</td>\n",
       "      <td>0</td>\n",
       "      <td>1</td>\n",
       "      <td>0</td>\n",
       "      <td>1</td>\n",
       "      <td>0</td>\n",
       "      <td>1</td>\n",
       "      <td>0</td>\n",
       "      <td>1</td>\n",
       "      <td>0</td>\n",
       "      <td>0</td>\n",
       "      <td>1</td>\n",
       "      <td>1</td>\n",
       "      <td>0</td>\n",
       "      <td>1</td>\n",
       "      <td>0</td>\n",
       "    </tr>\n",
       "    <tr>\n",
       "      <th>393</th>\n",
       "      <td>18</td>\n",
       "      <td>3.0</td>\n",
       "      <td>2.0</td>\n",
       "      <td>services</td>\n",
       "      <td>other</td>\n",
       "      <td>course</td>\n",
       "      <td>mother</td>\n",
       "      <td>3.0</td>\n",
       "      <td>1.0</td>\n",
       "      <td>0.0</td>\n",
       "      <td>4.0</td>\n",
       "      <td>4.0</td>\n",
       "      <td>1.0</td>\n",
       "      <td>5.0</td>\n",
       "      <td>0.0</td>\n",
       "      <td>50.0</td>\n",
       "      <td>0</td>\n",
       "      <td>1</td>\n",
       "      <td>0</td>\n",
       "      <td>1</td>\n",
       "      <td>1</td>\n",
       "      <td>0</td>\n",
       "      <td>0</td>\n",
       "      <td>1</td>\n",
       "      <td>0</td>\n",
       "      <td>1</td>\n",
       "      <td>1</td>\n",
       "      <td>0</td>\n",
       "      <td>1</td>\n",
       "      <td>0</td>\n",
       "      <td>1</td>\n",
       "      <td>0</td>\n",
       "      <td>1</td>\n",
       "      <td>0</td>\n",
       "      <td>1</td>\n",
       "      <td>0</td>\n",
       "      <td>0</td>\n",
       "      <td>1</td>\n",
       "      <td>0</td>\n",
       "      <td>1</td>\n",
       "      <td>1</td>\n",
       "      <td>0</td>\n",
       "    </tr>\n",
       "    <tr>\n",
       "      <th>394</th>\n",
       "      <td>19</td>\n",
       "      <td>1.0</td>\n",
       "      <td>1.0</td>\n",
       "      <td>other</td>\n",
       "      <td>at_home</td>\n",
       "      <td>course</td>\n",
       "      <td>father</td>\n",
       "      <td>1.0</td>\n",
       "      <td>1.0</td>\n",
       "      <td>0.0</td>\n",
       "      <td>3.0</td>\n",
       "      <td>2.0</td>\n",
       "      <td>3.0</td>\n",
       "      <td>5.0</td>\n",
       "      <td>5.0</td>\n",
       "      <td>45.0</td>\n",
       "      <td>0</td>\n",
       "      <td>1</td>\n",
       "      <td>0</td>\n",
       "      <td>1</td>\n",
       "      <td>0</td>\n",
       "      <td>1</td>\n",
       "      <td>0</td>\n",
       "      <td>1</td>\n",
       "      <td>0</td>\n",
       "      <td>1</td>\n",
       "      <td>1</td>\n",
       "      <td>0</td>\n",
       "      <td>1</td>\n",
       "      <td>0</td>\n",
       "      <td>1</td>\n",
       "      <td>0</td>\n",
       "      <td>1</td>\n",
       "      <td>0</td>\n",
       "      <td>0</td>\n",
       "      <td>1</td>\n",
       "      <td>0</td>\n",
       "      <td>1</td>\n",
       "      <td>0</td>\n",
       "      <td>1</td>\n",
       "      <td>1</td>\n",
       "      <td>0</td>\n",
       "    </tr>\n",
       "  </tbody>\n",
       "</table>\n",
       "<p>389 rows × 42 columns</p>\n",
       "</div>"
      ],
      "text/plain": [
       "     age  Medu  Fedu      Mjob      Fjob  reason guardian  traveltime  \\\n",
       "0     18   4.0   4.0   at_home   teacher  course   mother         2.0   \n",
       "1     17   1.0   1.0   at_home     other  course   father         1.0   \n",
       "2     15   1.0   1.0   at_home     other   other   mother         1.0   \n",
       "3     15   4.0   2.0    health     other    home   mother         1.0   \n",
       "4     16   3.0   3.0     other     other    home   father         1.0   \n",
       "..   ...   ...   ...       ...       ...     ...      ...         ...   \n",
       "390   20   2.0   2.0  services  services  course   mother         1.0   \n",
       "391   17   3.0   1.0  services  services  course   mother         2.0   \n",
       "392   21   1.0   1.0     other     other  course   mother         1.0   \n",
       "393   18   3.0   2.0  services     other  course   mother         3.0   \n",
       "394   19   1.0   1.0     other   at_home  course   father         1.0   \n",
       "\n",
       "     studytime  failures  famrel  freetime  goout  health  absences  score  \\\n",
       "0          2.0       0.0     4.0       3.0    4.0     3.0       6.0   30.0   \n",
       "1          2.0       0.0     5.0       3.0    3.0     3.0       4.0   30.0   \n",
       "2          2.0       3.0     4.0       3.0    2.0     3.0      10.0   50.0   \n",
       "3          3.0       0.0     3.0       2.0    2.0     5.0       2.0   75.0   \n",
       "4          2.0       0.0     4.0       3.0    2.0     5.0       4.0   50.0   \n",
       "..         ...       ...     ...       ...    ...     ...       ...    ...   \n",
       "390        2.0       2.0     5.0       5.0    4.0     4.0      20.0   45.0   \n",
       "391        1.0       0.0     2.0       4.0    5.0     2.0       3.0   80.0   \n",
       "392        1.0       3.0     5.0       5.0    3.0     3.0       3.0   35.0   \n",
       "393        1.0       0.0     4.0       4.0    1.0     5.0       0.0   50.0   \n",
       "394        1.0       0.0     3.0       2.0    3.0     5.0       5.0   45.0   \n",
       "\n",
       "     sex_F  sex_M  school_GP  school_MS  address_R  address_U  famsize_GT3  \\\n",
       "0        1      0          1          0          0          1            1   \n",
       "1        1      0          1          0          0          1            1   \n",
       "2        1      0          1          0          0          1            0   \n",
       "3        1      0          1          0          0          1            1   \n",
       "4        1      0          1          0          0          1            1   \n",
       "..     ...    ...        ...        ...        ...        ...          ...   \n",
       "390      0      1          0          1          0          1            0   \n",
       "391      0      1          0          1          0          1            0   \n",
       "392      0      1          0          1          1          0            1   \n",
       "393      0      1          0          1          1          0            0   \n",
       "394      0      1          0          1          0          1            0   \n",
       "\n",
       "     famsize_LE3  Pstatus_A  Pstatus_T  schoolsup_no  schoolsup_yes  \\\n",
       "0              0          1          0             0              1   \n",
       "1              0          0          1             1              0   \n",
       "2              1          0          1             0              1   \n",
       "3              0          0          1             1              0   \n",
       "4              0          0          1             1              0   \n",
       "..           ...        ...        ...           ...            ...   \n",
       "390            1          1          0             1              0   \n",
       "391            1          0          1             1              0   \n",
       "392            0          0          1             1              0   \n",
       "393            1          0          1             1              0   \n",
       "394            1          0          1             1              0   \n",
       "\n",
       "     famsup_no  famsup_yes  paid_no  paid_yes  activities_no  activities_yes  \\\n",
       "0            1           0        1         0              1               0   \n",
       "1            0           1        1         0              1               0   \n",
       "2            1           0        0         1              1               0   \n",
       "3            0           1        0         1              0               1   \n",
       "4            0           1        0         1              1               0   \n",
       "..         ...         ...      ...       ...            ...             ...   \n",
       "390          0           1        0         1              1               0   \n",
       "391          1           0        1         0              1               0   \n",
       "392          1           0        1         0              1               0   \n",
       "393          1           0        1         0              1               0   \n",
       "394          1           0        1         0              1               0   \n",
       "\n",
       "     nursery_no  nursery_yes  higher_no  higher_yes  internet_no  \\\n",
       "0             0            1          0           1            0   \n",
       "1             1            0          0           1            0   \n",
       "2             0            1          0           1            0   \n",
       "3             0            1          0           1            0   \n",
       "4             0            1          0           1            1   \n",
       "..          ...          ...        ...         ...          ...   \n",
       "390           0            1          0           1            1   \n",
       "391           1            0          0           1            0   \n",
       "392           1            0          0           1            1   \n",
       "393           1            0          0           1            0   \n",
       "394           0            1          0           1            0   \n",
       "\n",
       "     internet_yes  romantic_no  romantic_yes  \n",
       "0               1            1             0  \n",
       "1               1            1             0  \n",
       "2               1            1             0  \n",
       "3               1            0             1  \n",
       "4               0            1             0  \n",
       "..            ...          ...           ...  \n",
       "390             0            1             0  \n",
       "391             1            1             0  \n",
       "392             0            1             0  \n",
       "393             1            1             0  \n",
       "394             1            1             0  \n",
       "\n",
       "[389 rows x 42 columns]"
      ]
     },
     "execution_count": 259,
     "metadata": {},
     "output_type": "execute_result"
    }
   ],
   "source": [
    "studying_dummies"
   ]
  },
  {
   "cell_type": "code",
   "execution_count": 260,
   "metadata": {},
   "outputs": [
    {
     "data": {
      "text/html": [
       "<div>\n",
       "<style scoped>\n",
       "    .dataframe tbody tr th:only-of-type {\n",
       "        vertical-align: middle;\n",
       "    }\n",
       "\n",
       "    .dataframe tbody tr th {\n",
       "        vertical-align: top;\n",
       "    }\n",
       "\n",
       "    .dataframe thead th {\n",
       "        text-align: right;\n",
       "    }\n",
       "</style>\n",
       "<table border=\"1\" class=\"dataframe\">\n",
       "  <thead>\n",
       "    <tr style=\"text-align: right;\">\n",
       "      <th></th>\n",
       "      <th>age</th>\n",
       "      <th>Medu</th>\n",
       "      <th>Fedu</th>\n",
       "      <th>traveltime</th>\n",
       "      <th>studytime</th>\n",
       "      <th>failures</th>\n",
       "      <th>famrel</th>\n",
       "      <th>freetime</th>\n",
       "      <th>goout</th>\n",
       "      <th>health</th>\n",
       "      <th>absences</th>\n",
       "      <th>score</th>\n",
       "      <th>sex_F</th>\n",
       "      <th>sex_M</th>\n",
       "      <th>school_GP</th>\n",
       "      <th>school_MS</th>\n",
       "      <th>address_R</th>\n",
       "      <th>address_U</th>\n",
       "      <th>famsize_GT3</th>\n",
       "      <th>famsize_LE3</th>\n",
       "      <th>Pstatus_A</th>\n",
       "      <th>Pstatus_T</th>\n",
       "      <th>schoolsup_no</th>\n",
       "      <th>schoolsup_yes</th>\n",
       "      <th>famsup_no</th>\n",
       "      <th>famsup_yes</th>\n",
       "      <th>paid_no</th>\n",
       "      <th>paid_yes</th>\n",
       "      <th>activities_no</th>\n",
       "      <th>activities_yes</th>\n",
       "      <th>nursery_no</th>\n",
       "      <th>nursery_yes</th>\n",
       "      <th>higher_no</th>\n",
       "      <th>higher_yes</th>\n",
       "      <th>internet_no</th>\n",
       "      <th>internet_yes</th>\n",
       "      <th>romantic_no</th>\n",
       "      <th>romantic_yes</th>\n",
       "    </tr>\n",
       "  </thead>\n",
       "  <tbody>\n",
       "    <tr>\n",
       "      <th>age</th>\n",
       "      <td>1.000000</td>\n",
       "      <td>-0.146405</td>\n",
       "      <td>-0.143849</td>\n",
       "      <td>0.070212</td>\n",
       "      <td>-0.018019</td>\n",
       "      <td>0.206279</td>\n",
       "      <td>0.056941</td>\n",
       "      <td>0.013994</td>\n",
       "      <td>0.121057</td>\n",
       "      <td>-0.061752</td>\n",
       "      <td>0.192897</td>\n",
       "      <td>-0.155726</td>\n",
       "      <td>0.030956</td>\n",
       "      <td>-0.030956</td>\n",
       "      <td>-0.379549</td>\n",
       "      <td>0.379549</td>\n",
       "      <td>0.149408</td>\n",
       "      <td>-0.149408</td>\n",
       "      <td>-0.031576</td>\n",
       "      <td>0.031576</td>\n",
       "      <td>-0.008750</td>\n",
       "      <td>0.008750</td>\n",
       "      <td>0.257442</td>\n",
       "      <td>-0.257442</td>\n",
       "      <td>0.145575</td>\n",
       "      <td>-0.145575</td>\n",
       "      <td>0.037896</td>\n",
       "      <td>-0.037896</td>\n",
       "      <td>0.078574</td>\n",
       "      <td>-0.078574</td>\n",
       "      <td>0.087478</td>\n",
       "      <td>-0.087478</td>\n",
       "      <td>0.209497</td>\n",
       "      <td>-0.209497</td>\n",
       "      <td>0.116484</td>\n",
       "      <td>-0.116484</td>\n",
       "      <td>-0.162512</td>\n",
       "      <td>0.162512</td>\n",
       "    </tr>\n",
       "    <tr>\n",
       "      <th>Medu</th>\n",
       "      <td>-0.146405</td>\n",
       "      <td>1.000000</td>\n",
       "      <td>0.589360</td>\n",
       "      <td>-0.149258</td>\n",
       "      <td>0.079513</td>\n",
       "      <td>-0.239668</td>\n",
       "      <td>-0.003566</td>\n",
       "      <td>0.037699</td>\n",
       "      <td>0.071235</td>\n",
       "      <td>-0.067791</td>\n",
       "      <td>0.098201</td>\n",
       "      <td>0.209758</td>\n",
       "      <td>-0.084161</td>\n",
       "      <td>0.084161</td>\n",
       "      <td>0.129834</td>\n",
       "      <td>-0.129834</td>\n",
       "      <td>-0.160191</td>\n",
       "      <td>0.160191</td>\n",
       "      <td>0.059450</td>\n",
       "      <td>-0.059450</td>\n",
       "      <td>0.124887</td>\n",
       "      <td>-0.124887</td>\n",
       "      <td>0.026066</td>\n",
       "      <td>-0.026066</td>\n",
       "      <td>-0.192269</td>\n",
       "      <td>0.192269</td>\n",
       "      <td>-0.171995</td>\n",
       "      <td>0.171995</td>\n",
       "      <td>-0.101160</td>\n",
       "      <td>0.101160</td>\n",
       "      <td>-0.172934</td>\n",
       "      <td>0.172934</td>\n",
       "      <td>-0.170924</td>\n",
       "      <td>0.170924</td>\n",
       "      <td>-0.198374</td>\n",
       "      <td>0.198374</td>\n",
       "      <td>-0.012478</td>\n",
       "      <td>0.012478</td>\n",
       "    </tr>\n",
       "    <tr>\n",
       "      <th>Fedu</th>\n",
       "      <td>-0.143849</td>\n",
       "      <td>0.589360</td>\n",
       "      <td>1.000000</td>\n",
       "      <td>-0.109999</td>\n",
       "      <td>0.011723</td>\n",
       "      <td>-0.260794</td>\n",
       "      <td>-0.015492</td>\n",
       "      <td>-0.022669</td>\n",
       "      <td>0.046401</td>\n",
       "      <td>-0.015777</td>\n",
       "      <td>0.019381</td>\n",
       "      <td>0.124829</td>\n",
       "      <td>-0.025312</td>\n",
       "      <td>0.025312</td>\n",
       "      <td>0.078285</td>\n",
       "      <td>-0.078285</td>\n",
       "      <td>-0.072087</td>\n",
       "      <td>0.072087</td>\n",
       "      <td>0.071064</td>\n",
       "      <td>-0.071064</td>\n",
       "      <td>0.084832</td>\n",
       "      <td>-0.084832</td>\n",
       "      <td>-0.048880</td>\n",
       "      <td>0.048880</td>\n",
       "      <td>-0.173079</td>\n",
       "      <td>0.173079</td>\n",
       "      <td>-0.100588</td>\n",
       "      <td>0.100588</td>\n",
       "      <td>-0.090888</td>\n",
       "      <td>0.090888</td>\n",
       "      <td>-0.141200</td>\n",
       "      <td>0.141200</td>\n",
       "      <td>-0.173544</td>\n",
       "      <td>0.173544</td>\n",
       "      <td>-0.134228</td>\n",
       "      <td>0.134228</td>\n",
       "      <td>-0.010295</td>\n",
       "      <td>0.010295</td>\n",
       "    </tr>\n",
       "    <tr>\n",
       "      <th>traveltime</th>\n",
       "      <td>0.070212</td>\n",
       "      <td>-0.149258</td>\n",
       "      <td>-0.109999</td>\n",
       "      <td>1.000000</td>\n",
       "      <td>-0.102979</td>\n",
       "      <td>0.086399</td>\n",
       "      <td>0.002038</td>\n",
       "      <td>-0.041205</td>\n",
       "      <td>0.044696</td>\n",
       "      <td>0.004051</td>\n",
       "      <td>-0.028489</td>\n",
       "      <td>-0.106562</td>\n",
       "      <td>-0.056806</td>\n",
       "      <td>0.056806</td>\n",
       "      <td>-0.238118</td>\n",
       "      <td>0.238118</td>\n",
       "      <td>0.373484</td>\n",
       "      <td>-0.373484</td>\n",
       "      <td>-0.038349</td>\n",
       "      <td>0.038349</td>\n",
       "      <td>-0.064187</td>\n",
       "      <td>0.064187</td>\n",
       "      <td>-0.005925</td>\n",
       "      <td>0.005925</td>\n",
       "      <td>0.008755</td>\n",
       "      <td>-0.008755</td>\n",
       "      <td>0.033011</td>\n",
       "      <td>-0.033011</td>\n",
       "      <td>0.026213</td>\n",
       "      <td>-0.026213</td>\n",
       "      <td>0.023594</td>\n",
       "      <td>-0.023594</td>\n",
       "      <td>0.099433</td>\n",
       "      <td>-0.099433</td>\n",
       "      <td>0.095915</td>\n",
       "      <td>-0.095915</td>\n",
       "      <td>-0.049097</td>\n",
       "      <td>0.049097</td>\n",
       "    </tr>\n",
       "    <tr>\n",
       "      <th>studytime</th>\n",
       "      <td>-0.018019</td>\n",
       "      <td>0.079513</td>\n",
       "      <td>0.011723</td>\n",
       "      <td>-0.102979</td>\n",
       "      <td>1.000000</td>\n",
       "      <td>-0.169399</td>\n",
       "      <td>0.037950</td>\n",
       "      <td>-0.122057</td>\n",
       "      <td>-0.053554</td>\n",
       "      <td>-0.063876</td>\n",
       "      <td>-0.082602</td>\n",
       "      <td>0.114295</td>\n",
       "      <td>0.304851</td>\n",
       "      <td>-0.304851</td>\n",
       "      <td>0.092208</td>\n",
       "      <td>-0.092208</td>\n",
       "      <td>0.044997</td>\n",
       "      <td>-0.044997</td>\n",
       "      <td>0.074499</td>\n",
       "      <td>-0.074499</td>\n",
       "      <td>-0.003128</td>\n",
       "      <td>0.003128</td>\n",
       "      <td>-0.039144</td>\n",
       "      <td>0.039144</td>\n",
       "      <td>-0.108577</td>\n",
       "      <td>0.108577</td>\n",
       "      <td>-0.141592</td>\n",
       "      <td>0.141592</td>\n",
       "      <td>-0.117063</td>\n",
       "      <td>0.117063</td>\n",
       "      <td>-0.090573</td>\n",
       "      <td>0.090573</td>\n",
       "      <td>-0.166190</td>\n",
       "      <td>0.166190</td>\n",
       "      <td>-0.043815</td>\n",
       "      <td>0.043815</td>\n",
       "      <td>-0.049933</td>\n",
       "      <td>0.049933</td>\n",
       "    </tr>\n",
       "    <tr>\n",
       "      <th>failures</th>\n",
       "      <td>0.206279</td>\n",
       "      <td>-0.239668</td>\n",
       "      <td>-0.260794</td>\n",
       "      <td>0.086399</td>\n",
       "      <td>-0.169399</td>\n",
       "      <td>1.000000</td>\n",
       "      <td>-0.028517</td>\n",
       "      <td>0.087558</td>\n",
       "      <td>0.101036</td>\n",
       "      <td>0.079030</td>\n",
       "      <td>0.100804</td>\n",
       "      <td>-0.337187</td>\n",
       "      <td>-0.021199</td>\n",
       "      <td>0.021199</td>\n",
       "      <td>-0.046515</td>\n",
       "      <td>0.046515</td>\n",
       "      <td>0.091669</td>\n",
       "      <td>-0.091669</td>\n",
       "      <td>-0.016117</td>\n",
       "      <td>0.016117</td>\n",
       "      <td>-0.001314</td>\n",
       "      <td>0.001314</td>\n",
       "      <td>-0.020515</td>\n",
       "      <td>0.020515</td>\n",
       "      <td>0.063403</td>\n",
       "      <td>-0.063403</td>\n",
       "      <td>0.153392</td>\n",
       "      <td>-0.153392</td>\n",
       "      <td>0.081135</td>\n",
       "      <td>-0.081135</td>\n",
       "      <td>0.092902</td>\n",
       "      <td>-0.092902</td>\n",
       "      <td>0.270493</td>\n",
       "      <td>-0.270493</td>\n",
       "      <td>0.072924</td>\n",
       "      <td>-0.072924</td>\n",
       "      <td>-0.109206</td>\n",
       "      <td>0.109206</td>\n",
       "    </tr>\n",
       "    <tr>\n",
       "      <th>famrel</th>\n",
       "      <td>0.056941</td>\n",
       "      <td>-0.003566</td>\n",
       "      <td>-0.015492</td>\n",
       "      <td>0.002038</td>\n",
       "      <td>0.037950</td>\n",
       "      <td>-0.028517</td>\n",
       "      <td>1.000000</td>\n",
       "      <td>0.164830</td>\n",
       "      <td>0.069514</td>\n",
       "      <td>0.093256</td>\n",
       "      <td>-0.085939</td>\n",
       "      <td>0.052902</td>\n",
       "      <td>-0.046715</td>\n",
       "      <td>0.046715</td>\n",
       "      <td>0.039872</td>\n",
       "      <td>-0.039872</td>\n",
       "      <td>0.013683</td>\n",
       "      <td>-0.013683</td>\n",
       "      <td>0.017595</td>\n",
       "      <td>-0.017595</td>\n",
       "      <td>-0.008838</td>\n",
       "      <td>0.008838</td>\n",
       "      <td>0.009768</td>\n",
       "      <td>-0.009768</td>\n",
       "      <td>-0.006285</td>\n",
       "      <td>0.006285</td>\n",
       "      <td>0.003808</td>\n",
       "      <td>-0.003808</td>\n",
       "      <td>-0.060852</td>\n",
       "      <td>0.060852</td>\n",
       "      <td>0.026204</td>\n",
       "      <td>-0.026204</td>\n",
       "      <td>-0.011952</td>\n",
       "      <td>0.011952</td>\n",
       "      <td>-0.056919</td>\n",
       "      <td>0.056919</td>\n",
       "      <td>0.067801</td>\n",
       "      <td>-0.067801</td>\n",
       "    </tr>\n",
       "    <tr>\n",
       "      <th>freetime</th>\n",
       "      <td>0.013994</td>\n",
       "      <td>0.037699</td>\n",
       "      <td>-0.022669</td>\n",
       "      <td>-0.041205</td>\n",
       "      <td>-0.122057</td>\n",
       "      <td>0.087558</td>\n",
       "      <td>0.164830</td>\n",
       "      <td>1.000000</td>\n",
       "      <td>0.294450</td>\n",
       "      <td>0.067629</td>\n",
       "      <td>0.003876</td>\n",
       "      <td>0.017481</td>\n",
       "      <td>-0.228632</td>\n",
       "      <td>0.228632</td>\n",
       "      <td>-0.034138</td>\n",
       "      <td>0.034138</td>\n",
       "      <td>-0.058433</td>\n",
       "      <td>0.058433</td>\n",
       "      <td>-0.021239</td>\n",
       "      <td>0.021239</td>\n",
       "      <td>-0.044000</td>\n",
       "      <td>0.044000</td>\n",
       "      <td>0.052964</td>\n",
       "      <td>-0.052964</td>\n",
       "      <td>-0.024763</td>\n",
       "      <td>0.024763</td>\n",
       "      <td>0.073130</td>\n",
       "      <td>-0.073130</td>\n",
       "      <td>-0.084097</td>\n",
       "      <td>0.084097</td>\n",
       "      <td>0.027454</td>\n",
       "      <td>-0.027454</td>\n",
       "      <td>0.046783</td>\n",
       "      <td>-0.046783</td>\n",
       "      <td>-0.090379</td>\n",
       "      <td>0.090379</td>\n",
       "      <td>0.033115</td>\n",
       "      <td>-0.033115</td>\n",
       "    </tr>\n",
       "    <tr>\n",
       "      <th>goout</th>\n",
       "      <td>0.121057</td>\n",
       "      <td>0.071235</td>\n",
       "      <td>0.046401</td>\n",
       "      <td>0.044696</td>\n",
       "      <td>-0.053554</td>\n",
       "      <td>0.101036</td>\n",
       "      <td>0.069514</td>\n",
       "      <td>0.294450</td>\n",
       "      <td>1.000000</td>\n",
       "      <td>-0.015108</td>\n",
       "      <td>0.084490</td>\n",
       "      <td>-0.127742</td>\n",
       "      <td>-0.092635</td>\n",
       "      <td>0.092635</td>\n",
       "      <td>0.008473</td>\n",
       "      <td>-0.008473</td>\n",
       "      <td>-0.066354</td>\n",
       "      <td>0.066354</td>\n",
       "      <td>-0.042201</td>\n",
       "      <td>0.042201</td>\n",
       "      <td>-0.034785</td>\n",
       "      <td>0.034785</td>\n",
       "      <td>0.038818</td>\n",
       "      <td>-0.038818</td>\n",
       "      <td>0.041586</td>\n",
       "      <td>-0.041586</td>\n",
       "      <td>-0.005732</td>\n",
       "      <td>0.005732</td>\n",
       "      <td>-0.056934</td>\n",
       "      <td>0.056934</td>\n",
       "      <td>0.010945</td>\n",
       "      <td>-0.010945</td>\n",
       "      <td>0.024203</td>\n",
       "      <td>-0.024203</td>\n",
       "      <td>-0.100789</td>\n",
       "      <td>0.100789</td>\n",
       "      <td>-0.008093</td>\n",
       "      <td>0.008093</td>\n",
       "    </tr>\n",
       "    <tr>\n",
       "      <th>health</th>\n",
       "      <td>-0.061752</td>\n",
       "      <td>-0.067791</td>\n",
       "      <td>-0.015777</td>\n",
       "      <td>0.004051</td>\n",
       "      <td>-0.063876</td>\n",
       "      <td>0.079030</td>\n",
       "      <td>0.093256</td>\n",
       "      <td>0.067629</td>\n",
       "      <td>-0.015108</td>\n",
       "      <td>1.000000</td>\n",
       "      <td>-0.049303</td>\n",
       "      <td>-0.080583</td>\n",
       "      <td>-0.148973</td>\n",
       "      <td>0.148973</td>\n",
       "      <td>0.042288</td>\n",
       "      <td>-0.042288</td>\n",
       "      <td>0.041864</td>\n",
       "      <td>-0.041864</td>\n",
       "      <td>0.035790</td>\n",
       "      <td>-0.035790</td>\n",
       "      <td>-0.006963</td>\n",
       "      <td>0.006963</td>\n",
       "      <td>0.048194</td>\n",
       "      <td>-0.048194</td>\n",
       "      <td>-0.012043</td>\n",
       "      <td>0.012043</td>\n",
       "      <td>0.056983</td>\n",
       "      <td>-0.056983</td>\n",
       "      <td>-0.049392</td>\n",
       "      <td>0.049392</td>\n",
       "      <td>0.008602</td>\n",
       "      <td>-0.008602</td>\n",
       "      <td>0.007349</td>\n",
       "      <td>-0.007349</td>\n",
       "      <td>0.093497</td>\n",
       "      <td>-0.093497</td>\n",
       "      <td>-0.015411</td>\n",
       "      <td>0.015411</td>\n",
       "    </tr>\n",
       "    <tr>\n",
       "      <th>absences</th>\n",
       "      <td>0.192897</td>\n",
       "      <td>0.098201</td>\n",
       "      <td>0.019381</td>\n",
       "      <td>-0.028489</td>\n",
       "      <td>-0.082602</td>\n",
       "      <td>0.100804</td>\n",
       "      <td>-0.085939</td>\n",
       "      <td>0.003876</td>\n",
       "      <td>0.084490</td>\n",
       "      <td>-0.049303</td>\n",
       "      <td>1.000000</td>\n",
       "      <td>0.068007</td>\n",
       "      <td>0.037638</td>\n",
       "      <td>-0.037638</td>\n",
       "      <td>0.092264</td>\n",
       "      <td>-0.092264</td>\n",
       "      <td>0.000025</td>\n",
       "      <td>-0.000025</td>\n",
       "      <td>-0.034758</td>\n",
       "      <td>0.034758</td>\n",
       "      <td>0.139762</td>\n",
       "      <td>-0.139762</td>\n",
       "      <td>-0.036465</td>\n",
       "      <td>0.036465</td>\n",
       "      <td>-0.073118</td>\n",
       "      <td>0.073118</td>\n",
       "      <td>0.006123</td>\n",
       "      <td>-0.006123</td>\n",
       "      <td>0.030301</td>\n",
       "      <td>-0.030301</td>\n",
       "      <td>-0.040886</td>\n",
       "      <td>0.040886</td>\n",
       "      <td>-0.002141</td>\n",
       "      <td>0.002141</td>\n",
       "      <td>-0.084244</td>\n",
       "      <td>0.084244</td>\n",
       "      <td>-0.113065</td>\n",
       "      <td>0.113065</td>\n",
       "    </tr>\n",
       "    <tr>\n",
       "      <th>score</th>\n",
       "      <td>-0.155726</td>\n",
       "      <td>0.209758</td>\n",
       "      <td>0.124829</td>\n",
       "      <td>-0.106562</td>\n",
       "      <td>0.114295</td>\n",
       "      <td>-0.337187</td>\n",
       "      <td>0.052902</td>\n",
       "      <td>0.017481</td>\n",
       "      <td>-0.127742</td>\n",
       "      <td>-0.080583</td>\n",
       "      <td>0.068007</td>\n",
       "      <td>1.000000</td>\n",
       "      <td>-0.099285</td>\n",
       "      <td>0.099285</td>\n",
       "      <td>0.044524</td>\n",
       "      <td>-0.044524</td>\n",
       "      <td>-0.121377</td>\n",
       "      <td>0.121377</td>\n",
       "      <td>-0.064874</td>\n",
       "      <td>0.064874</td>\n",
       "      <td>0.040135</td>\n",
       "      <td>-0.040135</td>\n",
       "      <td>0.086598</td>\n",
       "      <td>-0.086598</td>\n",
       "      <td>-0.005992</td>\n",
       "      <td>0.005992</td>\n",
       "      <td>-0.084386</td>\n",
       "      <td>0.084386</td>\n",
       "      <td>-0.018118</td>\n",
       "      <td>0.018118</td>\n",
       "      <td>-0.049098</td>\n",
       "      <td>0.049098</td>\n",
       "      <td>-0.183924</td>\n",
       "      <td>0.183924</td>\n",
       "      <td>-0.056222</td>\n",
       "      <td>0.056222</td>\n",
       "      <td>0.136042</td>\n",
       "      <td>-0.136042</td>\n",
       "    </tr>\n",
       "    <tr>\n",
       "      <th>sex_F</th>\n",
       "      <td>0.030956</td>\n",
       "      <td>-0.084161</td>\n",
       "      <td>-0.025312</td>\n",
       "      <td>-0.056806</td>\n",
       "      <td>0.304851</td>\n",
       "      <td>-0.021199</td>\n",
       "      <td>-0.046715</td>\n",
       "      <td>-0.228632</td>\n",
       "      <td>-0.092635</td>\n",
       "      <td>-0.148973</td>\n",
       "      <td>0.037638</td>\n",
       "      <td>-0.099285</td>\n",
       "      <td>1.000000</td>\n",
       "      <td>-1.000000</td>\n",
       "      <td>-0.022548</td>\n",
       "      <td>0.022548</td>\n",
       "      <td>0.005943</td>\n",
       "      <td>-0.005943</td>\n",
       "      <td>0.081996</td>\n",
       "      <td>-0.081996</td>\n",
       "      <td>0.037672</td>\n",
       "      <td>-0.037672</td>\n",
       "      <td>-0.128814</td>\n",
       "      <td>0.128814</td>\n",
       "      <td>-0.160006</td>\n",
       "      <td>0.160006</td>\n",
       "      <td>-0.075274</td>\n",
       "      <td>0.075274</td>\n",
       "      <td>0.110052</td>\n",
       "      <td>-0.110052</td>\n",
       "      <td>0.008004</td>\n",
       "      <td>-0.008004</td>\n",
       "      <td>-0.142433</td>\n",
       "      <td>0.142433</td>\n",
       "      <td>0.061412</td>\n",
       "      <td>-0.061412</td>\n",
       "      <td>-0.138335</td>\n",
       "      <td>0.138335</td>\n",
       "    </tr>\n",
       "    <tr>\n",
       "      <th>sex_M</th>\n",
       "      <td>-0.030956</td>\n",
       "      <td>0.084161</td>\n",
       "      <td>0.025312</td>\n",
       "      <td>0.056806</td>\n",
       "      <td>-0.304851</td>\n",
       "      <td>0.021199</td>\n",
       "      <td>0.046715</td>\n",
       "      <td>0.228632</td>\n",
       "      <td>0.092635</td>\n",
       "      <td>0.148973</td>\n",
       "      <td>-0.037638</td>\n",
       "      <td>0.099285</td>\n",
       "      <td>-1.000000</td>\n",
       "      <td>1.000000</td>\n",
       "      <td>0.022548</td>\n",
       "      <td>-0.022548</td>\n",
       "      <td>-0.005943</td>\n",
       "      <td>0.005943</td>\n",
       "      <td>-0.081996</td>\n",
       "      <td>0.081996</td>\n",
       "      <td>-0.037672</td>\n",
       "      <td>0.037672</td>\n",
       "      <td>0.128814</td>\n",
       "      <td>-0.128814</td>\n",
       "      <td>0.160006</td>\n",
       "      <td>-0.160006</td>\n",
       "      <td>0.075274</td>\n",
       "      <td>-0.075274</td>\n",
       "      <td>-0.110052</td>\n",
       "      <td>0.110052</td>\n",
       "      <td>-0.008004</td>\n",
       "      <td>0.008004</td>\n",
       "      <td>0.142433</td>\n",
       "      <td>-0.142433</td>\n",
       "      <td>-0.061412</td>\n",
       "      <td>0.061412</td>\n",
       "      <td>0.138335</td>\n",
       "      <td>-0.138335</td>\n",
       "    </tr>\n",
       "    <tr>\n",
       "      <th>school_GP</th>\n",
       "      <td>-0.379549</td>\n",
       "      <td>0.129834</td>\n",
       "      <td>0.078285</td>\n",
       "      <td>-0.238118</td>\n",
       "      <td>0.092208</td>\n",
       "      <td>-0.046515</td>\n",
       "      <td>0.039872</td>\n",
       "      <td>-0.034138</td>\n",
       "      <td>0.008473</td>\n",
       "      <td>0.042288</td>\n",
       "      <td>0.092264</td>\n",
       "      <td>0.044524</td>\n",
       "      <td>-0.022548</td>\n",
       "      <td>0.022548</td>\n",
       "      <td>1.000000</td>\n",
       "      <td>-1.000000</td>\n",
       "      <td>-0.262857</td>\n",
       "      <td>0.262857</td>\n",
       "      <td>0.065194</td>\n",
       "      <td>-0.065194</td>\n",
       "      <td>0.060033</td>\n",
       "      <td>-0.060033</td>\n",
       "      <td>-0.137305</td>\n",
       "      <td>0.137305</td>\n",
       "      <td>-0.192193</td>\n",
       "      <td>0.192193</td>\n",
       "      <td>-0.035541</td>\n",
       "      <td>0.035541</td>\n",
       "      <td>-0.099845</td>\n",
       "      <td>0.099845</td>\n",
       "      <td>-0.102725</td>\n",
       "      <td>0.102725</td>\n",
       "      <td>-0.029908</td>\n",
       "      <td>0.029908</td>\n",
       "      <td>-0.106978</td>\n",
       "      <td>0.106978</td>\n",
       "      <td>0.065186</td>\n",
       "      <td>-0.065186</td>\n",
       "    </tr>\n",
       "    <tr>\n",
       "      <th>school_MS</th>\n",
       "      <td>0.379549</td>\n",
       "      <td>-0.129834</td>\n",
       "      <td>-0.078285</td>\n",
       "      <td>0.238118</td>\n",
       "      <td>-0.092208</td>\n",
       "      <td>0.046515</td>\n",
       "      <td>-0.039872</td>\n",
       "      <td>0.034138</td>\n",
       "      <td>-0.008473</td>\n",
       "      <td>-0.042288</td>\n",
       "      <td>-0.092264</td>\n",
       "      <td>-0.044524</td>\n",
       "      <td>0.022548</td>\n",
       "      <td>-0.022548</td>\n",
       "      <td>-1.000000</td>\n",
       "      <td>1.000000</td>\n",
       "      <td>0.262857</td>\n",
       "      <td>-0.262857</td>\n",
       "      <td>-0.065194</td>\n",
       "      <td>0.065194</td>\n",
       "      <td>-0.060033</td>\n",
       "      <td>0.060033</td>\n",
       "      <td>0.137305</td>\n",
       "      <td>-0.137305</td>\n",
       "      <td>0.192193</td>\n",
       "      <td>-0.192193</td>\n",
       "      <td>0.035541</td>\n",
       "      <td>-0.035541</td>\n",
       "      <td>0.099845</td>\n",
       "      <td>-0.099845</td>\n",
       "      <td>0.102725</td>\n",
       "      <td>-0.102725</td>\n",
       "      <td>0.029908</td>\n",
       "      <td>-0.029908</td>\n",
       "      <td>0.106978</td>\n",
       "      <td>-0.106978</td>\n",
       "      <td>-0.065186</td>\n",
       "      <td>0.065186</td>\n",
       "    </tr>\n",
       "    <tr>\n",
       "      <th>address_R</th>\n",
       "      <td>0.149408</td>\n",
       "      <td>-0.160191</td>\n",
       "      <td>-0.072087</td>\n",
       "      <td>0.373484</td>\n",
       "      <td>0.044997</td>\n",
       "      <td>0.091669</td>\n",
       "      <td>0.013683</td>\n",
       "      <td>-0.058433</td>\n",
       "      <td>-0.066354</td>\n",
       "      <td>0.041864</td>\n",
       "      <td>0.000025</td>\n",
       "      <td>-0.121377</td>\n",
       "      <td>0.005943</td>\n",
       "      <td>-0.005943</td>\n",
       "      <td>-0.262857</td>\n",
       "      <td>0.262857</td>\n",
       "      <td>1.000000</td>\n",
       "      <td>-1.000000</td>\n",
       "      <td>0.067875</td>\n",
       "      <td>-0.067875</td>\n",
       "      <td>-0.058056</td>\n",
       "      <td>0.058056</td>\n",
       "      <td>0.027516</td>\n",
       "      <td>-0.027516</td>\n",
       "      <td>0.042120</td>\n",
       "      <td>-0.042120</td>\n",
       "      <td>0.037233</td>\n",
       "      <td>-0.037233</td>\n",
       "      <td>-0.063173</td>\n",
       "      <td>0.063173</td>\n",
       "      <td>0.040483</td>\n",
       "      <td>-0.040483</td>\n",
       "      <td>0.056652</td>\n",
       "      <td>-0.056652</td>\n",
       "      <td>0.202870</td>\n",
       "      <td>-0.202870</td>\n",
       "      <td>-0.010199</td>\n",
       "      <td>0.010199</td>\n",
       "    </tr>\n",
       "    <tr>\n",
       "      <th>address_U</th>\n",
       "      <td>-0.149408</td>\n",
       "      <td>0.160191</td>\n",
       "      <td>0.072087</td>\n",
       "      <td>-0.373484</td>\n",
       "      <td>-0.044997</td>\n",
       "      <td>-0.091669</td>\n",
       "      <td>-0.013683</td>\n",
       "      <td>0.058433</td>\n",
       "      <td>0.066354</td>\n",
       "      <td>-0.041864</td>\n",
       "      <td>-0.000025</td>\n",
       "      <td>0.121377</td>\n",
       "      <td>-0.005943</td>\n",
       "      <td>0.005943</td>\n",
       "      <td>0.262857</td>\n",
       "      <td>-0.262857</td>\n",
       "      <td>-1.000000</td>\n",
       "      <td>1.000000</td>\n",
       "      <td>-0.067875</td>\n",
       "      <td>0.067875</td>\n",
       "      <td>0.058056</td>\n",
       "      <td>-0.058056</td>\n",
       "      <td>-0.027516</td>\n",
       "      <td>0.027516</td>\n",
       "      <td>-0.042120</td>\n",
       "      <td>0.042120</td>\n",
       "      <td>-0.037233</td>\n",
       "      <td>0.037233</td>\n",
       "      <td>0.063173</td>\n",
       "      <td>-0.063173</td>\n",
       "      <td>-0.040483</td>\n",
       "      <td>0.040483</td>\n",
       "      <td>-0.056652</td>\n",
       "      <td>0.056652</td>\n",
       "      <td>-0.202870</td>\n",
       "      <td>0.202870</td>\n",
       "      <td>0.010199</td>\n",
       "      <td>-0.010199</td>\n",
       "    </tr>\n",
       "    <tr>\n",
       "      <th>famsize_GT3</th>\n",
       "      <td>-0.031576</td>\n",
       "      <td>0.059450</td>\n",
       "      <td>0.071064</td>\n",
       "      <td>-0.038349</td>\n",
       "      <td>0.074499</td>\n",
       "      <td>-0.016117</td>\n",
       "      <td>0.017595</td>\n",
       "      <td>-0.021239</td>\n",
       "      <td>-0.042201</td>\n",
       "      <td>0.035790</td>\n",
       "      <td>-0.034758</td>\n",
       "      <td>-0.064874</td>\n",
       "      <td>0.081996</td>\n",
       "      <td>-0.081996</td>\n",
       "      <td>0.065194</td>\n",
       "      <td>-0.065194</td>\n",
       "      <td>0.067875</td>\n",
       "      <td>-0.067875</td>\n",
       "      <td>1.000000</td>\n",
       "      <td>-1.000000</td>\n",
       "      <td>-0.061536</td>\n",
       "      <td>0.061536</td>\n",
       "      <td>-0.025646</td>\n",
       "      <td>0.025646</td>\n",
       "      <td>-0.095131</td>\n",
       "      <td>0.095131</td>\n",
       "      <td>-0.043898</td>\n",
       "      <td>0.043898</td>\n",
       "      <td>-0.043898</td>\n",
       "      <td>0.043898</td>\n",
       "      <td>0.089288</td>\n",
       "      <td>-0.089288</td>\n",
       "      <td>-0.020667</td>\n",
       "      <td>0.020667</td>\n",
       "      <td>0.002124</td>\n",
       "      <td>-0.002124</td>\n",
       "      <td>0.002069</td>\n",
       "      <td>-0.002069</td>\n",
       "    </tr>\n",
       "    <tr>\n",
       "      <th>famsize_LE3</th>\n",
       "      <td>0.031576</td>\n",
       "      <td>-0.059450</td>\n",
       "      <td>-0.071064</td>\n",
       "      <td>0.038349</td>\n",
       "      <td>-0.074499</td>\n",
       "      <td>0.016117</td>\n",
       "      <td>-0.017595</td>\n",
       "      <td>0.021239</td>\n",
       "      <td>0.042201</td>\n",
       "      <td>-0.035790</td>\n",
       "      <td>0.034758</td>\n",
       "      <td>0.064874</td>\n",
       "      <td>-0.081996</td>\n",
       "      <td>0.081996</td>\n",
       "      <td>-0.065194</td>\n",
       "      <td>0.065194</td>\n",
       "      <td>-0.067875</td>\n",
       "      <td>0.067875</td>\n",
       "      <td>-1.000000</td>\n",
       "      <td>1.000000</td>\n",
       "      <td>0.061536</td>\n",
       "      <td>-0.061536</td>\n",
       "      <td>0.025646</td>\n",
       "      <td>-0.025646</td>\n",
       "      <td>0.095131</td>\n",
       "      <td>-0.095131</td>\n",
       "      <td>0.043898</td>\n",
       "      <td>-0.043898</td>\n",
       "      <td>0.043898</td>\n",
       "      <td>-0.043898</td>\n",
       "      <td>-0.089288</td>\n",
       "      <td>0.089288</td>\n",
       "      <td>0.020667</td>\n",
       "      <td>-0.020667</td>\n",
       "      <td>-0.002124</td>\n",
       "      <td>0.002124</td>\n",
       "      <td>-0.002069</td>\n",
       "      <td>0.002069</td>\n",
       "    </tr>\n",
       "    <tr>\n",
       "      <th>Pstatus_A</th>\n",
       "      <td>-0.008750</td>\n",
       "      <td>0.124887</td>\n",
       "      <td>0.084832</td>\n",
       "      <td>-0.064187</td>\n",
       "      <td>-0.003128</td>\n",
       "      <td>-0.001314</td>\n",
       "      <td>-0.008838</td>\n",
       "      <td>-0.044000</td>\n",
       "      <td>-0.034785</td>\n",
       "      <td>-0.006963</td>\n",
       "      <td>0.139762</td>\n",
       "      <td>0.040135</td>\n",
       "      <td>0.037672</td>\n",
       "      <td>-0.037672</td>\n",
       "      <td>0.060033</td>\n",
       "      <td>-0.060033</td>\n",
       "      <td>-0.058056</td>\n",
       "      <td>0.058056</td>\n",
       "      <td>-0.061536</td>\n",
       "      <td>0.061536</td>\n",
       "      <td>1.000000</td>\n",
       "      <td>-1.000000</td>\n",
       "      <td>-0.039174</td>\n",
       "      <td>0.039174</td>\n",
       "      <td>-0.009198</td>\n",
       "      <td>0.009198</td>\n",
       "      <td>0.066867</td>\n",
       "      <td>-0.066867</td>\n",
       "      <td>0.102353</td>\n",
       "      <td>-0.102353</td>\n",
       "      <td>-0.069594</td>\n",
       "      <td>0.069594</td>\n",
       "      <td>-0.031211</td>\n",
       "      <td>0.031211</td>\n",
       "      <td>0.048629</td>\n",
       "      <td>-0.048629</td>\n",
       "      <td>-0.049925</td>\n",
       "      <td>0.049925</td>\n",
       "    </tr>\n",
       "    <tr>\n",
       "      <th>Pstatus_T</th>\n",
       "      <td>0.008750</td>\n",
       "      <td>-0.124887</td>\n",
       "      <td>-0.084832</td>\n",
       "      <td>0.064187</td>\n",
       "      <td>0.003128</td>\n",
       "      <td>0.001314</td>\n",
       "      <td>0.008838</td>\n",
       "      <td>0.044000</td>\n",
       "      <td>0.034785</td>\n",
       "      <td>0.006963</td>\n",
       "      <td>-0.139762</td>\n",
       "      <td>-0.040135</td>\n",
       "      <td>-0.037672</td>\n",
       "      <td>0.037672</td>\n",
       "      <td>-0.060033</td>\n",
       "      <td>0.060033</td>\n",
       "      <td>0.058056</td>\n",
       "      <td>-0.058056</td>\n",
       "      <td>0.061536</td>\n",
       "      <td>-0.061536</td>\n",
       "      <td>-1.000000</td>\n",
       "      <td>1.000000</td>\n",
       "      <td>0.039174</td>\n",
       "      <td>-0.039174</td>\n",
       "      <td>0.009198</td>\n",
       "      <td>-0.009198</td>\n",
       "      <td>-0.066867</td>\n",
       "      <td>0.066867</td>\n",
       "      <td>-0.102353</td>\n",
       "      <td>0.102353</td>\n",
       "      <td>0.069594</td>\n",
       "      <td>-0.069594</td>\n",
       "      <td>0.031211</td>\n",
       "      <td>-0.031211</td>\n",
       "      <td>-0.048629</td>\n",
       "      <td>0.048629</td>\n",
       "      <td>0.049925</td>\n",
       "      <td>-0.049925</td>\n",
       "    </tr>\n",
       "    <tr>\n",
       "      <th>schoolsup_no</th>\n",
       "      <td>0.257442</td>\n",
       "      <td>0.026066</td>\n",
       "      <td>-0.048880</td>\n",
       "      <td>-0.005925</td>\n",
       "      <td>-0.039144</td>\n",
       "      <td>-0.020515</td>\n",
       "      <td>0.009768</td>\n",
       "      <td>0.052964</td>\n",
       "      <td>0.038818</td>\n",
       "      <td>0.048194</td>\n",
       "      <td>-0.036465</td>\n",
       "      <td>0.086598</td>\n",
       "      <td>-0.128814</td>\n",
       "      <td>0.128814</td>\n",
       "      <td>-0.137305</td>\n",
       "      <td>0.137305</td>\n",
       "      <td>0.027516</td>\n",
       "      <td>-0.027516</td>\n",
       "      <td>-0.025646</td>\n",
       "      <td>0.025646</td>\n",
       "      <td>-0.039174</td>\n",
       "      <td>0.039174</td>\n",
       "      <td>1.000000</td>\n",
       "      <td>-1.000000</td>\n",
       "      <td>0.097735</td>\n",
       "      <td>-0.097735</td>\n",
       "      <td>-0.018365</td>\n",
       "      <td>0.018365</td>\n",
       "      <td>0.012628</td>\n",
       "      <td>-0.012628</td>\n",
       "      <td>0.033040</td>\n",
       "      <td>-0.033040</td>\n",
       "      <td>0.050082</td>\n",
       "      <td>-0.050082</td>\n",
       "      <td>0.020636</td>\n",
       "      <td>-0.020636</td>\n",
       "      <td>-0.058209</td>\n",
       "      <td>0.058209</td>\n",
       "    </tr>\n",
       "    <tr>\n",
       "      <th>schoolsup_yes</th>\n",
       "      <td>-0.257442</td>\n",
       "      <td>-0.026066</td>\n",
       "      <td>0.048880</td>\n",
       "      <td>0.005925</td>\n",
       "      <td>0.039144</td>\n",
       "      <td>0.020515</td>\n",
       "      <td>-0.009768</td>\n",
       "      <td>-0.052964</td>\n",
       "      <td>-0.038818</td>\n",
       "      <td>-0.048194</td>\n",
       "      <td>0.036465</td>\n",
       "      <td>-0.086598</td>\n",
       "      <td>0.128814</td>\n",
       "      <td>-0.128814</td>\n",
       "      <td>0.137305</td>\n",
       "      <td>-0.137305</td>\n",
       "      <td>-0.027516</td>\n",
       "      <td>0.027516</td>\n",
       "      <td>0.025646</td>\n",
       "      <td>-0.025646</td>\n",
       "      <td>0.039174</td>\n",
       "      <td>-0.039174</td>\n",
       "      <td>-1.000000</td>\n",
       "      <td>1.000000</td>\n",
       "      <td>-0.097735</td>\n",
       "      <td>0.097735</td>\n",
       "      <td>0.018365</td>\n",
       "      <td>-0.018365</td>\n",
       "      <td>-0.012628</td>\n",
       "      <td>0.012628</td>\n",
       "      <td>-0.033040</td>\n",
       "      <td>0.033040</td>\n",
       "      <td>-0.050082</td>\n",
       "      <td>0.050082</td>\n",
       "      <td>-0.020636</td>\n",
       "      <td>0.020636</td>\n",
       "      <td>0.058209</td>\n",
       "      <td>-0.058209</td>\n",
       "    </tr>\n",
       "    <tr>\n",
       "      <th>famsup_no</th>\n",
       "      <td>0.145575</td>\n",
       "      <td>-0.192269</td>\n",
       "      <td>-0.173079</td>\n",
       "      <td>0.008755</td>\n",
       "      <td>-0.108577</td>\n",
       "      <td>0.063403</td>\n",
       "      <td>-0.006285</td>\n",
       "      <td>-0.024763</td>\n",
       "      <td>0.041586</td>\n",
       "      <td>-0.012043</td>\n",
       "      <td>-0.073118</td>\n",
       "      <td>-0.005992</td>\n",
       "      <td>-0.160006</td>\n",
       "      <td>0.160006</td>\n",
       "      <td>-0.192193</td>\n",
       "      <td>0.192193</td>\n",
       "      <td>0.042120</td>\n",
       "      <td>-0.042120</td>\n",
       "      <td>-0.095131</td>\n",
       "      <td>0.095131</td>\n",
       "      <td>-0.009198</td>\n",
       "      <td>0.009198</td>\n",
       "      <td>0.097735</td>\n",
       "      <td>-0.097735</td>\n",
       "      <td>1.000000</td>\n",
       "      <td>-1.000000</td>\n",
       "      <td>0.255264</td>\n",
       "      <td>-0.255264</td>\n",
       "      <td>-0.003971</td>\n",
       "      <td>0.003971</td>\n",
       "      <td>0.044423</td>\n",
       "      <td>-0.044423</td>\n",
       "      <td>0.085340</td>\n",
       "      <td>-0.085340</td>\n",
       "      <td>0.091641</td>\n",
       "      <td>-0.091641</td>\n",
       "      <td>0.042813</td>\n",
       "      <td>-0.042813</td>\n",
       "    </tr>\n",
       "    <tr>\n",
       "      <th>famsup_yes</th>\n",
       "      <td>-0.145575</td>\n",
       "      <td>0.192269</td>\n",
       "      <td>0.173079</td>\n",
       "      <td>-0.008755</td>\n",
       "      <td>0.108577</td>\n",
       "      <td>-0.063403</td>\n",
       "      <td>0.006285</td>\n",
       "      <td>0.024763</td>\n",
       "      <td>-0.041586</td>\n",
       "      <td>0.012043</td>\n",
       "      <td>0.073118</td>\n",
       "      <td>0.005992</td>\n",
       "      <td>0.160006</td>\n",
       "      <td>-0.160006</td>\n",
       "      <td>0.192193</td>\n",
       "      <td>-0.192193</td>\n",
       "      <td>-0.042120</td>\n",
       "      <td>0.042120</td>\n",
       "      <td>0.095131</td>\n",
       "      <td>-0.095131</td>\n",
       "      <td>0.009198</td>\n",
       "      <td>-0.009198</td>\n",
       "      <td>-0.097735</td>\n",
       "      <td>0.097735</td>\n",
       "      <td>-1.000000</td>\n",
       "      <td>1.000000</td>\n",
       "      <td>-0.255264</td>\n",
       "      <td>0.255264</td>\n",
       "      <td>0.003971</td>\n",
       "      <td>-0.003971</td>\n",
       "      <td>-0.044423</td>\n",
       "      <td>0.044423</td>\n",
       "      <td>-0.085340</td>\n",
       "      <td>0.085340</td>\n",
       "      <td>-0.091641</td>\n",
       "      <td>0.091641</td>\n",
       "      <td>-0.042813</td>\n",
       "      <td>0.042813</td>\n",
       "    </tr>\n",
       "    <tr>\n",
       "      <th>paid_no</th>\n",
       "      <td>0.037896</td>\n",
       "      <td>-0.171995</td>\n",
       "      <td>-0.100588</td>\n",
       "      <td>0.033011</td>\n",
       "      <td>-0.141592</td>\n",
       "      <td>0.153392</td>\n",
       "      <td>0.003808</td>\n",
       "      <td>0.073130</td>\n",
       "      <td>-0.005732</td>\n",
       "      <td>0.056983</td>\n",
       "      <td>0.006123</td>\n",
       "      <td>-0.084386</td>\n",
       "      <td>-0.075274</td>\n",
       "      <td>0.075274</td>\n",
       "      <td>-0.035541</td>\n",
       "      <td>0.035541</td>\n",
       "      <td>0.037233</td>\n",
       "      <td>-0.037233</td>\n",
       "      <td>-0.043898</td>\n",
       "      <td>0.043898</td>\n",
       "      <td>0.066867</td>\n",
       "      <td>-0.066867</td>\n",
       "      <td>-0.018365</td>\n",
       "      <td>0.018365</td>\n",
       "      <td>0.255264</td>\n",
       "      <td>-0.255264</td>\n",
       "      <td>1.000000</td>\n",
       "      <td>-1.000000</td>\n",
       "      <td>0.033259</td>\n",
       "      <td>-0.033259</td>\n",
       "      <td>0.103303</td>\n",
       "      <td>-0.103303</td>\n",
       "      <td>0.152148</td>\n",
       "      <td>-0.152148</td>\n",
       "      <td>0.120222</td>\n",
       "      <td>-0.120222</td>\n",
       "      <td>-0.018904</td>\n",
       "      <td>0.018904</td>\n",
       "    </tr>\n",
       "    <tr>\n",
       "      <th>paid_yes</th>\n",
       "      <td>-0.037896</td>\n",
       "      <td>0.171995</td>\n",
       "      <td>0.100588</td>\n",
       "      <td>-0.033011</td>\n",
       "      <td>0.141592</td>\n",
       "      <td>-0.153392</td>\n",
       "      <td>-0.003808</td>\n",
       "      <td>-0.073130</td>\n",
       "      <td>0.005732</td>\n",
       "      <td>-0.056983</td>\n",
       "      <td>-0.006123</td>\n",
       "      <td>0.084386</td>\n",
       "      <td>0.075274</td>\n",
       "      <td>-0.075274</td>\n",
       "      <td>0.035541</td>\n",
       "      <td>-0.035541</td>\n",
       "      <td>-0.037233</td>\n",
       "      <td>0.037233</td>\n",
       "      <td>0.043898</td>\n",
       "      <td>-0.043898</td>\n",
       "      <td>-0.066867</td>\n",
       "      <td>0.066867</td>\n",
       "      <td>0.018365</td>\n",
       "      <td>-0.018365</td>\n",
       "      <td>-0.255264</td>\n",
       "      <td>0.255264</td>\n",
       "      <td>-1.000000</td>\n",
       "      <td>1.000000</td>\n",
       "      <td>-0.033259</td>\n",
       "      <td>0.033259</td>\n",
       "      <td>-0.103303</td>\n",
       "      <td>0.103303</td>\n",
       "      <td>-0.152148</td>\n",
       "      <td>0.152148</td>\n",
       "      <td>-0.120222</td>\n",
       "      <td>0.120222</td>\n",
       "      <td>0.018904</td>\n",
       "      <td>-0.018904</td>\n",
       "    </tr>\n",
       "    <tr>\n",
       "      <th>activities_no</th>\n",
       "      <td>0.078574</td>\n",
       "      <td>-0.101160</td>\n",
       "      <td>-0.090888</td>\n",
       "      <td>0.026213</td>\n",
       "      <td>-0.117063</td>\n",
       "      <td>0.081135</td>\n",
       "      <td>-0.060852</td>\n",
       "      <td>-0.084097</td>\n",
       "      <td>-0.056934</td>\n",
       "      <td>-0.049392</td>\n",
       "      <td>0.030301</td>\n",
       "      <td>-0.018118</td>\n",
       "      <td>0.110052</td>\n",
       "      <td>-0.110052</td>\n",
       "      <td>-0.099845</td>\n",
       "      <td>0.099845</td>\n",
       "      <td>-0.063173</td>\n",
       "      <td>0.063173</td>\n",
       "      <td>-0.043898</td>\n",
       "      <td>0.043898</td>\n",
       "      <td>0.102353</td>\n",
       "      <td>-0.102353</td>\n",
       "      <td>0.012628</td>\n",
       "      <td>-0.012628</td>\n",
       "      <td>-0.003971</td>\n",
       "      <td>0.003971</td>\n",
       "      <td>0.033259</td>\n",
       "      <td>-0.033259</td>\n",
       "      <td>1.000000</td>\n",
       "      <td>-1.000000</td>\n",
       "      <td>-0.025743</td>\n",
       "      <td>0.025743</td>\n",
       "      <td>0.104437</td>\n",
       "      <td>-0.104437</td>\n",
       "      <td>0.061192</td>\n",
       "      <td>-0.061192</td>\n",
       "      <td>-0.018904</td>\n",
       "      <td>0.018904</td>\n",
       "    </tr>\n",
       "    <tr>\n",
       "      <th>activities_yes</th>\n",
       "      <td>-0.078574</td>\n",
       "      <td>0.101160</td>\n",
       "      <td>0.090888</td>\n",
       "      <td>-0.026213</td>\n",
       "      <td>0.117063</td>\n",
       "      <td>-0.081135</td>\n",
       "      <td>0.060852</td>\n",
       "      <td>0.084097</td>\n",
       "      <td>0.056934</td>\n",
       "      <td>0.049392</td>\n",
       "      <td>-0.030301</td>\n",
       "      <td>0.018118</td>\n",
       "      <td>-0.110052</td>\n",
       "      <td>0.110052</td>\n",
       "      <td>0.099845</td>\n",
       "      <td>-0.099845</td>\n",
       "      <td>0.063173</td>\n",
       "      <td>-0.063173</td>\n",
       "      <td>0.043898</td>\n",
       "      <td>-0.043898</td>\n",
       "      <td>-0.102353</td>\n",
       "      <td>0.102353</td>\n",
       "      <td>-0.012628</td>\n",
       "      <td>0.012628</td>\n",
       "      <td>0.003971</td>\n",
       "      <td>-0.003971</td>\n",
       "      <td>-0.033259</td>\n",
       "      <td>0.033259</td>\n",
       "      <td>-1.000000</td>\n",
       "      <td>1.000000</td>\n",
       "      <td>0.025743</td>\n",
       "      <td>-0.025743</td>\n",
       "      <td>-0.104437</td>\n",
       "      <td>0.104437</td>\n",
       "      <td>-0.061192</td>\n",
       "      <td>0.061192</td>\n",
       "      <td>0.018904</td>\n",
       "      <td>-0.018904</td>\n",
       "    </tr>\n",
       "    <tr>\n",
       "      <th>nursery_no</th>\n",
       "      <td>0.087478</td>\n",
       "      <td>-0.172934</td>\n",
       "      <td>-0.141200</td>\n",
       "      <td>0.023594</td>\n",
       "      <td>-0.090573</td>\n",
       "      <td>0.092902</td>\n",
       "      <td>0.026204</td>\n",
       "      <td>0.027454</td>\n",
       "      <td>0.010945</td>\n",
       "      <td>0.008602</td>\n",
       "      <td>-0.040886</td>\n",
       "      <td>-0.049098</td>\n",
       "      <td>0.008004</td>\n",
       "      <td>-0.008004</td>\n",
       "      <td>-0.102725</td>\n",
       "      <td>0.102725</td>\n",
       "      <td>0.040483</td>\n",
       "      <td>-0.040483</td>\n",
       "      <td>0.089288</td>\n",
       "      <td>-0.089288</td>\n",
       "      <td>-0.069594</td>\n",
       "      <td>0.069594</td>\n",
       "      <td>0.033040</td>\n",
       "      <td>-0.033040</td>\n",
       "      <td>0.044423</td>\n",
       "      <td>-0.044423</td>\n",
       "      <td>0.103303</td>\n",
       "      <td>-0.103303</td>\n",
       "      <td>-0.025743</td>\n",
       "      <td>0.025743</td>\n",
       "      <td>1.000000</td>\n",
       "      <td>-1.000000</td>\n",
       "      <td>0.067022</td>\n",
       "      <td>-0.067022</td>\n",
       "      <td>0.039129</td>\n",
       "      <td>-0.039129</td>\n",
       "      <td>0.018690</td>\n",
       "      <td>-0.018690</td>\n",
       "    </tr>\n",
       "    <tr>\n",
       "      <th>nursery_yes</th>\n",
       "      <td>-0.087478</td>\n",
       "      <td>0.172934</td>\n",
       "      <td>0.141200</td>\n",
       "      <td>-0.023594</td>\n",
       "      <td>0.090573</td>\n",
       "      <td>-0.092902</td>\n",
       "      <td>-0.026204</td>\n",
       "      <td>-0.027454</td>\n",
       "      <td>-0.010945</td>\n",
       "      <td>-0.008602</td>\n",
       "      <td>0.040886</td>\n",
       "      <td>0.049098</td>\n",
       "      <td>-0.008004</td>\n",
       "      <td>0.008004</td>\n",
       "      <td>0.102725</td>\n",
       "      <td>-0.102725</td>\n",
       "      <td>-0.040483</td>\n",
       "      <td>0.040483</td>\n",
       "      <td>-0.089288</td>\n",
       "      <td>0.089288</td>\n",
       "      <td>0.069594</td>\n",
       "      <td>-0.069594</td>\n",
       "      <td>-0.033040</td>\n",
       "      <td>0.033040</td>\n",
       "      <td>-0.044423</td>\n",
       "      <td>0.044423</td>\n",
       "      <td>-0.103303</td>\n",
       "      <td>0.103303</td>\n",
       "      <td>0.025743</td>\n",
       "      <td>-0.025743</td>\n",
       "      <td>-1.000000</td>\n",
       "      <td>1.000000</td>\n",
       "      <td>-0.067022</td>\n",
       "      <td>0.067022</td>\n",
       "      <td>-0.039129</td>\n",
       "      <td>0.039129</td>\n",
       "      <td>-0.018690</td>\n",
       "      <td>0.018690</td>\n",
       "    </tr>\n",
       "    <tr>\n",
       "      <th>higher_no</th>\n",
       "      <td>0.209497</td>\n",
       "      <td>-0.170924</td>\n",
       "      <td>-0.173544</td>\n",
       "      <td>0.099433</td>\n",
       "      <td>-0.166190</td>\n",
       "      <td>0.270493</td>\n",
       "      <td>-0.011952</td>\n",
       "      <td>0.046783</td>\n",
       "      <td>0.024203</td>\n",
       "      <td>0.007349</td>\n",
       "      <td>-0.002141</td>\n",
       "      <td>-0.183924</td>\n",
       "      <td>-0.142433</td>\n",
       "      <td>0.142433</td>\n",
       "      <td>-0.029908</td>\n",
       "      <td>0.029908</td>\n",
       "      <td>0.056652</td>\n",
       "      <td>-0.056652</td>\n",
       "      <td>-0.020667</td>\n",
       "      <td>0.020667</td>\n",
       "      <td>-0.031211</td>\n",
       "      <td>0.031211</td>\n",
       "      <td>0.050082</td>\n",
       "      <td>-0.050082</td>\n",
       "      <td>0.085340</td>\n",
       "      <td>-0.085340</td>\n",
       "      <td>0.152148</td>\n",
       "      <td>-0.152148</td>\n",
       "      <td>0.104437</td>\n",
       "      <td>-0.104437</td>\n",
       "      <td>0.067022</td>\n",
       "      <td>-0.067022</td>\n",
       "      <td>1.000000</td>\n",
       "      <td>-1.000000</td>\n",
       "      <td>0.044966</td>\n",
       "      <td>-0.044966</td>\n",
       "      <td>-0.128050</td>\n",
       "      <td>0.128050</td>\n",
       "    </tr>\n",
       "    <tr>\n",
       "      <th>higher_yes</th>\n",
       "      <td>-0.209497</td>\n",
       "      <td>0.170924</td>\n",
       "      <td>0.173544</td>\n",
       "      <td>-0.099433</td>\n",
       "      <td>0.166190</td>\n",
       "      <td>-0.270493</td>\n",
       "      <td>0.011952</td>\n",
       "      <td>-0.046783</td>\n",
       "      <td>-0.024203</td>\n",
       "      <td>-0.007349</td>\n",
       "      <td>0.002141</td>\n",
       "      <td>0.183924</td>\n",
       "      <td>0.142433</td>\n",
       "      <td>-0.142433</td>\n",
       "      <td>0.029908</td>\n",
       "      <td>-0.029908</td>\n",
       "      <td>-0.056652</td>\n",
       "      <td>0.056652</td>\n",
       "      <td>0.020667</td>\n",
       "      <td>-0.020667</td>\n",
       "      <td>0.031211</td>\n",
       "      <td>-0.031211</td>\n",
       "      <td>-0.050082</td>\n",
       "      <td>0.050082</td>\n",
       "      <td>-0.085340</td>\n",
       "      <td>0.085340</td>\n",
       "      <td>-0.152148</td>\n",
       "      <td>0.152148</td>\n",
       "      <td>-0.104437</td>\n",
       "      <td>0.104437</td>\n",
       "      <td>-0.067022</td>\n",
       "      <td>0.067022</td>\n",
       "      <td>-1.000000</td>\n",
       "      <td>1.000000</td>\n",
       "      <td>-0.044966</td>\n",
       "      <td>0.044966</td>\n",
       "      <td>0.128050</td>\n",
       "      <td>-0.128050</td>\n",
       "    </tr>\n",
       "    <tr>\n",
       "      <th>internet_no</th>\n",
       "      <td>0.116484</td>\n",
       "      <td>-0.198374</td>\n",
       "      <td>-0.134228</td>\n",
       "      <td>0.095915</td>\n",
       "      <td>-0.043815</td>\n",
       "      <td>0.072924</td>\n",
       "      <td>-0.056919</td>\n",
       "      <td>-0.090379</td>\n",
       "      <td>-0.100789</td>\n",
       "      <td>0.093497</td>\n",
       "      <td>-0.084244</td>\n",
       "      <td>-0.056222</td>\n",
       "      <td>0.061412</td>\n",
       "      <td>-0.061412</td>\n",
       "      <td>-0.106978</td>\n",
       "      <td>0.106978</td>\n",
       "      <td>0.202870</td>\n",
       "      <td>-0.202870</td>\n",
       "      <td>0.002124</td>\n",
       "      <td>-0.002124</td>\n",
       "      <td>0.048629</td>\n",
       "      <td>-0.048629</td>\n",
       "      <td>0.020636</td>\n",
       "      <td>-0.020636</td>\n",
       "      <td>0.091641</td>\n",
       "      <td>-0.091641</td>\n",
       "      <td>0.120222</td>\n",
       "      <td>-0.120222</td>\n",
       "      <td>0.061192</td>\n",
       "      <td>-0.061192</td>\n",
       "      <td>0.039129</td>\n",
       "      <td>-0.039129</td>\n",
       "      <td>0.044966</td>\n",
       "      <td>-0.044966</td>\n",
       "      <td>1.000000</td>\n",
       "      <td>-1.000000</td>\n",
       "      <td>0.069669</td>\n",
       "      <td>-0.069669</td>\n",
       "    </tr>\n",
       "    <tr>\n",
       "      <th>internet_yes</th>\n",
       "      <td>-0.116484</td>\n",
       "      <td>0.198374</td>\n",
       "      <td>0.134228</td>\n",
       "      <td>-0.095915</td>\n",
       "      <td>0.043815</td>\n",
       "      <td>-0.072924</td>\n",
       "      <td>0.056919</td>\n",
       "      <td>0.090379</td>\n",
       "      <td>0.100789</td>\n",
       "      <td>-0.093497</td>\n",
       "      <td>0.084244</td>\n",
       "      <td>0.056222</td>\n",
       "      <td>-0.061412</td>\n",
       "      <td>0.061412</td>\n",
       "      <td>0.106978</td>\n",
       "      <td>-0.106978</td>\n",
       "      <td>-0.202870</td>\n",
       "      <td>0.202870</td>\n",
       "      <td>-0.002124</td>\n",
       "      <td>0.002124</td>\n",
       "      <td>-0.048629</td>\n",
       "      <td>0.048629</td>\n",
       "      <td>-0.020636</td>\n",
       "      <td>0.020636</td>\n",
       "      <td>-0.091641</td>\n",
       "      <td>0.091641</td>\n",
       "      <td>-0.120222</td>\n",
       "      <td>0.120222</td>\n",
       "      <td>-0.061192</td>\n",
       "      <td>0.061192</td>\n",
       "      <td>-0.039129</td>\n",
       "      <td>0.039129</td>\n",
       "      <td>-0.044966</td>\n",
       "      <td>0.044966</td>\n",
       "      <td>-1.000000</td>\n",
       "      <td>1.000000</td>\n",
       "      <td>-0.069669</td>\n",
       "      <td>0.069669</td>\n",
       "    </tr>\n",
       "    <tr>\n",
       "      <th>romantic_no</th>\n",
       "      <td>-0.162512</td>\n",
       "      <td>-0.012478</td>\n",
       "      <td>-0.010295</td>\n",
       "      <td>-0.049097</td>\n",
       "      <td>-0.049933</td>\n",
       "      <td>-0.109206</td>\n",
       "      <td>0.067801</td>\n",
       "      <td>0.033115</td>\n",
       "      <td>-0.008093</td>\n",
       "      <td>-0.015411</td>\n",
       "      <td>-0.113065</td>\n",
       "      <td>0.136042</td>\n",
       "      <td>-0.138335</td>\n",
       "      <td>0.138335</td>\n",
       "      <td>0.065186</td>\n",
       "      <td>-0.065186</td>\n",
       "      <td>-0.010199</td>\n",
       "      <td>0.010199</td>\n",
       "      <td>0.002069</td>\n",
       "      <td>-0.002069</td>\n",
       "      <td>-0.049925</td>\n",
       "      <td>0.049925</td>\n",
       "      <td>-0.058209</td>\n",
       "      <td>0.058209</td>\n",
       "      <td>0.042813</td>\n",
       "      <td>-0.042813</td>\n",
       "      <td>-0.018904</td>\n",
       "      <td>0.018904</td>\n",
       "      <td>-0.018904</td>\n",
       "      <td>0.018904</td>\n",
       "      <td>0.018690</td>\n",
       "      <td>-0.018690</td>\n",
       "      <td>-0.128050</td>\n",
       "      <td>0.128050</td>\n",
       "      <td>0.069669</td>\n",
       "      <td>-0.069669</td>\n",
       "      <td>1.000000</td>\n",
       "      <td>-1.000000</td>\n",
       "    </tr>\n",
       "    <tr>\n",
       "      <th>romantic_yes</th>\n",
       "      <td>0.162512</td>\n",
       "      <td>0.012478</td>\n",
       "      <td>0.010295</td>\n",
       "      <td>0.049097</td>\n",
       "      <td>0.049933</td>\n",
       "      <td>0.109206</td>\n",
       "      <td>-0.067801</td>\n",
       "      <td>-0.033115</td>\n",
       "      <td>0.008093</td>\n",
       "      <td>0.015411</td>\n",
       "      <td>0.113065</td>\n",
       "      <td>-0.136042</td>\n",
       "      <td>0.138335</td>\n",
       "      <td>-0.138335</td>\n",
       "      <td>-0.065186</td>\n",
       "      <td>0.065186</td>\n",
       "      <td>0.010199</td>\n",
       "      <td>-0.010199</td>\n",
       "      <td>-0.002069</td>\n",
       "      <td>0.002069</td>\n",
       "      <td>0.049925</td>\n",
       "      <td>-0.049925</td>\n",
       "      <td>0.058209</td>\n",
       "      <td>-0.058209</td>\n",
       "      <td>-0.042813</td>\n",
       "      <td>0.042813</td>\n",
       "      <td>0.018904</td>\n",
       "      <td>-0.018904</td>\n",
       "      <td>0.018904</td>\n",
       "      <td>-0.018904</td>\n",
       "      <td>-0.018690</td>\n",
       "      <td>0.018690</td>\n",
       "      <td>0.128050</td>\n",
       "      <td>-0.128050</td>\n",
       "      <td>-0.069669</td>\n",
       "      <td>0.069669</td>\n",
       "      <td>-1.000000</td>\n",
       "      <td>1.000000</td>\n",
       "    </tr>\n",
       "  </tbody>\n",
       "</table>\n",
       "</div>"
      ],
      "text/plain": [
       "                     age      Medu      Fedu  traveltime  studytime  failures  \\\n",
       "age             1.000000 -0.146405 -0.143849    0.070212  -0.018019  0.206279   \n",
       "Medu           -0.146405  1.000000  0.589360   -0.149258   0.079513 -0.239668   \n",
       "Fedu           -0.143849  0.589360  1.000000   -0.109999   0.011723 -0.260794   \n",
       "traveltime      0.070212 -0.149258 -0.109999    1.000000  -0.102979  0.086399   \n",
       "studytime      -0.018019  0.079513  0.011723   -0.102979   1.000000 -0.169399   \n",
       "failures        0.206279 -0.239668 -0.260794    0.086399  -0.169399  1.000000   \n",
       "famrel          0.056941 -0.003566 -0.015492    0.002038   0.037950 -0.028517   \n",
       "freetime        0.013994  0.037699 -0.022669   -0.041205  -0.122057  0.087558   \n",
       "goout           0.121057  0.071235  0.046401    0.044696  -0.053554  0.101036   \n",
       "health         -0.061752 -0.067791 -0.015777    0.004051  -0.063876  0.079030   \n",
       "absences        0.192897  0.098201  0.019381   -0.028489  -0.082602  0.100804   \n",
       "score          -0.155726  0.209758  0.124829   -0.106562   0.114295 -0.337187   \n",
       "sex_F           0.030956 -0.084161 -0.025312   -0.056806   0.304851 -0.021199   \n",
       "sex_M          -0.030956  0.084161  0.025312    0.056806  -0.304851  0.021199   \n",
       "school_GP      -0.379549  0.129834  0.078285   -0.238118   0.092208 -0.046515   \n",
       "school_MS       0.379549 -0.129834 -0.078285    0.238118  -0.092208  0.046515   \n",
       "address_R       0.149408 -0.160191 -0.072087    0.373484   0.044997  0.091669   \n",
       "address_U      -0.149408  0.160191  0.072087   -0.373484  -0.044997 -0.091669   \n",
       "famsize_GT3    -0.031576  0.059450  0.071064   -0.038349   0.074499 -0.016117   \n",
       "famsize_LE3     0.031576 -0.059450 -0.071064    0.038349  -0.074499  0.016117   \n",
       "Pstatus_A      -0.008750  0.124887  0.084832   -0.064187  -0.003128 -0.001314   \n",
       "Pstatus_T       0.008750 -0.124887 -0.084832    0.064187   0.003128  0.001314   \n",
       "schoolsup_no    0.257442  0.026066 -0.048880   -0.005925  -0.039144 -0.020515   \n",
       "schoolsup_yes  -0.257442 -0.026066  0.048880    0.005925   0.039144  0.020515   \n",
       "famsup_no       0.145575 -0.192269 -0.173079    0.008755  -0.108577  0.063403   \n",
       "famsup_yes     -0.145575  0.192269  0.173079   -0.008755   0.108577 -0.063403   \n",
       "paid_no         0.037896 -0.171995 -0.100588    0.033011  -0.141592  0.153392   \n",
       "paid_yes       -0.037896  0.171995  0.100588   -0.033011   0.141592 -0.153392   \n",
       "activities_no   0.078574 -0.101160 -0.090888    0.026213  -0.117063  0.081135   \n",
       "activities_yes -0.078574  0.101160  0.090888   -0.026213   0.117063 -0.081135   \n",
       "nursery_no      0.087478 -0.172934 -0.141200    0.023594  -0.090573  0.092902   \n",
       "nursery_yes    -0.087478  0.172934  0.141200   -0.023594   0.090573 -0.092902   \n",
       "higher_no       0.209497 -0.170924 -0.173544    0.099433  -0.166190  0.270493   \n",
       "higher_yes     -0.209497  0.170924  0.173544   -0.099433   0.166190 -0.270493   \n",
       "internet_no     0.116484 -0.198374 -0.134228    0.095915  -0.043815  0.072924   \n",
       "internet_yes   -0.116484  0.198374  0.134228   -0.095915   0.043815 -0.072924   \n",
       "romantic_no    -0.162512 -0.012478 -0.010295   -0.049097  -0.049933 -0.109206   \n",
       "romantic_yes    0.162512  0.012478  0.010295    0.049097   0.049933  0.109206   \n",
       "\n",
       "                  famrel  freetime     goout    health  absences     score  \\\n",
       "age             0.056941  0.013994  0.121057 -0.061752  0.192897 -0.155726   \n",
       "Medu           -0.003566  0.037699  0.071235 -0.067791  0.098201  0.209758   \n",
       "Fedu           -0.015492 -0.022669  0.046401 -0.015777  0.019381  0.124829   \n",
       "traveltime      0.002038 -0.041205  0.044696  0.004051 -0.028489 -0.106562   \n",
       "studytime       0.037950 -0.122057 -0.053554 -0.063876 -0.082602  0.114295   \n",
       "failures       -0.028517  0.087558  0.101036  0.079030  0.100804 -0.337187   \n",
       "famrel          1.000000  0.164830  0.069514  0.093256 -0.085939  0.052902   \n",
       "freetime        0.164830  1.000000  0.294450  0.067629  0.003876  0.017481   \n",
       "goout           0.069514  0.294450  1.000000 -0.015108  0.084490 -0.127742   \n",
       "health          0.093256  0.067629 -0.015108  1.000000 -0.049303 -0.080583   \n",
       "absences       -0.085939  0.003876  0.084490 -0.049303  1.000000  0.068007   \n",
       "score           0.052902  0.017481 -0.127742 -0.080583  0.068007  1.000000   \n",
       "sex_F          -0.046715 -0.228632 -0.092635 -0.148973  0.037638 -0.099285   \n",
       "sex_M           0.046715  0.228632  0.092635  0.148973 -0.037638  0.099285   \n",
       "school_GP       0.039872 -0.034138  0.008473  0.042288  0.092264  0.044524   \n",
       "school_MS      -0.039872  0.034138 -0.008473 -0.042288 -0.092264 -0.044524   \n",
       "address_R       0.013683 -0.058433 -0.066354  0.041864  0.000025 -0.121377   \n",
       "address_U      -0.013683  0.058433  0.066354 -0.041864 -0.000025  0.121377   \n",
       "famsize_GT3     0.017595 -0.021239 -0.042201  0.035790 -0.034758 -0.064874   \n",
       "famsize_LE3    -0.017595  0.021239  0.042201 -0.035790  0.034758  0.064874   \n",
       "Pstatus_A      -0.008838 -0.044000 -0.034785 -0.006963  0.139762  0.040135   \n",
       "Pstatus_T       0.008838  0.044000  0.034785  0.006963 -0.139762 -0.040135   \n",
       "schoolsup_no    0.009768  0.052964  0.038818  0.048194 -0.036465  0.086598   \n",
       "schoolsup_yes  -0.009768 -0.052964 -0.038818 -0.048194  0.036465 -0.086598   \n",
       "famsup_no      -0.006285 -0.024763  0.041586 -0.012043 -0.073118 -0.005992   \n",
       "famsup_yes      0.006285  0.024763 -0.041586  0.012043  0.073118  0.005992   \n",
       "paid_no         0.003808  0.073130 -0.005732  0.056983  0.006123 -0.084386   \n",
       "paid_yes       -0.003808 -0.073130  0.005732 -0.056983 -0.006123  0.084386   \n",
       "activities_no  -0.060852 -0.084097 -0.056934 -0.049392  0.030301 -0.018118   \n",
       "activities_yes  0.060852  0.084097  0.056934  0.049392 -0.030301  0.018118   \n",
       "nursery_no      0.026204  0.027454  0.010945  0.008602 -0.040886 -0.049098   \n",
       "nursery_yes    -0.026204 -0.027454 -0.010945 -0.008602  0.040886  0.049098   \n",
       "higher_no      -0.011952  0.046783  0.024203  0.007349 -0.002141 -0.183924   \n",
       "higher_yes      0.011952 -0.046783 -0.024203 -0.007349  0.002141  0.183924   \n",
       "internet_no    -0.056919 -0.090379 -0.100789  0.093497 -0.084244 -0.056222   \n",
       "internet_yes    0.056919  0.090379  0.100789 -0.093497  0.084244  0.056222   \n",
       "romantic_no     0.067801  0.033115 -0.008093 -0.015411 -0.113065  0.136042   \n",
       "romantic_yes   -0.067801 -0.033115  0.008093  0.015411  0.113065 -0.136042   \n",
       "\n",
       "                   sex_F     sex_M  school_GP  school_MS  address_R  \\\n",
       "age             0.030956 -0.030956  -0.379549   0.379549   0.149408   \n",
       "Medu           -0.084161  0.084161   0.129834  -0.129834  -0.160191   \n",
       "Fedu           -0.025312  0.025312   0.078285  -0.078285  -0.072087   \n",
       "traveltime     -0.056806  0.056806  -0.238118   0.238118   0.373484   \n",
       "studytime       0.304851 -0.304851   0.092208  -0.092208   0.044997   \n",
       "failures       -0.021199  0.021199  -0.046515   0.046515   0.091669   \n",
       "famrel         -0.046715  0.046715   0.039872  -0.039872   0.013683   \n",
       "freetime       -0.228632  0.228632  -0.034138   0.034138  -0.058433   \n",
       "goout          -0.092635  0.092635   0.008473  -0.008473  -0.066354   \n",
       "health         -0.148973  0.148973   0.042288  -0.042288   0.041864   \n",
       "absences        0.037638 -0.037638   0.092264  -0.092264   0.000025   \n",
       "score          -0.099285  0.099285   0.044524  -0.044524  -0.121377   \n",
       "sex_F           1.000000 -1.000000  -0.022548   0.022548   0.005943   \n",
       "sex_M          -1.000000  1.000000   0.022548  -0.022548  -0.005943   \n",
       "school_GP      -0.022548  0.022548   1.000000  -1.000000  -0.262857   \n",
       "school_MS       0.022548 -0.022548  -1.000000   1.000000   0.262857   \n",
       "address_R       0.005943 -0.005943  -0.262857   0.262857   1.000000   \n",
       "address_U      -0.005943  0.005943   0.262857  -0.262857  -1.000000   \n",
       "famsize_GT3     0.081996 -0.081996   0.065194  -0.065194   0.067875   \n",
       "famsize_LE3    -0.081996  0.081996  -0.065194   0.065194  -0.067875   \n",
       "Pstatus_A       0.037672 -0.037672   0.060033  -0.060033  -0.058056   \n",
       "Pstatus_T      -0.037672  0.037672  -0.060033   0.060033   0.058056   \n",
       "schoolsup_no   -0.128814  0.128814  -0.137305   0.137305   0.027516   \n",
       "schoolsup_yes   0.128814 -0.128814   0.137305  -0.137305  -0.027516   \n",
       "famsup_no      -0.160006  0.160006  -0.192193   0.192193   0.042120   \n",
       "famsup_yes      0.160006 -0.160006   0.192193  -0.192193  -0.042120   \n",
       "paid_no        -0.075274  0.075274  -0.035541   0.035541   0.037233   \n",
       "paid_yes        0.075274 -0.075274   0.035541  -0.035541  -0.037233   \n",
       "activities_no   0.110052 -0.110052  -0.099845   0.099845  -0.063173   \n",
       "activities_yes -0.110052  0.110052   0.099845  -0.099845   0.063173   \n",
       "nursery_no      0.008004 -0.008004  -0.102725   0.102725   0.040483   \n",
       "nursery_yes    -0.008004  0.008004   0.102725  -0.102725  -0.040483   \n",
       "higher_no      -0.142433  0.142433  -0.029908   0.029908   0.056652   \n",
       "higher_yes      0.142433 -0.142433   0.029908  -0.029908  -0.056652   \n",
       "internet_no     0.061412 -0.061412  -0.106978   0.106978   0.202870   \n",
       "internet_yes   -0.061412  0.061412   0.106978  -0.106978  -0.202870   \n",
       "romantic_no    -0.138335  0.138335   0.065186  -0.065186  -0.010199   \n",
       "romantic_yes    0.138335 -0.138335  -0.065186   0.065186   0.010199   \n",
       "\n",
       "                address_U  famsize_GT3  famsize_LE3  Pstatus_A  Pstatus_T  \\\n",
       "age             -0.149408    -0.031576     0.031576  -0.008750   0.008750   \n",
       "Medu             0.160191     0.059450    -0.059450   0.124887  -0.124887   \n",
       "Fedu             0.072087     0.071064    -0.071064   0.084832  -0.084832   \n",
       "traveltime      -0.373484    -0.038349     0.038349  -0.064187   0.064187   \n",
       "studytime       -0.044997     0.074499    -0.074499  -0.003128   0.003128   \n",
       "failures        -0.091669    -0.016117     0.016117  -0.001314   0.001314   \n",
       "famrel          -0.013683     0.017595    -0.017595  -0.008838   0.008838   \n",
       "freetime         0.058433    -0.021239     0.021239  -0.044000   0.044000   \n",
       "goout            0.066354    -0.042201     0.042201  -0.034785   0.034785   \n",
       "health          -0.041864     0.035790    -0.035790  -0.006963   0.006963   \n",
       "absences        -0.000025    -0.034758     0.034758   0.139762  -0.139762   \n",
       "score            0.121377    -0.064874     0.064874   0.040135  -0.040135   \n",
       "sex_F           -0.005943     0.081996    -0.081996   0.037672  -0.037672   \n",
       "sex_M            0.005943    -0.081996     0.081996  -0.037672   0.037672   \n",
       "school_GP        0.262857     0.065194    -0.065194   0.060033  -0.060033   \n",
       "school_MS       -0.262857    -0.065194     0.065194  -0.060033   0.060033   \n",
       "address_R       -1.000000     0.067875    -0.067875  -0.058056   0.058056   \n",
       "address_U        1.000000    -0.067875     0.067875   0.058056  -0.058056   \n",
       "famsize_GT3     -0.067875     1.000000    -1.000000  -0.061536   0.061536   \n",
       "famsize_LE3      0.067875    -1.000000     1.000000   0.061536  -0.061536   \n",
       "Pstatus_A        0.058056    -0.061536     0.061536   1.000000  -1.000000   \n",
       "Pstatus_T       -0.058056     0.061536    -0.061536  -1.000000   1.000000   \n",
       "schoolsup_no    -0.027516    -0.025646     0.025646  -0.039174   0.039174   \n",
       "schoolsup_yes    0.027516     0.025646    -0.025646   0.039174  -0.039174   \n",
       "famsup_no       -0.042120    -0.095131     0.095131  -0.009198   0.009198   \n",
       "famsup_yes       0.042120     0.095131    -0.095131   0.009198  -0.009198   \n",
       "paid_no         -0.037233    -0.043898     0.043898   0.066867  -0.066867   \n",
       "paid_yes         0.037233     0.043898    -0.043898  -0.066867   0.066867   \n",
       "activities_no    0.063173    -0.043898     0.043898   0.102353  -0.102353   \n",
       "activities_yes  -0.063173     0.043898    -0.043898  -0.102353   0.102353   \n",
       "nursery_no      -0.040483     0.089288    -0.089288  -0.069594   0.069594   \n",
       "nursery_yes      0.040483    -0.089288     0.089288   0.069594  -0.069594   \n",
       "higher_no       -0.056652    -0.020667     0.020667  -0.031211   0.031211   \n",
       "higher_yes       0.056652     0.020667    -0.020667   0.031211  -0.031211   \n",
       "internet_no     -0.202870     0.002124    -0.002124   0.048629  -0.048629   \n",
       "internet_yes     0.202870    -0.002124     0.002124  -0.048629   0.048629   \n",
       "romantic_no      0.010199     0.002069    -0.002069  -0.049925   0.049925   \n",
       "romantic_yes    -0.010199    -0.002069     0.002069   0.049925  -0.049925   \n",
       "\n",
       "                schoolsup_no  schoolsup_yes  famsup_no  famsup_yes   paid_no  \\\n",
       "age                 0.257442      -0.257442   0.145575   -0.145575  0.037896   \n",
       "Medu                0.026066      -0.026066  -0.192269    0.192269 -0.171995   \n",
       "Fedu               -0.048880       0.048880  -0.173079    0.173079 -0.100588   \n",
       "traveltime         -0.005925       0.005925   0.008755   -0.008755  0.033011   \n",
       "studytime          -0.039144       0.039144  -0.108577    0.108577 -0.141592   \n",
       "failures           -0.020515       0.020515   0.063403   -0.063403  0.153392   \n",
       "famrel              0.009768      -0.009768  -0.006285    0.006285  0.003808   \n",
       "freetime            0.052964      -0.052964  -0.024763    0.024763  0.073130   \n",
       "goout               0.038818      -0.038818   0.041586   -0.041586 -0.005732   \n",
       "health              0.048194      -0.048194  -0.012043    0.012043  0.056983   \n",
       "absences           -0.036465       0.036465  -0.073118    0.073118  0.006123   \n",
       "score               0.086598      -0.086598  -0.005992    0.005992 -0.084386   \n",
       "sex_F              -0.128814       0.128814  -0.160006    0.160006 -0.075274   \n",
       "sex_M               0.128814      -0.128814   0.160006   -0.160006  0.075274   \n",
       "school_GP          -0.137305       0.137305  -0.192193    0.192193 -0.035541   \n",
       "school_MS           0.137305      -0.137305   0.192193   -0.192193  0.035541   \n",
       "address_R           0.027516      -0.027516   0.042120   -0.042120  0.037233   \n",
       "address_U          -0.027516       0.027516  -0.042120    0.042120 -0.037233   \n",
       "famsize_GT3        -0.025646       0.025646  -0.095131    0.095131 -0.043898   \n",
       "famsize_LE3         0.025646      -0.025646   0.095131   -0.095131  0.043898   \n",
       "Pstatus_A          -0.039174       0.039174  -0.009198    0.009198  0.066867   \n",
       "Pstatus_T           0.039174      -0.039174   0.009198   -0.009198 -0.066867   \n",
       "schoolsup_no        1.000000      -1.000000   0.097735   -0.097735 -0.018365   \n",
       "schoolsup_yes      -1.000000       1.000000  -0.097735    0.097735  0.018365   \n",
       "famsup_no           0.097735      -0.097735   1.000000   -1.000000  0.255264   \n",
       "famsup_yes         -0.097735       0.097735  -1.000000    1.000000 -0.255264   \n",
       "paid_no            -0.018365       0.018365   0.255264   -0.255264  1.000000   \n",
       "paid_yes            0.018365      -0.018365  -0.255264    0.255264 -1.000000   \n",
       "activities_no       0.012628      -0.012628  -0.003971    0.003971  0.033259   \n",
       "activities_yes     -0.012628       0.012628   0.003971   -0.003971 -0.033259   \n",
       "nursery_no          0.033040      -0.033040   0.044423   -0.044423  0.103303   \n",
       "nursery_yes        -0.033040       0.033040  -0.044423    0.044423 -0.103303   \n",
       "higher_no           0.050082      -0.050082   0.085340   -0.085340  0.152148   \n",
       "higher_yes         -0.050082       0.050082  -0.085340    0.085340 -0.152148   \n",
       "internet_no         0.020636      -0.020636   0.091641   -0.091641  0.120222   \n",
       "internet_yes       -0.020636       0.020636  -0.091641    0.091641 -0.120222   \n",
       "romantic_no        -0.058209       0.058209   0.042813   -0.042813 -0.018904   \n",
       "romantic_yes        0.058209      -0.058209  -0.042813    0.042813  0.018904   \n",
       "\n",
       "                paid_yes  activities_no  activities_yes  nursery_no  \\\n",
       "age            -0.037896       0.078574       -0.078574    0.087478   \n",
       "Medu            0.171995      -0.101160        0.101160   -0.172934   \n",
       "Fedu            0.100588      -0.090888        0.090888   -0.141200   \n",
       "traveltime     -0.033011       0.026213       -0.026213    0.023594   \n",
       "studytime       0.141592      -0.117063        0.117063   -0.090573   \n",
       "failures       -0.153392       0.081135       -0.081135    0.092902   \n",
       "famrel         -0.003808      -0.060852        0.060852    0.026204   \n",
       "freetime       -0.073130      -0.084097        0.084097    0.027454   \n",
       "goout           0.005732      -0.056934        0.056934    0.010945   \n",
       "health         -0.056983      -0.049392        0.049392    0.008602   \n",
       "absences       -0.006123       0.030301       -0.030301   -0.040886   \n",
       "score           0.084386      -0.018118        0.018118   -0.049098   \n",
       "sex_F           0.075274       0.110052       -0.110052    0.008004   \n",
       "sex_M          -0.075274      -0.110052        0.110052   -0.008004   \n",
       "school_GP       0.035541      -0.099845        0.099845   -0.102725   \n",
       "school_MS      -0.035541       0.099845       -0.099845    0.102725   \n",
       "address_R      -0.037233      -0.063173        0.063173    0.040483   \n",
       "address_U       0.037233       0.063173       -0.063173   -0.040483   \n",
       "famsize_GT3     0.043898      -0.043898        0.043898    0.089288   \n",
       "famsize_LE3    -0.043898       0.043898       -0.043898   -0.089288   \n",
       "Pstatus_A      -0.066867       0.102353       -0.102353   -0.069594   \n",
       "Pstatus_T       0.066867      -0.102353        0.102353    0.069594   \n",
       "schoolsup_no    0.018365       0.012628       -0.012628    0.033040   \n",
       "schoolsup_yes  -0.018365      -0.012628        0.012628   -0.033040   \n",
       "famsup_no      -0.255264      -0.003971        0.003971    0.044423   \n",
       "famsup_yes      0.255264       0.003971       -0.003971   -0.044423   \n",
       "paid_no        -1.000000       0.033259       -0.033259    0.103303   \n",
       "paid_yes        1.000000      -0.033259        0.033259   -0.103303   \n",
       "activities_no  -0.033259       1.000000       -1.000000   -0.025743   \n",
       "activities_yes  0.033259      -1.000000        1.000000    0.025743   \n",
       "nursery_no     -0.103303      -0.025743        0.025743    1.000000   \n",
       "nursery_yes     0.103303       0.025743       -0.025743   -1.000000   \n",
       "higher_no      -0.152148       0.104437       -0.104437    0.067022   \n",
       "higher_yes      0.152148      -0.104437        0.104437   -0.067022   \n",
       "internet_no    -0.120222       0.061192       -0.061192    0.039129   \n",
       "internet_yes    0.120222      -0.061192        0.061192   -0.039129   \n",
       "romantic_no     0.018904      -0.018904        0.018904    0.018690   \n",
       "romantic_yes   -0.018904       0.018904       -0.018904   -0.018690   \n",
       "\n",
       "                nursery_yes  higher_no  higher_yes  internet_no  internet_yes  \\\n",
       "age               -0.087478   0.209497   -0.209497     0.116484     -0.116484   \n",
       "Medu               0.172934  -0.170924    0.170924    -0.198374      0.198374   \n",
       "Fedu               0.141200  -0.173544    0.173544    -0.134228      0.134228   \n",
       "traveltime        -0.023594   0.099433   -0.099433     0.095915     -0.095915   \n",
       "studytime          0.090573  -0.166190    0.166190    -0.043815      0.043815   \n",
       "failures          -0.092902   0.270493   -0.270493     0.072924     -0.072924   \n",
       "famrel            -0.026204  -0.011952    0.011952    -0.056919      0.056919   \n",
       "freetime          -0.027454   0.046783   -0.046783    -0.090379      0.090379   \n",
       "goout             -0.010945   0.024203   -0.024203    -0.100789      0.100789   \n",
       "health            -0.008602   0.007349   -0.007349     0.093497     -0.093497   \n",
       "absences           0.040886  -0.002141    0.002141    -0.084244      0.084244   \n",
       "score              0.049098  -0.183924    0.183924    -0.056222      0.056222   \n",
       "sex_F             -0.008004  -0.142433    0.142433     0.061412     -0.061412   \n",
       "sex_M              0.008004   0.142433   -0.142433    -0.061412      0.061412   \n",
       "school_GP          0.102725  -0.029908    0.029908    -0.106978      0.106978   \n",
       "school_MS         -0.102725   0.029908   -0.029908     0.106978     -0.106978   \n",
       "address_R         -0.040483   0.056652   -0.056652     0.202870     -0.202870   \n",
       "address_U          0.040483  -0.056652    0.056652    -0.202870      0.202870   \n",
       "famsize_GT3       -0.089288  -0.020667    0.020667     0.002124     -0.002124   \n",
       "famsize_LE3        0.089288   0.020667   -0.020667    -0.002124      0.002124   \n",
       "Pstatus_A          0.069594  -0.031211    0.031211     0.048629     -0.048629   \n",
       "Pstatus_T         -0.069594   0.031211   -0.031211    -0.048629      0.048629   \n",
       "schoolsup_no      -0.033040   0.050082   -0.050082     0.020636     -0.020636   \n",
       "schoolsup_yes      0.033040  -0.050082    0.050082    -0.020636      0.020636   \n",
       "famsup_no         -0.044423   0.085340   -0.085340     0.091641     -0.091641   \n",
       "famsup_yes         0.044423  -0.085340    0.085340    -0.091641      0.091641   \n",
       "paid_no           -0.103303   0.152148   -0.152148     0.120222     -0.120222   \n",
       "paid_yes           0.103303  -0.152148    0.152148    -0.120222      0.120222   \n",
       "activities_no      0.025743   0.104437   -0.104437     0.061192     -0.061192   \n",
       "activities_yes    -0.025743  -0.104437    0.104437    -0.061192      0.061192   \n",
       "nursery_no        -1.000000   0.067022   -0.067022     0.039129     -0.039129   \n",
       "nursery_yes        1.000000  -0.067022    0.067022    -0.039129      0.039129   \n",
       "higher_no         -0.067022   1.000000   -1.000000     0.044966     -0.044966   \n",
       "higher_yes         0.067022  -1.000000    1.000000    -0.044966      0.044966   \n",
       "internet_no       -0.039129   0.044966   -0.044966     1.000000     -1.000000   \n",
       "internet_yes       0.039129  -0.044966    0.044966    -1.000000      1.000000   \n",
       "romantic_no       -0.018690  -0.128050    0.128050     0.069669     -0.069669   \n",
       "romantic_yes       0.018690   0.128050   -0.128050    -0.069669      0.069669   \n",
       "\n",
       "                romantic_no  romantic_yes  \n",
       "age               -0.162512      0.162512  \n",
       "Medu              -0.012478      0.012478  \n",
       "Fedu              -0.010295      0.010295  \n",
       "traveltime        -0.049097      0.049097  \n",
       "studytime         -0.049933      0.049933  \n",
       "failures          -0.109206      0.109206  \n",
       "famrel             0.067801     -0.067801  \n",
       "freetime           0.033115     -0.033115  \n",
       "goout             -0.008093      0.008093  \n",
       "health            -0.015411      0.015411  \n",
       "absences          -0.113065      0.113065  \n",
       "score              0.136042     -0.136042  \n",
       "sex_F             -0.138335      0.138335  \n",
       "sex_M              0.138335     -0.138335  \n",
       "school_GP          0.065186     -0.065186  \n",
       "school_MS         -0.065186      0.065186  \n",
       "address_R         -0.010199      0.010199  \n",
       "address_U          0.010199     -0.010199  \n",
       "famsize_GT3        0.002069     -0.002069  \n",
       "famsize_LE3       -0.002069      0.002069  \n",
       "Pstatus_A         -0.049925      0.049925  \n",
       "Pstatus_T          0.049925     -0.049925  \n",
       "schoolsup_no      -0.058209      0.058209  \n",
       "schoolsup_yes      0.058209     -0.058209  \n",
       "famsup_no          0.042813     -0.042813  \n",
       "famsup_yes        -0.042813      0.042813  \n",
       "paid_no           -0.018904      0.018904  \n",
       "paid_yes           0.018904     -0.018904  \n",
       "activities_no     -0.018904      0.018904  \n",
       "activities_yes     0.018904     -0.018904  \n",
       "nursery_no         0.018690     -0.018690  \n",
       "nursery_yes       -0.018690      0.018690  \n",
       "higher_no         -0.128050      0.128050  \n",
       "higher_yes         0.128050     -0.128050  \n",
       "internet_no        0.069669     -0.069669  \n",
       "internet_yes      -0.069669      0.069669  \n",
       "romantic_no        1.000000     -1.000000  \n",
       "romantic_yes      -1.000000      1.000000  "
      ]
     },
     "execution_count": 260,
     "metadata": {},
     "output_type": "execute_result"
    }
   ],
   "source": [
    "studying_dummies.corr()"
   ]
  },
  {
   "cell_type": "markdown",
   "metadata": {},
   "source": [
    "## Оставим только по одной dummy-переменной, и уберем из анализа Fedu, поскольку она коррелирует с Medu на 0.58, что выше чем любая корреляция факторов с целевой переменной"
   ]
  },
  {
   "cell_type": "code",
   "execution_count": 263,
   "metadata": {},
   "outputs": [],
   "source": [
    "studying_dummies.drop(['school_GP'], inplace = True, axis = 1)\n",
    "studying_dummies.drop(['address_R'], inplace = True, axis = 1)\n",
    "studying_dummies.drop(['famsize_GT3'], inplace = True, axis = 1)\n",
    "studying_dummies.drop(['Pstatus_A'], inplace = True, axis = 1)\n",
    "studying_dummies.drop(['schoolsup_no'], inplace = True, axis = 1)\n",
    "studying_dummies.drop(['famsup_no'], inplace = True, axis = 1)\n",
    "studying_dummies.drop(['paid_no'], inplace = True, axis = 1)\n",
    "studying_dummies.drop(['activities_no'], inplace = True, axis = 1)\n",
    "studying_dummies.drop(['nursery_no'], inplace = True, axis = 1)\n",
    "studying_dummies.drop(['higher_no'], inplace = True, axis = 1)\n",
    "studying_dummies.drop(['internet_no'], inplace = True, axis = 1)\n",
    "studying_dummies.drop(['romantic_no'], inplace = True, axis = 1)"
   ]
  },
  {
   "cell_type": "code",
   "execution_count": 266,
   "metadata": {},
   "outputs": [],
   "source": [
    "studying_dummies.drop(['sex_F'], inplace = True, axis = 1)"
   ]
  },
  {
   "cell_type": "code",
   "execution_count": 267,
   "metadata": {},
   "outputs": [
    {
     "data": {
      "text/html": [
       "<div>\n",
       "<style scoped>\n",
       "    .dataframe tbody tr th:only-of-type {\n",
       "        vertical-align: middle;\n",
       "    }\n",
       "\n",
       "    .dataframe tbody tr th {\n",
       "        vertical-align: top;\n",
       "    }\n",
       "\n",
       "    .dataframe thead th {\n",
       "        text-align: right;\n",
       "    }\n",
       "</style>\n",
       "<table border=\"1\" class=\"dataframe\">\n",
       "  <thead>\n",
       "    <tr style=\"text-align: right;\">\n",
       "      <th></th>\n",
       "      <th>age</th>\n",
       "      <th>Medu</th>\n",
       "      <th>Fedu</th>\n",
       "      <th>traveltime</th>\n",
       "      <th>studytime</th>\n",
       "      <th>failures</th>\n",
       "      <th>famrel</th>\n",
       "      <th>freetime</th>\n",
       "      <th>goout</th>\n",
       "      <th>health</th>\n",
       "      <th>absences</th>\n",
       "      <th>score</th>\n",
       "      <th>sex_M</th>\n",
       "      <th>school_MS</th>\n",
       "      <th>address_U</th>\n",
       "      <th>famsize_LE3</th>\n",
       "      <th>Pstatus_T</th>\n",
       "      <th>schoolsup_yes</th>\n",
       "      <th>famsup_yes</th>\n",
       "      <th>paid_yes</th>\n",
       "      <th>activities_yes</th>\n",
       "      <th>nursery_yes</th>\n",
       "      <th>higher_yes</th>\n",
       "      <th>internet_yes</th>\n",
       "      <th>romantic_yes</th>\n",
       "    </tr>\n",
       "  </thead>\n",
       "  <tbody>\n",
       "    <tr>\n",
       "      <th>age</th>\n",
       "      <td>1.000000</td>\n",
       "      <td>-0.146405</td>\n",
       "      <td>-0.143849</td>\n",
       "      <td>0.070212</td>\n",
       "      <td>-0.018019</td>\n",
       "      <td>0.206279</td>\n",
       "      <td>0.056941</td>\n",
       "      <td>0.013994</td>\n",
       "      <td>0.121057</td>\n",
       "      <td>-0.061752</td>\n",
       "      <td>0.192897</td>\n",
       "      <td>-0.155726</td>\n",
       "      <td>-0.030956</td>\n",
       "      <td>0.379549</td>\n",
       "      <td>-0.149408</td>\n",
       "      <td>0.031576</td>\n",
       "      <td>0.008750</td>\n",
       "      <td>-0.257442</td>\n",
       "      <td>-0.145575</td>\n",
       "      <td>-0.037896</td>\n",
       "      <td>-0.078574</td>\n",
       "      <td>-0.087478</td>\n",
       "      <td>-0.209497</td>\n",
       "      <td>-0.116484</td>\n",
       "      <td>0.162512</td>\n",
       "    </tr>\n",
       "    <tr>\n",
       "      <th>Medu</th>\n",
       "      <td>-0.146405</td>\n",
       "      <td>1.000000</td>\n",
       "      <td>0.589360</td>\n",
       "      <td>-0.149258</td>\n",
       "      <td>0.079513</td>\n",
       "      <td>-0.239668</td>\n",
       "      <td>-0.003566</td>\n",
       "      <td>0.037699</td>\n",
       "      <td>0.071235</td>\n",
       "      <td>-0.067791</td>\n",
       "      <td>0.098201</td>\n",
       "      <td>0.209758</td>\n",
       "      <td>0.084161</td>\n",
       "      <td>-0.129834</td>\n",
       "      <td>0.160191</td>\n",
       "      <td>-0.059450</td>\n",
       "      <td>-0.124887</td>\n",
       "      <td>-0.026066</td>\n",
       "      <td>0.192269</td>\n",
       "      <td>0.171995</td>\n",
       "      <td>0.101160</td>\n",
       "      <td>0.172934</td>\n",
       "      <td>0.170924</td>\n",
       "      <td>0.198374</td>\n",
       "      <td>0.012478</td>\n",
       "    </tr>\n",
       "    <tr>\n",
       "      <th>Fedu</th>\n",
       "      <td>-0.143849</td>\n",
       "      <td>0.589360</td>\n",
       "      <td>1.000000</td>\n",
       "      <td>-0.109999</td>\n",
       "      <td>0.011723</td>\n",
       "      <td>-0.260794</td>\n",
       "      <td>-0.015492</td>\n",
       "      <td>-0.022669</td>\n",
       "      <td>0.046401</td>\n",
       "      <td>-0.015777</td>\n",
       "      <td>0.019381</td>\n",
       "      <td>0.124829</td>\n",
       "      <td>0.025312</td>\n",
       "      <td>-0.078285</td>\n",
       "      <td>0.072087</td>\n",
       "      <td>-0.071064</td>\n",
       "      <td>-0.084832</td>\n",
       "      <td>0.048880</td>\n",
       "      <td>0.173079</td>\n",
       "      <td>0.100588</td>\n",
       "      <td>0.090888</td>\n",
       "      <td>0.141200</td>\n",
       "      <td>0.173544</td>\n",
       "      <td>0.134228</td>\n",
       "      <td>0.010295</td>\n",
       "    </tr>\n",
       "    <tr>\n",
       "      <th>traveltime</th>\n",
       "      <td>0.070212</td>\n",
       "      <td>-0.149258</td>\n",
       "      <td>-0.109999</td>\n",
       "      <td>1.000000</td>\n",
       "      <td>-0.102979</td>\n",
       "      <td>0.086399</td>\n",
       "      <td>0.002038</td>\n",
       "      <td>-0.041205</td>\n",
       "      <td>0.044696</td>\n",
       "      <td>0.004051</td>\n",
       "      <td>-0.028489</td>\n",
       "      <td>-0.106562</td>\n",
       "      <td>0.056806</td>\n",
       "      <td>0.238118</td>\n",
       "      <td>-0.373484</td>\n",
       "      <td>0.038349</td>\n",
       "      <td>0.064187</td>\n",
       "      <td>0.005925</td>\n",
       "      <td>-0.008755</td>\n",
       "      <td>-0.033011</td>\n",
       "      <td>-0.026213</td>\n",
       "      <td>-0.023594</td>\n",
       "      <td>-0.099433</td>\n",
       "      <td>-0.095915</td>\n",
       "      <td>0.049097</td>\n",
       "    </tr>\n",
       "    <tr>\n",
       "      <th>studytime</th>\n",
       "      <td>-0.018019</td>\n",
       "      <td>0.079513</td>\n",
       "      <td>0.011723</td>\n",
       "      <td>-0.102979</td>\n",
       "      <td>1.000000</td>\n",
       "      <td>-0.169399</td>\n",
       "      <td>0.037950</td>\n",
       "      <td>-0.122057</td>\n",
       "      <td>-0.053554</td>\n",
       "      <td>-0.063876</td>\n",
       "      <td>-0.082602</td>\n",
       "      <td>0.114295</td>\n",
       "      <td>-0.304851</td>\n",
       "      <td>-0.092208</td>\n",
       "      <td>-0.044997</td>\n",
       "      <td>-0.074499</td>\n",
       "      <td>0.003128</td>\n",
       "      <td>0.039144</td>\n",
       "      <td>0.108577</td>\n",
       "      <td>0.141592</td>\n",
       "      <td>0.117063</td>\n",
       "      <td>0.090573</td>\n",
       "      <td>0.166190</td>\n",
       "      <td>0.043815</td>\n",
       "      <td>0.049933</td>\n",
       "    </tr>\n",
       "    <tr>\n",
       "      <th>failures</th>\n",
       "      <td>0.206279</td>\n",
       "      <td>-0.239668</td>\n",
       "      <td>-0.260794</td>\n",
       "      <td>0.086399</td>\n",
       "      <td>-0.169399</td>\n",
       "      <td>1.000000</td>\n",
       "      <td>-0.028517</td>\n",
       "      <td>0.087558</td>\n",
       "      <td>0.101036</td>\n",
       "      <td>0.079030</td>\n",
       "      <td>0.100804</td>\n",
       "      <td>-0.337187</td>\n",
       "      <td>0.021199</td>\n",
       "      <td>0.046515</td>\n",
       "      <td>-0.091669</td>\n",
       "      <td>0.016117</td>\n",
       "      <td>0.001314</td>\n",
       "      <td>0.020515</td>\n",
       "      <td>-0.063403</td>\n",
       "      <td>-0.153392</td>\n",
       "      <td>-0.081135</td>\n",
       "      <td>-0.092902</td>\n",
       "      <td>-0.270493</td>\n",
       "      <td>-0.072924</td>\n",
       "      <td>0.109206</td>\n",
       "    </tr>\n",
       "    <tr>\n",
       "      <th>famrel</th>\n",
       "      <td>0.056941</td>\n",
       "      <td>-0.003566</td>\n",
       "      <td>-0.015492</td>\n",
       "      <td>0.002038</td>\n",
       "      <td>0.037950</td>\n",
       "      <td>-0.028517</td>\n",
       "      <td>1.000000</td>\n",
       "      <td>0.164830</td>\n",
       "      <td>0.069514</td>\n",
       "      <td>0.093256</td>\n",
       "      <td>-0.085939</td>\n",
       "      <td>0.052902</td>\n",
       "      <td>0.046715</td>\n",
       "      <td>-0.039872</td>\n",
       "      <td>-0.013683</td>\n",
       "      <td>-0.017595</td>\n",
       "      <td>0.008838</td>\n",
       "      <td>-0.009768</td>\n",
       "      <td>0.006285</td>\n",
       "      <td>-0.003808</td>\n",
       "      <td>0.060852</td>\n",
       "      <td>-0.026204</td>\n",
       "      <td>0.011952</td>\n",
       "      <td>0.056919</td>\n",
       "      <td>-0.067801</td>\n",
       "    </tr>\n",
       "    <tr>\n",
       "      <th>freetime</th>\n",
       "      <td>0.013994</td>\n",
       "      <td>0.037699</td>\n",
       "      <td>-0.022669</td>\n",
       "      <td>-0.041205</td>\n",
       "      <td>-0.122057</td>\n",
       "      <td>0.087558</td>\n",
       "      <td>0.164830</td>\n",
       "      <td>1.000000</td>\n",
       "      <td>0.294450</td>\n",
       "      <td>0.067629</td>\n",
       "      <td>0.003876</td>\n",
       "      <td>0.017481</td>\n",
       "      <td>0.228632</td>\n",
       "      <td>0.034138</td>\n",
       "      <td>0.058433</td>\n",
       "      <td>0.021239</td>\n",
       "      <td>0.044000</td>\n",
       "      <td>-0.052964</td>\n",
       "      <td>0.024763</td>\n",
       "      <td>-0.073130</td>\n",
       "      <td>0.084097</td>\n",
       "      <td>-0.027454</td>\n",
       "      <td>-0.046783</td>\n",
       "      <td>0.090379</td>\n",
       "      <td>-0.033115</td>\n",
       "    </tr>\n",
       "    <tr>\n",
       "      <th>goout</th>\n",
       "      <td>0.121057</td>\n",
       "      <td>0.071235</td>\n",
       "      <td>0.046401</td>\n",
       "      <td>0.044696</td>\n",
       "      <td>-0.053554</td>\n",
       "      <td>0.101036</td>\n",
       "      <td>0.069514</td>\n",
       "      <td>0.294450</td>\n",
       "      <td>1.000000</td>\n",
       "      <td>-0.015108</td>\n",
       "      <td>0.084490</td>\n",
       "      <td>-0.127742</td>\n",
       "      <td>0.092635</td>\n",
       "      <td>-0.008473</td>\n",
       "      <td>0.066354</td>\n",
       "      <td>0.042201</td>\n",
       "      <td>0.034785</td>\n",
       "      <td>-0.038818</td>\n",
       "      <td>-0.041586</td>\n",
       "      <td>0.005732</td>\n",
       "      <td>0.056934</td>\n",
       "      <td>-0.010945</td>\n",
       "      <td>-0.024203</td>\n",
       "      <td>0.100789</td>\n",
       "      <td>0.008093</td>\n",
       "    </tr>\n",
       "    <tr>\n",
       "      <th>health</th>\n",
       "      <td>-0.061752</td>\n",
       "      <td>-0.067791</td>\n",
       "      <td>-0.015777</td>\n",
       "      <td>0.004051</td>\n",
       "      <td>-0.063876</td>\n",
       "      <td>0.079030</td>\n",
       "      <td>0.093256</td>\n",
       "      <td>0.067629</td>\n",
       "      <td>-0.015108</td>\n",
       "      <td>1.000000</td>\n",
       "      <td>-0.049303</td>\n",
       "      <td>-0.080583</td>\n",
       "      <td>0.148973</td>\n",
       "      <td>-0.042288</td>\n",
       "      <td>-0.041864</td>\n",
       "      <td>-0.035790</td>\n",
       "      <td>0.006963</td>\n",
       "      <td>-0.048194</td>\n",
       "      <td>0.012043</td>\n",
       "      <td>-0.056983</td>\n",
       "      <td>0.049392</td>\n",
       "      <td>-0.008602</td>\n",
       "      <td>-0.007349</td>\n",
       "      <td>-0.093497</td>\n",
       "      <td>0.015411</td>\n",
       "    </tr>\n",
       "    <tr>\n",
       "      <th>absences</th>\n",
       "      <td>0.192897</td>\n",
       "      <td>0.098201</td>\n",
       "      <td>0.019381</td>\n",
       "      <td>-0.028489</td>\n",
       "      <td>-0.082602</td>\n",
       "      <td>0.100804</td>\n",
       "      <td>-0.085939</td>\n",
       "      <td>0.003876</td>\n",
       "      <td>0.084490</td>\n",
       "      <td>-0.049303</td>\n",
       "      <td>1.000000</td>\n",
       "      <td>0.068007</td>\n",
       "      <td>-0.037638</td>\n",
       "      <td>-0.092264</td>\n",
       "      <td>-0.000025</td>\n",
       "      <td>0.034758</td>\n",
       "      <td>-0.139762</td>\n",
       "      <td>0.036465</td>\n",
       "      <td>0.073118</td>\n",
       "      <td>-0.006123</td>\n",
       "      <td>-0.030301</td>\n",
       "      <td>0.040886</td>\n",
       "      <td>0.002141</td>\n",
       "      <td>0.084244</td>\n",
       "      <td>0.113065</td>\n",
       "    </tr>\n",
       "    <tr>\n",
       "      <th>score</th>\n",
       "      <td>-0.155726</td>\n",
       "      <td>0.209758</td>\n",
       "      <td>0.124829</td>\n",
       "      <td>-0.106562</td>\n",
       "      <td>0.114295</td>\n",
       "      <td>-0.337187</td>\n",
       "      <td>0.052902</td>\n",
       "      <td>0.017481</td>\n",
       "      <td>-0.127742</td>\n",
       "      <td>-0.080583</td>\n",
       "      <td>0.068007</td>\n",
       "      <td>1.000000</td>\n",
       "      <td>0.099285</td>\n",
       "      <td>-0.044524</td>\n",
       "      <td>0.121377</td>\n",
       "      <td>0.064874</td>\n",
       "      <td>-0.040135</td>\n",
       "      <td>-0.086598</td>\n",
       "      <td>0.005992</td>\n",
       "      <td>0.084386</td>\n",
       "      <td>0.018118</td>\n",
       "      <td>0.049098</td>\n",
       "      <td>0.183924</td>\n",
       "      <td>0.056222</td>\n",
       "      <td>-0.136042</td>\n",
       "    </tr>\n",
       "    <tr>\n",
       "      <th>sex_M</th>\n",
       "      <td>-0.030956</td>\n",
       "      <td>0.084161</td>\n",
       "      <td>0.025312</td>\n",
       "      <td>0.056806</td>\n",
       "      <td>-0.304851</td>\n",
       "      <td>0.021199</td>\n",
       "      <td>0.046715</td>\n",
       "      <td>0.228632</td>\n",
       "      <td>0.092635</td>\n",
       "      <td>0.148973</td>\n",
       "      <td>-0.037638</td>\n",
       "      <td>0.099285</td>\n",
       "      <td>1.000000</td>\n",
       "      <td>-0.022548</td>\n",
       "      <td>0.005943</td>\n",
       "      <td>0.081996</td>\n",
       "      <td>0.037672</td>\n",
       "      <td>-0.128814</td>\n",
       "      <td>-0.160006</td>\n",
       "      <td>-0.075274</td>\n",
       "      <td>0.110052</td>\n",
       "      <td>0.008004</td>\n",
       "      <td>-0.142433</td>\n",
       "      <td>0.061412</td>\n",
       "      <td>-0.138335</td>\n",
       "    </tr>\n",
       "    <tr>\n",
       "      <th>school_MS</th>\n",
       "      <td>0.379549</td>\n",
       "      <td>-0.129834</td>\n",
       "      <td>-0.078285</td>\n",
       "      <td>0.238118</td>\n",
       "      <td>-0.092208</td>\n",
       "      <td>0.046515</td>\n",
       "      <td>-0.039872</td>\n",
       "      <td>0.034138</td>\n",
       "      <td>-0.008473</td>\n",
       "      <td>-0.042288</td>\n",
       "      <td>-0.092264</td>\n",
       "      <td>-0.044524</td>\n",
       "      <td>-0.022548</td>\n",
       "      <td>1.000000</td>\n",
       "      <td>-0.262857</td>\n",
       "      <td>0.065194</td>\n",
       "      <td>0.060033</td>\n",
       "      <td>-0.137305</td>\n",
       "      <td>-0.192193</td>\n",
       "      <td>-0.035541</td>\n",
       "      <td>-0.099845</td>\n",
       "      <td>-0.102725</td>\n",
       "      <td>-0.029908</td>\n",
       "      <td>-0.106978</td>\n",
       "      <td>0.065186</td>\n",
       "    </tr>\n",
       "    <tr>\n",
       "      <th>address_U</th>\n",
       "      <td>-0.149408</td>\n",
       "      <td>0.160191</td>\n",
       "      <td>0.072087</td>\n",
       "      <td>-0.373484</td>\n",
       "      <td>-0.044997</td>\n",
       "      <td>-0.091669</td>\n",
       "      <td>-0.013683</td>\n",
       "      <td>0.058433</td>\n",
       "      <td>0.066354</td>\n",
       "      <td>-0.041864</td>\n",
       "      <td>-0.000025</td>\n",
       "      <td>0.121377</td>\n",
       "      <td>0.005943</td>\n",
       "      <td>-0.262857</td>\n",
       "      <td>1.000000</td>\n",
       "      <td>0.067875</td>\n",
       "      <td>-0.058056</td>\n",
       "      <td>0.027516</td>\n",
       "      <td>0.042120</td>\n",
       "      <td>0.037233</td>\n",
       "      <td>-0.063173</td>\n",
       "      <td>0.040483</td>\n",
       "      <td>0.056652</td>\n",
       "      <td>0.202870</td>\n",
       "      <td>-0.010199</td>\n",
       "    </tr>\n",
       "    <tr>\n",
       "      <th>famsize_LE3</th>\n",
       "      <td>0.031576</td>\n",
       "      <td>-0.059450</td>\n",
       "      <td>-0.071064</td>\n",
       "      <td>0.038349</td>\n",
       "      <td>-0.074499</td>\n",
       "      <td>0.016117</td>\n",
       "      <td>-0.017595</td>\n",
       "      <td>0.021239</td>\n",
       "      <td>0.042201</td>\n",
       "      <td>-0.035790</td>\n",
       "      <td>0.034758</td>\n",
       "      <td>0.064874</td>\n",
       "      <td>0.081996</td>\n",
       "      <td>0.065194</td>\n",
       "      <td>0.067875</td>\n",
       "      <td>1.000000</td>\n",
       "      <td>-0.061536</td>\n",
       "      <td>-0.025646</td>\n",
       "      <td>-0.095131</td>\n",
       "      <td>-0.043898</td>\n",
       "      <td>-0.043898</td>\n",
       "      <td>0.089288</td>\n",
       "      <td>-0.020667</td>\n",
       "      <td>0.002124</td>\n",
       "      <td>0.002069</td>\n",
       "    </tr>\n",
       "    <tr>\n",
       "      <th>Pstatus_T</th>\n",
       "      <td>0.008750</td>\n",
       "      <td>-0.124887</td>\n",
       "      <td>-0.084832</td>\n",
       "      <td>0.064187</td>\n",
       "      <td>0.003128</td>\n",
       "      <td>0.001314</td>\n",
       "      <td>0.008838</td>\n",
       "      <td>0.044000</td>\n",
       "      <td>0.034785</td>\n",
       "      <td>0.006963</td>\n",
       "      <td>-0.139762</td>\n",
       "      <td>-0.040135</td>\n",
       "      <td>0.037672</td>\n",
       "      <td>0.060033</td>\n",
       "      <td>-0.058056</td>\n",
       "      <td>-0.061536</td>\n",
       "      <td>1.000000</td>\n",
       "      <td>-0.039174</td>\n",
       "      <td>-0.009198</td>\n",
       "      <td>0.066867</td>\n",
       "      <td>0.102353</td>\n",
       "      <td>-0.069594</td>\n",
       "      <td>-0.031211</td>\n",
       "      <td>0.048629</td>\n",
       "      <td>-0.049925</td>\n",
       "    </tr>\n",
       "    <tr>\n",
       "      <th>schoolsup_yes</th>\n",
       "      <td>-0.257442</td>\n",
       "      <td>-0.026066</td>\n",
       "      <td>0.048880</td>\n",
       "      <td>0.005925</td>\n",
       "      <td>0.039144</td>\n",
       "      <td>0.020515</td>\n",
       "      <td>-0.009768</td>\n",
       "      <td>-0.052964</td>\n",
       "      <td>-0.038818</td>\n",
       "      <td>-0.048194</td>\n",
       "      <td>0.036465</td>\n",
       "      <td>-0.086598</td>\n",
       "      <td>-0.128814</td>\n",
       "      <td>-0.137305</td>\n",
       "      <td>0.027516</td>\n",
       "      <td>-0.025646</td>\n",
       "      <td>-0.039174</td>\n",
       "      <td>1.000000</td>\n",
       "      <td>0.097735</td>\n",
       "      <td>-0.018365</td>\n",
       "      <td>0.012628</td>\n",
       "      <td>0.033040</td>\n",
       "      <td>0.050082</td>\n",
       "      <td>0.020636</td>\n",
       "      <td>-0.058209</td>\n",
       "    </tr>\n",
       "    <tr>\n",
       "      <th>famsup_yes</th>\n",
       "      <td>-0.145575</td>\n",
       "      <td>0.192269</td>\n",
       "      <td>0.173079</td>\n",
       "      <td>-0.008755</td>\n",
       "      <td>0.108577</td>\n",
       "      <td>-0.063403</td>\n",
       "      <td>0.006285</td>\n",
       "      <td>0.024763</td>\n",
       "      <td>-0.041586</td>\n",
       "      <td>0.012043</td>\n",
       "      <td>0.073118</td>\n",
       "      <td>0.005992</td>\n",
       "      <td>-0.160006</td>\n",
       "      <td>-0.192193</td>\n",
       "      <td>0.042120</td>\n",
       "      <td>-0.095131</td>\n",
       "      <td>-0.009198</td>\n",
       "      <td>0.097735</td>\n",
       "      <td>1.000000</td>\n",
       "      <td>0.255264</td>\n",
       "      <td>-0.003971</td>\n",
       "      <td>0.044423</td>\n",
       "      <td>0.085340</td>\n",
       "      <td>0.091641</td>\n",
       "      <td>0.042813</td>\n",
       "    </tr>\n",
       "    <tr>\n",
       "      <th>paid_yes</th>\n",
       "      <td>-0.037896</td>\n",
       "      <td>0.171995</td>\n",
       "      <td>0.100588</td>\n",
       "      <td>-0.033011</td>\n",
       "      <td>0.141592</td>\n",
       "      <td>-0.153392</td>\n",
       "      <td>-0.003808</td>\n",
       "      <td>-0.073130</td>\n",
       "      <td>0.005732</td>\n",
       "      <td>-0.056983</td>\n",
       "      <td>-0.006123</td>\n",
       "      <td>0.084386</td>\n",
       "      <td>-0.075274</td>\n",
       "      <td>-0.035541</td>\n",
       "      <td>0.037233</td>\n",
       "      <td>-0.043898</td>\n",
       "      <td>0.066867</td>\n",
       "      <td>-0.018365</td>\n",
       "      <td>0.255264</td>\n",
       "      <td>1.000000</td>\n",
       "      <td>0.033259</td>\n",
       "      <td>0.103303</td>\n",
       "      <td>0.152148</td>\n",
       "      <td>0.120222</td>\n",
       "      <td>-0.018904</td>\n",
       "    </tr>\n",
       "    <tr>\n",
       "      <th>activities_yes</th>\n",
       "      <td>-0.078574</td>\n",
       "      <td>0.101160</td>\n",
       "      <td>0.090888</td>\n",
       "      <td>-0.026213</td>\n",
       "      <td>0.117063</td>\n",
       "      <td>-0.081135</td>\n",
       "      <td>0.060852</td>\n",
       "      <td>0.084097</td>\n",
       "      <td>0.056934</td>\n",
       "      <td>0.049392</td>\n",
       "      <td>-0.030301</td>\n",
       "      <td>0.018118</td>\n",
       "      <td>0.110052</td>\n",
       "      <td>-0.099845</td>\n",
       "      <td>-0.063173</td>\n",
       "      <td>-0.043898</td>\n",
       "      <td>0.102353</td>\n",
       "      <td>0.012628</td>\n",
       "      <td>-0.003971</td>\n",
       "      <td>0.033259</td>\n",
       "      <td>1.000000</td>\n",
       "      <td>-0.025743</td>\n",
       "      <td>0.104437</td>\n",
       "      <td>0.061192</td>\n",
       "      <td>-0.018904</td>\n",
       "    </tr>\n",
       "    <tr>\n",
       "      <th>nursery_yes</th>\n",
       "      <td>-0.087478</td>\n",
       "      <td>0.172934</td>\n",
       "      <td>0.141200</td>\n",
       "      <td>-0.023594</td>\n",
       "      <td>0.090573</td>\n",
       "      <td>-0.092902</td>\n",
       "      <td>-0.026204</td>\n",
       "      <td>-0.027454</td>\n",
       "      <td>-0.010945</td>\n",
       "      <td>-0.008602</td>\n",
       "      <td>0.040886</td>\n",
       "      <td>0.049098</td>\n",
       "      <td>0.008004</td>\n",
       "      <td>-0.102725</td>\n",
       "      <td>0.040483</td>\n",
       "      <td>0.089288</td>\n",
       "      <td>-0.069594</td>\n",
       "      <td>0.033040</td>\n",
       "      <td>0.044423</td>\n",
       "      <td>0.103303</td>\n",
       "      <td>-0.025743</td>\n",
       "      <td>1.000000</td>\n",
       "      <td>0.067022</td>\n",
       "      <td>0.039129</td>\n",
       "      <td>0.018690</td>\n",
       "    </tr>\n",
       "    <tr>\n",
       "      <th>higher_yes</th>\n",
       "      <td>-0.209497</td>\n",
       "      <td>0.170924</td>\n",
       "      <td>0.173544</td>\n",
       "      <td>-0.099433</td>\n",
       "      <td>0.166190</td>\n",
       "      <td>-0.270493</td>\n",
       "      <td>0.011952</td>\n",
       "      <td>-0.046783</td>\n",
       "      <td>-0.024203</td>\n",
       "      <td>-0.007349</td>\n",
       "      <td>0.002141</td>\n",
       "      <td>0.183924</td>\n",
       "      <td>-0.142433</td>\n",
       "      <td>-0.029908</td>\n",
       "      <td>0.056652</td>\n",
       "      <td>-0.020667</td>\n",
       "      <td>-0.031211</td>\n",
       "      <td>0.050082</td>\n",
       "      <td>0.085340</td>\n",
       "      <td>0.152148</td>\n",
       "      <td>0.104437</td>\n",
       "      <td>0.067022</td>\n",
       "      <td>1.000000</td>\n",
       "      <td>0.044966</td>\n",
       "      <td>-0.128050</td>\n",
       "    </tr>\n",
       "    <tr>\n",
       "      <th>internet_yes</th>\n",
       "      <td>-0.116484</td>\n",
       "      <td>0.198374</td>\n",
       "      <td>0.134228</td>\n",
       "      <td>-0.095915</td>\n",
       "      <td>0.043815</td>\n",
       "      <td>-0.072924</td>\n",
       "      <td>0.056919</td>\n",
       "      <td>0.090379</td>\n",
       "      <td>0.100789</td>\n",
       "      <td>-0.093497</td>\n",
       "      <td>0.084244</td>\n",
       "      <td>0.056222</td>\n",
       "      <td>0.061412</td>\n",
       "      <td>-0.106978</td>\n",
       "      <td>0.202870</td>\n",
       "      <td>0.002124</td>\n",
       "      <td>0.048629</td>\n",
       "      <td>0.020636</td>\n",
       "      <td>0.091641</td>\n",
       "      <td>0.120222</td>\n",
       "      <td>0.061192</td>\n",
       "      <td>0.039129</td>\n",
       "      <td>0.044966</td>\n",
       "      <td>1.000000</td>\n",
       "      <td>0.069669</td>\n",
       "    </tr>\n",
       "    <tr>\n",
       "      <th>romantic_yes</th>\n",
       "      <td>0.162512</td>\n",
       "      <td>0.012478</td>\n",
       "      <td>0.010295</td>\n",
       "      <td>0.049097</td>\n",
       "      <td>0.049933</td>\n",
       "      <td>0.109206</td>\n",
       "      <td>-0.067801</td>\n",
       "      <td>-0.033115</td>\n",
       "      <td>0.008093</td>\n",
       "      <td>0.015411</td>\n",
       "      <td>0.113065</td>\n",
       "      <td>-0.136042</td>\n",
       "      <td>-0.138335</td>\n",
       "      <td>0.065186</td>\n",
       "      <td>-0.010199</td>\n",
       "      <td>0.002069</td>\n",
       "      <td>-0.049925</td>\n",
       "      <td>-0.058209</td>\n",
       "      <td>0.042813</td>\n",
       "      <td>-0.018904</td>\n",
       "      <td>-0.018904</td>\n",
       "      <td>0.018690</td>\n",
       "      <td>-0.128050</td>\n",
       "      <td>0.069669</td>\n",
       "      <td>1.000000</td>\n",
       "    </tr>\n",
       "  </tbody>\n",
       "</table>\n",
       "</div>"
      ],
      "text/plain": [
       "                     age      Medu      Fedu  traveltime  studytime  failures  \\\n",
       "age             1.000000 -0.146405 -0.143849    0.070212  -0.018019  0.206279   \n",
       "Medu           -0.146405  1.000000  0.589360   -0.149258   0.079513 -0.239668   \n",
       "Fedu           -0.143849  0.589360  1.000000   -0.109999   0.011723 -0.260794   \n",
       "traveltime      0.070212 -0.149258 -0.109999    1.000000  -0.102979  0.086399   \n",
       "studytime      -0.018019  0.079513  0.011723   -0.102979   1.000000 -0.169399   \n",
       "failures        0.206279 -0.239668 -0.260794    0.086399  -0.169399  1.000000   \n",
       "famrel          0.056941 -0.003566 -0.015492    0.002038   0.037950 -0.028517   \n",
       "freetime        0.013994  0.037699 -0.022669   -0.041205  -0.122057  0.087558   \n",
       "goout           0.121057  0.071235  0.046401    0.044696  -0.053554  0.101036   \n",
       "health         -0.061752 -0.067791 -0.015777    0.004051  -0.063876  0.079030   \n",
       "absences        0.192897  0.098201  0.019381   -0.028489  -0.082602  0.100804   \n",
       "score          -0.155726  0.209758  0.124829   -0.106562   0.114295 -0.337187   \n",
       "sex_M          -0.030956  0.084161  0.025312    0.056806  -0.304851  0.021199   \n",
       "school_MS       0.379549 -0.129834 -0.078285    0.238118  -0.092208  0.046515   \n",
       "address_U      -0.149408  0.160191  0.072087   -0.373484  -0.044997 -0.091669   \n",
       "famsize_LE3     0.031576 -0.059450 -0.071064    0.038349  -0.074499  0.016117   \n",
       "Pstatus_T       0.008750 -0.124887 -0.084832    0.064187   0.003128  0.001314   \n",
       "schoolsup_yes  -0.257442 -0.026066  0.048880    0.005925   0.039144  0.020515   \n",
       "famsup_yes     -0.145575  0.192269  0.173079   -0.008755   0.108577 -0.063403   \n",
       "paid_yes       -0.037896  0.171995  0.100588   -0.033011   0.141592 -0.153392   \n",
       "activities_yes -0.078574  0.101160  0.090888   -0.026213   0.117063 -0.081135   \n",
       "nursery_yes    -0.087478  0.172934  0.141200   -0.023594   0.090573 -0.092902   \n",
       "higher_yes     -0.209497  0.170924  0.173544   -0.099433   0.166190 -0.270493   \n",
       "internet_yes   -0.116484  0.198374  0.134228   -0.095915   0.043815 -0.072924   \n",
       "romantic_yes    0.162512  0.012478  0.010295    0.049097   0.049933  0.109206   \n",
       "\n",
       "                  famrel  freetime     goout    health  absences     score  \\\n",
       "age             0.056941  0.013994  0.121057 -0.061752  0.192897 -0.155726   \n",
       "Medu           -0.003566  0.037699  0.071235 -0.067791  0.098201  0.209758   \n",
       "Fedu           -0.015492 -0.022669  0.046401 -0.015777  0.019381  0.124829   \n",
       "traveltime      0.002038 -0.041205  0.044696  0.004051 -0.028489 -0.106562   \n",
       "studytime       0.037950 -0.122057 -0.053554 -0.063876 -0.082602  0.114295   \n",
       "failures       -0.028517  0.087558  0.101036  0.079030  0.100804 -0.337187   \n",
       "famrel          1.000000  0.164830  0.069514  0.093256 -0.085939  0.052902   \n",
       "freetime        0.164830  1.000000  0.294450  0.067629  0.003876  0.017481   \n",
       "goout           0.069514  0.294450  1.000000 -0.015108  0.084490 -0.127742   \n",
       "health          0.093256  0.067629 -0.015108  1.000000 -0.049303 -0.080583   \n",
       "absences       -0.085939  0.003876  0.084490 -0.049303  1.000000  0.068007   \n",
       "score           0.052902  0.017481 -0.127742 -0.080583  0.068007  1.000000   \n",
       "sex_M           0.046715  0.228632  0.092635  0.148973 -0.037638  0.099285   \n",
       "school_MS      -0.039872  0.034138 -0.008473 -0.042288 -0.092264 -0.044524   \n",
       "address_U      -0.013683  0.058433  0.066354 -0.041864 -0.000025  0.121377   \n",
       "famsize_LE3    -0.017595  0.021239  0.042201 -0.035790  0.034758  0.064874   \n",
       "Pstatus_T       0.008838  0.044000  0.034785  0.006963 -0.139762 -0.040135   \n",
       "schoolsup_yes  -0.009768 -0.052964 -0.038818 -0.048194  0.036465 -0.086598   \n",
       "famsup_yes      0.006285  0.024763 -0.041586  0.012043  0.073118  0.005992   \n",
       "paid_yes       -0.003808 -0.073130  0.005732 -0.056983 -0.006123  0.084386   \n",
       "activities_yes  0.060852  0.084097  0.056934  0.049392 -0.030301  0.018118   \n",
       "nursery_yes    -0.026204 -0.027454 -0.010945 -0.008602  0.040886  0.049098   \n",
       "higher_yes      0.011952 -0.046783 -0.024203 -0.007349  0.002141  0.183924   \n",
       "internet_yes    0.056919  0.090379  0.100789 -0.093497  0.084244  0.056222   \n",
       "romantic_yes   -0.067801 -0.033115  0.008093  0.015411  0.113065 -0.136042   \n",
       "\n",
       "                   sex_M  school_MS  address_U  famsize_LE3  Pstatus_T  \\\n",
       "age            -0.030956   0.379549  -0.149408     0.031576   0.008750   \n",
       "Medu            0.084161  -0.129834   0.160191    -0.059450  -0.124887   \n",
       "Fedu            0.025312  -0.078285   0.072087    -0.071064  -0.084832   \n",
       "traveltime      0.056806   0.238118  -0.373484     0.038349   0.064187   \n",
       "studytime      -0.304851  -0.092208  -0.044997    -0.074499   0.003128   \n",
       "failures        0.021199   0.046515  -0.091669     0.016117   0.001314   \n",
       "famrel          0.046715  -0.039872  -0.013683    -0.017595   0.008838   \n",
       "freetime        0.228632   0.034138   0.058433     0.021239   0.044000   \n",
       "goout           0.092635  -0.008473   0.066354     0.042201   0.034785   \n",
       "health          0.148973  -0.042288  -0.041864    -0.035790   0.006963   \n",
       "absences       -0.037638  -0.092264  -0.000025     0.034758  -0.139762   \n",
       "score           0.099285  -0.044524   0.121377     0.064874  -0.040135   \n",
       "sex_M           1.000000  -0.022548   0.005943     0.081996   0.037672   \n",
       "school_MS      -0.022548   1.000000  -0.262857     0.065194   0.060033   \n",
       "address_U       0.005943  -0.262857   1.000000     0.067875  -0.058056   \n",
       "famsize_LE3     0.081996   0.065194   0.067875     1.000000  -0.061536   \n",
       "Pstatus_T       0.037672   0.060033  -0.058056    -0.061536   1.000000   \n",
       "schoolsup_yes  -0.128814  -0.137305   0.027516    -0.025646  -0.039174   \n",
       "famsup_yes     -0.160006  -0.192193   0.042120    -0.095131  -0.009198   \n",
       "paid_yes       -0.075274  -0.035541   0.037233    -0.043898   0.066867   \n",
       "activities_yes  0.110052  -0.099845  -0.063173    -0.043898   0.102353   \n",
       "nursery_yes     0.008004  -0.102725   0.040483     0.089288  -0.069594   \n",
       "higher_yes     -0.142433  -0.029908   0.056652    -0.020667  -0.031211   \n",
       "internet_yes    0.061412  -0.106978   0.202870     0.002124   0.048629   \n",
       "romantic_yes   -0.138335   0.065186  -0.010199     0.002069  -0.049925   \n",
       "\n",
       "                schoolsup_yes  famsup_yes  paid_yes  activities_yes  \\\n",
       "age                 -0.257442   -0.145575 -0.037896       -0.078574   \n",
       "Medu                -0.026066    0.192269  0.171995        0.101160   \n",
       "Fedu                 0.048880    0.173079  0.100588        0.090888   \n",
       "traveltime           0.005925   -0.008755 -0.033011       -0.026213   \n",
       "studytime            0.039144    0.108577  0.141592        0.117063   \n",
       "failures             0.020515   -0.063403 -0.153392       -0.081135   \n",
       "famrel              -0.009768    0.006285 -0.003808        0.060852   \n",
       "freetime            -0.052964    0.024763 -0.073130        0.084097   \n",
       "goout               -0.038818   -0.041586  0.005732        0.056934   \n",
       "health              -0.048194    0.012043 -0.056983        0.049392   \n",
       "absences             0.036465    0.073118 -0.006123       -0.030301   \n",
       "score               -0.086598    0.005992  0.084386        0.018118   \n",
       "sex_M               -0.128814   -0.160006 -0.075274        0.110052   \n",
       "school_MS           -0.137305   -0.192193 -0.035541       -0.099845   \n",
       "address_U            0.027516    0.042120  0.037233       -0.063173   \n",
       "famsize_LE3         -0.025646   -0.095131 -0.043898       -0.043898   \n",
       "Pstatus_T           -0.039174   -0.009198  0.066867        0.102353   \n",
       "schoolsup_yes        1.000000    0.097735 -0.018365        0.012628   \n",
       "famsup_yes           0.097735    1.000000  0.255264       -0.003971   \n",
       "paid_yes            -0.018365    0.255264  1.000000        0.033259   \n",
       "activities_yes       0.012628   -0.003971  0.033259        1.000000   \n",
       "nursery_yes          0.033040    0.044423  0.103303       -0.025743   \n",
       "higher_yes           0.050082    0.085340  0.152148        0.104437   \n",
       "internet_yes         0.020636    0.091641  0.120222        0.061192   \n",
       "romantic_yes        -0.058209    0.042813 -0.018904       -0.018904   \n",
       "\n",
       "                nursery_yes  higher_yes  internet_yes  romantic_yes  \n",
       "age               -0.087478   -0.209497     -0.116484      0.162512  \n",
       "Medu               0.172934    0.170924      0.198374      0.012478  \n",
       "Fedu               0.141200    0.173544      0.134228      0.010295  \n",
       "traveltime        -0.023594   -0.099433     -0.095915      0.049097  \n",
       "studytime          0.090573    0.166190      0.043815      0.049933  \n",
       "failures          -0.092902   -0.270493     -0.072924      0.109206  \n",
       "famrel            -0.026204    0.011952      0.056919     -0.067801  \n",
       "freetime          -0.027454   -0.046783      0.090379     -0.033115  \n",
       "goout             -0.010945   -0.024203      0.100789      0.008093  \n",
       "health            -0.008602   -0.007349     -0.093497      0.015411  \n",
       "absences           0.040886    0.002141      0.084244      0.113065  \n",
       "score              0.049098    0.183924      0.056222     -0.136042  \n",
       "sex_M              0.008004   -0.142433      0.061412     -0.138335  \n",
       "school_MS         -0.102725   -0.029908     -0.106978      0.065186  \n",
       "address_U          0.040483    0.056652      0.202870     -0.010199  \n",
       "famsize_LE3        0.089288   -0.020667      0.002124      0.002069  \n",
       "Pstatus_T         -0.069594   -0.031211      0.048629     -0.049925  \n",
       "schoolsup_yes      0.033040    0.050082      0.020636     -0.058209  \n",
       "famsup_yes         0.044423    0.085340      0.091641      0.042813  \n",
       "paid_yes           0.103303    0.152148      0.120222     -0.018904  \n",
       "activities_yes    -0.025743    0.104437      0.061192     -0.018904  \n",
       "nursery_yes        1.000000    0.067022      0.039129      0.018690  \n",
       "higher_yes         0.067022    1.000000      0.044966     -0.128050  \n",
       "internet_yes       0.039129    0.044966      1.000000      0.069669  \n",
       "romantic_yes       0.018690   -0.128050      0.069669      1.000000  "
      ]
     },
     "execution_count": 267,
     "metadata": {},
     "output_type": "execute_result"
    }
   ],
   "source": [
    "studying_dummies.corr()"
   ]
  },
  {
   "cell_type": "markdown",
   "metadata": {},
   "source": [
    "## По корреляциям dummy-переменных можно сказать, что на успеваемость положительно влияет желание ученика поступить в университет, а также отсутствие романтических отношений. Остальные переменные также имеют влияние, но оно незначительно."
   ]
  },
  {
   "cell_type": "markdown",
   "metadata": {},
   "source": [
    "# Выводы: \n",
    "#### В работе был проведен первичный анализ данных. \n",
    "1. Было произведено заполнение отсутствующих значений при помощи значений моды, медианы, а также с учетом значений других столбцов (основано на здравом смысле) \n",
    "2. Выбросы найдены в столбцах возраста (были проигнорированы), образования отца, а также в переменной пропусков занятий. Найденные выбросы были исправлены.\n",
    "3. В работе были выделены признаки значимых номинативных переменных при помощи коробок с усами. \n",
    "4. Некоторые данные были преобразованы в dummy, рассмотрена матрица корреляций с их учетом, по каждой дамми-переменной была оставлена только одна составляющая (пол - только женский, к примеру) из-за 100% корреляций. \n",
    "5. Также были рассмотрены номинативные переменные, но для использования в модели их нужно будет в дальнейшем преобразовать.\n",
    "\n",
    "\n"
   ]
  },
  {
   "cell_type": "code",
   "execution_count": null,
   "metadata": {},
   "outputs": [],
   "source": []
  }
 ],
 "metadata": {
  "kernelspec": {
   "display_name": "Python 3",
   "language": "python",
   "name": "python3"
  },
  "language_info": {
   "codemirror_mode": {
    "name": "ipython",
    "version": 3
   },
   "file_extension": ".py",
   "mimetype": "text/x-python",
   "name": "python",
   "nbconvert_exporter": "python",
   "pygments_lexer": "ipython3",
   "version": "3.8.5"
  }
 },
 "nbformat": 4,
 "nbformat_minor": 4
}
