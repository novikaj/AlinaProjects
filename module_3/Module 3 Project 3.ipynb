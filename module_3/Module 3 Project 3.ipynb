{
 "cells": [
  {
   "cell_type": "markdown",
   "metadata": {},
   "source": [
    "# Предобработка"
   ]
  },
  {
   "cell_type": "code",
   "execution_count": 1,
   "metadata": {},
   "outputs": [],
   "source": [
    "import pandas as pd \n",
    "import numpy as np \n",
    "import re\n",
    "import seaborn as sns\n",
    "import matplotlib.pyplot as plt"
   ]
  },
  {
   "cell_type": "code",
   "execution_count": 2,
   "metadata": {},
   "outputs": [],
   "source": [
    "# Загружаем датасет: \n",
    "df = pd.read_csv('main_task_new.csv', sep=',')"
   ]
  },
  {
   "cell_type": "code",
   "execution_count": 3,
   "metadata": {},
   "outputs": [
    {
     "name": "stdout",
     "output_type": "stream",
     "text": [
      "<class 'pandas.core.frame.DataFrame'>\n",
      "RangeIndex: 40000 entries, 0 to 39999\n",
      "Data columns (total 10 columns):\n",
      " #   Column             Non-Null Count  Dtype  \n",
      "---  ------             --------------  -----  \n",
      " 0   Restaurant_id      40000 non-null  object \n",
      " 1   City               40000 non-null  object \n",
      " 2   Cuisine Style      30717 non-null  object \n",
      " 3   Ranking            40000 non-null  float64\n",
      " 4   Rating             40000 non-null  float64\n",
      " 5   Price Range        26114 non-null  object \n",
      " 6   Number of Reviews  37457 non-null  float64\n",
      " 7   Reviews            40000 non-null  object \n",
      " 8   URL_TA             40000 non-null  object \n",
      " 9   ID_TA              40000 non-null  object \n",
      "dtypes: float64(3), object(7)\n",
      "memory usage: 3.1+ MB\n"
     ]
    }
   ],
   "source": [
    "# Посмотрим на типы данных: \n",
    "df.info()"
   ]
  },
  {
   "cell_type": "markdown",
   "metadata": {},
   "source": [
    "Как видим, числовых данных мало, а именно 3 признака - Ranking, Rating, Number of Reviews, в то время как остальные данные являются категориальными и требуют обработки. При этом большинство данных в датасете на первый взгляд являются полными, пропуски есть в признаках Cuisine Style, Price Range, Number of Reviews. "
   ]
  },
  {
   "cell_type": "markdown",
   "metadata": {},
   "source": [
    "Для упрощения вызова колонок, переименуем их, а именно переведем названия в нижний регистр, а также уберем пробел и добавим нижнее подчеркивание: "
   ]
  },
  {
   "cell_type": "code",
   "execution_count": 4,
   "metadata": {},
   "outputs": [
    {
     "data": {
      "text/html": [
       "<div>\n",
       "<style scoped>\n",
       "    .dataframe tbody tr th:only-of-type {\n",
       "        vertical-align: middle;\n",
       "    }\n",
       "\n",
       "    .dataframe tbody tr th {\n",
       "        vertical-align: top;\n",
       "    }\n",
       "\n",
       "    .dataframe thead th {\n",
       "        text-align: right;\n",
       "    }\n",
       "</style>\n",
       "<table border=\"1\" class=\"dataframe\">\n",
       "  <thead>\n",
       "    <tr style=\"text-align: right;\">\n",
       "      <th></th>\n",
       "      <th>restaurant_id</th>\n",
       "      <th>city</th>\n",
       "      <th>cuisine_style</th>\n",
       "      <th>ranking</th>\n",
       "      <th>rating</th>\n",
       "      <th>price_range</th>\n",
       "      <th>number_of_reviews</th>\n",
       "      <th>reviews</th>\n",
       "      <th>url_ta</th>\n",
       "      <th>id_ta</th>\n",
       "    </tr>\n",
       "  </thead>\n",
       "  <tbody>\n",
       "    <tr>\n",
       "      <th>0</th>\n",
       "      <td>id_5569</td>\n",
       "      <td>Paris</td>\n",
       "      <td>['European', 'French', 'International']</td>\n",
       "      <td>5570.0</td>\n",
       "      <td>3.5</td>\n",
       "      <td>$$ - $$$</td>\n",
       "      <td>194.0</td>\n",
       "      <td>[['Good food at your doorstep', 'A good hotel ...</td>\n",
       "      <td>/Restaurant_Review-g187147-d1912643-Reviews-R_...</td>\n",
       "      <td>d1912643</td>\n",
       "    </tr>\n",
       "    <tr>\n",
       "      <th>1</th>\n",
       "      <td>id_1535</td>\n",
       "      <td>Stockholm</td>\n",
       "      <td>NaN</td>\n",
       "      <td>1537.0</td>\n",
       "      <td>4.0</td>\n",
       "      <td>NaN</td>\n",
       "      <td>10.0</td>\n",
       "      <td>[['Unique cuisine', 'Delicious Nepalese food']...</td>\n",
       "      <td>/Restaurant_Review-g189852-d7992032-Reviews-Bu...</td>\n",
       "      <td>d7992032</td>\n",
       "    </tr>\n",
       "    <tr>\n",
       "      <th>2</th>\n",
       "      <td>id_352</td>\n",
       "      <td>London</td>\n",
       "      <td>['Japanese', 'Sushi', 'Asian', 'Grill', 'Veget...</td>\n",
       "      <td>353.0</td>\n",
       "      <td>4.5</td>\n",
       "      <td>$$$$</td>\n",
       "      <td>688.0</td>\n",
       "      <td>[['Catch up with friends', 'Not exceptional'],...</td>\n",
       "      <td>/Restaurant_Review-g186338-d8632781-Reviews-RO...</td>\n",
       "      <td>d8632781</td>\n",
       "    </tr>\n",
       "    <tr>\n",
       "      <th>3</th>\n",
       "      <td>id_3456</td>\n",
       "      <td>Berlin</td>\n",
       "      <td>NaN</td>\n",
       "      <td>3458.0</td>\n",
       "      <td>5.0</td>\n",
       "      <td>NaN</td>\n",
       "      <td>3.0</td>\n",
       "      <td>[[], []]</td>\n",
       "      <td>/Restaurant_Review-g187323-d1358776-Reviews-Es...</td>\n",
       "      <td>d1358776</td>\n",
       "    </tr>\n",
       "    <tr>\n",
       "      <th>4</th>\n",
       "      <td>id_615</td>\n",
       "      <td>Munich</td>\n",
       "      <td>['German', 'Central European', 'Vegetarian Fri...</td>\n",
       "      <td>621.0</td>\n",
       "      <td>4.0</td>\n",
       "      <td>$$ - $$$</td>\n",
       "      <td>84.0</td>\n",
       "      <td>[['Best place to try a Bavarian food', 'Nice b...</td>\n",
       "      <td>/Restaurant_Review-g187309-d6864963-Reviews-Au...</td>\n",
       "      <td>d6864963</td>\n",
       "    </tr>\n",
       "  </tbody>\n",
       "</table>\n",
       "</div>"
      ],
      "text/plain": [
       "  restaurant_id       city                                      cuisine_style  \\\n",
       "0       id_5569      Paris            ['European', 'French', 'International']   \n",
       "1       id_1535  Stockholm                                                NaN   \n",
       "2        id_352     London  ['Japanese', 'Sushi', 'Asian', 'Grill', 'Veget...   \n",
       "3       id_3456     Berlin                                                NaN   \n",
       "4        id_615     Munich  ['German', 'Central European', 'Vegetarian Fri...   \n",
       "\n",
       "   ranking  rating price_range  number_of_reviews  \\\n",
       "0   5570.0     3.5    $$ - $$$              194.0   \n",
       "1   1537.0     4.0         NaN               10.0   \n",
       "2    353.0     4.5        $$$$              688.0   \n",
       "3   3458.0     5.0         NaN                3.0   \n",
       "4    621.0     4.0    $$ - $$$               84.0   \n",
       "\n",
       "                                             reviews  \\\n",
       "0  [['Good food at your doorstep', 'A good hotel ...   \n",
       "1  [['Unique cuisine', 'Delicious Nepalese food']...   \n",
       "2  [['Catch up with friends', 'Not exceptional'],...   \n",
       "3                                           [[], []]   \n",
       "4  [['Best place to try a Bavarian food', 'Nice b...   \n",
       "\n",
       "                                              url_ta     id_ta  \n",
       "0  /Restaurant_Review-g187147-d1912643-Reviews-R_...  d1912643  \n",
       "1  /Restaurant_Review-g189852-d7992032-Reviews-Bu...  d7992032  \n",
       "2  /Restaurant_Review-g186338-d8632781-Reviews-RO...  d8632781  \n",
       "3  /Restaurant_Review-g187323-d1358776-Reviews-Es...  d1358776  \n",
       "4  /Restaurant_Review-g187309-d6864963-Reviews-Au...  d6864963  "
      ]
     },
     "execution_count": 4,
     "metadata": {},
     "output_type": "execute_result"
    }
   ],
   "source": [
    "df.columns = df.columns.str.replace(' ', '_')\n",
    "df.columns = df.columns.str.lower()\n",
    "df.head()"
   ]
  },
  {
   "cell_type": "markdown",
   "metadata": {},
   "source": [
    "### Для последующего анализа для начала разберемся с возникающими вопросами.\n",
    "### <font color='green'>Признак price_range</font> \n",
    "Рассмотрим, какие бывают ценовые категории, и сколько их всего"
   ]
  },
  {
   "cell_type": "code",
   "execution_count": 5,
   "metadata": {},
   "outputs": [
    {
     "data": {
      "text/plain": [
       "$$ - $$$    18412\n",
       "$            6279\n",
       "$$$$         1423\n",
       "Name: price_range, dtype: int64"
      ]
     },
     "execution_count": 5,
     "metadata": {},
     "output_type": "execute_result"
    }
   ],
   "source": [
    "df['price_range'].value_counts()"
   ]
  },
  {
   "cell_type": "markdown",
   "metadata": {},
   "source": [
    "Как видим, всего есть три ценовых категории - низкие цены (\\\\$) средние (\\\\$\\\\$-\\\\$\\\\$\\\\$) и высокие (\\\\$\\\\$\\\\$\\\\$). Также стоит отметить, что в данных о ценах есть пропуски, поэтому над ними нужно будет поработать. Заменим отсутствующие значения на значение моды, поскольку цена является ординальным признаком, заменим строковые значения на числовые. Таким образом, значения будут заменены таким образом: \\\\$ -1, \\\\$\\\\$-\\\\$\\\\$\\\\$ - 2, и \\\\$\\\\$\\\\$\\\\$ - 3, и посколько значение NaN соответствует \\\\$\\\\$-\\\\$\\\\$\\\\$, оно будет заменено на 2."
   ]
  },
  {
   "cell_type": "code",
   "execution_count": 6,
   "metadata": {},
   "outputs": [],
   "source": [
    "# Сначала создадим словарь с перекодировкой признаков: \n",
    "price_dict = {np.NaN: 2, '$':1, '$$ - $$$':2, '$$$$':3}\n",
    "# Применим словарь в функции replace. \n",
    "df['price_range'] = df['price_range'].replace(to_replace=price_dict)"
   ]
  },
  {
   "cell_type": "code",
   "execution_count": 7,
   "metadata": {},
   "outputs": [
    {
     "data": {
      "text/plain": [
       "0        2\n",
       "1        2\n",
       "2        3\n",
       "3        2\n",
       "4        2\n",
       "        ..\n",
       "39995    2\n",
       "39996    2\n",
       "39997    2\n",
       "39998    2\n",
       "39999    2\n",
       "Name: price_range, Length: 40000, dtype: int64"
      ]
     },
     "execution_count": 7,
     "metadata": {},
     "output_type": "execute_result"
    }
   ],
   "source": [
    "df['price_range']"
   ]
  },
  {
   "cell_type": "code",
   "execution_count": 8,
   "metadata": {},
   "outputs": [
    {
     "data": {
      "text/plain": [
       "<AxesSubplot:>"
      ]
     },
     "execution_count": 8,
     "metadata": {},
     "output_type": "execute_result"
    },
    {
     "data": {
      "image/png": "[encoded data removed]",
      "text/plain": [
       "<Figure size 432x288 with 1 Axes>"
      ]
     },
     "metadata": {
      "needs_background": "light"
     },
     "output_type": "display_data"
    }
   ],
   "source": [
    "# Посмотрим на гистограмму распределения\n",
    "df.price_range.hist()"
   ]
  },
  {
   "cell_type": "markdown",
   "metadata": {},
   "source": [
    "Как видим, большинство ресторанов находятся в среднем ценовом диапазоне (такая ситуация была и до заполнения пропусков)"
   ]
  },
  {
   "cell_type": "markdown",
   "metadata": {},
   "source": [
    "### <font color='green'>Признак restaurant_id</font> "
   ]
  },
  {
   "cell_type": "markdown",
   "metadata": {},
   "source": [
    "Посчитаем, не встречаются ли некоторые рестораны больше одного раза, и не нужно ли сгруппировать данный признак"
   ]
  },
  {
   "cell_type": "code",
   "execution_count": 9,
   "metadata": {},
   "outputs": [],
   "source": [
    "restaurant_list = df.restaurant_id.value_counts()"
   ]
  },
  {
   "cell_type": "code",
   "execution_count": 10,
   "metadata": {},
   "outputs": [],
   "source": [
    "restaurant_network = restaurant_list[restaurant_list>1]"
   ]
  },
  {
   "cell_type": "code",
   "execution_count": 11,
   "metadata": {},
   "outputs": [
    {
     "data": {
      "text/plain": [
       "<AxesSubplot:>"
      ]
     },
     "execution_count": 11,
     "metadata": {},
     "output_type": "execute_result"
    },
    {
     "data": {
      "image/png": "[encoded data removed]",
      "text/plain": [
       "<Figure size 432x288 with 1 Axes>"
      ]
     },
     "metadata": {
      "needs_background": "light"
     },
     "output_type": "display_data"
    }
   ],
   "source": [
    "restaurant_network.hist()"
   ]
  },
  {
   "cell_type": "markdown",
   "metadata": {},
   "source": [
    "Как видим, большинство сетевых ресторанов - это сеть из двух ресторанов"
   ]
  },
  {
   "cell_type": "code",
   "execution_count": 12,
   "metadata": {},
   "outputs": [
    {
     "data": {
      "text/plain": [
       "4705"
      ]
     },
     "execution_count": 12,
     "metadata": {},
     "output_type": "execute_result"
    }
   ],
   "source": [
    "restaurant_list[restaurant_list==1].count()"
   ]
  },
  {
   "cell_type": "markdown",
   "metadata": {},
   "source": [
    "Количество несетевых ресторанов равно 4705"
   ]
  },
  {
   "cell_type": "code",
   "execution_count": 13,
   "metadata": {},
   "outputs": [],
   "source": [
    "df['network_restaurant'] = df['restaurant_id'].apply(lambda x: 1 if x in restaurant_network else 0)"
   ]
  },
  {
   "cell_type": "code",
   "execution_count": 14,
   "metadata": {},
   "outputs": [
    {
     "data": {
      "text/plain": [
       "1    35295\n",
       "0     4705\n",
       "Name: network_restaurant, dtype: int64"
      ]
     },
     "execution_count": 14,
     "metadata": {},
     "output_type": "execute_result"
    }
   ],
   "source": [
    "df['network_restaurant'].value_counts()"
   ]
  },
  {
   "cell_type": "markdown",
   "metadata": {},
   "source": [
    "###  <font color='green'>Признак city</font> "
   ]
  },
  {
   "cell_type": "code",
   "execution_count": 15,
   "metadata": {},
   "outputs": [
    {
     "data": {
      "text/plain": [
       "31"
      ]
     },
     "execution_count": 15,
     "metadata": {},
     "output_type": "execute_result"
    }
   ],
   "source": [
    "# Посчитаем сколько всего городов представлено в датасете\n",
    "df['city'].value_counts().count()"
   ]
  },
  {
   "cell_type": "code",
   "execution_count": 16,
   "metadata": {},
   "outputs": [
    {
     "data": {
      "text/plain": [
       "London        5757\n",
       "Paris         4897\n",
       "Madrid        3108\n",
       "Barcelona     2734\n",
       "Berlin        2155\n",
       "Milan         2133\n",
       "Rome          2078\n",
       "Prague        1443\n",
       "Lisbon        1300\n",
       "Vienna        1166\n",
       "Amsterdam     1086\n",
       "Brussels      1060\n",
       "Hamburg        949\n",
       "Munich         893\n",
       "Lyon           892\n",
       "Stockholm      820\n",
       "Budapest       816\n",
       "Warsaw         727\n",
       "Dublin         673\n",
       "Copenhagen     659\n",
       "Athens         628\n",
       "Edinburgh      596\n",
       "Zurich         538\n",
       "Oporto         513\n",
       "Geneva         481\n",
       "Krakow         443\n",
       "Oslo           385\n",
       "Helsinki       376\n",
       "Bratislava     301\n",
       "Luxembourg     210\n",
       "Ljubljana      183\n",
       "Name: city, dtype: int64"
      ]
     },
     "execution_count": 16,
     "metadata": {},
     "output_type": "execute_result"
    }
   ],
   "source": [
    "# Посмотрим какие города представлены\n",
    "df['city'].value_counts()"
   ]
  },
  {
   "cell_type": "code",
   "execution_count": 17,
   "metadata": {},
   "outputs": [
    {
     "data": {
      "image/png": "[encoded data removed]",
      "text/plain": [
       "<Figure size 432x288 with 1 Axes>"
      ]
     },
     "metadata": {
      "needs_background": "light"
     },
     "output_type": "display_data"
    }
   ],
   "source": [
    "# Посмотрим на распределение признаков городов: \n",
    "import matplotlib.pyplot as plt\n",
    "fig = plt.figure()\n",
    "ax = fig.add_axes([0,0,1,1])\n",
    "ax.bar(df['city'].value_counts().index, df['city'].value_counts())\n",
    "plt.xticks(rotation=90)\n",
    "plt.show()"
   ]
  },
  {
   "cell_type": "code",
   "execution_count": 18,
   "metadata": {},
   "outputs": [],
   "source": [
    "sns.set(rc={'figure.figsize':(15,8)})"
   ]
  },
  {
   "cell_type": "code",
   "execution_count": 19,
   "metadata": {},
   "outputs": [
    {
     "data": {
      "text/plain": [
       "[Text(0, 0, 'Paris'),\n",
       " Text(1, 0, 'Stockholm'),\n",
       " Text(2, 0, 'London'),\n",
       " Text(3, 0, 'Berlin'),\n",
       " Text(4, 0, 'Munich'),\n",
       " Text(5, 0, 'Oporto'),\n",
       " Text(6, 0, 'Milan'),\n",
       " Text(7, 0, 'Bratislava'),\n",
       " Text(8, 0, 'Vienna'),\n",
       " Text(9, 0, 'Rome'),\n",
       " Text(10, 0, 'Barcelona'),\n",
       " Text(11, 0, 'Madrid'),\n",
       " Text(12, 0, 'Dublin'),\n",
       " Text(13, 0, 'Brussels'),\n",
       " Text(14, 0, 'Zurich'),\n",
       " Text(15, 0, 'Warsaw'),\n",
       " Text(16, 0, 'Budapest'),\n",
       " Text(17, 0, 'Copenhagen'),\n",
       " Text(18, 0, 'Amsterdam'),\n",
       " Text(19, 0, 'Lyon'),\n",
       " Text(20, 0, 'Hamburg'),\n",
       " Text(21, 0, 'Lisbon'),\n",
       " Text(22, 0, 'Prague'),\n",
       " Text(23, 0, 'Oslo'),\n",
       " Text(24, 0, 'Helsinki'),\n",
       " Text(25, 0, 'Edinburgh'),\n",
       " Text(26, 0, 'Geneva'),\n",
       " Text(27, 0, 'Ljubljana'),\n",
       " Text(28, 0, 'Athens'),\n",
       " Text(29, 0, 'Luxembourg'),\n",
       " Text(30, 0, 'Krakow')]"
      ]
     },
     "execution_count": 19,
     "metadata": {},
     "output_type": "execute_result"
    },
    {
     "data": {
      "image/png": "[encoded data removed]",
      "text/plain": [
       "<Figure size 1080x576 with 1 Axes>"
      ]
     },
     "metadata": {},
     "output_type": "display_data"
    }
   ],
   "source": [
    "a = sns.boxplot(x='city', y='ranking', data=df)\n",
    "a.set_xticklabels(a.get_xticklabels(), rotation=90)"
   ]
  },
  {
   "cell_type": "markdown",
   "metadata": {},
   "source": [
    "Наибольшее количество отзывов представлено о ресторанах в Лондоне, и наименьшее - в Любляне, что может быть связано с количеством населения в этих городах, и (или) востребованности туристического направления. Поскольку в этой колонке данные категориальные, переделаем их в dummy, но перед этим дополнительно обработаем. По графику видно, что ranking в городах, которые упоминаются реже в большинстве случаев ниже, чем в городах с большим количеством упоминаний. Сгруппируем эти данные"
   ]
  },
  {
   "cell_type": "markdown",
   "metadata": {},
   "source": [
    "Посмотрим на распределение городов в процентом соотношении: "
   ]
  },
  {
   "cell_type": "code",
   "execution_count": 20,
   "metadata": {},
   "outputs": [
    {
     "data": {
      "text/plain": [
       "London        0.143925\n",
       "Paris         0.122425\n",
       "Madrid        0.077700\n",
       "Barcelona     0.068350\n",
       "Berlin        0.053875\n",
       "Milan         0.053325\n",
       "Rome          0.051950\n",
       "Prague        0.036075\n",
       "Lisbon        0.032500\n",
       "Vienna        0.029150\n",
       "Amsterdam     0.027150\n",
       "Brussels      0.026500\n",
       "Hamburg       0.023725\n",
       "Munich        0.022325\n",
       "Lyon          0.022300\n",
       "Stockholm     0.020500\n",
       "Budapest      0.020400\n",
       "Warsaw        0.018175\n",
       "Dublin        0.016825\n",
       "Copenhagen    0.016475\n",
       "Athens        0.015700\n",
       "Edinburgh     0.014900\n",
       "Zurich        0.013450\n",
       "Oporto        0.012825\n",
       "Geneva        0.012025\n",
       "Krakow        0.011075\n",
       "Oslo          0.009625\n",
       "Helsinki      0.009400\n",
       "Bratislava    0.007525\n",
       "Luxembourg    0.005250\n",
       "Ljubljana     0.004575\n",
       "Name: city, dtype: float64"
      ]
     },
     "execution_count": 20,
     "metadata": {},
     "output_type": "execute_result"
    }
   ],
   "source": [
    "city_value_counts = df.city.value_counts(normalize=True)\n",
    "city_value_counts"
   ]
  },
  {
   "cell_type": "markdown",
   "metadata": {},
   "source": [
    "Сгруппируем города по количеству их упоминаний, порогом выберем 2%: "
   ]
  },
  {
   "cell_type": "code",
   "execution_count": 21,
   "metadata": {},
   "outputs": [
    {
     "data": {
      "text/plain": [
       "Warsaw        0.018175\n",
       "Dublin        0.016825\n",
       "Copenhagen    0.016475\n",
       "Athens        0.015700\n",
       "Edinburgh     0.014900\n",
       "Zurich        0.013450\n",
       "Oporto        0.012825\n",
       "Geneva        0.012025\n",
       "Krakow        0.011075\n",
       "Oslo          0.009625\n",
       "Helsinki      0.009400\n",
       "Bratislava    0.007525\n",
       "Luxembourg    0.005250\n",
       "Ljubljana     0.004575\n",
       "Name: city, dtype: float64"
      ]
     },
     "execution_count": 21,
     "metadata": {},
     "output_type": "execute_result"
    }
   ],
   "source": [
    "other_list = city_value_counts[city_value_counts<0.02]\n",
    "other_list"
   ]
  },
  {
   "cell_type": "markdown",
   "metadata": {},
   "source": [
    "Заменим города в списке с порогом меньше 2% на other: "
   ]
  },
  {
   "cell_type": "code",
   "execution_count": 22,
   "metadata": {},
   "outputs": [],
   "source": [
    "df['city'] = df['city'].apply(lambda x: 'other' if x in other_list else x)"
   ]
  },
  {
   "cell_type": "code",
   "execution_count": 23,
   "metadata": {},
   "outputs": [
    {
     "data": {
      "text/plain": [
       "other        6713\n",
       "London       5757\n",
       "Paris        4897\n",
       "Madrid       3108\n",
       "Barcelona    2734\n",
       "Berlin       2155\n",
       "Milan        2133\n",
       "Rome         2078\n",
       "Prague       1443\n",
       "Lisbon       1300\n",
       "Vienna       1166\n",
       "Amsterdam    1086\n",
       "Brussels     1060\n",
       "Hamburg       949\n",
       "Munich        893\n",
       "Lyon          892\n",
       "Stockholm     820\n",
       "Budapest      816\n",
       "Name: city, dtype: int64"
      ]
     },
     "execution_count": 23,
     "metadata": {},
     "output_type": "execute_result"
    }
   ],
   "source": [
    "df['city'].value_counts()"
   ]
  },
  {
   "cell_type": "markdown",
   "metadata": {},
   "source": [
    "###  <font color='green'>Признак cuisine_style</font> "
   ]
  },
  {
   "cell_type": "code",
   "execution_count": 24,
   "metadata": {},
   "outputs": [
    {
     "data": {
      "text/plain": [
       "['Italian']                                                                                             1032\n",
       "['French']                                                                                               805\n",
       "['Spanish']                                                                                              695\n",
       "['French', 'European']                                                                                   405\n",
       "['Cafe']                                                                                                 403\n",
       "                                                                                                        ... \n",
       "['Italian', 'Pizza', 'European', 'Central European', 'Vegetarian Friendly']                                1\n",
       "['Japanese', 'Seafood', 'Fast Food', 'Sushi', 'Asian', 'Vegetarian Friendly', 'Gluten Free Options']       1\n",
       "['Bar', 'British', 'Pub', 'Grill', 'Gastropub', 'Vegetarian Friendly', 'Gluten Free Options']              1\n",
       "['American', 'Bar', 'International', 'European', 'Gastropub', 'Vegetarian Friendly']                       1\n",
       "['French', 'Seafood', 'European', 'British', 'Vegetarian Friendly', 'Gluten Free Options']                 1\n",
       "Name: cuisine_style, Length: 9007, dtype: int64"
      ]
     },
     "execution_count": 24,
     "metadata": {},
     "output_type": "execute_result"
    }
   ],
   "source": [
    "# Посмотрим на признак, пример\n",
    "df['cuisine_style'].value_counts()"
   ]
  },
  {
   "cell_type": "markdown",
   "metadata": {},
   "source": [
    "Данные грязные, нужно разделить"
   ]
  },
  {
   "cell_type": "code",
   "execution_count": 25,
   "metadata": {},
   "outputs": [],
   "source": [
    "df['cuisine_style'][:][1:-1]\n",
    "df['cuisine_style'] = df['cuisine_style'].apply(lambda x: x if pd.isna(x) else str(x).replace('[',''))\n",
    "df['cuisine_style'] = df['cuisine_style'].apply(lambda x: x if pd.isna(x) else str(x).replace(']',''))"
   ]
  },
  {
   "cell_type": "code",
   "execution_count": 26,
   "metadata": {},
   "outputs": [
    {
     "data": {
      "text/plain": [
       "0                    'European', 'French', 'International'\n",
       "1                                                      NaN\n",
       "2        'Japanese', 'Sushi', 'Asian', 'Grill', 'Vegeta...\n",
       "3                                                      NaN\n",
       "4        'German', 'Central European', 'Vegetarian Frie...\n",
       "                               ...                        \n",
       "39995    'Italian', 'Vegetarian Friendly', 'Vegan Optio...\n",
       "39996    'French', 'American', 'Bar', 'European', 'Vege...\n",
       "39997                                  'Japanese', 'Sushi'\n",
       "39998    'Polish', 'European', 'Eastern European', 'Cen...\n",
       "39999                                            'Spanish'\n",
       "Name: cuisine_style, Length: 40000, dtype: object"
      ]
     },
     "execution_count": 26,
     "metadata": {},
     "output_type": "execute_result"
    }
   ],
   "source": [
    "df['cuisine_style']"
   ]
  },
  {
   "cell_type": "code",
   "execution_count": 27,
   "metadata": {},
   "outputs": [],
   "source": [
    "df['cuisine'] = df['cuisine_style'].apply(lambda x: np.nan if pd.isna(x) else str(x).split(', '))"
   ]
  },
  {
   "cell_type": "code",
   "execution_count": 28,
   "metadata": {},
   "outputs": [
    {
     "data": {
      "text/plain": [
       "0                   'European'\n",
       "0                     'French'\n",
       "0              'International'\n",
       "1                          NaN\n",
       "2                   'Japanese'\n",
       "                 ...          \n",
       "39998               'European'\n",
       "39998       'Eastern European'\n",
       "39998       'Central European'\n",
       "39998    'Vegetarian Friendly'\n",
       "39999                'Spanish'\n",
       "Name: cuisine, Length: 104896, dtype: object"
      ]
     },
     "execution_count": 28,
     "metadata": {},
     "output_type": "execute_result"
    }
   ],
   "source": [
    "df['cuisine'].explode()"
   ]
  },
  {
   "cell_type": "code",
   "execution_count": 29,
   "metadata": {},
   "outputs": [
    {
     "data": {
      "text/plain": [
       "125"
      ]
     },
     "execution_count": 29,
     "metadata": {},
     "output_type": "execute_result"
    }
   ],
   "source": [
    "# Посчитаем сколько всего кухонь\n",
    "df['cuisine'].explode().value_counts().count()"
   ]
  },
  {
   "cell_type": "code",
   "execution_count": 30,
   "metadata": {},
   "outputs": [
    {
     "data": {
      "text/plain": [
       "2.6224"
      ]
     },
     "execution_count": 30,
     "metadata": {},
     "output_type": "execute_result"
    }
   ],
   "source": [
    "# Среднее количество кухонь в одном ресторане\n",
    "df['cuisine'].explode().index.value_counts().mean()"
   ]
  },
  {
   "cell_type": "code",
   "execution_count": 31,
   "metadata": {},
   "outputs": [],
   "source": [
    "# Создадим признак количества кухонь в одном ресторане\n",
    "df['number_cuisine'] = df['cuisine'].apply(lambda x: 1 if str(x)=='nan' else len(x))"
   ]
  },
  {
   "cell_type": "code",
   "execution_count": 32,
   "metadata": {},
   "outputs": [
    {
     "data": {
      "text/plain": [
       "0        3\n",
       "1        1\n",
       "2        7\n",
       "3        1\n",
       "4        3\n",
       "        ..\n",
       "39995    4\n",
       "39996    5\n",
       "39997    2\n",
       "39998    5\n",
       "39999    1\n",
       "Name: number_cuisine, Length: 40000, dtype: int64"
      ]
     },
     "execution_count": 32,
     "metadata": {},
     "output_type": "execute_result"
    }
   ],
   "source": [
    "df['number_cuisine']"
   ]
  },
  {
   "cell_type": "code",
   "execution_count": 33,
   "metadata": {},
   "outputs": [
    {
     "data": {
      "text/plain": [
       "<AxesSubplot:xlabel='number_cuisine', ylabel='ranking'>"
      ]
     },
     "execution_count": 33,
     "metadata": {},
     "output_type": "execute_result"
    },
    {
     "data": {
      "image/png": "[encoded data removed]",
      "text/plain": [
       "<Figure size 1080x576 with 1 Axes>"
      ]
     },
     "metadata": {},
     "output_type": "display_data"
    }
   ],
   "source": [
    "sns.boxplot(x='number_cuisine', y='ranking', data=df)"
   ]
  },
  {
   "cell_type": "markdown",
   "metadata": {},
   "source": [
    "Заметно, что чем более разнообразна кухня, тем менше рейтинг ресторана. "
   ]
  },
  {
   "cell_type": "markdown",
   "metadata": {},
   "source": [
    "Кухни следует перевести в дамми переменные, но перед этим попробуем сгруппировать данные по ним: "
   ]
  },
  {
   "cell_type": "code",
   "execution_count": 34,
   "metadata": {},
   "outputs": [],
   "source": [
    "cuisine_list = df['cuisine'].explode().value_counts()\n",
    "top_cuisine = cuisine_list[:10]"
   ]
  },
  {
   "cell_type": "code",
   "execution_count": 35,
   "metadata": {},
   "outputs": [
    {
     "data": {
      "text/plain": [
       "'Vegetarian Friendly'    11189\n",
       "'European'               10060\n",
       "'Mediterranean'           6277\n",
       "'Italian'                 5964\n",
       "'Vegan Options'           4486\n",
       "'Gluten Free Options'     4113\n",
       "'Bar'                     3297\n",
       "'French'                  3190\n",
       "'Asian'                   3011\n",
       "'Pizza'                   2849\n",
       "Name: cuisine, dtype: int64"
      ]
     },
     "execution_count": 35,
     "metadata": {},
     "output_type": "execute_result"
    }
   ],
   "source": [
    "top_cuisine"
   ]
  },
  {
   "cell_type": "markdown",
   "metadata": {},
   "source": [
    "В дальнейшем этот список понадобится для создания dummy-переменных"
   ]
  },
  {
   "cell_type": "markdown",
   "metadata": {},
   "source": [
    "Поскольку в колонке <font color='green'>'cuisine'</font> присутствуют списки (<font color='purple'>list</font>), воспользуемся методом, описанным на stack overflow: https://stackoverflow.com/questions/29034928/pandas-convert-a-column-of-list-to-dummies"
   ]
  },
  {
   "cell_type": "code",
   "execution_count": 36,
   "metadata": {},
   "outputs": [],
   "source": [
    "df2 = pd.get_dummies(df['cuisine'].apply(pd.Series).stack()).sum(level=0)"
   ]
  },
  {
   "cell_type": "code",
   "execution_count": 37,
   "metadata": {},
   "outputs": [],
   "source": [
    "# Поскольку в оригинальном датасете к колонкам было сложно обращаться из-за того, что там две пары кавычек,\n",
    "# приведем их к более привычному виду\n",
    "df2.columns = df2.columns.str.replace(\"'\", \"\")"
   ]
  },
  {
   "cell_type": "code",
   "execution_count": 38,
   "metadata": {},
   "outputs": [
    {
     "data": {
      "text/html": [
       "<div>\n",
       "<style scoped>\n",
       "    .dataframe tbody tr th:only-of-type {\n",
       "        vertical-align: middle;\n",
       "    }\n",
       "\n",
       "    .dataframe tbody tr th {\n",
       "        vertical-align: top;\n",
       "    }\n",
       "\n",
       "    .dataframe thead th {\n",
       "        text-align: right;\n",
       "    }\n",
       "</style>\n",
       "<table border=\"1\" class=\"dataframe\">\n",
       "  <thead>\n",
       "    <tr style=\"text-align: right;\">\n",
       "      <th></th>\n",
       "      <th>Afghani</th>\n",
       "      <th>African</th>\n",
       "      <th>Albanian</th>\n",
       "      <th>American</th>\n",
       "      <th>Arabic</th>\n",
       "      <th>Argentinean</th>\n",
       "      <th>Armenian</th>\n",
       "      <th>Asian</th>\n",
       "      <th>Australian</th>\n",
       "      <th>Austrian</th>\n",
       "      <th>...</th>\n",
       "      <th>Ukrainian</th>\n",
       "      <th>Uzbek</th>\n",
       "      <th>Vegan Options</th>\n",
       "      <th>Vegetarian Friendly</th>\n",
       "      <th>Venezuelan</th>\n",
       "      <th>Vietnamese</th>\n",
       "      <th>Welsh</th>\n",
       "      <th>Wine Bar</th>\n",
       "      <th>Xinjiang</th>\n",
       "      <th>Yunnan</th>\n",
       "    </tr>\n",
       "  </thead>\n",
       "  <tbody>\n",
       "    <tr>\n",
       "      <th>0</th>\n",
       "      <td>0</td>\n",
       "      <td>0</td>\n",
       "      <td>0</td>\n",
       "      <td>0</td>\n",
       "      <td>0</td>\n",
       "      <td>0</td>\n",
       "      <td>0</td>\n",
       "      <td>0</td>\n",
       "      <td>0</td>\n",
       "      <td>0</td>\n",
       "      <td>...</td>\n",
       "      <td>0</td>\n",
       "      <td>0</td>\n",
       "      <td>0</td>\n",
       "      <td>0</td>\n",
       "      <td>0</td>\n",
       "      <td>0</td>\n",
       "      <td>0</td>\n",
       "      <td>0</td>\n",
       "      <td>0</td>\n",
       "      <td>0</td>\n",
       "    </tr>\n",
       "    <tr>\n",
       "      <th>2</th>\n",
       "      <td>0</td>\n",
       "      <td>0</td>\n",
       "      <td>0</td>\n",
       "      <td>0</td>\n",
       "      <td>0</td>\n",
       "      <td>0</td>\n",
       "      <td>0</td>\n",
       "      <td>1</td>\n",
       "      <td>0</td>\n",
       "      <td>0</td>\n",
       "      <td>...</td>\n",
       "      <td>0</td>\n",
       "      <td>0</td>\n",
       "      <td>1</td>\n",
       "      <td>1</td>\n",
       "      <td>0</td>\n",
       "      <td>0</td>\n",
       "      <td>0</td>\n",
       "      <td>0</td>\n",
       "      <td>0</td>\n",
       "      <td>0</td>\n",
       "    </tr>\n",
       "    <tr>\n",
       "      <th>4</th>\n",
       "      <td>0</td>\n",
       "      <td>0</td>\n",
       "      <td>0</td>\n",
       "      <td>0</td>\n",
       "      <td>0</td>\n",
       "      <td>0</td>\n",
       "      <td>0</td>\n",
       "      <td>0</td>\n",
       "      <td>0</td>\n",
       "      <td>0</td>\n",
       "      <td>...</td>\n",
       "      <td>0</td>\n",
       "      <td>0</td>\n",
       "      <td>0</td>\n",
       "      <td>1</td>\n",
       "      <td>0</td>\n",
       "      <td>0</td>\n",
       "      <td>0</td>\n",
       "      <td>0</td>\n",
       "      <td>0</td>\n",
       "      <td>0</td>\n",
       "    </tr>\n",
       "    <tr>\n",
       "      <th>6</th>\n",
       "      <td>0</td>\n",
       "      <td>0</td>\n",
       "      <td>0</td>\n",
       "      <td>0</td>\n",
       "      <td>0</td>\n",
       "      <td>0</td>\n",
       "      <td>0</td>\n",
       "      <td>0</td>\n",
       "      <td>0</td>\n",
       "      <td>0</td>\n",
       "      <td>...</td>\n",
       "      <td>0</td>\n",
       "      <td>0</td>\n",
       "      <td>0</td>\n",
       "      <td>0</td>\n",
       "      <td>0</td>\n",
       "      <td>0</td>\n",
       "      <td>0</td>\n",
       "      <td>0</td>\n",
       "      <td>0</td>\n",
       "      <td>0</td>\n",
       "    </tr>\n",
       "    <tr>\n",
       "      <th>7</th>\n",
       "      <td>0</td>\n",
       "      <td>0</td>\n",
       "      <td>0</td>\n",
       "      <td>0</td>\n",
       "      <td>0</td>\n",
       "      <td>0</td>\n",
       "      <td>0</td>\n",
       "      <td>0</td>\n",
       "      <td>0</td>\n",
       "      <td>0</td>\n",
       "      <td>...</td>\n",
       "      <td>0</td>\n",
       "      <td>0</td>\n",
       "      <td>0</td>\n",
       "      <td>0</td>\n",
       "      <td>0</td>\n",
       "      <td>0</td>\n",
       "      <td>0</td>\n",
       "      <td>0</td>\n",
       "      <td>0</td>\n",
       "      <td>0</td>\n",
       "    </tr>\n",
       "  </tbody>\n",
       "</table>\n",
       "<p>5 rows × 125 columns</p>\n",
       "</div>"
      ],
      "text/plain": [
       "   Afghani  African  Albanian  American  Arabic  Argentinean  Armenian  Asian  \\\n",
       "0        0        0         0         0       0            0         0      0   \n",
       "2        0        0         0         0       0            0         0      1   \n",
       "4        0        0         0         0       0            0         0      0   \n",
       "6        0        0         0         0       0            0         0      0   \n",
       "7        0        0         0         0       0            0         0      0   \n",
       "\n",
       "   Australian  Austrian  ...  Ukrainian  Uzbek  Vegan Options  \\\n",
       "0           0         0  ...          0      0              0   \n",
       "2           0         0  ...          0      0              1   \n",
       "4           0         0  ...          0      0              0   \n",
       "6           0         0  ...          0      0              0   \n",
       "7           0         0  ...          0      0              0   \n",
       "\n",
       "   Vegetarian Friendly  Venezuelan  Vietnamese  Welsh  Wine Bar  Xinjiang  \\\n",
       "0                    0           0           0      0         0         0   \n",
       "2                    1           0           0      0         0         0   \n",
       "4                    1           0           0      0         0         0   \n",
       "6                    0           0           0      0         0         0   \n",
       "7                    0           0           0      0         0         0   \n",
       "\n",
       "   Yunnan  \n",
       "0       0  \n",
       "2       0  \n",
       "4       0  \n",
       "6       0  \n",
       "7       0  \n",
       "\n",
       "[5 rows x 125 columns]"
      ]
     },
     "execution_count": 38,
     "metadata": {},
     "output_type": "execute_result"
    }
   ],
   "source": [
    "# Посмотрим что получилось в итоге\n",
    "df2.head()"
   ]
  },
  {
   "cell_type": "markdown",
   "metadata": {},
   "source": [
    "Теперь удалим ненужные колонки (которые не входят в top_cuisine)"
   ]
  },
  {
   "cell_type": "code",
   "execution_count": 39,
   "metadata": {},
   "outputs": [],
   "source": [
    "# Да, здесь можно написать функцию, но уже сложно, перепишу после оценки\n",
    "df2 = df2[['Vegetarian Friendly', 'European', 'Mediterranean', 'Italian','Vegan Options','Gluten Free Options','Bar', 'French','Asian', 'Pizza']]"
   ]
  },
  {
   "cell_type": "code",
   "execution_count": 40,
   "metadata": {},
   "outputs": [
    {
     "data": {
      "text/html": [
       "<div>\n",
       "<style scoped>\n",
       "    .dataframe tbody tr th:only-of-type {\n",
       "        vertical-align: middle;\n",
       "    }\n",
       "\n",
       "    .dataframe tbody tr th {\n",
       "        vertical-align: top;\n",
       "    }\n",
       "\n",
       "    .dataframe thead th {\n",
       "        text-align: right;\n",
       "    }\n",
       "</style>\n",
       "<table border=\"1\" class=\"dataframe\">\n",
       "  <thead>\n",
       "    <tr style=\"text-align: right;\">\n",
       "      <th></th>\n",
       "      <th>Vegetarian Friendly</th>\n",
       "      <th>European</th>\n",
       "      <th>Mediterranean</th>\n",
       "      <th>Italian</th>\n",
       "      <th>Vegan Options</th>\n",
       "      <th>Gluten Free Options</th>\n",
       "      <th>Bar</th>\n",
       "      <th>French</th>\n",
       "      <th>Asian</th>\n",
       "      <th>Pizza</th>\n",
       "    </tr>\n",
       "  </thead>\n",
       "  <tbody>\n",
       "    <tr>\n",
       "      <th>0</th>\n",
       "      <td>0</td>\n",
       "      <td>1</td>\n",
       "      <td>0</td>\n",
       "      <td>0</td>\n",
       "      <td>0</td>\n",
       "      <td>0</td>\n",
       "      <td>0</td>\n",
       "      <td>1</td>\n",
       "      <td>0</td>\n",
       "      <td>0</td>\n",
       "    </tr>\n",
       "    <tr>\n",
       "      <th>2</th>\n",
       "      <td>1</td>\n",
       "      <td>0</td>\n",
       "      <td>0</td>\n",
       "      <td>0</td>\n",
       "      <td>1</td>\n",
       "      <td>1</td>\n",
       "      <td>0</td>\n",
       "      <td>0</td>\n",
       "      <td>1</td>\n",
       "      <td>0</td>\n",
       "    </tr>\n",
       "    <tr>\n",
       "      <th>4</th>\n",
       "      <td>1</td>\n",
       "      <td>0</td>\n",
       "      <td>0</td>\n",
       "      <td>0</td>\n",
       "      <td>0</td>\n",
       "      <td>0</td>\n",
       "      <td>0</td>\n",
       "      <td>0</td>\n",
       "      <td>0</td>\n",
       "      <td>0</td>\n",
       "    </tr>\n",
       "    <tr>\n",
       "      <th>6</th>\n",
       "      <td>0</td>\n",
       "      <td>0</td>\n",
       "      <td>0</td>\n",
       "      <td>1</td>\n",
       "      <td>0</td>\n",
       "      <td>0</td>\n",
       "      <td>0</td>\n",
       "      <td>0</td>\n",
       "      <td>0</td>\n",
       "      <td>1</td>\n",
       "    </tr>\n",
       "    <tr>\n",
       "      <th>7</th>\n",
       "      <td>0</td>\n",
       "      <td>0</td>\n",
       "      <td>0</td>\n",
       "      <td>1</td>\n",
       "      <td>0</td>\n",
       "      <td>0</td>\n",
       "      <td>0</td>\n",
       "      <td>0</td>\n",
       "      <td>0</td>\n",
       "      <td>0</td>\n",
       "    </tr>\n",
       "    <tr>\n",
       "      <th>...</th>\n",
       "      <td>...</td>\n",
       "      <td>...</td>\n",
       "      <td>...</td>\n",
       "      <td>...</td>\n",
       "      <td>...</td>\n",
       "      <td>...</td>\n",
       "      <td>...</td>\n",
       "      <td>...</td>\n",
       "      <td>...</td>\n",
       "      <td>...</td>\n",
       "    </tr>\n",
       "    <tr>\n",
       "      <th>39995</th>\n",
       "      <td>1</td>\n",
       "      <td>0</td>\n",
       "      <td>0</td>\n",
       "      <td>1</td>\n",
       "      <td>1</td>\n",
       "      <td>1</td>\n",
       "      <td>0</td>\n",
       "      <td>0</td>\n",
       "      <td>0</td>\n",
       "      <td>0</td>\n",
       "    </tr>\n",
       "    <tr>\n",
       "      <th>39996</th>\n",
       "      <td>1</td>\n",
       "      <td>1</td>\n",
       "      <td>0</td>\n",
       "      <td>0</td>\n",
       "      <td>0</td>\n",
       "      <td>0</td>\n",
       "      <td>1</td>\n",
       "      <td>1</td>\n",
       "      <td>0</td>\n",
       "      <td>0</td>\n",
       "    </tr>\n",
       "    <tr>\n",
       "      <th>39997</th>\n",
       "      <td>0</td>\n",
       "      <td>0</td>\n",
       "      <td>0</td>\n",
       "      <td>0</td>\n",
       "      <td>0</td>\n",
       "      <td>0</td>\n",
       "      <td>0</td>\n",
       "      <td>0</td>\n",
       "      <td>0</td>\n",
       "      <td>0</td>\n",
       "    </tr>\n",
       "    <tr>\n",
       "      <th>39998</th>\n",
       "      <td>1</td>\n",
       "      <td>1</td>\n",
       "      <td>0</td>\n",
       "      <td>0</td>\n",
       "      <td>0</td>\n",
       "      <td>0</td>\n",
       "      <td>0</td>\n",
       "      <td>0</td>\n",
       "      <td>0</td>\n",
       "      <td>0</td>\n",
       "    </tr>\n",
       "    <tr>\n",
       "      <th>39999</th>\n",
       "      <td>0</td>\n",
       "      <td>0</td>\n",
       "      <td>0</td>\n",
       "      <td>0</td>\n",
       "      <td>0</td>\n",
       "      <td>0</td>\n",
       "      <td>0</td>\n",
       "      <td>0</td>\n",
       "      <td>0</td>\n",
       "      <td>0</td>\n",
       "    </tr>\n",
       "  </tbody>\n",
       "</table>\n",
       "<p>30717 rows × 10 columns</p>\n",
       "</div>"
      ],
      "text/plain": [
       "       Vegetarian Friendly  European  Mediterranean  Italian  Vegan Options  \\\n",
       "0                        0         1              0        0              0   \n",
       "2                        1         0              0        0              1   \n",
       "4                        1         0              0        0              0   \n",
       "6                        0         0              0        1              0   \n",
       "7                        0         0              0        1              0   \n",
       "...                    ...       ...            ...      ...            ...   \n",
       "39995                    1         0              0        1              1   \n",
       "39996                    1         1              0        0              0   \n",
       "39997                    0         0              0        0              0   \n",
       "39998                    1         1              0        0              0   \n",
       "39999                    0         0              0        0              0   \n",
       "\n",
       "       Gluten Free Options  Bar  French  Asian  Pizza  \n",
       "0                        0    0       1      0      0  \n",
       "2                        1    0       0      1      0  \n",
       "4                        0    0       0      0      0  \n",
       "6                        0    0       0      0      1  \n",
       "7                        0    0       0      0      0  \n",
       "...                    ...  ...     ...    ...    ...  \n",
       "39995                    1    0       0      0      0  \n",
       "39996                    0    1       1      0      0  \n",
       "39997                    0    0       0      0      0  \n",
       "39998                    0    0       0      0      0  \n",
       "39999                    0    0       0      0      0  \n",
       "\n",
       "[30717 rows x 10 columns]"
      ]
     },
     "execution_count": 40,
     "metadata": {},
     "output_type": "execute_result"
    }
   ],
   "source": [
    "df2"
   ]
  },
  {
   "cell_type": "markdown",
   "metadata": {},
   "source": [
    "Присоединим этот датафрейм к оригинальному: "
   ]
  },
  {
   "cell_type": "code",
   "execution_count": 41,
   "metadata": {},
   "outputs": [],
   "source": [
    "df = df.merge(df2, how='left', left_index=True, right_index=True)"
   ]
  },
  {
   "cell_type": "markdown",
   "metadata": {},
   "source": [
    "### <font color='green'>Признаки id_ta и url_ta</font> "
   ]
  },
  {
   "cell_type": "code",
   "execution_count": 42,
   "metadata": {},
   "outputs": [
    {
     "data": {
      "text/plain": [
       "d1315077     2\n",
       "d9802625     2\n",
       "d7809594     2\n",
       "d10047799    2\n",
       "d8753348     2\n",
       "            ..\n",
       "d8806051     1\n",
       "d4340078     1\n",
       "d2621534     1\n",
       "d13160674    1\n",
       "d12926680    1\n",
       "Name: id_ta, Length: 39980, dtype: int64"
      ]
     },
     "execution_count": 42,
     "metadata": {},
     "output_type": "execute_result"
    }
   ],
   "source": [
    "df.id_ta.value_counts()"
   ]
  },
  {
   "cell_type": "code",
   "execution_count": 43,
   "metadata": {},
   "outputs": [
    {
     "data": {
      "text/plain": [
       "/Restaurant_Review-g187514-d7342803-Reviews-Los_Hierros-Madrid.html                                                        2\n",
       "/Restaurant_Review-g187514-d793170-Reviews-Caripen_Bistro-Madrid.html                                                      2\n",
       "/Restaurant_Review-g187514-d8753348-Reviews-Tropecientos-Madrid.html                                                       2\n",
       "/Restaurant_Review-g187514-d2477531-Reviews-Haya_19-Madrid.html                                                            2\n",
       "/Restaurant_Review-g187514-d10047799-Reviews-Entrepuntos-Madrid.html                                                       2\n",
       "                                                                                                                          ..\n",
       "/Restaurant_Review-g189541-d9845669-Reviews-Sushi_Best-Copenhagen_Zealand.html                                             1\n",
       "/Restaurant_Review-g190356-d11641233-Reviews-Franz-Luxembourg_City.html                                                    1\n",
       "/Restaurant_Review-g187497-d3678813-Reviews-Yours-Barcelona_Catalonia.html                                                 1\n",
       "/Restaurant_Review-g187514-d8021257-Reviews-Eating_Point_Terminal_3_Aeropuerto_Adolfo_Suarez_Madrid_Barajas-Madrid.html    1\n",
       "/Restaurant_Review-g187323-d4942773-Reviews-Cafe_Bistro_Evelin-Berlin.html                                                 1\n",
       "Name: url_ta, Length: 39980, dtype: int64"
      ]
     },
     "execution_count": 43,
     "metadata": {},
     "output_type": "execute_result"
    }
   ],
   "source": [
    "df.url_ta.value_counts()"
   ]
  },
  {
   "cell_type": "markdown",
   "metadata": {},
   "source": [
    "Как видим, в этих признаках встречаются возможные дубли, и хотя по условию задания мы не имеем права удалять строки, от дублей все-таки лучше избавиться"
   ]
  },
  {
   "cell_type": "code",
   "execution_count": 44,
   "metadata": {},
   "outputs": [],
   "source": [
    "df = df.drop(columns=['cuisine_style', 'cuisine', 'id_ta', 'url_ta'])"
   ]
  },
  {
   "cell_type": "markdown",
   "metadata": {},
   "source": [
    "### <font color='green'>Признак reviews</font> "
   ]
  },
  {
   "cell_type": "markdown",
   "metadata": {},
   "source": [
    "Этот признак один из самых сложных в обработке, поскольку в нем есть не только отзывы, но и их даты, поэтому для начала вытащим даты отзывов, а потом попробуем обработать сами отзывы"
   ]
  },
  {
   "cell_type": "code",
   "execution_count": 45,
   "metadata": {},
   "outputs": [
    {
     "data": {
      "text/plain": [
       "\"[['Good food at your doorstep', 'A good hotel restaurant'], ['12/31/2017', '11/20/2017']]\""
      ]
     },
     "execution_count": 45,
     "metadata": {},
     "output_type": "execute_result"
    }
   ],
   "source": [
    "df['reviews'][0]"
   ]
  },
  {
   "cell_type": "code",
   "execution_count": 46,
   "metadata": {},
   "outputs": [
    {
     "data": {
      "text/plain": [
       "str"
      ]
     },
     "execution_count": 46,
     "metadata": {},
     "output_type": "execute_result"
    }
   ],
   "source": [
    "# Тип строки:\n",
    "type(df['reviews'][0])"
   ]
  },
  {
   "cell_type": "code",
   "execution_count": 47,
   "metadata": {},
   "outputs": [],
   "source": [
    "# Приведет отзывы к более понятному типу: \n",
    "df['reviews'] = df['reviews'].apply(lambda x: 'no_data' if pd.isna(x) else str(x).replace('[[',''))\n",
    "df['reviews'] = df['reviews'].apply(lambda x: x if pd.isna(x) else str(x).replace(']]',''))\n",
    "df['reviews'] = df['reviews'].apply(lambda x: x if pd.isna(x) else str(x).split('], ['))"
   ]
  },
  {
   "cell_type": "code",
   "execution_count": 48,
   "metadata": {},
   "outputs": [
    {
     "data": {
      "text/plain": [
       "list"
      ]
     },
     "execution_count": 48,
     "metadata": {},
     "output_type": "execute_result"
    }
   ],
   "source": [
    "# Проверим тип строки после преобразований:\n",
    "type(df['reviews'][0])"
   ]
  },
  {
   "cell_type": "markdown",
   "metadata": {},
   "source": [
    "Поскольку в некоторых колонках бывают пропуски, вытащим даты отзывов при помощи регулярных выражений"
   ]
  },
  {
   "cell_type": "code",
   "execution_count": 49,
   "metadata": {},
   "outputs": [],
   "source": [
    "df['date'] = df['reviews'].apply(lambda x: x if pd.isna(str(x)) else re.findall(r'(\\d{2}\\/\\d{2}\\/\\d{4})', str(x)))"
   ]
  },
  {
   "cell_type": "code",
   "execution_count": 50,
   "metadata": {},
   "outputs": [],
   "source": [
    "df['date'] = df['date'].apply(lambda x: None if len(x)==0 else x)"
   ]
  },
  {
   "cell_type": "code",
   "execution_count": 51,
   "metadata": {},
   "outputs": [],
   "source": [
    "# Выделим даты отзывов в отдельные колонки\n",
    "df['date1'] = df['date'].apply(lambda x: None if x == None else x[0])\n",
    "df['date0'] = df['date'].apply(lambda x: None if x == None else x[-1])"
   ]
  },
  {
   "cell_type": "code",
   "execution_count": 52,
   "metadata": {},
   "outputs": [],
   "source": [
    "# Переведем даты в формат datetime\n",
    "df['date1'] = pd.to_datetime(df['date1'])\n",
    "df['date0'] = pd.to_datetime(df['date0'])"
   ]
  },
  {
   "cell_type": "code",
   "execution_count": 53,
   "metadata": {},
   "outputs": [],
   "source": [
    "# Посчитаем разницу между двумя отзывами: \n",
    "df['date_difference'] = df['date1'] - df['date0']"
   ]
  },
  {
   "cell_type": "code",
   "execution_count": 54,
   "metadata": {},
   "outputs": [
    {
     "data": {
      "text/html": [
       "<div>\n",
       "<style scoped>\n",
       "    .dataframe tbody tr th:only-of-type {\n",
       "        vertical-align: middle;\n",
       "    }\n",
       "\n",
       "    .dataframe tbody tr th {\n",
       "        vertical-align: top;\n",
       "    }\n",
       "\n",
       "    .dataframe thead th {\n",
       "        text-align: right;\n",
       "    }\n",
       "</style>\n",
       "<table border=\"1\" class=\"dataframe\">\n",
       "  <thead>\n",
       "    <tr style=\"text-align: right;\">\n",
       "      <th></th>\n",
       "      <th>date1</th>\n",
       "      <th>date0</th>\n",
       "      <th>date_difference</th>\n",
       "    </tr>\n",
       "  </thead>\n",
       "  <tbody>\n",
       "    <tr>\n",
       "      <th>0</th>\n",
       "      <td>2017-12-31</td>\n",
       "      <td>2017-11-20</td>\n",
       "      <td>41 days</td>\n",
       "    </tr>\n",
       "    <tr>\n",
       "      <th>1</th>\n",
       "      <td>2017-07-06</td>\n",
       "      <td>2016-06-19</td>\n",
       "      <td>382 days</td>\n",
       "    </tr>\n",
       "    <tr>\n",
       "      <th>2</th>\n",
       "      <td>2018-01-08</td>\n",
       "      <td>2018-01-06</td>\n",
       "      <td>2 days</td>\n",
       "    </tr>\n",
       "    <tr>\n",
       "      <th>3</th>\n",
       "      <td>NaT</td>\n",
       "      <td>NaT</td>\n",
       "      <td>NaT</td>\n",
       "    </tr>\n",
       "    <tr>\n",
       "      <th>4</th>\n",
       "      <td>2017-11-18</td>\n",
       "      <td>2017-02-19</td>\n",
       "      <td>272 days</td>\n",
       "    </tr>\n",
       "    <tr>\n",
       "      <th>...</th>\n",
       "      <td>...</td>\n",
       "      <td>...</td>\n",
       "      <td>...</td>\n",
       "    </tr>\n",
       "    <tr>\n",
       "      <th>39995</th>\n",
       "      <td>2017-12-16</td>\n",
       "      <td>2017-11-12</td>\n",
       "      <td>34 days</td>\n",
       "    </tr>\n",
       "    <tr>\n",
       "      <th>39996</th>\n",
       "      <td>2017-12-21</td>\n",
       "      <td>2017-12-12</td>\n",
       "      <td>9 days</td>\n",
       "    </tr>\n",
       "    <tr>\n",
       "      <th>39997</th>\n",
       "      <td>2016-11-03</td>\n",
       "      <td>2008-04-12</td>\n",
       "      <td>3127 days</td>\n",
       "    </tr>\n",
       "    <tr>\n",
       "      <th>39998</th>\n",
       "      <td>2017-07-11</td>\n",
       "      <td>2017-06-18</td>\n",
       "      <td>23 days</td>\n",
       "    </tr>\n",
       "    <tr>\n",
       "      <th>39999</th>\n",
       "      <td>2016-01-31</td>\n",
       "      <td>2012-07-04</td>\n",
       "      <td>1306 days</td>\n",
       "    </tr>\n",
       "  </tbody>\n",
       "</table>\n",
       "<p>40000 rows × 3 columns</p>\n",
       "</div>"
      ],
      "text/plain": [
       "           date1      date0 date_difference\n",
       "0     2017-12-31 2017-11-20         41 days\n",
       "1     2017-07-06 2016-06-19        382 days\n",
       "2     2018-01-08 2018-01-06          2 days\n",
       "3            NaT        NaT             NaT\n",
       "4     2017-11-18 2017-02-19        272 days\n",
       "...          ...        ...             ...\n",
       "39995 2017-12-16 2017-11-12         34 days\n",
       "39996 2017-12-21 2017-12-12          9 days\n",
       "39997 2016-11-03 2008-04-12       3127 days\n",
       "39998 2017-07-11 2017-06-18         23 days\n",
       "39999 2016-01-31 2012-07-04       1306 days\n",
       "\n",
       "[40000 rows x 3 columns]"
      ]
     },
     "execution_count": 54,
     "metadata": {},
     "output_type": "execute_result"
    }
   ],
   "source": [
    "df[['date1','date0', 'date_difference']]"
   ]
  },
  {
   "cell_type": "code",
   "execution_count": 55,
   "metadata": {},
   "outputs": [],
   "source": [
    "# Переформатируем колонку date_difference в числовой формат\n",
    "df[\"date_difference\"] = (df[\"date_difference\"]).dt.days"
   ]
  },
  {
   "cell_type": "markdown",
   "metadata": {},
   "source": [
    "Какую информацию еще можно вытащить из этой колонок о дате? Можно выделить данные по разным месяцам, неделям и по времени года"
   ]
  },
  {
   "cell_type": "code",
   "execution_count": 56,
   "metadata": {},
   "outputs": [],
   "source": [
    "df['month0'] = df.date0.dt.month"
   ]
  },
  {
   "cell_type": "code",
   "execution_count": 57,
   "metadata": {},
   "outputs": [],
   "source": [
    "df['week0'] = df.date0.dt.isocalendar().week"
   ]
  },
  {
   "cell_type": "code",
   "execution_count": 58,
   "metadata": {},
   "outputs": [
    {
     "data": {
      "text/plain": [
       "<AxesSubplot:>"
      ]
     },
     "execution_count": 58,
     "metadata": {},
     "output_type": "execute_result"
    },
    {
     "data": {
      "image/png": "[encoded data removed]",
      "text/plain": [
       "<Figure size 1080x576 with 1 Axes>"
      ]
     },
     "metadata": {},
     "output_type": "display_data"
    }
   ],
   "source": [
    "df['week0'].hist()"
   ]
  },
  {
   "cell_type": "code",
   "execution_count": 59,
   "metadata": {},
   "outputs": [
    {
     "data": {
      "text/plain": [
       "<AxesSubplot:>"
      ]
     },
     "execution_count": 59,
     "metadata": {},
     "output_type": "execute_result"
    },
    {
     "data": {
      "image/png": "[encoded data removed]",
      "text/plain": [
       "<Figure size 1080x576 with 1 Axes>"
      ]
     },
     "metadata": {},
     "output_type": "display_data"
    }
   ],
   "source": [
    "df['month0'].hist()"
   ]
  },
  {
   "cell_type": "code",
   "execution_count": 60,
   "metadata": {},
   "outputs": [],
   "source": [
    "df['weekday0'] = df.date0.dt.weekday"
   ]
  },
  {
   "cell_type": "code",
   "execution_count": 61,
   "metadata": {},
   "outputs": [
    {
     "data": {
      "text/plain": [
       "<AxesSubplot:>"
      ]
     },
     "execution_count": 61,
     "metadata": {},
     "output_type": "execute_result"
    },
    {
     "data": {
      "image/png": "[encoded data removed]",
      "text/plain": [
       "<Figure size 1080x576 with 1 Axes>"
      ]
     },
     "metadata": {},
     "output_type": "display_data"
    }
   ],
   "source": [
    "df['weekday0'].hist(bins=7)"
   ]
  },
  {
   "cell_type": "code",
   "execution_count": 62,
   "metadata": {},
   "outputs": [],
   "source": [
    "df['month1'] = df.date1.dt.month "
   ]
  },
  {
   "cell_type": "code",
   "execution_count": 63,
   "metadata": {},
   "outputs": [],
   "source": [
    "df['week1'] = df.date1.dt.isocalendar().week"
   ]
  },
  {
   "cell_type": "code",
   "execution_count": 64,
   "metadata": {},
   "outputs": [],
   "source": [
    "df['weekday1'] = df.date1.dt.weekday"
   ]
  },
  {
   "cell_type": "code",
   "execution_count": 65,
   "metadata": {},
   "outputs": [
    {
     "data": {
      "text/plain": [
       "<AxesSubplot:>"
      ]
     },
     "execution_count": 65,
     "metadata": {},
     "output_type": "execute_result"
    },
    {
     "data": {
      "image/png": "[encoded data removed]",
      "text/plain": [
       "<Figure size 1080x576 with 1 Axes>"
      ]
     },
     "metadata": {},
     "output_type": "display_data"
    }
   ],
   "source": [
    "df['month1'].hist()"
   ]
  },
  {
   "cell_type": "code",
   "execution_count": 66,
   "metadata": {},
   "outputs": [
    {
     "data": {
      "text/plain": [
       "<AxesSubplot:>"
      ]
     },
     "execution_count": 66,
     "metadata": {},
     "output_type": "execute_result"
    },
    {
     "data": {
      "image/png": "[encoded data removed]",
      "text/plain": [
       "<Figure size 1080x576 with 1 Axes>"
      ]
     },
     "metadata": {},
     "output_type": "display_data"
    }
   ],
   "source": [
    "df['week1'].hist()"
   ]
  },
  {
   "cell_type": "code",
   "execution_count": 67,
   "metadata": {},
   "outputs": [
    {
     "data": {
      "text/plain": [
       "<AxesSubplot:>"
      ]
     },
     "execution_count": 67,
     "metadata": {},
     "output_type": "execute_result"
    },
    {
     "data": {
      "image/png": "[encoded data removed]",
      "text/plain": [
       "<Figure size 1080x576 with 1 Axes>"
      ]
     },
     "metadata": {},
     "output_type": "display_data"
    }
   ],
   "source": [
    "df['weekday1'].hist(bins=7)"
   ]
  },
  {
   "cell_type": "markdown",
   "metadata": {},
   "source": [
    "Поскольку динамика недель оставления отзывов и месяцев не особо отличается и заметно коррелируют между собой, оставим только один из признаков"
   ]
  },
  {
   "cell_type": "code",
   "execution_count": 68,
   "metadata": {},
   "outputs": [],
   "source": [
    "# Напишем функцию для вытаскивания времени года\n",
    "def time_of_year(x):\n",
    "    if x in [1,2,12]:\n",
    "        return 'Winter'\n",
    "    elif x in [3,4,5]:\n",
    "        return 'Spring'\n",
    "    elif x in [6,7,8]:\n",
    "        return 'Summer'\n",
    "    elif x in [9,10,11]:\n",
    "        return 'Fall'"
   ]
  },
  {
   "cell_type": "code",
   "execution_count": 69,
   "metadata": {},
   "outputs": [],
   "source": [
    "df = df.drop(columns=['weekday0', 'weekday1', 'week0','week1'])\n"
   ]
  },
  {
   "cell_type": "code",
   "execution_count": 70,
   "metadata": {},
   "outputs": [],
   "source": [
    "# Заменим NaN-значения на моду признака - то есть 12-й месяц: \n",
    "df['month0'] = df['month0'].apply(lambda x: df.month0.mode()[0] if pd.isna(x) else x)\n",
    "df['month1'] = df['month1'].apply(lambda x: df.month0.mode()[0] if pd.isna(x) else x)"
   ]
  },
  {
   "cell_type": "code",
   "execution_count": 71,
   "metadata": {},
   "outputs": [],
   "source": [
    "# Применим функцию к колонкам с месяцами оставления отзывов: \n",
    "df['time_of_year1'] = df['month1'].apply(lambda x: np.nan if pd.isna(x) else time_of_year(x))\n",
    "df['time_of_year0'] = df['month0'].apply(lambda x: np.nan if pd.isna(x) else time_of_year(x))"
   ]
  },
  {
   "cell_type": "code",
   "execution_count": 72,
   "metadata": {},
   "outputs": [
    {
     "data": {
      "text/plain": [
       "Winter    15179\n",
       "Fall      11172\n",
       "Summer     7834\n",
       "Spring     5815\n",
       "Name: time_of_year0, dtype: int64"
      ]
     },
     "execution_count": 72,
     "metadata": {},
     "output_type": "execute_result"
    }
   ],
   "source": [
    "df['time_of_year0'].value_counts()"
   ]
  },
  {
   "cell_type": "code",
   "execution_count": 73,
   "metadata": {},
   "outputs": [
    {
     "data": {
      "text/plain": [
       "Winter    18313\n",
       "Fall      10775\n",
       "Summer     6492\n",
       "Spring     4420\n",
       "Name: time_of_year1, dtype: int64"
      ]
     },
     "execution_count": 73,
     "metadata": {},
     "output_type": "execute_result"
    }
   ],
   "source": [
    "df['time_of_year1'].value_counts()"
   ]
  },
  {
   "cell_type": "code",
   "execution_count": 74,
   "metadata": {},
   "outputs": [],
   "source": [
    "# Теперь обратимся к тексту отзывов\n",
    "df['reviews_text'] = df['reviews'].apply(lambda x: 'no_data' if pd.isna(str(x)) else x[0])"
   ]
  },
  {
   "cell_type": "code",
   "execution_count": 75,
   "metadata": {},
   "outputs": [
    {
     "data": {
      "text/plain": [
       "0        'Good food at your doorstep', 'A good hotel re...\n",
       "1              'Unique cuisine', 'Delicious Nepalese food'\n",
       "2               'Catch up with friends', 'Not exceptional'\n",
       "3                                                         \n",
       "4        'Best place to try a Bavarian food', 'Nice bui...\n",
       "                               ...                        \n",
       "39995    'The real Italian experience!', 'Wonderful foo...\n",
       "39996    'Parisian atmosphere', 'Bit pricey but interes...\n",
       "39997    'Good by swedish standards', 'A hidden jewel i...\n",
       "39998    'Underground restaurant', 'Oldest Restaurant i...\n",
       "39999                        'Average', 'Nice an informal'\n",
       "Name: reviews_text, Length: 40000, dtype: object"
      ]
     },
     "execution_count": 75,
     "metadata": {},
     "output_type": "execute_result"
    }
   ],
   "source": [
    "df['reviews_text']"
   ]
  },
  {
   "cell_type": "code",
   "execution_count": 76,
   "metadata": {},
   "outputs": [],
   "source": [
    "# На данный момент признак reviews удалим (не могу обработать)\n",
    "df = df.drop(columns=['reviews'])"
   ]
  },
  {
   "cell_type": "markdown",
   "metadata": {},
   "source": [
    "#### Создаем dummy-переменные для городов\n"
   ]
  },
  {
   "cell_type": "code",
   "execution_count": 77,
   "metadata": {},
   "outputs": [
    {
     "data": {
      "text/html": [
       "<div>\n",
       "<style scoped>\n",
       "    .dataframe tbody tr th:only-of-type {\n",
       "        vertical-align: middle;\n",
       "    }\n",
       "\n",
       "    .dataframe tbody tr th {\n",
       "        vertical-align: top;\n",
       "    }\n",
       "\n",
       "    .dataframe thead th {\n",
       "        text-align: right;\n",
       "    }\n",
       "</style>\n",
       "<table border=\"1\" class=\"dataframe\">\n",
       "  <thead>\n",
       "    <tr style=\"text-align: right;\">\n",
       "      <th></th>\n",
       "      <th>restaurant_id</th>\n",
       "      <th>ranking</th>\n",
       "      <th>rating</th>\n",
       "      <th>price_range</th>\n",
       "      <th>number_of_reviews</th>\n",
       "      <th>network_restaurant</th>\n",
       "      <th>number_cuisine</th>\n",
       "      <th>Vegetarian Friendly</th>\n",
       "      <th>European</th>\n",
       "      <th>Mediterranean</th>\n",
       "      <th>...</th>\n",
       "      <th>city_Lyon</th>\n",
       "      <th>city_Madrid</th>\n",
       "      <th>city_Milan</th>\n",
       "      <th>city_Munich</th>\n",
       "      <th>city_Paris</th>\n",
       "      <th>city_Prague</th>\n",
       "      <th>city_Rome</th>\n",
       "      <th>city_Stockholm</th>\n",
       "      <th>city_Vienna</th>\n",
       "      <th>city_other</th>\n",
       "    </tr>\n",
       "  </thead>\n",
       "  <tbody>\n",
       "    <tr>\n",
       "      <th>0</th>\n",
       "      <td>id_5569</td>\n",
       "      <td>5570.0</td>\n",
       "      <td>3.5</td>\n",
       "      <td>2</td>\n",
       "      <td>194.0</td>\n",
       "      <td>1</td>\n",
       "      <td>3</td>\n",
       "      <td>0.0</td>\n",
       "      <td>1.0</td>\n",
       "      <td>0.0</td>\n",
       "      <td>...</td>\n",
       "      <td>0</td>\n",
       "      <td>0</td>\n",
       "      <td>0</td>\n",
       "      <td>0</td>\n",
       "      <td>1</td>\n",
       "      <td>0</td>\n",
       "      <td>0</td>\n",
       "      <td>0</td>\n",
       "      <td>0</td>\n",
       "      <td>0</td>\n",
       "    </tr>\n",
       "    <tr>\n",
       "      <th>1</th>\n",
       "      <td>id_1535</td>\n",
       "      <td>1537.0</td>\n",
       "      <td>4.0</td>\n",
       "      <td>2</td>\n",
       "      <td>10.0</td>\n",
       "      <td>1</td>\n",
       "      <td>1</td>\n",
       "      <td>NaN</td>\n",
       "      <td>NaN</td>\n",
       "      <td>NaN</td>\n",
       "      <td>...</td>\n",
       "      <td>0</td>\n",
       "      <td>0</td>\n",
       "      <td>0</td>\n",
       "      <td>0</td>\n",
       "      <td>0</td>\n",
       "      <td>0</td>\n",
       "      <td>0</td>\n",
       "      <td>1</td>\n",
       "      <td>0</td>\n",
       "      <td>0</td>\n",
       "    </tr>\n",
       "    <tr>\n",
       "      <th>2</th>\n",
       "      <td>id_352</td>\n",
       "      <td>353.0</td>\n",
       "      <td>4.5</td>\n",
       "      <td>3</td>\n",
       "      <td>688.0</td>\n",
       "      <td>1</td>\n",
       "      <td>7</td>\n",
       "      <td>1.0</td>\n",
       "      <td>0.0</td>\n",
       "      <td>0.0</td>\n",
       "      <td>...</td>\n",
       "      <td>0</td>\n",
       "      <td>0</td>\n",
       "      <td>0</td>\n",
       "      <td>0</td>\n",
       "      <td>0</td>\n",
       "      <td>0</td>\n",
       "      <td>0</td>\n",
       "      <td>0</td>\n",
       "      <td>0</td>\n",
       "      <td>0</td>\n",
       "    </tr>\n",
       "    <tr>\n",
       "      <th>3</th>\n",
       "      <td>id_3456</td>\n",
       "      <td>3458.0</td>\n",
       "      <td>5.0</td>\n",
       "      <td>2</td>\n",
       "      <td>3.0</td>\n",
       "      <td>1</td>\n",
       "      <td>1</td>\n",
       "      <td>NaN</td>\n",
       "      <td>NaN</td>\n",
       "      <td>NaN</td>\n",
       "      <td>...</td>\n",
       "      <td>0</td>\n",
       "      <td>0</td>\n",
       "      <td>0</td>\n",
       "      <td>0</td>\n",
       "      <td>0</td>\n",
       "      <td>0</td>\n",
       "      <td>0</td>\n",
       "      <td>0</td>\n",
       "      <td>0</td>\n",
       "      <td>0</td>\n",
       "    </tr>\n",
       "    <tr>\n",
       "      <th>4</th>\n",
       "      <td>id_615</td>\n",
       "      <td>621.0</td>\n",
       "      <td>4.0</td>\n",
       "      <td>2</td>\n",
       "      <td>84.0</td>\n",
       "      <td>1</td>\n",
       "      <td>3</td>\n",
       "      <td>1.0</td>\n",
       "      <td>0.0</td>\n",
       "      <td>0.0</td>\n",
       "      <td>...</td>\n",
       "      <td>0</td>\n",
       "      <td>0</td>\n",
       "      <td>0</td>\n",
       "      <td>1</td>\n",
       "      <td>0</td>\n",
       "      <td>0</td>\n",
       "      <td>0</td>\n",
       "      <td>0</td>\n",
       "      <td>0</td>\n",
       "      <td>0</td>\n",
       "    </tr>\n",
       "    <tr>\n",
       "      <th>...</th>\n",
       "      <td>...</td>\n",
       "      <td>...</td>\n",
       "      <td>...</td>\n",
       "      <td>...</td>\n",
       "      <td>...</td>\n",
       "      <td>...</td>\n",
       "      <td>...</td>\n",
       "      <td>...</td>\n",
       "      <td>...</td>\n",
       "      <td>...</td>\n",
       "      <td>...</td>\n",
       "      <td>...</td>\n",
       "      <td>...</td>\n",
       "      <td>...</td>\n",
       "      <td>...</td>\n",
       "      <td>...</td>\n",
       "      <td>...</td>\n",
       "      <td>...</td>\n",
       "      <td>...</td>\n",
       "      <td>...</td>\n",
       "      <td>...</td>\n",
       "    </tr>\n",
       "    <tr>\n",
       "      <th>39995</th>\n",
       "      <td>id_499</td>\n",
       "      <td>500.0</td>\n",
       "      <td>4.5</td>\n",
       "      <td>2</td>\n",
       "      <td>79.0</td>\n",
       "      <td>1</td>\n",
       "      <td>4</td>\n",
       "      <td>1.0</td>\n",
       "      <td>0.0</td>\n",
       "      <td>0.0</td>\n",
       "      <td>...</td>\n",
       "      <td>0</td>\n",
       "      <td>0</td>\n",
       "      <td>1</td>\n",
       "      <td>0</td>\n",
       "      <td>0</td>\n",
       "      <td>0</td>\n",
       "      <td>0</td>\n",
       "      <td>0</td>\n",
       "      <td>0</td>\n",
       "      <td>0</td>\n",
       "    </tr>\n",
       "    <tr>\n",
       "      <th>39996</th>\n",
       "      <td>id_6340</td>\n",
       "      <td>6341.0</td>\n",
       "      <td>3.5</td>\n",
       "      <td>2</td>\n",
       "      <td>542.0</td>\n",
       "      <td>1</td>\n",
       "      <td>5</td>\n",
       "      <td>1.0</td>\n",
       "      <td>1.0</td>\n",
       "      <td>0.0</td>\n",
       "      <td>...</td>\n",
       "      <td>0</td>\n",
       "      <td>0</td>\n",
       "      <td>0</td>\n",
       "      <td>0</td>\n",
       "      <td>1</td>\n",
       "      <td>0</td>\n",
       "      <td>0</td>\n",
       "      <td>0</td>\n",
       "      <td>0</td>\n",
       "      <td>0</td>\n",
       "    </tr>\n",
       "    <tr>\n",
       "      <th>39997</th>\n",
       "      <td>id_1649</td>\n",
       "      <td>1652.0</td>\n",
       "      <td>4.5</td>\n",
       "      <td>2</td>\n",
       "      <td>4.0</td>\n",
       "      <td>1</td>\n",
       "      <td>2</td>\n",
       "      <td>0.0</td>\n",
       "      <td>0.0</td>\n",
       "      <td>0.0</td>\n",
       "      <td>...</td>\n",
       "      <td>0</td>\n",
       "      <td>0</td>\n",
       "      <td>0</td>\n",
       "      <td>0</td>\n",
       "      <td>0</td>\n",
       "      <td>0</td>\n",
       "      <td>0</td>\n",
       "      <td>1</td>\n",
       "      <td>0</td>\n",
       "      <td>0</td>\n",
       "    </tr>\n",
       "    <tr>\n",
       "      <th>39998</th>\n",
       "      <td>id_640</td>\n",
       "      <td>641.0</td>\n",
       "      <td>4.0</td>\n",
       "      <td>2</td>\n",
       "      <td>70.0</td>\n",
       "      <td>1</td>\n",
       "      <td>5</td>\n",
       "      <td>1.0</td>\n",
       "      <td>1.0</td>\n",
       "      <td>0.0</td>\n",
       "      <td>...</td>\n",
       "      <td>0</td>\n",
       "      <td>0</td>\n",
       "      <td>0</td>\n",
       "      <td>0</td>\n",
       "      <td>0</td>\n",
       "      <td>0</td>\n",
       "      <td>0</td>\n",
       "      <td>0</td>\n",
       "      <td>0</td>\n",
       "      <td>1</td>\n",
       "    </tr>\n",
       "    <tr>\n",
       "      <th>39999</th>\n",
       "      <td>id_4824</td>\n",
       "      <td>4827.0</td>\n",
       "      <td>3.0</td>\n",
       "      <td>2</td>\n",
       "      <td>260.0</td>\n",
       "      <td>1</td>\n",
       "      <td>1</td>\n",
       "      <td>0.0</td>\n",
       "      <td>0.0</td>\n",
       "      <td>0.0</td>\n",
       "      <td>...</td>\n",
       "      <td>0</td>\n",
       "      <td>0</td>\n",
       "      <td>1</td>\n",
       "      <td>0</td>\n",
       "      <td>0</td>\n",
       "      <td>0</td>\n",
       "      <td>0</td>\n",
       "      <td>0</td>\n",
       "      <td>0</td>\n",
       "      <td>0</td>\n",
       "    </tr>\n",
       "  </tbody>\n",
       "</table>\n",
       "<p>40000 rows × 44 columns</p>\n",
       "</div>"
      ],
      "text/plain": [
       "      restaurant_id  ranking  rating  price_range  number_of_reviews  \\\n",
       "0           id_5569   5570.0     3.5            2              194.0   \n",
       "1           id_1535   1537.0     4.0            2               10.0   \n",
       "2            id_352    353.0     4.5            3              688.0   \n",
       "3           id_3456   3458.0     5.0            2                3.0   \n",
       "4            id_615    621.0     4.0            2               84.0   \n",
       "...             ...      ...     ...          ...                ...   \n",
       "39995        id_499    500.0     4.5            2               79.0   \n",
       "39996       id_6340   6341.0     3.5            2              542.0   \n",
       "39997       id_1649   1652.0     4.5            2                4.0   \n",
       "39998        id_640    641.0     4.0            2               70.0   \n",
       "39999       id_4824   4827.0     3.0            2              260.0   \n",
       "\n",
       "       network_restaurant  number_cuisine  Vegetarian Friendly  European  \\\n",
       "0                       1               3                  0.0       1.0   \n",
       "1                       1               1                  NaN       NaN   \n",
       "2                       1               7                  1.0       0.0   \n",
       "3                       1               1                  NaN       NaN   \n",
       "4                       1               3                  1.0       0.0   \n",
       "...                   ...             ...                  ...       ...   \n",
       "39995                   1               4                  1.0       0.0   \n",
       "39996                   1               5                  1.0       1.0   \n",
       "39997                   1               2                  0.0       0.0   \n",
       "39998                   1               5                  1.0       1.0   \n",
       "39999                   1               1                  0.0       0.0   \n",
       "\n",
       "       Mediterranean  ...  city_Lyon  city_Madrid  city_Milan  city_Munich  \\\n",
       "0                0.0  ...          0            0           0            0   \n",
       "1                NaN  ...          0            0           0            0   \n",
       "2                0.0  ...          0            0           0            0   \n",
       "3                NaN  ...          0            0           0            0   \n",
       "4                0.0  ...          0            0           0            1   \n",
       "...              ...  ...        ...          ...         ...          ...   \n",
       "39995            0.0  ...          0            0           1            0   \n",
       "39996            0.0  ...          0            0           0            0   \n",
       "39997            0.0  ...          0            0           0            0   \n",
       "39998            0.0  ...          0            0           0            0   \n",
       "39999            0.0  ...          0            0           1            0   \n",
       "\n",
       "       city_Paris  city_Prague  city_Rome city_Stockholm city_Vienna  \\\n",
       "0               1            0          0              0           0   \n",
       "1               0            0          0              1           0   \n",
       "2               0            0          0              0           0   \n",
       "3               0            0          0              0           0   \n",
       "4               0            0          0              0           0   \n",
       "...           ...          ...        ...            ...         ...   \n",
       "39995           0            0          0              0           0   \n",
       "39996           1            0          0              0           0   \n",
       "39997           0            0          0              1           0   \n",
       "39998           0            0          0              0           0   \n",
       "39999           0            0          0              0           0   \n",
       "\n",
       "      city_other  \n",
       "0              0  \n",
       "1              0  \n",
       "2              0  \n",
       "3              0  \n",
       "4              0  \n",
       "...          ...  \n",
       "39995          0  \n",
       "39996          0  \n",
       "39997          0  \n",
       "39998          1  \n",
       "39999          0  \n",
       "\n",
       "[40000 rows x 44 columns]"
      ]
     },
     "execution_count": 77,
     "metadata": {},
     "output_type": "execute_result"
    }
   ],
   "source": [
    "pd.get_dummies(df, columns=['city'], prefix = 'city')"
   ]
  },
  {
   "cell_type": "markdown",
   "metadata": {},
   "source": [
    "Удаляем ненужные столбцы: restaurant_id, date, date1, date0"
   ]
  },
  {
   "cell_type": "code",
   "execution_count": 78,
   "metadata": {},
   "outputs": [],
   "source": [
    "df = df.drop(columns=['city','restaurant_id', 'date', 'date0', 'date1', 'time_of_year1', 'time_of_year0', 'reviews_text'])"
   ]
  },
  {
   "cell_type": "code",
   "execution_count": 79,
   "metadata": {},
   "outputs": [],
   "source": [
    "df = df.fillna(0)"
   ]
  },
  {
   "cell_type": "code",
   "execution_count": 80,
   "metadata": {},
   "outputs": [
    {
     "name": "stdout",
     "output_type": "stream",
     "text": [
      "<class 'pandas.core.frame.DataFrame'>\n",
      "RangeIndex: 40000 entries, 0 to 39999\n",
      "Data columns (total 19 columns):\n",
      " #   Column               Non-Null Count  Dtype  \n",
      "---  ------               --------------  -----  \n",
      " 0   ranking              40000 non-null  float64\n",
      " 1   rating               40000 non-null  float64\n",
      " 2   price_range          40000 non-null  int64  \n",
      " 3   number_of_reviews    40000 non-null  float64\n",
      " 4   network_restaurant   40000 non-null  int64  \n",
      " 5   number_cuisine       40000 non-null  int64  \n",
      " 6   Vegetarian Friendly  40000 non-null  float64\n",
      " 7   European             40000 non-null  float64\n",
      " 8   Mediterranean        40000 non-null  float64\n",
      " 9   Italian              40000 non-null  float64\n",
      " 10  Vegan Options        40000 non-null  float64\n",
      " 11  Gluten Free Options  40000 non-null  float64\n",
      " 12  Bar                  40000 non-null  float64\n",
      " 13  French               40000 non-null  float64\n",
      " 14  Asian                40000 non-null  float64\n",
      " 15  Pizza                40000 non-null  float64\n",
      " 16  date_difference      40000 non-null  float64\n",
      " 17  month0               40000 non-null  float64\n",
      " 18  month1               40000 non-null  float64\n",
      "dtypes: float64(16), int64(3)\n",
      "memory usage: 5.8 MB\n"
     ]
    }
   ],
   "source": [
    "df.info()"
   ]
  },
  {
   "cell_type": "code",
   "execution_count": 81,
   "metadata": {},
   "outputs": [],
   "source": [
    "from sklearn.ensemble import RandomForestRegressor # инструмент для создания и обучения модели\n",
    "from sklearn import metrics # инструменты для оценки точности модели"
   ]
  },
  {
   "cell_type": "code",
   "execution_count": 82,
   "metadata": {},
   "outputs": [],
   "source": [
    "# Загружаем специальный инструмент для разбивки:\n",
    "from sklearn.model_selection import train_test_split\n",
    "X = df.drop(['rating'], axis = 1)  \n",
    "y = df['rating'] \n",
    "X_train, X_test, y_train, y_test = train_test_split(X, y, test_size=0.25)"
   ]
  },
  {
   "cell_type": "code",
   "execution_count": 83,
   "metadata": {},
   "outputs": [],
   "source": [
    "# Создаём модель\n",
    "regr = RandomForestRegressor(n_estimators=100)\n",
    "\n",
    "# Обучаем модель на тестовом наборе данных\n",
    "regr.fit(X_train, y_train)\n",
    "\n",
    "# Используем обученную модель для предсказания рейтинга ресторанов в тестовой выборке.\n",
    "# Предсказанные значения записываем в переменную y_pred\n",
    "y_pred = regr.predict(X_test)"
   ]
  },
  {
   "cell_type": "code",
   "execution_count": 84,
   "metadata": {},
   "outputs": [
    {
     "name": "stdout",
     "output_type": "stream",
     "text": [
      "MAE: 0.36684446547619043\n"
     ]
    }
   ],
   "source": [
    "print('MAE:', metrics.mean_absolute_error(y_test, y_pred))  "
   ]
  },
  {
   "cell_type": "code",
   "execution_count": null,
   "metadata": {},
   "outputs": [],
   "source": []
  },
  {
   "cell_type": "code",
   "execution_count": null,
   "metadata": {},
   "outputs": [],
   "source": []
  }
 ],
 "metadata": {
  "kernelspec": {
   "display_name": "Python 3",
   "language": "python",
   "name": "python3"
  },
  "language_info": {
   "codemirror_mode": {
    "name": "ipython",
    "version": 3
   },
   "file_extension": ".py",
   "mimetype": "text/x-python",
   "name": "python",
   "nbconvert_exporter": "python",
   "pygments_lexer": "ipython3",
   "version": "3.8.5"
  }
 },
 "nbformat": 4,
 "nbformat_minor": 4
}
