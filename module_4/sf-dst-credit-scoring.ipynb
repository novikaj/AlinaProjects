{
 "cells": [
  {
   "cell_type": "code",
   "execution_count": 1,
   "id": "ac610e1b",
   "metadata": {
    "_cell_guid": "b1076dfc-b9ad-4769-8c92-a6c4dae69d19",
    "_uuid": "8f2839f25d086af736a60e9eeb907d3b93b6e0e5",
    "execution": {
     "iopub.execute_input": "2021-08-05T10:06:52.331585Z",
     "iopub.status.busy": "2021-08-05T10:06:52.327350Z",
     "iopub.status.idle": "2021-08-05T10:06:52.338211Z",
     "shell.execute_reply": "2021-08-05T10:06:52.337430Z",
     "shell.execute_reply.started": "2021-08-05T09:51:55.594111Z"
    },
    "papermill": {
     "duration": 0.089838,
     "end_time": "2021-08-05T10:06:52.338401",
     "exception": false,
     "start_time": "2021-08-05T10:06:52.248563",
     "status": "completed"
    },
    "tags": []
   },
   "outputs": [
    {
     "name": "stdout",
     "output_type": "stream",
     "text": [
      "/kaggle/input/sf-dst-scoring/sample_submission.csv\n",
      "/kaggle/input/sf-dst-scoring/train.csv\n",
      "/kaggle/input/sf-dst-scoring/test.csv\n"
     ]
    }
   ],
   "source": [
    "# This Python 3 environment comes with many helpful analytics libraries installed\n",
    "# It is defined by the kaggle/python Docker image: https://github.com/kaggle/docker-python\n",
    "# For example, here's several helpful packages to load\n",
    "\n",
    "import numpy as np # linear algebra\n",
    "import pandas as pd # data processing, CSV file I/O (e.g. pd.read_csv)\n",
    "\n",
    "# Input data files are available in the read-only \"../input/\" directory\n",
    "# For example, running this (by clicking run or pressing Shift+Enter) will list all files under the input directory\n",
    "\n",
    "import os\n",
    "for dirname, _, filenames in os.walk('/kaggle/input'):\n",
    "    for filename in filenames:\n",
    "        print(os.path.join(dirname, filename))\n",
    "\n",
    "# You can write up to 20GB to the current directory (/kaggle/working/) that gets preserved as output when you create a version using \"Save & Run All\" \n",
    "# You can also write temporary files to /kaggle/temp/, but they won't be saved outside of the current session"
   ]
  },
  {
   "cell_type": "code",
   "execution_count": 2,
   "id": "37986485",
   "metadata": {
    "execution": {
     "iopub.execute_input": "2021-08-05T10:06:52.484381Z",
     "iopub.status.busy": "2021-08-05T10:06:52.483552Z",
     "iopub.status.idle": "2021-08-05T10:06:54.036375Z",
     "shell.execute_reply": "2021-08-05T10:06:54.035721Z",
     "shell.execute_reply.started": "2021-08-05T09:51:55.611672Z"
    },
    "papermill": {
     "duration": 1.632216,
     "end_time": "2021-08-05T10:06:54.036527",
     "exception": false,
     "start_time": "2021-08-05T10:06:52.404311",
     "status": "completed"
    },
    "tags": []
   },
   "outputs": [],
   "source": [
    "from pandas import Series\n",
    "import pandas as pd\n",
    "import numpy as np\n",
    "\n",
    "\n",
    "import matplotlib.pyplot as plt\n",
    "import seaborn as sns\n",
    "%matplotlib inline\n",
    "\n",
    "from sklearn.feature_selection import f_classif, mutual_info_classif\n",
    "from sklearn.preprocessing import LabelEncoder, OneHotEncoder, StandardScaler\n",
    "from sklearn.preprocessing import RobustScaler\n",
    "\n",
    "from sklearn.model_selection import train_test_split\n",
    "from sklearn.linear_model import LogisticRegression\n",
    "from sklearn.metrics import mean_squared_error, f1_score, accuracy_score, roc_curve, roc_auc_score\n",
    "\n",
    "from sklearn.metrics import confusion_matrix\n",
    "from sklearn.metrics import auc, roc_auc_score, roc_curve\n",
    "\n",
    "from sklearn.model_selection import GridSearchCV\n",
    "from sklearn.linear_model import LogisticRegressionCV\n",
    "\n",
    "from sklearn.preprocessing import PowerTransformer\n",
    "from sklearn.preprocessing import QuantileTransformer\n",
    "\n",
    "\n"
   ]
  },
  {
   "cell_type": "markdown",
   "id": "1d6a9555",
   "metadata": {
    "papermill": {
     "duration": 0.06768,
     "end_time": "2021-08-05T10:06:54.170837",
     "exception": false,
     "start_time": "2021-08-05T10:06:54.103157",
     "status": "completed"
    },
    "tags": []
   },
   "source": [
    "# Проект 5. Компьютер говорит «Нет» \n",
    "\n",
    "##### Вам предоставлена информация из анкетных данных заемщиков и факт наличия дефолта.\n",
    "\n",
    "Описания полей client_id - идентификатор клиента\n",
    "\n",
    "education - уровень образования\n",
    "\n",
    "sex - пол заемщика\n",
    "\n",
    "age - возраст заемщика\n",
    "\n",
    "car - флаг наличия автомобиля\n",
    "\n",
    "car_type - флаг автомобиля иномарки\n",
    "\n",
    "decline_app_cnt - количество отказанных прошлых заявок\n",
    "\n",
    "good_work - флаг наличия “хорошей” работы\n",
    "\n",
    "bki_request_cnt - количество запросов в БКИ\n",
    "\n",
    "home_address - категоризатор домашнего адреса\n",
    "\n",
    "work_address - категоризатор рабочего адреса\n",
    "\n",
    "income - доход заемщика\n",
    "\n",
    "foreign_passport - наличие загранпаспорта\n",
    "\n",
    "sna - связь заемщика с клиентами банка\n",
    "\n",
    "first_time - давность наличия информации о заемщике\n",
    "\n",
    "score_bki - скоринговый балл по данным из БКИ\n",
    "\n",
    "region_rating - рейтинг региона\n",
    "\n",
    "app_date - дата подачи заявки\n",
    "\n",
    "default - флаг дефолта по кредиту\n",
    "\n",
    "##### Цель: построить скоринг модель для вторичных клиентов банка, которая бы предсказывала вероятность дефолта клиента."
   ]
  },
  {
   "cell_type": "code",
   "execution_count": 3,
   "id": "47e4f328",
   "metadata": {
    "execution": {
     "iopub.execute_input": "2021-08-05T10:06:54.308729Z",
     "iopub.status.busy": "2021-08-05T10:06:54.308018Z",
     "iopub.status.idle": "2021-08-05T10:06:54.682172Z",
     "shell.execute_reply": "2021-08-05T10:06:54.680962Z",
     "shell.execute_reply.started": "2021-08-05T09:51:57.197447Z"
    },
    "papermill": {
     "duration": 0.445928,
     "end_time": "2021-08-05T10:06:54.682368",
     "exception": false,
     "start_time": "2021-08-05T10:06:54.236440",
     "status": "completed"
    },
    "tags": []
   },
   "outputs": [],
   "source": [
    "#загрузим данные\n",
    "train = pd.read_csv('../input/sf-dst-scoring/train.csv')\n",
    "test = pd.read_csv('../input/sf-dst-scoring/test.csv')\n",
    "submission = pd.read_csv('../input/sf-dst-scoring/sample_submission.csv')\n",
    "#data = data.drop('app_date',axis=1)"
   ]
  },
  {
   "cell_type": "code",
   "execution_count": 4,
   "id": "9452aeb0",
   "metadata": {
    "execution": {
     "iopub.execute_input": "2021-08-05T10:06:54.827989Z",
     "iopub.status.busy": "2021-08-05T10:06:54.824264Z",
     "iopub.status.idle": "2021-08-05T10:06:54.872021Z",
     "shell.execute_reply": "2021-08-05T10:06:54.871388Z",
     "shell.execute_reply.started": "2021-08-05T09:51:57.694265Z"
    },
    "papermill": {
     "duration": 0.123156,
     "end_time": "2021-08-05T10:06:54.872170",
     "exception": false,
     "start_time": "2021-08-05T10:06:54.749014",
     "status": "completed"
    },
    "tags": []
   },
   "outputs": [],
   "source": [
    "test['default'] = 0 # заполняем признак нулями\n",
    "test['train'] = 0 # указываем, что записи не принадлежат датасету train\n",
    "train['train'] = 1 # указываем, что записи принадлежат датасету train\n",
    "data = pd.concat([train, test], ignore_index=True) # объединяем датасеты в один"
   ]
  },
  {
   "cell_type": "markdown",
   "id": "1de9dee7",
   "metadata": {
    "execution": {
     "iopub.execute_input": "2021-08-03T12:56:11.342819Z",
     "iopub.status.busy": "2021-08-03T12:56:11.342441Z",
     "iopub.status.idle": "2021-08-03T12:56:11.346877Z",
     "shell.execute_reply": "2021-08-03T12:56:11.345979Z",
     "shell.execute_reply.started": "2021-08-03T12:56:11.342788Z"
    },
    "papermill": {
     "duration": 0.066563,
     "end_time": "2021-08-05T10:06:55.004518",
     "exception": false,
     "start_time": "2021-08-05T10:06:54.937955",
     "status": "completed"
    },
    "tags": []
   },
   "source": [
    "Для тестирования модели мы данные в выборке data разделим на test и train, но для начала проведем предобработку и разведывательный анализ данных"
   ]
  },
  {
   "cell_type": "markdown",
   "id": "099add19",
   "metadata": {
    "papermill": {
     "duration": 0.066127,
     "end_time": "2021-08-05T10:06:55.137267",
     "exception": false,
     "start_time": "2021-08-05T10:06:55.071140",
     "status": "completed"
    },
    "tags": []
   },
   "source": [
    "### Проведем разведывательный анализ данных и обработаем признаки"
   ]
  },
  {
   "cell_type": "code",
   "execution_count": 5,
   "id": "24cf27e3",
   "metadata": {
    "execution": {
     "iopub.execute_input": "2021-08-05T10:06:55.275475Z",
     "iopub.status.busy": "2021-08-05T10:06:55.274826Z",
     "iopub.status.idle": "2021-08-05T10:06:55.300773Z",
     "shell.execute_reply": "2021-08-05T10:06:55.301295Z",
     "shell.execute_reply.started": "2021-08-05T09:51:57.761891Z"
    },
    "papermill": {
     "duration": 0.098954,
     "end_time": "2021-08-05T10:06:55.301473",
     "exception": false,
     "start_time": "2021-08-05T10:06:55.202519",
     "status": "completed"
    },
    "tags": []
   },
   "outputs": [
    {
     "data": {
      "text/html": [
       "<div>\n",
       "<style scoped>\n",
       "    .dataframe tbody tr th:only-of-type {\n",
       "        vertical-align: middle;\n",
       "    }\n",
       "\n",
       "    .dataframe tbody tr th {\n",
       "        vertical-align: top;\n",
       "    }\n",
       "\n",
       "    .dataframe thead th {\n",
       "        text-align: right;\n",
       "    }\n",
       "</style>\n",
       "<table border=\"1\" class=\"dataframe\">\n",
       "  <thead>\n",
       "    <tr style=\"text-align: right;\">\n",
       "      <th></th>\n",
       "      <th>client_id</th>\n",
       "      <th>app_date</th>\n",
       "      <th>education</th>\n",
       "      <th>sex</th>\n",
       "      <th>age</th>\n",
       "      <th>car</th>\n",
       "      <th>car_type</th>\n",
       "      <th>decline_app_cnt</th>\n",
       "      <th>good_work</th>\n",
       "      <th>score_bki</th>\n",
       "      <th>bki_request_cnt</th>\n",
       "      <th>region_rating</th>\n",
       "      <th>home_address</th>\n",
       "      <th>work_address</th>\n",
       "      <th>income</th>\n",
       "      <th>sna</th>\n",
       "      <th>first_time</th>\n",
       "      <th>foreign_passport</th>\n",
       "      <th>default</th>\n",
       "      <th>train</th>\n",
       "    </tr>\n",
       "  </thead>\n",
       "  <tbody>\n",
       "    <tr>\n",
       "      <th>0</th>\n",
       "      <td>25905</td>\n",
       "      <td>01FEB2014</td>\n",
       "      <td>SCH</td>\n",
       "      <td>M</td>\n",
       "      <td>62</td>\n",
       "      <td>Y</td>\n",
       "      <td>Y</td>\n",
       "      <td>0</td>\n",
       "      <td>0</td>\n",
       "      <td>-2.008753</td>\n",
       "      <td>1</td>\n",
       "      <td>50</td>\n",
       "      <td>1</td>\n",
       "      <td>2</td>\n",
       "      <td>18000</td>\n",
       "      <td>4</td>\n",
       "      <td>1</td>\n",
       "      <td>N</td>\n",
       "      <td>0</td>\n",
       "      <td>1</td>\n",
       "    </tr>\n",
       "    <tr>\n",
       "      <th>1</th>\n",
       "      <td>63161</td>\n",
       "      <td>12MAR2014</td>\n",
       "      <td>SCH</td>\n",
       "      <td>F</td>\n",
       "      <td>59</td>\n",
       "      <td>N</td>\n",
       "      <td>N</td>\n",
       "      <td>0</td>\n",
       "      <td>0</td>\n",
       "      <td>-1.532276</td>\n",
       "      <td>3</td>\n",
       "      <td>50</td>\n",
       "      <td>2</td>\n",
       "      <td>3</td>\n",
       "      <td>19000</td>\n",
       "      <td>4</td>\n",
       "      <td>1</td>\n",
       "      <td>N</td>\n",
       "      <td>0</td>\n",
       "      <td>1</td>\n",
       "    </tr>\n",
       "    <tr>\n",
       "      <th>2</th>\n",
       "      <td>25887</td>\n",
       "      <td>01FEB2014</td>\n",
       "      <td>SCH</td>\n",
       "      <td>M</td>\n",
       "      <td>25</td>\n",
       "      <td>Y</td>\n",
       "      <td>N</td>\n",
       "      <td>2</td>\n",
       "      <td>0</td>\n",
       "      <td>-1.408142</td>\n",
       "      <td>1</td>\n",
       "      <td>80</td>\n",
       "      <td>1</td>\n",
       "      <td>2</td>\n",
       "      <td>30000</td>\n",
       "      <td>1</td>\n",
       "      <td>4</td>\n",
       "      <td>Y</td>\n",
       "      <td>0</td>\n",
       "      <td>1</td>\n",
       "    </tr>\n",
       "    <tr>\n",
       "      <th>3</th>\n",
       "      <td>16222</td>\n",
       "      <td>23JAN2014</td>\n",
       "      <td>SCH</td>\n",
       "      <td>F</td>\n",
       "      <td>53</td>\n",
       "      <td>N</td>\n",
       "      <td>N</td>\n",
       "      <td>0</td>\n",
       "      <td>0</td>\n",
       "      <td>-2.057471</td>\n",
       "      <td>2</td>\n",
       "      <td>50</td>\n",
       "      <td>2</td>\n",
       "      <td>3</td>\n",
       "      <td>10000</td>\n",
       "      <td>1</td>\n",
       "      <td>3</td>\n",
       "      <td>N</td>\n",
       "      <td>0</td>\n",
       "      <td>1</td>\n",
       "    </tr>\n",
       "    <tr>\n",
       "      <th>4</th>\n",
       "      <td>101655</td>\n",
       "      <td>18APR2014</td>\n",
       "      <td>GRD</td>\n",
       "      <td>M</td>\n",
       "      <td>48</td>\n",
       "      <td>N</td>\n",
       "      <td>N</td>\n",
       "      <td>0</td>\n",
       "      <td>1</td>\n",
       "      <td>-1.244723</td>\n",
       "      <td>1</td>\n",
       "      <td>60</td>\n",
       "      <td>2</td>\n",
       "      <td>3</td>\n",
       "      <td>30000</td>\n",
       "      <td>1</td>\n",
       "      <td>4</td>\n",
       "      <td>Y</td>\n",
       "      <td>0</td>\n",
       "      <td>1</td>\n",
       "    </tr>\n",
       "  </tbody>\n",
       "</table>\n",
       "</div>"
      ],
      "text/plain": [
       "   client_id   app_date education sex  age car car_type  decline_app_cnt  \\\n",
       "0      25905  01FEB2014       SCH   M   62   Y        Y                0   \n",
       "1      63161  12MAR2014       SCH   F   59   N        N                0   \n",
       "2      25887  01FEB2014       SCH   M   25   Y        N                2   \n",
       "3      16222  23JAN2014       SCH   F   53   N        N                0   \n",
       "4     101655  18APR2014       GRD   M   48   N        N                0   \n",
       "\n",
       "   good_work  score_bki  bki_request_cnt  region_rating  home_address  \\\n",
       "0          0  -2.008753                1             50             1   \n",
       "1          0  -1.532276                3             50             2   \n",
       "2          0  -1.408142                1             80             1   \n",
       "3          0  -2.057471                2             50             2   \n",
       "4          1  -1.244723                1             60             2   \n",
       "\n",
       "   work_address  income  sna  first_time foreign_passport  default  train  \n",
       "0             2   18000    4           1                N        0      1  \n",
       "1             3   19000    4           1                N        0      1  \n",
       "2             2   30000    1           4                Y        0      1  \n",
       "3             3   10000    1           3                N        0      1  \n",
       "4             3   30000    1           4                Y        0      1  "
      ]
     },
     "execution_count": 5,
     "metadata": {},
     "output_type": "execute_result"
    }
   ],
   "source": [
    "# посмотрим на данные\n",
    "data.head()"
   ]
  },
  {
   "cell_type": "code",
   "execution_count": 6,
   "id": "9a6aee79",
   "metadata": {
    "execution": {
     "iopub.execute_input": "2021-08-05T10:06:55.436794Z",
     "iopub.status.busy": "2021-08-05T10:06:55.436117Z",
     "iopub.status.idle": "2021-08-05T10:06:55.914517Z",
     "shell.execute_reply": "2021-08-05T10:06:55.915165Z",
     "shell.execute_reply.started": "2021-08-05T09:51:57.796836Z"
    },
    "papermill": {
     "duration": 0.5477,
     "end_time": "2021-08-05T10:06:55.915353",
     "exception": false,
     "start_time": "2021-08-05T10:06:55.367653",
     "status": "completed"
    },
    "tags": []
   },
   "outputs": [
    {
     "name": "stdout",
     "output_type": "stream",
     "text": [
      "<class 'pandas.core.frame.DataFrame'>\n",
      "RangeIndex: 110148 entries, 0 to 110147\n",
      "Data columns (total 20 columns):\n",
      " #   Column            Non-Null Count   Dtype  \n",
      "---  ------            --------------   -----  \n",
      " 0   client_id         110148 non-null  int64  \n",
      " 1   app_date          110148 non-null  object \n",
      " 2   education         109670 non-null  object \n",
      " 3   sex               110148 non-null  object \n",
      " 4   age               110148 non-null  int64  \n",
      " 5   car               110148 non-null  object \n",
      " 6   car_type          110148 non-null  object \n",
      " 7   decline_app_cnt   110148 non-null  int64  \n",
      " 8   good_work         110148 non-null  int64  \n",
      " 9   score_bki         110148 non-null  float64\n",
      " 10  bki_request_cnt   110148 non-null  int64  \n",
      " 11  region_rating     110148 non-null  int64  \n",
      " 12  home_address      110148 non-null  int64  \n",
      " 13  work_address      110148 non-null  int64  \n",
      " 14  income            110148 non-null  int64  \n",
      " 15  sna               110148 non-null  int64  \n",
      " 16  first_time        110148 non-null  int64  \n",
      " 17  foreign_passport  110148 non-null  object \n",
      " 18  default           110148 non-null  int64  \n",
      " 19  train             110148 non-null  int64  \n",
      "dtypes: float64(1), int64(13), object(6)\n",
      "memory usage: 16.8+ MB\n"
     ]
    },
    {
     "data": {
      "text/plain": [
       "None"
      ]
     },
     "metadata": {},
     "output_type": "display_data"
    },
    {
     "data": {
      "text/html": [
       "<div>\n",
       "<style scoped>\n",
       "    .dataframe tbody tr th:only-of-type {\n",
       "        vertical-align: middle;\n",
       "    }\n",
       "\n",
       "    .dataframe tbody tr th {\n",
       "        vertical-align: top;\n",
       "    }\n",
       "\n",
       "    .dataframe thead th {\n",
       "        text-align: right;\n",
       "    }\n",
       "</style>\n",
       "<table border=\"1\" class=\"dataframe\">\n",
       "  <thead>\n",
       "    <tr style=\"text-align: right;\">\n",
       "      <th></th>\n",
       "      <th>client_id</th>\n",
       "      <th>age</th>\n",
       "      <th>decline_app_cnt</th>\n",
       "      <th>good_work</th>\n",
       "      <th>score_bki</th>\n",
       "      <th>bki_request_cnt</th>\n",
       "      <th>region_rating</th>\n",
       "      <th>home_address</th>\n",
       "      <th>work_address</th>\n",
       "      <th>income</th>\n",
       "      <th>sna</th>\n",
       "      <th>first_time</th>\n",
       "      <th>default</th>\n",
       "      <th>train</th>\n",
       "    </tr>\n",
       "  </thead>\n",
       "  <tbody>\n",
       "    <tr>\n",
       "      <th>count</th>\n",
       "      <td>110148.000000</td>\n",
       "      <td>110148.000000</td>\n",
       "      <td>110148.000000</td>\n",
       "      <td>110148.000000</td>\n",
       "      <td>110148.000000</td>\n",
       "      <td>110148.000000</td>\n",
       "      <td>110148.000000</td>\n",
       "      <td>110148.000000</td>\n",
       "      <td>110148.000000</td>\n",
       "      <td>110148.000000</td>\n",
       "      <td>110148.000000</td>\n",
       "      <td>110148.000000</td>\n",
       "      <td>110148.000000</td>\n",
       "      <td>110148.000000</td>\n",
       "    </tr>\n",
       "    <tr>\n",
       "      <th>mean</th>\n",
       "      <td>55074.500000</td>\n",
       "      <td>39.249410</td>\n",
       "      <td>0.273205</td>\n",
       "      <td>0.165514</td>\n",
       "      <td>-1.904535</td>\n",
       "      <td>2.005002</td>\n",
       "      <td>56.751189</td>\n",
       "      <td>1.574945</td>\n",
       "      <td>2.497867</td>\n",
       "      <td>41012.648537</td>\n",
       "      <td>1.731588</td>\n",
       "      <td>2.765570</td>\n",
       "      <td>0.085086</td>\n",
       "      <td>0.669999</td>\n",
       "    </tr>\n",
       "    <tr>\n",
       "      <th>std</th>\n",
       "      <td>31797.133063</td>\n",
       "      <td>11.518063</td>\n",
       "      <td>0.799099</td>\n",
       "      <td>0.371645</td>\n",
       "      <td>0.499397</td>\n",
       "      <td>2.266926</td>\n",
       "      <td>13.065923</td>\n",
       "      <td>0.527562</td>\n",
       "      <td>0.687651</td>\n",
       "      <td>45399.735051</td>\n",
       "      <td>1.122652</td>\n",
       "      <td>1.010151</td>\n",
       "      <td>0.279010</td>\n",
       "      <td>0.470215</td>\n",
       "    </tr>\n",
       "    <tr>\n",
       "      <th>min</th>\n",
       "      <td>1.000000</td>\n",
       "      <td>21.000000</td>\n",
       "      <td>0.000000</td>\n",
       "      <td>0.000000</td>\n",
       "      <td>-3.624586</td>\n",
       "      <td>0.000000</td>\n",
       "      <td>20.000000</td>\n",
       "      <td>1.000000</td>\n",
       "      <td>1.000000</td>\n",
       "      <td>1000.000000</td>\n",
       "      <td>1.000000</td>\n",
       "      <td>1.000000</td>\n",
       "      <td>0.000000</td>\n",
       "      <td>0.000000</td>\n",
       "    </tr>\n",
       "    <tr>\n",
       "      <th>25%</th>\n",
       "      <td>27537.750000</td>\n",
       "      <td>30.000000</td>\n",
       "      <td>0.000000</td>\n",
       "      <td>0.000000</td>\n",
       "      <td>-2.260434</td>\n",
       "      <td>0.000000</td>\n",
       "      <td>50.000000</td>\n",
       "      <td>1.000000</td>\n",
       "      <td>2.000000</td>\n",
       "      <td>20000.000000</td>\n",
       "      <td>1.000000</td>\n",
       "      <td>2.000000</td>\n",
       "      <td>0.000000</td>\n",
       "      <td>0.000000</td>\n",
       "    </tr>\n",
       "    <tr>\n",
       "      <th>50%</th>\n",
       "      <td>55074.500000</td>\n",
       "      <td>37.000000</td>\n",
       "      <td>0.000000</td>\n",
       "      <td>0.000000</td>\n",
       "      <td>-1.920823</td>\n",
       "      <td>1.000000</td>\n",
       "      <td>50.000000</td>\n",
       "      <td>2.000000</td>\n",
       "      <td>3.000000</td>\n",
       "      <td>30000.000000</td>\n",
       "      <td>1.000000</td>\n",
       "      <td>3.000000</td>\n",
       "      <td>0.000000</td>\n",
       "      <td>1.000000</td>\n",
       "    </tr>\n",
       "    <tr>\n",
       "      <th>75%</th>\n",
       "      <td>82611.250000</td>\n",
       "      <td>48.000000</td>\n",
       "      <td>0.000000</td>\n",
       "      <td>0.000000</td>\n",
       "      <td>-1.567888</td>\n",
       "      <td>3.000000</td>\n",
       "      <td>60.000000</td>\n",
       "      <td>2.000000</td>\n",
       "      <td>3.000000</td>\n",
       "      <td>48000.000000</td>\n",
       "      <td>2.000000</td>\n",
       "      <td>4.000000</td>\n",
       "      <td>0.000000</td>\n",
       "      <td>1.000000</td>\n",
       "    </tr>\n",
       "    <tr>\n",
       "      <th>max</th>\n",
       "      <td>110148.000000</td>\n",
       "      <td>72.000000</td>\n",
       "      <td>33.000000</td>\n",
       "      <td>1.000000</td>\n",
       "      <td>0.199773</td>\n",
       "      <td>53.000000</td>\n",
       "      <td>80.000000</td>\n",
       "      <td>3.000000</td>\n",
       "      <td>3.000000</td>\n",
       "      <td>1000000.000000</td>\n",
       "      <td>4.000000</td>\n",
       "      <td>4.000000</td>\n",
       "      <td>1.000000</td>\n",
       "      <td>1.000000</td>\n",
       "    </tr>\n",
       "  </tbody>\n",
       "</table>\n",
       "</div>"
      ],
      "text/plain": [
       "           client_id            age  decline_app_cnt      good_work  \\\n",
       "count  110148.000000  110148.000000    110148.000000  110148.000000   \n",
       "mean    55074.500000      39.249410         0.273205       0.165514   \n",
       "std     31797.133063      11.518063         0.799099       0.371645   \n",
       "min         1.000000      21.000000         0.000000       0.000000   \n",
       "25%     27537.750000      30.000000         0.000000       0.000000   \n",
       "50%     55074.500000      37.000000         0.000000       0.000000   \n",
       "75%     82611.250000      48.000000         0.000000       0.000000   \n",
       "max    110148.000000      72.000000        33.000000       1.000000   \n",
       "\n",
       "           score_bki  bki_request_cnt  region_rating   home_address  \\\n",
       "count  110148.000000    110148.000000  110148.000000  110148.000000   \n",
       "mean       -1.904535         2.005002      56.751189       1.574945   \n",
       "std         0.499397         2.266926      13.065923       0.527562   \n",
       "min        -3.624586         0.000000      20.000000       1.000000   \n",
       "25%        -2.260434         0.000000      50.000000       1.000000   \n",
       "50%        -1.920823         1.000000      50.000000       2.000000   \n",
       "75%        -1.567888         3.000000      60.000000       2.000000   \n",
       "max         0.199773        53.000000      80.000000       3.000000   \n",
       "\n",
       "        work_address          income            sna     first_time  \\\n",
       "count  110148.000000   110148.000000  110148.000000  110148.000000   \n",
       "mean        2.497867    41012.648537       1.731588       2.765570   \n",
       "std         0.687651    45399.735051       1.122652       1.010151   \n",
       "min         1.000000     1000.000000       1.000000       1.000000   \n",
       "25%         2.000000    20000.000000       1.000000       2.000000   \n",
       "50%         3.000000    30000.000000       1.000000       3.000000   \n",
       "75%         3.000000    48000.000000       2.000000       4.000000   \n",
       "max         3.000000  1000000.000000       4.000000       4.000000   \n",
       "\n",
       "             default          train  \n",
       "count  110148.000000  110148.000000  \n",
       "mean        0.085086       0.669999  \n",
       "std         0.279010       0.470215  \n",
       "min         0.000000       0.000000  \n",
       "25%         0.000000       0.000000  \n",
       "50%         0.000000       1.000000  \n",
       "75%         0.000000       1.000000  \n",
       "max         1.000000       1.000000  "
      ]
     },
     "metadata": {},
     "output_type": "display_data"
    },
    {
     "data": {
      "text/html": [
       "<div>\n",
       "<style scoped>\n",
       "    .dataframe tbody tr th:only-of-type {\n",
       "        vertical-align: middle;\n",
       "    }\n",
       "\n",
       "    .dataframe tbody tr th {\n",
       "        vertical-align: top;\n",
       "    }\n",
       "\n",
       "    .dataframe thead th {\n",
       "        text-align: right;\n",
       "    }\n",
       "</style>\n",
       "<table border=\"1\" class=\"dataframe\">\n",
       "  <thead>\n",
       "    <tr style=\"text-align: right;\">\n",
       "      <th></th>\n",
       "      <th>app_date</th>\n",
       "      <th>education</th>\n",
       "      <th>sex</th>\n",
       "      <th>car</th>\n",
       "      <th>car_type</th>\n",
       "      <th>foreign_passport</th>\n",
       "    </tr>\n",
       "  </thead>\n",
       "  <tbody>\n",
       "    <tr>\n",
       "      <th>count</th>\n",
       "      <td>110148</td>\n",
       "      <td>109670</td>\n",
       "      <td>110148</td>\n",
       "      <td>110148</td>\n",
       "      <td>110148</td>\n",
       "      <td>110148</td>\n",
       "    </tr>\n",
       "    <tr>\n",
       "      <th>unique</th>\n",
       "      <td>120</td>\n",
       "      <td>5</td>\n",
       "      <td>2</td>\n",
       "      <td>2</td>\n",
       "      <td>2</td>\n",
       "      <td>2</td>\n",
       "    </tr>\n",
       "    <tr>\n",
       "      <th>top</th>\n",
       "      <td>18MAR2014</td>\n",
       "      <td>SCH</td>\n",
       "      <td>F</td>\n",
       "      <td>N</td>\n",
       "      <td>N</td>\n",
       "      <td>N</td>\n",
       "    </tr>\n",
       "    <tr>\n",
       "      <th>freq</th>\n",
       "      <td>1491</td>\n",
       "      <td>57998</td>\n",
       "      <td>61836</td>\n",
       "      <td>74290</td>\n",
       "      <td>89140</td>\n",
       "      <td>93721</td>\n",
       "    </tr>\n",
       "  </tbody>\n",
       "</table>\n",
       "</div>"
      ],
      "text/plain": [
       "         app_date education     sex     car car_type foreign_passport\n",
       "count      110148    109670  110148  110148   110148           110148\n",
       "unique        120         5       2       2        2                2\n",
       "top     18MAR2014       SCH       F       N        N                N\n",
       "freq         1491     57998   61836   74290    89140            93721"
      ]
     },
     "metadata": {},
     "output_type": "display_data"
    }
   ],
   "source": [
    "#посмотрим на колонки, которые есть в датасете, пропущенные значения и общую статистику \n",
    "display(data.info())\n",
    "display(data.describe())\n",
    "display(data.describe(include = ['object']))"
   ]
  },
  {
   "cell_type": "markdown",
   "id": "f914243b",
   "metadata": {
    "papermill": {
     "duration": 0.069765,
     "end_time": "2021-08-05T10:06:56.053534",
     "exception": false,
     "start_time": "2021-08-05T10:06:55.983769",
     "status": "completed"
    },
    "tags": []
   },
   "source": [
    "Как видим, пропуски есть только в столбце <span style=\"color: green;\">education</span>. Посмотрим на их количество: "
   ]
  },
  {
   "cell_type": "code",
   "execution_count": 7,
   "id": "1619f9f2",
   "metadata": {
    "execution": {
     "iopub.execute_input": "2021-08-05T10:06:56.198355Z",
     "iopub.status.busy": "2021-08-05T10:06:56.197598Z",
     "iopub.status.idle": "2021-08-05T10:06:56.270398Z",
     "shell.execute_reply": "2021-08-05T10:06:56.270916Z",
     "shell.execute_reply.started": "2021-08-05T09:51:58.306065Z"
    },
    "papermill": {
     "duration": 0.147046,
     "end_time": "2021-08-05T10:06:56.271098",
     "exception": false,
     "start_time": "2021-08-05T10:06:56.124052",
     "status": "completed"
    },
    "tags": []
   },
   "outputs": [
    {
     "data": {
      "text/plain": [
       "client_id             0\n",
       "app_date              0\n",
       "education           478\n",
       "sex                   0\n",
       "age                   0\n",
       "car                   0\n",
       "car_type              0\n",
       "decline_app_cnt       0\n",
       "good_work             0\n",
       "score_bki             0\n",
       "bki_request_cnt       0\n",
       "region_rating         0\n",
       "home_address          0\n",
       "work_address          0\n",
       "income                0\n",
       "sna                   0\n",
       "first_time            0\n",
       "foreign_passport      0\n",
       "default               0\n",
       "train                 0\n",
       "dtype: int64"
      ]
     },
     "execution_count": 7,
     "metadata": {},
     "output_type": "execute_result"
    }
   ],
   "source": [
    "data.isna().sum()"
   ]
  },
  {
   "cell_type": "markdown",
   "id": "269460bd",
   "metadata": {
    "papermill": {
     "duration": 0.068683,
     "end_time": "2021-08-05T10:06:56.409897",
     "exception": false,
     "start_time": "2021-08-05T10:06:56.341214",
     "status": "completed"
    },
    "tags": []
   },
   "source": [
    "Всего в колонке education 307 пропусков, что очень мало. Для того чтобы их заполнить, посмотрим на структуру этой колонки при помощи гистограммы: "
   ]
  },
  {
   "cell_type": "code",
   "execution_count": 8,
   "id": "fafe8d94",
   "metadata": {
    "execution": {
     "iopub.execute_input": "2021-08-05T10:06:56.578682Z",
     "iopub.status.busy": "2021-08-05T10:06:56.577928Z",
     "iopub.status.idle": "2021-08-05T10:06:56.800449Z",
     "shell.execute_reply": "2021-08-05T10:06:56.799901Z",
     "shell.execute_reply.started": "2021-08-05T09:51:58.388178Z"
    },
    "papermill": {
     "duration": 0.321846,
     "end_time": "2021-08-05T10:06:56.800598",
     "exception": false,
     "start_time": "2021-08-05T10:06:56.478752",
     "status": "completed"
    },
    "tags": []
   },
   "outputs": [
    {
     "data": {
      "text/plain": [
       "<AxesSubplot:>"
      ]
     },
     "execution_count": 8,
     "metadata": {},
     "output_type": "execute_result"
    },
    {
     "data": {
      "image/png": "[encoded data removed]",
      "text/plain": [
       "<Figure size 432x288 with 1 Axes>"
      ]
     },
     "metadata": {
      "needs_background": "light"
     },
     "output_type": "display_data"
    }
   ],
   "source": [
    "data['education'].value_counts().plot.barh()"
   ]
  },
  {
   "cell_type": "markdown",
   "id": "6b1f9662",
   "metadata": {
    "papermill": {
     "duration": 0.069954,
     "end_time": "2021-08-05T10:06:56.940584",
     "exception": false,
     "start_time": "2021-08-05T10:06:56.870630",
     "status": "completed"
    },
    "tags": []
   },
   "source": [
    "По результатам видим, что education - это категориальная переменная, в которой присутствуют разные ступени образования - School, Graduate, Undergradute, Postgraduate, и Acedemic. Поскольку это категориальная переменная, пропуски лучше всего заполнить значением моды, а именно School. Сразу же можно преобразовать строковые значения в числовые. "
   ]
  },
  {
   "cell_type": "code",
   "execution_count": 9,
   "id": "1fab3488",
   "metadata": {
    "execution": {
     "iopub.execute_input": "2021-08-05T10:06:57.115000Z",
     "iopub.status.busy": "2021-08-05T10:06:57.103146Z",
     "iopub.status.idle": "2021-08-05T10:06:57.193270Z",
     "shell.execute_reply": "2021-08-05T10:06:57.192551Z",
     "shell.execute_reply.started": "2021-08-05T09:51:58.640735Z"
    },
    "papermill": {
     "duration": 0.181602,
     "end_time": "2021-08-05T10:06:57.193429",
     "exception": false,
     "start_time": "2021-08-05T10:06:57.011827",
     "status": "completed"
    },
    "tags": []
   },
   "outputs": [
    {
     "data": {
      "text/plain": [
       "client_id           0\n",
       "app_date            0\n",
       "education           0\n",
       "sex                 0\n",
       "age                 0\n",
       "car                 0\n",
       "car_type            0\n",
       "decline_app_cnt     0\n",
       "good_work           0\n",
       "score_bki           0\n",
       "bki_request_cnt     0\n",
       "region_rating       0\n",
       "home_address        0\n",
       "work_address        0\n",
       "income              0\n",
       "sna                 0\n",
       "first_time          0\n",
       "foreign_passport    0\n",
       "default             0\n",
       "train               0\n",
       "dtype: int64"
      ]
     },
     "execution_count": 9,
     "metadata": {},
     "output_type": "execute_result"
    }
   ],
   "source": [
    "data['education'] = data['education'].fillna(data['education'].mode()[0]) #Заполняем пропуски\n",
    "data.isna().sum() # Проверяем нет ли больше пропусков"
   ]
  },
  {
   "cell_type": "code",
   "execution_count": 10,
   "id": "2e6b2be1",
   "metadata": {
    "execution": {
     "iopub.execute_input": "2021-08-05T10:06:57.348945Z",
     "iopub.status.busy": "2021-08-05T10:06:57.343725Z",
     "iopub.status.idle": "2021-08-05T10:06:57.418627Z",
     "shell.execute_reply": "2021-08-05T10:06:57.418051Z",
     "shell.execute_reply.started": "2021-08-05T09:51:58.751689Z"
    },
    "papermill": {
     "duration": 0.153659,
     "end_time": "2021-08-05T10:06:57.418793",
     "exception": false,
     "start_time": "2021-08-05T10:06:57.265134",
     "status": "completed"
    },
    "tags": []
   },
   "outputs": [],
   "source": [
    "# Создадим словарь для преобразования education\n",
    "education_dict = {'SCH':0, 'UGR':1, 'GRD':2, 'PGR':3, 'ACD':4} #здесь важно сохранить правильный порядок\n",
    "data['education'] = data['education'].apply(lambda x: education_dict[x])"
   ]
  },
  {
   "cell_type": "code",
   "execution_count": 11,
   "id": "8d767f6e",
   "metadata": {
    "execution": {
     "iopub.execute_input": "2021-08-05T10:06:57.569701Z",
     "iopub.status.busy": "2021-08-05T10:06:57.568637Z",
     "iopub.status.idle": "2021-08-05T10:06:57.573114Z",
     "shell.execute_reply": "2021-08-05T10:06:57.573604Z",
     "shell.execute_reply.started": "2021-08-05T09:51:58.830026Z"
    },
    "papermill": {
     "duration": 0.083375,
     "end_time": "2021-08-05T10:06:57.573787",
     "exception": false,
     "start_time": "2021-08-05T10:06:57.490412",
     "status": "completed"
    },
    "tags": []
   },
   "outputs": [
    {
     "data": {
      "text/plain": [
       "0         0\n",
       "1         0\n",
       "2         0\n",
       "3         0\n",
       "4         2\n",
       "         ..\n",
       "110143    0\n",
       "110144    2\n",
       "110145    2\n",
       "110146    1\n",
       "110147    0\n",
       "Name: education, Length: 110148, dtype: int64"
      ]
     },
     "execution_count": 11,
     "metadata": {},
     "output_type": "execute_result"
    }
   ],
   "source": [
    "data['education'] #Проверяем, произошла ли замена. Как видим, все ок"
   ]
  },
  {
   "cell_type": "markdown",
   "id": "5455f5df",
   "metadata": {
    "execution": {
     "iopub.execute_input": "2021-08-03T14:36:52.787346Z",
     "iopub.status.busy": "2021-08-03T14:36:52.786698Z",
     "iopub.status.idle": "2021-08-03T14:36:52.793896Z",
     "shell.execute_reply": "2021-08-03T14:36:52.792238Z",
     "shell.execute_reply.started": "2021-08-03T14:36:52.787307Z"
    },
    "papermill": {
     "duration": 0.069703,
     "end_time": "2021-08-05T10:06:57.714875",
     "exception": false,
     "start_time": "2021-08-05T10:06:57.645172",
     "status": "completed"
    },
    "tags": []
   },
   "source": [
    "Стоит проверить нескольно переменных, которых не было в базовом датасете на платформе, а именно: \n",
    "\n",
    "<ul>sna - связь заемщика с клиентами банка</ul>\n",
    "\n",
    "<ul>first_time - давность наличия информации о заемщике</ul>\n",
    "\n",
    "<ul>score_bki - скоринговый балл по данным из БКИ</ul>\n",
    "\n",
    "<ul>region_rating - рейтинг региона</ul>\n",
    "\n",
    "<ul>app_date - дата подачи заявки</ul>"
   ]
  },
  {
   "cell_type": "code",
   "execution_count": 12,
   "id": "d5212205",
   "metadata": {
    "execution": {
     "iopub.execute_input": "2021-08-05T10:06:57.861153Z",
     "iopub.status.busy": "2021-08-05T10:06:57.860099Z",
     "iopub.status.idle": "2021-08-05T10:06:57.868635Z",
     "shell.execute_reply": "2021-08-05T10:06:57.867904Z",
     "shell.execute_reply.started": "2021-08-05T09:51:58.840884Z"
    },
    "papermill": {
     "duration": 0.083747,
     "end_time": "2021-08-05T10:06:57.868783",
     "exception": false,
     "start_time": "2021-08-05T10:06:57.785036",
     "status": "completed"
    },
    "tags": []
   },
   "outputs": [
    {
     "data": {
      "text/plain": [
       "1    70681\n",
       "4    17481\n",
       "2    15832\n",
       "3     6154\n",
       "Name: sna, dtype: int64"
      ]
     },
     "execution_count": 12,
     "metadata": {},
     "output_type": "execute_result"
    }
   ],
   "source": [
    "data['sna'].value_counts() # категориальная переменная"
   ]
  },
  {
   "cell_type": "code",
   "execution_count": 13,
   "id": "8b6da61d",
   "metadata": {
    "execution": {
     "iopub.execute_input": "2021-08-05T10:06:58.015718Z",
     "iopub.status.busy": "2021-08-05T10:06:58.014997Z",
     "iopub.status.idle": "2021-08-05T10:06:58.022979Z",
     "shell.execute_reply": "2021-08-05T10:06:58.022401Z",
     "shell.execute_reply.started": "2021-08-05T09:51:58.863468Z"
    },
    "papermill": {
     "duration": 0.083598,
     "end_time": "2021-08-05T10:06:58.023139",
     "exception": false,
     "start_time": "2021-08-05T10:06:57.939541",
     "status": "completed"
    },
    "tags": []
   },
   "outputs": [
    {
     "data": {
      "text/plain": [
       "3    46588\n",
       "4    28017\n",
       "1    18296\n",
       "2    17247\n",
       "Name: first_time, dtype: int64"
      ]
     },
     "execution_count": 13,
     "metadata": {},
     "output_type": "execute_result"
    }
   ],
   "source": [
    "data['first_time'].value_counts() # категориальная переменная"
   ]
  },
  {
   "cell_type": "code",
   "execution_count": 14,
   "id": "3d917dab",
   "metadata": {
    "execution": {
     "iopub.execute_input": "2021-08-05T10:06:58.173755Z",
     "iopub.status.busy": "2021-08-05T10:06:58.173068Z",
     "iopub.status.idle": "2021-08-05T10:06:58.177977Z",
     "shell.execute_reply": "2021-08-05T10:06:58.177370Z",
     "shell.execute_reply.started": "2021-08-05T09:51:58.876637Z"
    },
    "papermill": {
     "duration": 0.083475,
     "end_time": "2021-08-05T10:06:58.178117",
     "exception": false,
     "start_time": "2021-08-05T10:06:58.094642",
     "status": "completed"
    },
    "tags": []
   },
   "outputs": [
    {
     "data": {
      "text/plain": [
       "0        -2.008753\n",
       "1        -1.532276\n",
       "2        -1.408142\n",
       "3        -2.057471\n",
       "4        -1.244723\n",
       "            ...   \n",
       "110143   -1.744976\n",
       "110144   -2.293781\n",
       "110145   -0.940752\n",
       "110146   -1.242392\n",
       "110147   -1.507549\n",
       "Name: score_bki, Length: 110148, dtype: float64"
      ]
     },
     "execution_count": 14,
     "metadata": {},
     "output_type": "execute_result"
    }
   ],
   "source": [
    "data['score_bki'] # числовая переменная"
   ]
  },
  {
   "cell_type": "code",
   "execution_count": 15,
   "id": "9d94abbe",
   "metadata": {
    "execution": {
     "iopub.execute_input": "2021-08-05T10:06:58.328242Z",
     "iopub.status.busy": "2021-08-05T10:06:58.327502Z",
     "iopub.status.idle": "2021-08-05T10:06:58.331469Z",
     "shell.execute_reply": "2021-08-05T10:06:58.330844Z",
     "shell.execute_reply.started": "2021-08-05T09:51:58.891796Z"
    },
    "papermill": {
     "duration": 0.082504,
     "end_time": "2021-08-05T10:06:58.331616",
     "exception": false,
     "start_time": "2021-08-05T10:06:58.249112",
     "status": "completed"
    },
    "tags": []
   },
   "outputs": [
    {
     "data": {
      "text/plain": [
       "0         50\n",
       "1         50\n",
       "2         80\n",
       "3         50\n",
       "4         60\n",
       "          ..\n",
       "110143    50\n",
       "110144    60\n",
       "110145    50\n",
       "110146    80\n",
       "110147    50\n",
       "Name: region_rating, Length: 110148, dtype: int64"
      ]
     },
     "execution_count": 15,
     "metadata": {},
     "output_type": "execute_result"
    }
   ],
   "source": [
    "data['region_rating'] #скорее категориальная переменная, (преобразовать???)"
   ]
  },
  {
   "cell_type": "code",
   "execution_count": 16,
   "id": "73bc7744",
   "metadata": {
    "execution": {
     "iopub.execute_input": "2021-08-05T10:06:58.490404Z",
     "iopub.status.busy": "2021-08-05T10:06:58.489703Z",
     "iopub.status.idle": "2021-08-05T10:06:58.582133Z",
     "shell.execute_reply": "2021-08-05T10:06:58.582642Z",
     "shell.execute_reply.started": "2021-08-05T09:51:58.909071Z"
    },
    "papermill": {
     "duration": 0.177691,
     "end_time": "2021-08-05T10:06:58.582826",
     "exception": false,
     "start_time": "2021-08-05T10:06:58.405135",
     "status": "completed"
    },
    "tags": []
   },
   "outputs": [],
   "source": [
    "#преобразуем в более привычный формат\n",
    "data['app_date'] = data['app_date'].apply(lambda x: x[0:2]+'-'+x[2:5]+'-'+x[5:9]) "
   ]
  },
  {
   "cell_type": "code",
   "execution_count": 17,
   "id": "743efbb0",
   "metadata": {
    "execution": {
     "iopub.execute_input": "2021-08-05T10:06:58.729700Z",
     "iopub.status.busy": "2021-08-05T10:06:58.728985Z",
     "iopub.status.idle": "2021-08-05T10:06:58.783384Z",
     "shell.execute_reply": "2021-08-05T10:06:58.782709Z",
     "shell.execute_reply.started": "2021-08-05T09:51:59.025466Z"
    },
    "papermill": {
     "duration": 0.12908,
     "end_time": "2021-08-05T10:06:58.783536",
     "exception": false,
     "start_time": "2021-08-05T10:06:58.654456",
     "status": "completed"
    },
    "tags": []
   },
   "outputs": [],
   "source": [
    "data['app_date'] = pd.to_datetime(data['app_date']) # Преобразуем в datetime"
   ]
  },
  {
   "cell_type": "code",
   "execution_count": 18,
   "id": "afe0be16",
   "metadata": {
    "execution": {
     "iopub.execute_input": "2021-08-05T10:06:58.933692Z",
     "iopub.status.busy": "2021-08-05T10:06:58.932826Z",
     "iopub.status.idle": "2021-08-05T10:06:58.951380Z",
     "shell.execute_reply": "2021-08-05T10:06:58.951912Z",
     "shell.execute_reply.started": "2021-08-05T09:51:59.089697Z"
    },
    "papermill": {
     "duration": 0.096232,
     "end_time": "2021-08-05T10:06:58.952086",
     "exception": false,
     "start_time": "2021-08-05T10:06:58.855854",
     "status": "completed"
    },
    "tags": []
   },
   "outputs": [
    {
     "data": {
      "text/plain": [
       "2014    110148\n",
       "Name: app_date, dtype: int64"
      ]
     },
     "execution_count": 18,
     "metadata": {},
     "output_type": "execute_result"
    }
   ],
   "source": [
    "data['app_date'].dt.year.value_counts() #как видим, информация только за 2014 год"
   ]
  },
  {
   "cell_type": "code",
   "execution_count": 19,
   "id": "a81f7019",
   "metadata": {
    "execution": {
     "iopub.execute_input": "2021-08-05T10:06:59.101145Z",
     "iopub.status.busy": "2021-08-05T10:06:59.100370Z",
     "iopub.status.idle": "2021-08-05T10:06:59.121022Z",
     "shell.execute_reply": "2021-08-05T10:06:59.121527Z",
     "shell.execute_reply.started": "2021-08-05T09:51:59.116565Z"
    },
    "papermill": {
     "duration": 0.096423,
     "end_time": "2021-08-05T10:06:59.121746",
     "exception": false,
     "start_time": "2021-08-05T10:06:59.025323",
     "status": "completed"
    },
    "tags": []
   },
   "outputs": [
    {
     "data": {
      "text/plain": [
       "3    0.286859\n",
       "2    0.246005\n",
       "4    0.238461\n",
       "1    0.228674\n",
       "Name: app_date, dtype: float64"
      ]
     },
     "execution_count": 19,
     "metadata": {},
     "output_type": "execute_result"
    }
   ],
   "source": [
    "#Преобразуем datetime в месяца: \n",
    "data.app_date.dt.month.value_counts(normalize = True)"
   ]
  },
  {
   "cell_type": "markdown",
   "id": "b5e44464",
   "metadata": {
    "execution": {
     "iopub.execute_input": "2021-08-03T15:02:16.184321Z",
     "iopub.status.busy": "2021-08-03T15:02:16.183882Z",
     "iopub.status.idle": "2021-08-03T15:02:16.202464Z",
     "shell.execute_reply": "2021-08-03T15:02:16.201648Z",
     "shell.execute_reply.started": "2021-08-03T15:02:16.184282Z"
    },
    "papermill": {
     "duration": 0.072054,
     "end_time": "2021-08-05T10:06:59.266068",
     "exception": false,
     "start_time": "2021-08-05T10:06:59.194014",
     "status": "completed"
    },
    "tags": []
   },
   "source": [
    "Как видим, у нас представлено всего 4 месяца - январь, февраль, март и апрель, и они распределены почти равномерно. Чуть больше заявок было подано в марте, и чуть меньше в январе"
   ]
  },
  {
   "cell_type": "code",
   "execution_count": 20,
   "id": "7a3cc35e",
   "metadata": {
    "execution": {
     "iopub.execute_input": "2021-08-05T10:06:59.416449Z",
     "iopub.status.busy": "2021-08-05T10:06:59.415749Z",
     "iopub.status.idle": "2021-08-05T10:06:59.643052Z",
     "shell.execute_reply": "2021-08-05T10:06:59.642520Z",
     "shell.execute_reply.started": "2021-08-05T09:51:59.142247Z"
    },
    "papermill": {
     "duration": 0.303716,
     "end_time": "2021-08-05T10:06:59.643208",
     "exception": false,
     "start_time": "2021-08-05T10:06:59.339492",
     "status": "completed"
    },
    "tags": []
   },
   "outputs": [
    {
     "data": {
      "text/plain": [
       "<AxesSubplot:>"
      ]
     },
     "execution_count": 20,
     "metadata": {},
     "output_type": "execute_result"
    },
    {
     "data": {
      "image/png": "[encoded data removed]",
      "text/plain": [
       "<Figure size 432x288 with 1 Axes>"
      ]
     },
     "metadata": {
      "needs_background": "light"
     },
     "output_type": "display_data"
    }
   ],
   "source": [
    "data.app_date.dt.month.hist()"
   ]
  },
  {
   "cell_type": "code",
   "execution_count": 21,
   "id": "239e26d1",
   "metadata": {
    "execution": {
     "iopub.execute_input": "2021-08-05T10:06:59.795426Z",
     "iopub.status.busy": "2021-08-05T10:06:59.794750Z",
     "iopub.status.idle": "2021-08-05T10:07:00.013953Z",
     "shell.execute_reply": "2021-08-05T10:07:00.013375Z",
     "shell.execute_reply.started": "2021-08-05T09:51:59.357137Z"
    },
    "papermill": {
     "duration": 0.297524,
     "end_time": "2021-08-05T10:07:00.014104",
     "exception": false,
     "start_time": "2021-08-05T10:06:59.716580",
     "status": "completed"
    },
    "tags": []
   },
   "outputs": [
    {
     "data": {
      "text/plain": [
       "<AxesSubplot:>"
      ]
     },
     "execution_count": 21,
     "metadata": {},
     "output_type": "execute_result"
    },
    {
     "data": {
      "image/png": "[encoded data removed]",
      "text/plain": [
       "<Figure size 432x288 with 1 Axes>"
      ]
     },
     "metadata": {
      "needs_background": "light"
     },
     "output_type": "display_data"
    }
   ],
   "source": [
    "# Посмотрим на распределение поданных заявок в определенные дни. Как видим, больше всего заявок подаются в конце месяца\n",
    "data.app_date.dt.day.hist()"
   ]
  },
  {
   "cell_type": "markdown",
   "id": "ea036ca3",
   "metadata": {
    "papermill": {
     "duration": 0.07448,
     "end_time": "2021-08-05T10:07:00.163803",
     "exception": false,
     "start_time": "2021-08-05T10:07:00.089323",
     "status": "completed"
    },
    "tags": []
   },
   "source": [
    "Рассмотрим коробки с усами"
   ]
  },
  {
   "cell_type": "code",
   "execution_count": 22,
   "id": "518e102f",
   "metadata": {
    "execution": {
     "iopub.execute_input": "2021-08-05T10:07:00.318081Z",
     "iopub.status.busy": "2021-08-05T10:07:00.317385Z",
     "iopub.status.idle": "2021-08-05T10:07:00.333609Z",
     "shell.execute_reply": "2021-08-05T10:07:00.333046Z",
     "shell.execute_reply.started": "2021-08-05T09:51:59.559972Z"
    },
    "papermill": {
     "duration": 0.094883,
     "end_time": "2021-08-05T10:07:00.333766",
     "exception": false,
     "start_time": "2021-08-05T10:07:00.238883",
     "status": "completed"
    },
    "tags": []
   },
   "outputs": [],
   "source": [
    "data['app_month'] = data['app_date'].dt.month"
   ]
  },
  {
   "cell_type": "code",
   "execution_count": 23,
   "id": "2d10049e",
   "metadata": {
    "execution": {
     "iopub.execute_input": "2021-08-05T10:07:00.497462Z",
     "iopub.status.busy": "2021-08-05T10:07:00.496741Z",
     "iopub.status.idle": "2021-08-05T10:07:00.516926Z",
     "shell.execute_reply": "2021-08-05T10:07:00.517412Z",
     "shell.execute_reply.started": "2021-08-05T09:51:59.578998Z"
    },
    "papermill": {
     "duration": 0.108441,
     "end_time": "2021-08-05T10:07:00.517604",
     "exception": false,
     "start_time": "2021-08-05T10:07:00.409163",
     "status": "completed"
    },
    "tags": []
   },
   "outputs": [
    {
     "data": {
      "text/plain": [
       "0    0.857658\n",
       "1    0.142342\n",
       "Name: default, dtype: float64"
      ]
     },
     "execution_count": 23,
     "metadata": {},
     "output_type": "execute_result"
    }
   ],
   "source": [
    "#Распределение дефолтных клиентов для подавших заявку в январе\n",
    "data[(data['app_month']==1) & (data['train']==1)].default.value_counts(normalize=True) "
   ]
  },
  {
   "cell_type": "code",
   "execution_count": 24,
   "id": "0db6a273",
   "metadata": {
    "execution": {
     "iopub.execute_input": "2021-08-05T10:07:00.671308Z",
     "iopub.status.busy": "2021-08-05T10:07:00.670602Z",
     "iopub.status.idle": "2021-08-05T10:07:00.683694Z",
     "shell.execute_reply": "2021-08-05T10:07:00.684307Z",
     "shell.execute_reply.started": "2021-08-05T09:51:59.607709Z"
    },
    "papermill": {
     "duration": 0.092401,
     "end_time": "2021-08-05T10:07:00.684483",
     "exception": false,
     "start_time": "2021-08-05T10:07:00.592082",
     "status": "completed"
    },
    "tags": []
   },
   "outputs": [
    {
     "data": {
      "text/plain": [
       "0    0.867373\n",
       "1    0.132627\n",
       "Name: default, dtype: float64"
      ]
     },
     "execution_count": 24,
     "metadata": {},
     "output_type": "execute_result"
    }
   ],
   "source": [
    "#Распределение дефолтных клиентов для подавших заявку в феврале\n",
    "data[(data['app_month']==2) & (data['train']==1)].default.value_counts(normalize=True)"
   ]
  },
  {
   "cell_type": "code",
   "execution_count": 25,
   "id": "6cefcb1a",
   "metadata": {
    "execution": {
     "iopub.execute_input": "2021-08-05T10:07:00.838216Z",
     "iopub.status.busy": "2021-08-05T10:07:00.837528Z",
     "iopub.status.idle": "2021-08-05T10:07:00.852805Z",
     "shell.execute_reply": "2021-08-05T10:07:00.852252Z",
     "shell.execute_reply.started": "2021-08-05T09:51:59.624047Z"
    },
    "papermill": {
     "duration": 0.093627,
     "end_time": "2021-08-05T10:07:00.852969",
     "exception": false,
     "start_time": "2021-08-05T10:07:00.759342",
     "status": "completed"
    },
    "tags": []
   },
   "outputs": [
    {
     "data": {
      "text/plain": [
       "0    0.872462\n",
       "1    0.127538\n",
       "Name: default, dtype: float64"
      ]
     },
     "execution_count": 25,
     "metadata": {},
     "output_type": "execute_result"
    }
   ],
   "source": [
    "#Распределение дефолтных клиентов для подавших заявку в марте\n",
    "data[(data['app_month']==3) & ((data['train']==1))].default.value_counts(normalize=True)"
   ]
  },
  {
   "cell_type": "code",
   "execution_count": 26,
   "id": "e9f61dcd",
   "metadata": {
    "execution": {
     "iopub.execute_input": "2021-08-05T10:07:01.018270Z",
     "iopub.status.busy": "2021-08-05T10:07:01.017567Z",
     "iopub.status.idle": "2021-08-05T10:07:01.029758Z",
     "shell.execute_reply": "2021-08-05T10:07:01.030320Z",
     "shell.execute_reply.started": "2021-08-05T09:51:59.642962Z"
    },
    "papermill": {
     "duration": 0.100774,
     "end_time": "2021-08-05T10:07:01.030504",
     "exception": false,
     "start_time": "2021-08-05T10:07:00.929730",
     "status": "completed"
    },
    "tags": []
   },
   "outputs": [
    {
     "data": {
      "text/plain": [
       "0    0.894079\n",
       "1    0.105921\n",
       "Name: default, dtype: float64"
      ]
     },
     "execution_count": 26,
     "metadata": {},
     "output_type": "execute_result"
    }
   ],
   "source": [
    "#Распределение дефолтных клиентов для подавших заявку в апреле\n",
    "data[(data['app_month']==4) & ((data['train']==1))].default.value_counts(normalize=True)"
   ]
  },
  {
   "cell_type": "code",
   "execution_count": 27,
   "id": "f9f2baa2",
   "metadata": {
    "execution": {
     "iopub.execute_input": "2021-08-05T10:07:01.192339Z",
     "iopub.status.busy": "2021-08-05T10:07:01.191662Z",
     "iopub.status.idle": "2021-08-05T10:07:01.504119Z",
     "shell.execute_reply": "2021-08-05T10:07:01.503586Z",
     "shell.execute_reply.started": "2021-08-05T09:51:59.791947Z"
    },
    "papermill": {
     "duration": 0.394812,
     "end_time": "2021-08-05T10:07:01.504298",
     "exception": false,
     "start_time": "2021-08-05T10:07:01.109486",
     "status": "completed"
    },
    "tags": []
   },
   "outputs": [
    {
     "data": {
      "text/plain": [
       "<AxesSubplot:>"
      ]
     },
     "execution_count": 27,
     "metadata": {},
     "output_type": "execute_result"
    },
    {
     "data": {
      "image/png": "[encoded data removed]",
      "text/plain": [
       "<Figure size 432x288 with 1 Axes>"
      ]
     },
     "metadata": {
      "needs_background": "light"
     },
     "output_type": "display_data"
    }
   ],
   "source": [
    "data[(data['default']==1) & (data['train']==1)].app_month.hist() #Количество дефолтных клиентов по месяцам поданных заявок"
   ]
  },
  {
   "cell_type": "code",
   "execution_count": 28,
   "id": "ff1a0e54",
   "metadata": {
    "execution": {
     "iopub.execute_input": "2021-08-05T10:07:01.687596Z",
     "iopub.status.busy": "2021-08-05T10:07:01.683113Z",
     "iopub.status.idle": "2021-08-05T10:07:01.877681Z",
     "shell.execute_reply": "2021-08-05T10:07:01.876990Z",
     "shell.execute_reply.started": "2021-08-05T09:51:59.982816Z"
    },
    "papermill": {
     "duration": 0.296976,
     "end_time": "2021-08-05T10:07:01.877843",
     "exception": false,
     "start_time": "2021-08-05T10:07:01.580867",
     "status": "completed"
    },
    "tags": []
   },
   "outputs": [
    {
     "data": {
      "text/plain": [
       "<AxesSubplot:>"
      ]
     },
     "execution_count": 28,
     "metadata": {},
     "output_type": "execute_result"
    },
    {
     "data": {
      "image/png": "[encoded data removed]",
      "text/plain": [
       "<Figure size 432x288 with 1 Axes>"
      ]
     },
     "metadata": {
      "needs_background": "light"
     },
     "output_type": "display_data"
    }
   ],
   "source": [
    "data.app_month.hist() #Количество поданных заявок"
   ]
  },
  {
   "cell_type": "markdown",
   "id": "e9ca4072",
   "metadata": {
    "papermill": {
     "duration": 0.078426,
     "end_time": "2021-08-05T10:07:02.035617",
     "exception": false,
     "start_time": "2021-08-05T10:07:01.957191",
     "status": "completed"
    },
    "tags": []
   },
   "source": [
    "Судя по тому что процентное соотношение дефолтных клиентов с января до апреля падает, вполне возможно что такие цифры коррелируют с \"временной переменной\", а именно для подсчета дефолтности было больше времени с января, чем с апреля, поэтому вполне возможно что этот показатель никак не влияет. Это не совсем категориальная переменная, но можно попробовать ее включить."
   ]
  },
  {
   "cell_type": "code",
   "execution_count": 29,
   "id": "0dc01107",
   "metadata": {
    "execution": {
     "iopub.execute_input": "2021-08-05T10:07:02.222064Z",
     "iopub.status.busy": "2021-08-05T10:07:02.211005Z",
     "iopub.status.idle": "2021-08-05T10:07:02.235322Z",
     "shell.execute_reply": "2021-08-05T10:07:02.234752Z",
     "shell.execute_reply.started": "2021-08-05T09:52:00.182291Z"
    },
    "papermill": {
     "duration": 0.116668,
     "end_time": "2021-08-05T10:07:02.235475",
     "exception": false,
     "start_time": "2021-08-05T10:07:02.118807",
     "status": "completed"
    },
    "tags": []
   },
   "outputs": [
    {
     "data": {
      "text/html": [
       "<div>\n",
       "<style scoped>\n",
       "    .dataframe tbody tr th:only-of-type {\n",
       "        vertical-align: middle;\n",
       "    }\n",
       "\n",
       "    .dataframe tbody tr th {\n",
       "        vertical-align: top;\n",
       "    }\n",
       "\n",
       "    .dataframe thead th {\n",
       "        text-align: right;\n",
       "    }\n",
       "</style>\n",
       "<table border=\"1\" class=\"dataframe\">\n",
       "  <thead>\n",
       "    <tr style=\"text-align: right;\">\n",
       "      <th></th>\n",
       "      <th>client_id</th>\n",
       "      <th>app_date</th>\n",
       "      <th>education</th>\n",
       "      <th>sex</th>\n",
       "      <th>age</th>\n",
       "      <th>car</th>\n",
       "      <th>car_type</th>\n",
       "      <th>decline_app_cnt</th>\n",
       "      <th>good_work</th>\n",
       "      <th>score_bki</th>\n",
       "      <th>...</th>\n",
       "      <th>region_rating</th>\n",
       "      <th>home_address</th>\n",
       "      <th>work_address</th>\n",
       "      <th>income</th>\n",
       "      <th>sna</th>\n",
       "      <th>first_time</th>\n",
       "      <th>foreign_passport</th>\n",
       "      <th>default</th>\n",
       "      <th>train</th>\n",
       "      <th>app_month</th>\n",
       "    </tr>\n",
       "  </thead>\n",
       "  <tbody>\n",
       "    <tr>\n",
       "      <th>76005</th>\n",
       "      <td>81951</td>\n",
       "      <td>2014-03-30</td>\n",
       "      <td>0</td>\n",
       "      <td>F</td>\n",
       "      <td>45</td>\n",
       "      <td>N</td>\n",
       "      <td>N</td>\n",
       "      <td>0</td>\n",
       "      <td>0</td>\n",
       "      <td>-1.573417</td>\n",
       "      <td>...</td>\n",
       "      <td>50</td>\n",
       "      <td>1</td>\n",
       "      <td>2</td>\n",
       "      <td>17000</td>\n",
       "      <td>1</td>\n",
       "      <td>4</td>\n",
       "      <td>N</td>\n",
       "      <td>0</td>\n",
       "      <td>0</td>\n",
       "      <td>3</td>\n",
       "    </tr>\n",
       "    <tr>\n",
       "      <th>89710</th>\n",
       "      <td>37895</td>\n",
       "      <td>2014-02-14</td>\n",
       "      <td>0</td>\n",
       "      <td>F</td>\n",
       "      <td>25</td>\n",
       "      <td>Y</td>\n",
       "      <td>N</td>\n",
       "      <td>0</td>\n",
       "      <td>1</td>\n",
       "      <td>-1.397724</td>\n",
       "      <td>...</td>\n",
       "      <td>60</td>\n",
       "      <td>1</td>\n",
       "      <td>1</td>\n",
       "      <td>33000</td>\n",
       "      <td>1</td>\n",
       "      <td>3</td>\n",
       "      <td>N</td>\n",
       "      <td>0</td>\n",
       "      <td>0</td>\n",
       "      <td>2</td>\n",
       "    </tr>\n",
       "    <tr>\n",
       "      <th>96065</th>\n",
       "      <td>64963</td>\n",
       "      <td>2014-03-14</td>\n",
       "      <td>0</td>\n",
       "      <td>F</td>\n",
       "      <td>31</td>\n",
       "      <td>N</td>\n",
       "      <td>N</td>\n",
       "      <td>0</td>\n",
       "      <td>0</td>\n",
       "      <td>-1.123455</td>\n",
       "      <td>...</td>\n",
       "      <td>40</td>\n",
       "      <td>1</td>\n",
       "      <td>2</td>\n",
       "      <td>22000</td>\n",
       "      <td>1</td>\n",
       "      <td>2</td>\n",
       "      <td>N</td>\n",
       "      <td>0</td>\n",
       "      <td>0</td>\n",
       "      <td>3</td>\n",
       "    </tr>\n",
       "    <tr>\n",
       "      <th>88272</th>\n",
       "      <td>32979</td>\n",
       "      <td>2014-02-09</td>\n",
       "      <td>2</td>\n",
       "      <td>F</td>\n",
       "      <td>61</td>\n",
       "      <td>N</td>\n",
       "      <td>N</td>\n",
       "      <td>0</td>\n",
       "      <td>0</td>\n",
       "      <td>-2.592782</td>\n",
       "      <td>...</td>\n",
       "      <td>50</td>\n",
       "      <td>2</td>\n",
       "      <td>3</td>\n",
       "      <td>8000</td>\n",
       "      <td>4</td>\n",
       "      <td>1</td>\n",
       "      <td>N</td>\n",
       "      <td>0</td>\n",
       "      <td>0</td>\n",
       "      <td>2</td>\n",
       "    </tr>\n",
       "    <tr>\n",
       "      <th>17545</th>\n",
       "      <td>92275</td>\n",
       "      <td>2014-04-08</td>\n",
       "      <td>0</td>\n",
       "      <td>F</td>\n",
       "      <td>65</td>\n",
       "      <td>N</td>\n",
       "      <td>N</td>\n",
       "      <td>0</td>\n",
       "      <td>0</td>\n",
       "      <td>-0.938321</td>\n",
       "      <td>...</td>\n",
       "      <td>40</td>\n",
       "      <td>2</td>\n",
       "      <td>3</td>\n",
       "      <td>20000</td>\n",
       "      <td>1</td>\n",
       "      <td>4</td>\n",
       "      <td>N</td>\n",
       "      <td>1</td>\n",
       "      <td>1</td>\n",
       "      <td>4</td>\n",
       "    </tr>\n",
       "  </tbody>\n",
       "</table>\n",
       "<p>5 rows × 21 columns</p>\n",
       "</div>"
      ],
      "text/plain": [
       "       client_id   app_date  education sex  age car car_type  decline_app_cnt  \\\n",
       "76005      81951 2014-03-30          0   F   45   N        N                0   \n",
       "89710      37895 2014-02-14          0   F   25   Y        N                0   \n",
       "96065      64963 2014-03-14          0   F   31   N        N                0   \n",
       "88272      32979 2014-02-09          2   F   61   N        N                0   \n",
       "17545      92275 2014-04-08          0   F   65   N        N                0   \n",
       "\n",
       "       good_work  score_bki  ...  region_rating  home_address  work_address  \\\n",
       "76005          0  -1.573417  ...             50             1             2   \n",
       "89710          1  -1.397724  ...             60             1             1   \n",
       "96065          0  -1.123455  ...             40             1             2   \n",
       "88272          0  -2.592782  ...             50             2             3   \n",
       "17545          0  -0.938321  ...             40             2             3   \n",
       "\n",
       "       income  sna  first_time  foreign_passport default  train  app_month  \n",
       "76005   17000    1           4                 N       0      0          3  \n",
       "89710   33000    1           3                 N       0      0          2  \n",
       "96065   22000    1           2                 N       0      0          3  \n",
       "88272    8000    4           1                 N       0      0          2  \n",
       "17545   20000    1           4                 N       1      1          4  \n",
       "\n",
       "[5 rows x 21 columns]"
      ]
     },
     "execution_count": 29,
     "metadata": {},
     "output_type": "execute_result"
    }
   ],
   "source": [
    "data.sample(5)"
   ]
  },
  {
   "cell_type": "code",
   "execution_count": 30,
   "id": "acbfabcb",
   "metadata": {
    "execution": {
     "iopub.execute_input": "2021-08-05T10:07:02.429202Z",
     "iopub.status.busy": "2021-08-05T10:07:02.427874Z",
     "iopub.status.idle": "2021-08-05T10:07:02.599792Z",
     "shell.execute_reply": "2021-08-05T10:07:02.599156Z",
     "shell.execute_reply.started": "2021-08-05T09:52:00.215497Z"
    },
    "papermill": {
     "duration": 0.285276,
     "end_time": "2021-08-05T10:07:02.599948",
     "exception": false,
     "start_time": "2021-08-05T10:07:02.314672",
     "status": "completed"
    },
    "tags": []
   },
   "outputs": [
    {
     "data": {
      "image/png": "[encoded data removed]",
      "text/plain": [
       "<Figure size 432x288 with 1 Axes>"
      ]
     },
     "metadata": {
      "needs_background": "light"
     },
     "output_type": "display_data"
    }
   ],
   "source": [
    "# посмотрим количество недобросовестных клиентов\n",
    "data.default.hist();"
   ]
  },
  {
   "cell_type": "markdown",
   "id": "687d745d",
   "metadata": {
    "papermill": {
     "duration": 0.078868,
     "end_time": "2021-08-05T10:07:02.758007",
     "exception": false,
     "start_time": "2021-08-05T10:07:02.679139",
     "status": "completed"
    },
    "tags": []
   },
   "source": [
    "#### Разделим колонки по категориям: числовые, категориальные, бинарные"
   ]
  },
  {
   "cell_type": "code",
   "execution_count": 31,
   "id": "c69b97c6",
   "metadata": {
    "execution": {
     "iopub.execute_input": "2021-08-05T10:07:02.924001Z",
     "iopub.status.busy": "2021-08-05T10:07:02.923020Z",
     "iopub.status.idle": "2021-08-05T10:07:02.926089Z",
     "shell.execute_reply": "2021-08-05T10:07:02.926594Z",
     "shell.execute_reply.started": "2021-08-05T09:52:00.409503Z"
    },
    "papermill": {
     "duration": 0.088073,
     "end_time": "2021-08-05T10:07:02.926772",
     "exception": false,
     "start_time": "2021-08-05T10:07:02.838699",
     "status": "completed"
    },
    "tags": []
   },
   "outputs": [],
   "source": [
    "num_cols = ['age','decline_app_cnt','bki_request_cnt', 'income', 'score_bki'] #числовые переменные\n",
    "cat_cols = ['education','work_address', 'home_address', 'sna', 'first_time', 'app_month', 'region_rating'] #категориальные переменные\n",
    "bin_cols = ['sex','car','car_type','foreign_passport', 'good_work'] #бинарные переменные"
   ]
  },
  {
   "cell_type": "markdown",
   "id": "6755b056",
   "metadata": {
    "papermill": {
     "duration": 0.079427,
     "end_time": "2021-08-05T10:07:03.085059",
     "exception": false,
     "start_time": "2021-08-05T10:07:03.005632",
     "status": "completed"
    },
    "tags": []
   },
   "source": [
    "#### Рассмотрим числовые признаки"
   ]
  },
  {
   "cell_type": "code",
   "execution_count": 32,
   "id": "8dd8c27d",
   "metadata": {
    "execution": {
     "iopub.execute_input": "2021-08-05T10:07:03.250157Z",
     "iopub.status.busy": "2021-08-05T10:07:03.249373Z",
     "iopub.status.idle": "2021-08-05T10:07:04.659795Z",
     "shell.execute_reply": "2021-08-05T10:07:04.659246Z",
     "shell.execute_reply.started": "2021-08-05T09:52:00.417459Z"
    },
    "papermill": {
     "duration": 1.49537,
     "end_time": "2021-08-05T10:07:04.659931",
     "exception": false,
     "start_time": "2021-08-05T10:07:03.164561",
     "status": "completed"
    },
    "tags": []
   },
   "outputs": [
    {
     "name": "stderr",
     "output_type": "stream",
     "text": [
      "/opt/conda/lib/python3.7/site-packages/seaborn/distributions.py:2557: FutureWarning: `distplot` is a deprecated function and will be removed in a future version. Please adapt your code to use either `displot` (a figure-level function with similar flexibility) or `histplot` (an axes-level function for histograms).\n",
      "  warnings.warn(msg, FutureWarning)\n"
     ]
    },
    {
     "data": {
      "image/png": "[encoded data removed]",
      "text/plain": [
       "<Figure size 432x288 with 1 Axes>"
      ]
     },
     "metadata": {
      "needs_background": "light"
     },
     "output_type": "display_data"
    },
    {
     "data": {
      "image/png": "[encoded data removed]",
      "text/plain": [
       "<Figure size 432x288 with 1 Axes>"
      ]
     },
     "metadata": {
      "needs_background": "light"
     },
     "output_type": "display_data"
    },
    {
     "data": {
      "image/png": "[encoded data removed]",
      "text/plain": [
       "<Figure size 432x288 with 1 Axes>"
      ]
     },
     "metadata": {
      "needs_background": "light"
     },
     "output_type": "display_data"
    },
    {
     "data": {
      "image/png": "[encoded data removed]",
      "text/plain": [
       "<Figure size 432x288 with 1 Axes>"
      ]
     },
     "metadata": {
      "needs_background": "light"
     },
     "output_type": "display_data"
    },
    {
     "data": {
      "image/png": "[encoded data removed]",
      "text/plain": [
       "<Figure size 432x288 with 1 Axes>"
      ]
     },
     "metadata": {
      "needs_background": "light"
     },
     "output_type": "display_data"
    }
   ],
   "source": [
    "for i in num_cols:\n",
    "    plt.figure()\n",
    "    sns.distplot(data[i], kde=False, rug=False)\n",
    "    plt.title(i)\n",
    "    plt.show()"
   ]
  },
  {
   "cell_type": "markdown",
   "id": "b3e92978",
   "metadata": {
    "execution": {
     "iopub.execute_input": "2021-08-03T14:34:11.227658Z",
     "iopub.status.busy": "2021-08-03T14:34:11.227368Z",
     "iopub.status.idle": "2021-08-03T14:34:11.231556Z",
     "shell.execute_reply": "2021-08-03T14:34:11.230432Z",
     "shell.execute_reply.started": "2021-08-03T14:34:11.22763Z"
    },
    "papermill": {
     "duration": 0.083278,
     "end_time": "2021-08-05T10:07:04.825595",
     "exception": false,
     "start_time": "2021-08-05T10:07:04.742317",
     "status": "completed"
    },
    "tags": []
   },
   "source": [
    "Большинство переменных (кроме <span style=\"color: green;\">score_bki</span>) распределены ненормально, поэтому их можно попробовать прологарифмировать для нормализации. "
   ]
  },
  {
   "cell_type": "code",
   "execution_count": 33,
   "id": "47bc40c0",
   "metadata": {
    "execution": {
     "iopub.execute_input": "2021-08-05T10:07:04.999870Z",
     "iopub.status.busy": "2021-08-05T10:07:04.999074Z",
     "iopub.status.idle": "2021-08-05T10:07:06.114554Z",
     "shell.execute_reply": "2021-08-05T10:07:06.113791Z",
     "shell.execute_reply.started": "2021-08-05T09:52:01.641359Z"
    },
    "papermill": {
     "duration": 1.206563,
     "end_time": "2021-08-05T10:07:06.114717",
     "exception": false,
     "start_time": "2021-08-05T10:07:04.908154",
     "status": "completed"
    },
    "tags": []
   },
   "outputs": [
    {
     "name": "stderr",
     "output_type": "stream",
     "text": [
      "/opt/conda/lib/python3.7/site-packages/seaborn/distributions.py:2557: FutureWarning: `distplot` is a deprecated function and will be removed in a future version. Please adapt your code to use either `displot` (a figure-level function with similar flexibility) or `histplot` (an axes-level function for histograms).\n",
      "  warnings.warn(msg, FutureWarning)\n"
     ]
    },
    {
     "data": {
      "image/png": "[encoded data removed]",
      "text/plain": [
       "<Figure size 432x288 with 1 Axes>"
      ]
     },
     "metadata": {
      "needs_background": "light"
     },
     "output_type": "display_data"
    },
    {
     "name": "stderr",
     "output_type": "stream",
     "text": [
      "/opt/conda/lib/python3.7/site-packages/seaborn/distributions.py:2557: FutureWarning: `distplot` is a deprecated function and will be removed in a future version. Please adapt your code to use either `displot` (a figure-level function with similar flexibility) or `histplot` (an axes-level function for histograms).\n",
      "  warnings.warn(msg, FutureWarning)\n"
     ]
    },
    {
     "data": {
      "image/png": "[encoded data removed]",
      "text/plain": [
       "<Figure size 432x288 with 1 Axes>"
      ]
     },
     "metadata": {
      "needs_background": "light"
     },
     "output_type": "display_data"
    },
    {
     "name": "stderr",
     "output_type": "stream",
     "text": [
      "/opt/conda/lib/python3.7/site-packages/seaborn/distributions.py:2557: FutureWarning: `distplot` is a deprecated function and will be removed in a future version. Please adapt your code to use either `displot` (a figure-level function with similar flexibility) or `histplot` (an axes-level function for histograms).\n",
      "  warnings.warn(msg, FutureWarning)\n"
     ]
    },
    {
     "data": {
      "image/png": "[encoded data removed]",
      "text/plain": [
       "<Figure size 432x288 with 1 Axes>"
      ]
     },
     "metadata": {
      "needs_background": "light"
     },
     "output_type": "display_data"
    },
    {
     "name": "stderr",
     "output_type": "stream",
     "text": [
      "/opt/conda/lib/python3.7/site-packages/seaborn/distributions.py:2557: FutureWarning: `distplot` is a deprecated function and will be removed in a future version. Please adapt your code to use either `displot` (a figure-level function with similar flexibility) or `histplot` (an axes-level function for histograms).\n",
      "  warnings.warn(msg, FutureWarning)\n"
     ]
    },
    {
     "data": {
      "image/png": "[encoded data removed]",
      "text/plain": [
       "<Figure size 432x288 with 1 Axes>"
      ]
     },
     "metadata": {
      "needs_background": "light"
     },
     "output_type": "display_data"
    }
   ],
   "source": [
    "# логарифмируем остальные числовые переменные\n",
    "log_num_cols = ['age', 'decline_app_cnt', 'bki_request_cnt', 'income']\n",
    "\n",
    "for i in log_num_cols:\n",
    "    #зачем к логарифму добавляем 1 - чтобы если в df[i] был 0, то натуральный логарифм нуля - минус бесконечность\n",
    "    data[i] = np.log(data[i]+1)\n",
    "    plt.figure()\n",
    "    sns.distplot(data[i][data[i] > 0].dropna(), kde = False, rug=False, color='b')\n",
    "    plt.title(i)\n",
    "    plt.show()"
   ]
  },
  {
   "cell_type": "code",
   "execution_count": 34,
   "id": "ca878865",
   "metadata": {
    "execution": {
     "iopub.execute_input": "2021-08-05T10:07:06.484165Z",
     "iopub.status.busy": "2021-08-05T10:07:06.473258Z",
     "iopub.status.idle": "2021-08-05T10:07:07.819058Z",
     "shell.execute_reply": "2021-08-05T10:07:07.818528Z",
     "shell.execute_reply.started": "2021-08-05T09:52:02.669887Z"
    },
    "papermill": {
     "duration": 1.611661,
     "end_time": "2021-08-05T10:07:07.819234",
     "exception": false,
     "start_time": "2021-08-05T10:07:06.207573",
     "status": "completed"
    },
    "tags": []
   },
   "outputs": [
    {
     "data": {
      "image/png": "[encoded data removed]",
      "text/plain": [
       "<Figure size 432x288 with 1 Axes>"
      ]
     },
     "metadata": {
      "needs_background": "light"
     },
     "output_type": "display_data"
    },
    {
     "data": {
      "image/png": "[encoded data removed]",
      "text/plain": [
       "<Figure size 432x288 with 1 Axes>"
      ]
     },
     "metadata": {
      "needs_background": "light"
     },
     "output_type": "display_data"
    },
    {
     "data": {
      "image/png": "[encoded data removed]",
      "text/plain": [
       "<Figure size 432x288 with 1 Axes>"
      ]
     },
     "metadata": {
      "needs_background": "light"
     },
     "output_type": "display_data"
    },
    {
     "data": {
      "image/png": "[encoded data removed]",
      "text/plain": [
       "<Figure size 432x288 with 1 Axes>"
      ]
     },
     "metadata": {
      "needs_background": "light"
     },
     "output_type": "display_data"
    },
    {
     "data": {
      "image/png": "[encoded data removed]",
      "text/plain": [
       "<Figure size 432x288 with 1 Axes>"
      ]
     },
     "metadata": {
      "needs_background": "light"
     },
     "output_type": "display_data"
    }
   ],
   "source": [
    "# проверим, что получилось и перезапишем список с числовыми признаками\n",
    "num_cols = ['age', 'decline_app_cnt', 'bki_request_cnt', 'income', 'score_bki']\n",
    "\n",
    "for i in num_cols:\n",
    "    plt.figure()\n",
    "    sns.distplot(data[i], kde=False, rug=False)\n",
    "    plt.title(i)\n",
    "    plt.show()"
   ]
  },
  {
   "cell_type": "markdown",
   "id": "0e8b7ae1",
   "metadata": {
    "papermill": {
     "duration": 0.090809,
     "end_time": "2021-08-05T10:07:08.000621",
     "exception": false,
     "start_time": "2021-08-05T10:07:07.909812",
     "status": "completed"
    },
    "tags": []
   },
   "source": [
    "Признаки <span style=\"color: green;\">age</span> и <span style=\"color: green;\">income</span> стали ближе к нормальному распределению, для <span style=\"color: green;\">decline_app_cnt</span>decline_app_cnt и <span style=\"color: green;\">bki_request_cnt</span>bki_request_cnt нормальности добиться не удалось, хотя их распределения все равно улучшились"
   ]
  },
  {
   "cell_type": "code",
   "execution_count": 35,
   "id": "7287f4ad",
   "metadata": {
    "execution": {
     "iopub.execute_input": "2021-08-05T10:07:08.243546Z",
     "iopub.status.busy": "2021-08-05T10:07:08.242807Z",
     "iopub.status.idle": "2021-08-05T10:07:08.327898Z",
     "shell.execute_reply": "2021-08-05T10:07:08.328441Z",
     "shell.execute_reply.started": "2021-08-05T09:52:04.080229Z"
    },
    "papermill": {
     "duration": 0.235884,
     "end_time": "2021-08-05T10:07:08.328633",
     "exception": false,
     "start_time": "2021-08-05T10:07:08.092749",
     "status": "completed"
    },
    "tags": []
   },
   "outputs": [
    {
     "data": {
      "text/html": [
       "<div>\n",
       "<style scoped>\n",
       "    .dataframe tbody tr th:only-of-type {\n",
       "        vertical-align: middle;\n",
       "    }\n",
       "\n",
       "    .dataframe tbody tr th {\n",
       "        vertical-align: top;\n",
       "    }\n",
       "\n",
       "    .dataframe thead th {\n",
       "        text-align: right;\n",
       "    }\n",
       "</style>\n",
       "<table border=\"1\" class=\"dataframe\">\n",
       "  <thead>\n",
       "    <tr style=\"text-align: right;\">\n",
       "      <th></th>\n",
       "      <th>client_id</th>\n",
       "      <th>app_date</th>\n",
       "      <th>education</th>\n",
       "      <th>sex</th>\n",
       "      <th>age</th>\n",
       "      <th>car</th>\n",
       "      <th>car_type</th>\n",
       "      <th>decline_app_cnt</th>\n",
       "      <th>good_work</th>\n",
       "      <th>score_bki</th>\n",
       "      <th>...</th>\n",
       "      <th>region_rating</th>\n",
       "      <th>home_address</th>\n",
       "      <th>work_address</th>\n",
       "      <th>income</th>\n",
       "      <th>sna</th>\n",
       "      <th>first_time</th>\n",
       "      <th>foreign_passport</th>\n",
       "      <th>default</th>\n",
       "      <th>train</th>\n",
       "      <th>app_month</th>\n",
       "    </tr>\n",
       "  </thead>\n",
       "  <tbody>\n",
       "    <tr>\n",
       "      <th>0</th>\n",
       "      <td>25905</td>\n",
       "      <td>2014-02-01</td>\n",
       "      <td>0</td>\n",
       "      <td>M</td>\n",
       "      <td>4.143135</td>\n",
       "      <td>Y</td>\n",
       "      <td>Y</td>\n",
       "      <td>0.000000</td>\n",
       "      <td>0</td>\n",
       "      <td>-2.008753</td>\n",
       "      <td>...</td>\n",
       "      <td>50</td>\n",
       "      <td>1</td>\n",
       "      <td>2</td>\n",
       "      <td>9.798183</td>\n",
       "      <td>4</td>\n",
       "      <td>1</td>\n",
       "      <td>N</td>\n",
       "      <td>0</td>\n",
       "      <td>1</td>\n",
       "      <td>2</td>\n",
       "    </tr>\n",
       "    <tr>\n",
       "      <th>1</th>\n",
       "      <td>63161</td>\n",
       "      <td>2014-03-12</td>\n",
       "      <td>0</td>\n",
       "      <td>F</td>\n",
       "      <td>4.094345</td>\n",
       "      <td>N</td>\n",
       "      <td>N</td>\n",
       "      <td>0.000000</td>\n",
       "      <td>0</td>\n",
       "      <td>-1.532276</td>\n",
       "      <td>...</td>\n",
       "      <td>50</td>\n",
       "      <td>2</td>\n",
       "      <td>3</td>\n",
       "      <td>9.852247</td>\n",
       "      <td>4</td>\n",
       "      <td>1</td>\n",
       "      <td>N</td>\n",
       "      <td>0</td>\n",
       "      <td>1</td>\n",
       "      <td>3</td>\n",
       "    </tr>\n",
       "    <tr>\n",
       "      <th>2</th>\n",
       "      <td>25887</td>\n",
       "      <td>2014-02-01</td>\n",
       "      <td>0</td>\n",
       "      <td>M</td>\n",
       "      <td>3.258097</td>\n",
       "      <td>Y</td>\n",
       "      <td>N</td>\n",
       "      <td>1.098612</td>\n",
       "      <td>0</td>\n",
       "      <td>-1.408142</td>\n",
       "      <td>...</td>\n",
       "      <td>80</td>\n",
       "      <td>1</td>\n",
       "      <td>2</td>\n",
       "      <td>10.308986</td>\n",
       "      <td>1</td>\n",
       "      <td>4</td>\n",
       "      <td>Y</td>\n",
       "      <td>0</td>\n",
       "      <td>1</td>\n",
       "      <td>2</td>\n",
       "    </tr>\n",
       "    <tr>\n",
       "      <th>3</th>\n",
       "      <td>16222</td>\n",
       "      <td>2014-01-23</td>\n",
       "      <td>0</td>\n",
       "      <td>F</td>\n",
       "      <td>3.988984</td>\n",
       "      <td>N</td>\n",
       "      <td>N</td>\n",
       "      <td>0.000000</td>\n",
       "      <td>0</td>\n",
       "      <td>-2.057471</td>\n",
       "      <td>...</td>\n",
       "      <td>50</td>\n",
       "      <td>2</td>\n",
       "      <td>3</td>\n",
       "      <td>9.210440</td>\n",
       "      <td>1</td>\n",
       "      <td>3</td>\n",
       "      <td>N</td>\n",
       "      <td>0</td>\n",
       "      <td>1</td>\n",
       "      <td>1</td>\n",
       "    </tr>\n",
       "    <tr>\n",
       "      <th>4</th>\n",
       "      <td>101655</td>\n",
       "      <td>2014-04-18</td>\n",
       "      <td>2</td>\n",
       "      <td>M</td>\n",
       "      <td>3.891820</td>\n",
       "      <td>N</td>\n",
       "      <td>N</td>\n",
       "      <td>0.000000</td>\n",
       "      <td>1</td>\n",
       "      <td>-1.244723</td>\n",
       "      <td>...</td>\n",
       "      <td>60</td>\n",
       "      <td>2</td>\n",
       "      <td>3</td>\n",
       "      <td>10.308986</td>\n",
       "      <td>1</td>\n",
       "      <td>4</td>\n",
       "      <td>Y</td>\n",
       "      <td>0</td>\n",
       "      <td>1</td>\n",
       "      <td>4</td>\n",
       "    </tr>\n",
       "    <tr>\n",
       "      <th>...</th>\n",
       "      <td>...</td>\n",
       "      <td>...</td>\n",
       "      <td>...</td>\n",
       "      <td>...</td>\n",
       "      <td>...</td>\n",
       "      <td>...</td>\n",
       "      <td>...</td>\n",
       "      <td>...</td>\n",
       "      <td>...</td>\n",
       "      <td>...</td>\n",
       "      <td>...</td>\n",
       "      <td>...</td>\n",
       "      <td>...</td>\n",
       "      <td>...</td>\n",
       "      <td>...</td>\n",
       "      <td>...</td>\n",
       "      <td>...</td>\n",
       "      <td>...</td>\n",
       "      <td>...</td>\n",
       "      <td>...</td>\n",
       "      <td>...</td>\n",
       "    </tr>\n",
       "    <tr>\n",
       "      <th>73794</th>\n",
       "      <td>54887</td>\n",
       "      <td>2014-03-04</td>\n",
       "      <td>2</td>\n",
       "      <td>F</td>\n",
       "      <td>3.828641</td>\n",
       "      <td>N</td>\n",
       "      <td>N</td>\n",
       "      <td>0.000000</td>\n",
       "      <td>0</td>\n",
       "      <td>-1.792064</td>\n",
       "      <td>...</td>\n",
       "      <td>50</td>\n",
       "      <td>1</td>\n",
       "      <td>2</td>\n",
       "      <td>9.741027</td>\n",
       "      <td>4</td>\n",
       "      <td>4</td>\n",
       "      <td>N</td>\n",
       "      <td>0</td>\n",
       "      <td>1</td>\n",
       "      <td>3</td>\n",
       "    </tr>\n",
       "    <tr>\n",
       "      <th>73795</th>\n",
       "      <td>76821</td>\n",
       "      <td>2014-03-24</td>\n",
       "      <td>0</td>\n",
       "      <td>M</td>\n",
       "      <td>3.737670</td>\n",
       "      <td>Y</td>\n",
       "      <td>Y</td>\n",
       "      <td>0.000000</td>\n",
       "      <td>0</td>\n",
       "      <td>-2.058029</td>\n",
       "      <td>...</td>\n",
       "      <td>50</td>\n",
       "      <td>2</td>\n",
       "      <td>2</td>\n",
       "      <td>11.156265</td>\n",
       "      <td>1</td>\n",
       "      <td>4</td>\n",
       "      <td>N</td>\n",
       "      <td>0</td>\n",
       "      <td>1</td>\n",
       "      <td>3</td>\n",
       "    </tr>\n",
       "    <tr>\n",
       "      <th>73796</th>\n",
       "      <td>103695</td>\n",
       "      <td>2014-04-22</td>\n",
       "      <td>0</td>\n",
       "      <td>M</td>\n",
       "      <td>3.465736</td>\n",
       "      <td>N</td>\n",
       "      <td>N</td>\n",
       "      <td>0.000000</td>\n",
       "      <td>0</td>\n",
       "      <td>-1.512635</td>\n",
       "      <td>...</td>\n",
       "      <td>80</td>\n",
       "      <td>2</td>\n",
       "      <td>3</td>\n",
       "      <td>10.714440</td>\n",
       "      <td>2</td>\n",
       "      <td>2</td>\n",
       "      <td>N</td>\n",
       "      <td>0</td>\n",
       "      <td>1</td>\n",
       "      <td>4</td>\n",
       "    </tr>\n",
       "    <tr>\n",
       "      <th>73797</th>\n",
       "      <td>861</td>\n",
       "      <td>2014-01-04</td>\n",
       "      <td>0</td>\n",
       "      <td>F</td>\n",
       "      <td>3.401197</td>\n",
       "      <td>N</td>\n",
       "      <td>N</td>\n",
       "      <td>0.000000</td>\n",
       "      <td>1</td>\n",
       "      <td>-1.479334</td>\n",
       "      <td>...</td>\n",
       "      <td>50</td>\n",
       "      <td>1</td>\n",
       "      <td>3</td>\n",
       "      <td>9.472782</td>\n",
       "      <td>2</td>\n",
       "      <td>3</td>\n",
       "      <td>N</td>\n",
       "      <td>1</td>\n",
       "      <td>1</td>\n",
       "      <td>1</td>\n",
       "    </tr>\n",
       "    <tr>\n",
       "      <th>73798</th>\n",
       "      <td>15796</td>\n",
       "      <td>2014-01-23</td>\n",
       "      <td>2</td>\n",
       "      <td>M</td>\n",
       "      <td>3.555348</td>\n",
       "      <td>N</td>\n",
       "      <td>N</td>\n",
       "      <td>0.000000</td>\n",
       "      <td>0</td>\n",
       "      <td>-1.764711</td>\n",
       "      <td>...</td>\n",
       "      <td>50</td>\n",
       "      <td>2</td>\n",
       "      <td>3</td>\n",
       "      <td>10.126671</td>\n",
       "      <td>1</td>\n",
       "      <td>3</td>\n",
       "      <td>N</td>\n",
       "      <td>0</td>\n",
       "      <td>1</td>\n",
       "      <td>1</td>\n",
       "    </tr>\n",
       "  </tbody>\n",
       "</table>\n",
       "<p>73799 rows × 21 columns</p>\n",
       "</div>"
      ],
      "text/plain": [
       "       client_id   app_date  education sex       age car car_type  \\\n",
       "0          25905 2014-02-01          0   M  4.143135   Y        Y   \n",
       "1          63161 2014-03-12          0   F  4.094345   N        N   \n",
       "2          25887 2014-02-01          0   M  3.258097   Y        N   \n",
       "3          16222 2014-01-23          0   F  3.988984   N        N   \n",
       "4         101655 2014-04-18          2   M  3.891820   N        N   \n",
       "...          ...        ...        ...  ..       ...  ..      ...   \n",
       "73794      54887 2014-03-04          2   F  3.828641   N        N   \n",
       "73795      76821 2014-03-24          0   M  3.737670   Y        Y   \n",
       "73796     103695 2014-04-22          0   M  3.465736   N        N   \n",
       "73797        861 2014-01-04          0   F  3.401197   N        N   \n",
       "73798      15796 2014-01-23          2   M  3.555348   N        N   \n",
       "\n",
       "       decline_app_cnt  good_work  score_bki  ...  region_rating  \\\n",
       "0             0.000000          0  -2.008753  ...             50   \n",
       "1             0.000000          0  -1.532276  ...             50   \n",
       "2             1.098612          0  -1.408142  ...             80   \n",
       "3             0.000000          0  -2.057471  ...             50   \n",
       "4             0.000000          1  -1.244723  ...             60   \n",
       "...                ...        ...        ...  ...            ...   \n",
       "73794         0.000000          0  -1.792064  ...             50   \n",
       "73795         0.000000          0  -2.058029  ...             50   \n",
       "73796         0.000000          0  -1.512635  ...             80   \n",
       "73797         0.000000          1  -1.479334  ...             50   \n",
       "73798         0.000000          0  -1.764711  ...             50   \n",
       "\n",
       "       home_address  work_address     income  sna  first_time  \\\n",
       "0                 1             2   9.798183    4           1   \n",
       "1                 2             3   9.852247    4           1   \n",
       "2                 1             2  10.308986    1           4   \n",
       "3                 2             3   9.210440    1           3   \n",
       "4                 2             3  10.308986    1           4   \n",
       "...             ...           ...        ...  ...         ...   \n",
       "73794             1             2   9.741027    4           4   \n",
       "73795             2             2  11.156265    1           4   \n",
       "73796             2             3  10.714440    2           2   \n",
       "73797             1             3   9.472782    2           3   \n",
       "73798             2             3  10.126671    1           3   \n",
       "\n",
       "       foreign_passport default  train  app_month  \n",
       "0                     N       0      1          2  \n",
       "1                     N       0      1          3  \n",
       "2                     Y       0      1          2  \n",
       "3                     N       0      1          1  \n",
       "4                     Y       0      1          4  \n",
       "...                 ...     ...    ...        ...  \n",
       "73794                 N       0      1          3  \n",
       "73795                 N       0      1          3  \n",
       "73796                 N       0      1          4  \n",
       "73797                 N       1      1          1  \n",
       "73798                 N       0      1          1  \n",
       "\n",
       "[73799 rows x 21 columns]"
      ]
     },
     "execution_count": 35,
     "metadata": {},
     "output_type": "execute_result"
    }
   ],
   "source": [
    "# Для удобства выделим отдельно тренировочный сет: \n",
    "data_train = data[data['train']==1]\n",
    "data_train\n"
   ]
  },
  {
   "cell_type": "code",
   "execution_count": 36,
   "id": "2449a907",
   "metadata": {
    "execution": {
     "iopub.execute_input": "2021-08-05T10:07:08.533567Z",
     "iopub.status.busy": "2021-08-05T10:07:08.532871Z",
     "iopub.status.idle": "2021-08-05T10:07:09.052326Z",
     "shell.execute_reply": "2021-08-05T10:07:09.052837Z",
     "shell.execute_reply.started": "2021-08-05T09:52:04.162166Z"
    },
    "papermill": {
     "duration": 0.625905,
     "end_time": "2021-08-05T10:07:09.053034",
     "exception": false,
     "start_time": "2021-08-05T10:07:08.427129",
     "status": "completed"
    },
    "tags": []
   },
   "outputs": [
    {
     "data": {
      "text/plain": [
       "<AxesSubplot:>"
      ]
     },
     "execution_count": 36,
     "metadata": {},
     "output_type": "execute_result"
    },
    {
     "data": {
      "image/png": "[encoded data removed]",
      "text/plain": [
       "<Figure size 720x576 with 2 Axes>"
      ]
     },
     "metadata": {
      "needs_background": "light"
     },
     "output_type": "display_data"
    }
   ],
   "source": [
    "# построим матрицу корреляций для числовых признаков в тренировочной выборке\n",
    "plt.figure(figsize=(10,8))\n",
    "sns.heatmap(data_train[(num_cols+['default'])].corr(), cmap='coolwarm', annot=True)"
   ]
  },
  {
   "cell_type": "code",
   "execution_count": 37,
   "id": "6c3b428c",
   "metadata": {
    "execution": {
     "iopub.execute_input": "2021-08-05T10:07:09.241605Z",
     "iopub.status.busy": "2021-08-05T10:07:09.240873Z",
     "iopub.status.idle": "2021-08-05T10:07:09.267529Z",
     "shell.execute_reply": "2021-08-05T10:07:09.268092Z",
     "shell.execute_reply.started": "2021-08-05T09:52:04.682517Z"
    },
    "papermill": {
     "duration": 0.122109,
     "end_time": "2021-08-05T10:07:09.268279",
     "exception": false,
     "start_time": "2021-08-05T10:07:09.146170",
     "status": "completed"
    },
    "tags": []
   },
   "outputs": [
    {
     "data": {
      "text/html": [
       "<div>\n",
       "<style scoped>\n",
       "    .dataframe tbody tr th:only-of-type {\n",
       "        vertical-align: middle;\n",
       "    }\n",
       "\n",
       "    .dataframe tbody tr th {\n",
       "        vertical-align: top;\n",
       "    }\n",
       "\n",
       "    .dataframe thead th {\n",
       "        text-align: right;\n",
       "    }\n",
       "</style>\n",
       "<table border=\"1\" class=\"dataframe\">\n",
       "  <thead>\n",
       "    <tr style=\"text-align: right;\">\n",
       "      <th></th>\n",
       "      <th>age</th>\n",
       "      <th>decline_app_cnt</th>\n",
       "      <th>bki_request_cnt</th>\n",
       "      <th>income</th>\n",
       "      <th>score_bki</th>\n",
       "      <th>default</th>\n",
       "    </tr>\n",
       "  </thead>\n",
       "  <tbody>\n",
       "    <tr>\n",
       "      <th>age</th>\n",
       "      <td>1.000000</td>\n",
       "      <td>-0.127734</td>\n",
       "      <td>0.049327</td>\n",
       "      <td>-0.092586</td>\n",
       "      <td>-0.109971</td>\n",
       "      <td>-0.026119</td>\n",
       "    </tr>\n",
       "    <tr>\n",
       "      <th>decline_app_cnt</th>\n",
       "      <td>-0.127734</td>\n",
       "      <td>1.000000</td>\n",
       "      <td>0.125163</td>\n",
       "      <td>-0.013868</td>\n",
       "      <td>0.210090</td>\n",
       "      <td>0.124027</td>\n",
       "    </tr>\n",
       "    <tr>\n",
       "      <th>bki_request_cnt</th>\n",
       "      <td>0.049327</td>\n",
       "      <td>0.125163</td>\n",
       "      <td>1.000000</td>\n",
       "      <td>0.081019</td>\n",
       "      <td>0.139622</td>\n",
       "      <td>0.078501</td>\n",
       "    </tr>\n",
       "    <tr>\n",
       "      <th>income</th>\n",
       "      <td>-0.092586</td>\n",
       "      <td>-0.013868</td>\n",
       "      <td>0.081019</td>\n",
       "      <td>1.000000</td>\n",
       "      <td>0.002860</td>\n",
       "      <td>-0.053871</td>\n",
       "    </tr>\n",
       "    <tr>\n",
       "      <th>score_bki</th>\n",
       "      <td>-0.109971</td>\n",
       "      <td>0.210090</td>\n",
       "      <td>0.139622</td>\n",
       "      <td>0.002860</td>\n",
       "      <td>1.000000</td>\n",
       "      <td>0.175369</td>\n",
       "    </tr>\n",
       "    <tr>\n",
       "      <th>default</th>\n",
       "      <td>-0.026119</td>\n",
       "      <td>0.124027</td>\n",
       "      <td>0.078501</td>\n",
       "      <td>-0.053871</td>\n",
       "      <td>0.175369</td>\n",
       "      <td>1.000000</td>\n",
       "    </tr>\n",
       "  </tbody>\n",
       "</table>\n",
       "</div>"
      ],
      "text/plain": [
       "                      age  decline_app_cnt  bki_request_cnt    income  \\\n",
       "age              1.000000        -0.127734         0.049327 -0.092586   \n",
       "decline_app_cnt -0.127734         1.000000         0.125163 -0.013868   \n",
       "bki_request_cnt  0.049327         0.125163         1.000000  0.081019   \n",
       "income          -0.092586        -0.013868         0.081019  1.000000   \n",
       "score_bki       -0.109971         0.210090         0.139622  0.002860   \n",
       "default         -0.026119         0.124027         0.078501 -0.053871   \n",
       "\n",
       "                 score_bki   default  \n",
       "age              -0.109971 -0.026119  \n",
       "decline_app_cnt   0.210090  0.124027  \n",
       "bki_request_cnt   0.139622  0.078501  \n",
       "income            0.002860 -0.053871  \n",
       "score_bki         1.000000  0.175369  \n",
       "default           0.175369  1.000000  "
      ]
     },
     "execution_count": 37,
     "metadata": {},
     "output_type": "execute_result"
    }
   ],
   "source": [
    "data_train[num_cols+['default']].corr()"
   ]
  },
  {
   "cell_type": "markdown",
   "id": "f27f1976",
   "metadata": {
    "papermill": {
     "duration": 0.093031,
     "end_time": "2021-08-05T10:07:09.457050",
     "exception": false,
     "start_time": "2021-08-05T10:07:09.364019",
     "status": "completed"
    },
    "tags": []
   },
   "source": [
    "Исходя из матрицы корреляций можно заметить, что взаимосвязь между переменными слабая, наибольшее значение наблюдается между переменными <span style=\"color: green;\">score_bki</span> и <span style=\"color: green;\">decline_app_cnt</span> - корреляция составляет 0.21. При чем эти переменные оказывают наибольшее влияние (если рассматривать линейную зависимость) на зависимую переменную: <span style=\"color: green;\">score_bki</span> (0.17), <span style=\"color: green;\">decline_app_cnt</span> (0.12). "
   ]
  },
  {
   "cell_type": "code",
   "execution_count": 38,
   "id": "036bd9c6",
   "metadata": {
    "execution": {
     "iopub.execute_input": "2021-08-05T10:07:09.652497Z",
     "iopub.status.busy": "2021-08-05T10:07:09.651753Z",
     "iopub.status.idle": "2021-08-05T10:07:09.821669Z",
     "shell.execute_reply": "2021-08-05T10:07:09.821046Z",
     "shell.execute_reply.started": "2021-08-05T09:52:04.713812Z"
    },
    "papermill": {
     "duration": 0.27203,
     "end_time": "2021-08-05T10:07:09.821814",
     "exception": false,
     "start_time": "2021-08-05T10:07:09.549784",
     "status": "completed"
    },
    "tags": []
   },
   "outputs": [
    {
     "data": {
      "text/plain": [
       "<AxesSubplot:>"
      ]
     },
     "execution_count": 38,
     "metadata": {},
     "output_type": "execute_result"
    },
    {
     "data": {
      "image/png": "[encoded data removed]",
      "text/plain": [
       "<Figure size 432x288 with 1 Axes>"
      ]
     },
     "metadata": {
      "needs_background": "light"
     },
     "output_type": "display_data"
    }
   ],
   "source": [
    "# Оценим значимость непрерывных переменных\n",
    "imp_num = Series(f_classif(data_train[num_cols], data_train['default'])[0], index = num_cols)\n",
    "imp_num.sort_values(inplace = True)\n",
    "imp_num.plot(kind = 'barh')"
   ]
  },
  {
   "cell_type": "markdown",
   "id": "51402e84",
   "metadata": {
    "papermill": {
     "duration": 0.095848,
     "end_time": "2021-08-05T10:07:10.011147",
     "exception": false,
     "start_time": "2021-08-05T10:07:09.915299",
     "status": "completed"
    },
    "tags": []
   },
   "source": [
    "#### По значимости (функция <span style=\"color: purple;\">**imp_num**</span>) наиболее значимымы являются все те же переменные <span style=\"color: green;\">score_bki</span> и <span style=\"color: green;\">decline_app_cnt</span>"
   ]
  },
  {
   "cell_type": "markdown",
   "id": "210195bb",
   "metadata": {
    "papermill": {
     "duration": 0.094569,
     "end_time": "2021-08-05T10:07:10.200552",
     "exception": false,
     "start_time": "2021-08-05T10:07:10.105983",
     "status": "completed"
    },
    "tags": []
   },
   "source": [
    "#### Рассмотрим бинарные переменные"
   ]
  },
  {
   "cell_type": "code",
   "execution_count": 39,
   "id": "e6af1dbc",
   "metadata": {
    "execution": {
     "iopub.execute_input": "2021-08-05T10:07:10.430858Z",
     "iopub.status.busy": "2021-08-05T10:07:10.430061Z",
     "iopub.status.idle": "2021-08-05T10:07:10.570598Z",
     "shell.execute_reply": "2021-08-05T10:07:10.570024Z",
     "shell.execute_reply.started": "2021-08-05T09:52:04.879697Z"
    },
    "papermill": {
     "duration": 0.275998,
     "end_time": "2021-08-05T10:07:10.570745",
     "exception": false,
     "start_time": "2021-08-05T10:07:10.294747",
     "status": "completed"
    },
    "tags": []
   },
   "outputs": [
    {
     "data": {
      "text/html": [
       "<div>\n",
       "<style scoped>\n",
       "    .dataframe tbody tr th:only-of-type {\n",
       "        vertical-align: middle;\n",
       "    }\n",
       "\n",
       "    .dataframe tbody tr th {\n",
       "        vertical-align: top;\n",
       "    }\n",
       "\n",
       "    .dataframe thead th {\n",
       "        text-align: right;\n",
       "    }\n",
       "</style>\n",
       "<table border=\"1\" class=\"dataframe\">\n",
       "  <thead>\n",
       "    <tr style=\"text-align: right;\">\n",
       "      <th></th>\n",
       "      <th>client_id</th>\n",
       "      <th>app_date</th>\n",
       "      <th>education</th>\n",
       "      <th>sex</th>\n",
       "      <th>age</th>\n",
       "      <th>car</th>\n",
       "      <th>car_type</th>\n",
       "      <th>decline_app_cnt</th>\n",
       "      <th>good_work</th>\n",
       "      <th>score_bki</th>\n",
       "      <th>...</th>\n",
       "      <th>region_rating</th>\n",
       "      <th>home_address</th>\n",
       "      <th>work_address</th>\n",
       "      <th>income</th>\n",
       "      <th>sna</th>\n",
       "      <th>first_time</th>\n",
       "      <th>foreign_passport</th>\n",
       "      <th>default</th>\n",
       "      <th>train</th>\n",
       "      <th>app_month</th>\n",
       "    </tr>\n",
       "  </thead>\n",
       "  <tbody>\n",
       "    <tr>\n",
       "      <th>0</th>\n",
       "      <td>25905</td>\n",
       "      <td>2014-02-01</td>\n",
       "      <td>0</td>\n",
       "      <td>1</td>\n",
       "      <td>4.143135</td>\n",
       "      <td>1</td>\n",
       "      <td>1</td>\n",
       "      <td>0.000000</td>\n",
       "      <td>0</td>\n",
       "      <td>-2.008753</td>\n",
       "      <td>...</td>\n",
       "      <td>50</td>\n",
       "      <td>1</td>\n",
       "      <td>2</td>\n",
       "      <td>9.798183</td>\n",
       "      <td>4</td>\n",
       "      <td>1</td>\n",
       "      <td>0</td>\n",
       "      <td>0</td>\n",
       "      <td>1</td>\n",
       "      <td>2</td>\n",
       "    </tr>\n",
       "    <tr>\n",
       "      <th>1</th>\n",
       "      <td>63161</td>\n",
       "      <td>2014-03-12</td>\n",
       "      <td>0</td>\n",
       "      <td>0</td>\n",
       "      <td>4.094345</td>\n",
       "      <td>0</td>\n",
       "      <td>0</td>\n",
       "      <td>0.000000</td>\n",
       "      <td>0</td>\n",
       "      <td>-1.532276</td>\n",
       "      <td>...</td>\n",
       "      <td>50</td>\n",
       "      <td>2</td>\n",
       "      <td>3</td>\n",
       "      <td>9.852247</td>\n",
       "      <td>4</td>\n",
       "      <td>1</td>\n",
       "      <td>0</td>\n",
       "      <td>0</td>\n",
       "      <td>1</td>\n",
       "      <td>3</td>\n",
       "    </tr>\n",
       "    <tr>\n",
       "      <th>2</th>\n",
       "      <td>25887</td>\n",
       "      <td>2014-02-01</td>\n",
       "      <td>0</td>\n",
       "      <td>1</td>\n",
       "      <td>3.258097</td>\n",
       "      <td>1</td>\n",
       "      <td>0</td>\n",
       "      <td>1.098612</td>\n",
       "      <td>0</td>\n",
       "      <td>-1.408142</td>\n",
       "      <td>...</td>\n",
       "      <td>80</td>\n",
       "      <td>1</td>\n",
       "      <td>2</td>\n",
       "      <td>10.308986</td>\n",
       "      <td>1</td>\n",
       "      <td>4</td>\n",
       "      <td>1</td>\n",
       "      <td>0</td>\n",
       "      <td>1</td>\n",
       "      <td>2</td>\n",
       "    </tr>\n",
       "    <tr>\n",
       "      <th>3</th>\n",
       "      <td>16222</td>\n",
       "      <td>2014-01-23</td>\n",
       "      <td>0</td>\n",
       "      <td>0</td>\n",
       "      <td>3.988984</td>\n",
       "      <td>0</td>\n",
       "      <td>0</td>\n",
       "      <td>0.000000</td>\n",
       "      <td>0</td>\n",
       "      <td>-2.057471</td>\n",
       "      <td>...</td>\n",
       "      <td>50</td>\n",
       "      <td>2</td>\n",
       "      <td>3</td>\n",
       "      <td>9.210440</td>\n",
       "      <td>1</td>\n",
       "      <td>3</td>\n",
       "      <td>0</td>\n",
       "      <td>0</td>\n",
       "      <td>1</td>\n",
       "      <td>1</td>\n",
       "    </tr>\n",
       "    <tr>\n",
       "      <th>4</th>\n",
       "      <td>101655</td>\n",
       "      <td>2014-04-18</td>\n",
       "      <td>2</td>\n",
       "      <td>1</td>\n",
       "      <td>3.891820</td>\n",
       "      <td>0</td>\n",
       "      <td>0</td>\n",
       "      <td>0.000000</td>\n",
       "      <td>1</td>\n",
       "      <td>-1.244723</td>\n",
       "      <td>...</td>\n",
       "      <td>60</td>\n",
       "      <td>2</td>\n",
       "      <td>3</td>\n",
       "      <td>10.308986</td>\n",
       "      <td>1</td>\n",
       "      <td>4</td>\n",
       "      <td>1</td>\n",
       "      <td>0</td>\n",
       "      <td>1</td>\n",
       "      <td>4</td>\n",
       "    </tr>\n",
       "  </tbody>\n",
       "</table>\n",
       "<p>5 rows × 21 columns</p>\n",
       "</div>"
      ],
      "text/plain": [
       "   client_id   app_date  education  sex       age  car  car_type  \\\n",
       "0      25905 2014-02-01          0    1  4.143135    1         1   \n",
       "1      63161 2014-03-12          0    0  4.094345    0         0   \n",
       "2      25887 2014-02-01          0    1  3.258097    1         0   \n",
       "3      16222 2014-01-23          0    0  3.988984    0         0   \n",
       "4     101655 2014-04-18          2    1  3.891820    0         0   \n",
       "\n",
       "   decline_app_cnt  good_work  score_bki  ...  region_rating  home_address  \\\n",
       "0         0.000000          0  -2.008753  ...             50             1   \n",
       "1         0.000000          0  -1.532276  ...             50             2   \n",
       "2         1.098612          0  -1.408142  ...             80             1   \n",
       "3         0.000000          0  -2.057471  ...             50             2   \n",
       "4         0.000000          1  -1.244723  ...             60             2   \n",
       "\n",
       "   work_address     income  sna  first_time  foreign_passport  default  train  \\\n",
       "0             2   9.798183    4           1                 0        0      1   \n",
       "1             3   9.852247    4           1                 0        0      1   \n",
       "2             2  10.308986    1           4                 1        0      1   \n",
       "3             3   9.210440    1           3                 0        0      1   \n",
       "4             3  10.308986    1           4                 1        0      1   \n",
       "\n",
       "   app_month  \n",
       "0          2  \n",
       "1          3  \n",
       "2          2  \n",
       "3          1  \n",
       "4          4  \n",
       "\n",
       "[5 rows x 21 columns]"
      ]
     },
     "execution_count": 39,
     "metadata": {},
     "output_type": "execute_result"
    }
   ],
   "source": [
    "# Для преобразования бинарных признаков используем LabelEncoder, \n",
    "# который переводит бинарные признаки в числовой формат\n",
    "\n",
    "label_encoder = LabelEncoder()\n",
    "\n",
    "for column in bin_cols:\n",
    "    data[column] = label_encoder.fit_transform(data[column])\n",
    "    \n",
    "# убедимся в преобразовании    \n",
    "data.head()"
   ]
  },
  {
   "cell_type": "markdown",
   "id": "00006f16",
   "metadata": {
    "execution": {
     "iopub.execute_input": "2021-07-26T10:58:26.544774Z",
     "iopub.status.busy": "2021-07-26T10:58:26.544312Z",
     "iopub.status.idle": "2021-07-26T10:58:26.549039Z",
     "shell.execute_reply": "2021-07-26T10:58:26.548074Z",
     "shell.execute_reply.started": "2021-07-26T10:58:26.544737Z"
    },
    "papermill": {
     "duration": 0.093787,
     "end_time": "2021-08-05T10:07:10.759169",
     "exception": false,
     "start_time": "2021-08-05T10:07:10.665382",
     "status": "completed"
    },
    "tags": []
   },
   "source": [
    "#### Рассмотрим категориальные переменные"
   ]
  },
  {
   "cell_type": "code",
   "execution_count": 40,
   "id": "5226f054",
   "metadata": {
    "execution": {
     "iopub.execute_input": "2021-08-05T10:07:10.957642Z",
     "iopub.status.busy": "2021-08-05T10:07:10.955988Z",
     "iopub.status.idle": "2021-08-05T10:07:11.078788Z",
     "shell.execute_reply": "2021-08-05T10:07:11.078134Z",
     "shell.execute_reply.started": "2021-08-05T09:52:05.056877Z"
    },
    "papermill": {
     "duration": 0.224964,
     "end_time": "2021-08-05T10:07:11.078932",
     "exception": false,
     "start_time": "2021-08-05T10:07:10.853968",
     "status": "completed"
    },
    "tags": []
   },
   "outputs": [],
   "source": [
    "# Для категориальных признаков мы будем использовать OneHotEncoder в тренировочной выборке\n",
    "X_cat = OneHotEncoder(sparse = False).fit_transform(data[cat_cols].values)"
   ]
  },
  {
   "cell_type": "code",
   "execution_count": 41,
   "id": "76b0e476",
   "metadata": {
    "execution": {
     "iopub.execute_input": "2021-08-05T10:07:11.276299Z",
     "iopub.status.busy": "2021-08-05T10:07:11.275589Z",
     "iopub.status.idle": "2021-08-05T10:07:11.278120Z",
     "shell.execute_reply": "2021-08-05T10:07:11.278648Z",
     "shell.execute_reply.started": "2021-08-05T09:52:05.185380Z"
    },
    "papermill": {
     "duration": 0.104296,
     "end_time": "2021-08-05T10:07:11.278813",
     "exception": false,
     "start_time": "2021-08-05T10:07:11.174517",
     "status": "completed"
    },
    "tags": []
   },
   "outputs": [
    {
     "data": {
      "text/plain": [
       "(110148, 30)"
      ]
     },
     "execution_count": 41,
     "metadata": {},
     "output_type": "execute_result"
    }
   ],
   "source": [
    "# Проверим, что категориальные признаки правильно сгенерированы:\n",
    "X_cat.shape"
   ]
  },
  {
   "cell_type": "code",
   "execution_count": 42,
   "id": "02bfad5d",
   "metadata": {
    "execution": {
     "iopub.execute_input": "2021-08-05T10:07:11.472813Z",
     "iopub.status.busy": "2021-08-05T10:07:11.472120Z",
     "iopub.status.idle": "2021-08-05T10:07:11.891837Z",
     "shell.execute_reply": "2021-08-05T10:07:11.892314Z",
     "shell.execute_reply.started": "2021-08-05T09:52:05.192959Z"
    },
    "papermill": {
     "duration": 0.518685,
     "end_time": "2021-08-05T10:07:11.892491",
     "exception": false,
     "start_time": "2021-08-05T10:07:11.373806",
     "status": "completed"
    },
    "tags": []
   },
   "outputs": [
    {
     "data": {
      "text/plain": [
       "<AxesSubplot:>"
      ]
     },
     "execution_count": 42,
     "metadata": {},
     "output_type": "execute_result"
    },
    {
     "data": {
      "image/png": "[encoded data removed]",
      "text/plain": [
       "<Figure size 432x288 with 1 Axes>"
      ]
     },
     "metadata": {
      "needs_background": "light"
     },
     "output_type": "display_data"
    }
   ],
   "source": [
    "# Посмотрим на значимость категориальных признаков (тренировочная выборка)\n",
    "imp_cat = Series(mutual_info_classif(data[bin_cols + cat_cols], data['default'],\n",
    "                                     discrete_features =True), index = bin_cols + cat_cols)\n",
    "imp_cat.sort_values(inplace = True)\n",
    "imp_cat.plot(kind = 'barh')"
   ]
  },
  {
   "cell_type": "markdown",
   "id": "e6032fb5",
   "metadata": {
    "papermill": {
     "duration": 0.098357,
     "end_time": "2021-08-05T10:07:12.088346",
     "exception": false,
     "start_time": "2021-08-05T10:07:11.989989",
     "status": "completed"
    },
    "tags": []
   },
   "source": [
    "Наименее значимые признаки для формирования дефолтных клиентов - это <span style=\"color: green;\">sex</span>, <span style=\"color: green;\">app_month</span>, <span style=\"color: green;\">car</span> и <span style=\"color: green;\">good_work</span>."
   ]
  },
  {
   "cell_type": "code",
   "execution_count": 43,
   "id": "abaf54a5",
   "metadata": {
    "execution": {
     "iopub.execute_input": "2021-08-05T10:07:12.293098Z",
     "iopub.status.busy": "2021-08-05T10:07:12.291807Z",
     "iopub.status.idle": "2021-08-05T10:07:12.304546Z",
     "shell.execute_reply": "2021-08-05T10:07:12.303811Z",
     "shell.execute_reply.started": "2021-08-05T09:52:05.603332Z"
    },
    "papermill": {
     "duration": 0.116781,
     "end_time": "2021-08-05T10:07:12.304705",
     "exception": false,
     "start_time": "2021-08-05T10:07:12.187924",
     "status": "completed"
    },
    "tags": []
   },
   "outputs": [],
   "source": [
    "# попробуем стандартизировать числовые признаки в тренировочной выборке: \n",
    "X_num = StandardScaler().fit_transform(data[num_cols].values)"
   ]
  },
  {
   "cell_type": "code",
   "execution_count": 44,
   "id": "d100ce56",
   "metadata": {
    "execution": {
     "iopub.execute_input": "2021-08-05T10:07:12.507503Z",
     "iopub.status.busy": "2021-08-05T10:07:12.506456Z",
     "iopub.status.idle": "2021-08-05T10:07:12.516012Z",
     "shell.execute_reply": "2021-08-05T10:07:12.515363Z",
     "shell.execute_reply.started": "2021-08-05T09:52:05.623826Z"
    },
    "papermill": {
     "duration": 0.112577,
     "end_time": "2021-08-05T10:07:12.516153",
     "exception": false,
     "start_time": "2021-08-05T10:07:12.403576",
     "status": "completed"
    },
    "tags": []
   },
   "outputs": [],
   "source": [
    "data.head()\n",
    "data_train = data[data['train']==1]"
   ]
  },
  {
   "cell_type": "code",
   "execution_count": 45,
   "id": "5e0e8383",
   "metadata": {
    "execution": {
     "iopub.execute_input": "2021-08-05T10:07:12.734903Z",
     "iopub.status.busy": "2021-08-05T10:07:12.729490Z",
     "iopub.status.idle": "2021-08-05T10:07:12.743242Z",
     "shell.execute_reply": "2021-08-05T10:07:12.742647Z",
     "shell.execute_reply.started": "2021-08-05T09:52:05.635927Z"
    },
    "papermill": {
     "duration": 0.13083,
     "end_time": "2021-08-05T10:07:12.743388",
     "exception": false,
     "start_time": "2021-08-05T10:07:12.612558",
     "status": "completed"
    },
    "tags": []
   },
   "outputs": [
    {
     "data": {
      "text/html": [
       "<div>\n",
       "<style scoped>\n",
       "    .dataframe tbody tr th:only-of-type {\n",
       "        vertical-align: middle;\n",
       "    }\n",
       "\n",
       "    .dataframe tbody tr th {\n",
       "        vertical-align: top;\n",
       "    }\n",
       "\n",
       "    .dataframe thead th {\n",
       "        text-align: right;\n",
       "    }\n",
       "</style>\n",
       "<table border=\"1\" class=\"dataframe\">\n",
       "  <thead>\n",
       "    <tr style=\"text-align: right;\">\n",
       "      <th></th>\n",
       "      <th>client_id</th>\n",
       "      <th>app_date</th>\n",
       "      <th>education</th>\n",
       "      <th>sex</th>\n",
       "      <th>age</th>\n",
       "      <th>car</th>\n",
       "      <th>car_type</th>\n",
       "      <th>decline_app_cnt</th>\n",
       "      <th>good_work</th>\n",
       "      <th>score_bki</th>\n",
       "      <th>...</th>\n",
       "      <th>region_rating</th>\n",
       "      <th>home_address</th>\n",
       "      <th>work_address</th>\n",
       "      <th>income</th>\n",
       "      <th>sna</th>\n",
       "      <th>first_time</th>\n",
       "      <th>foreign_passport</th>\n",
       "      <th>default</th>\n",
       "      <th>train</th>\n",
       "      <th>app_month</th>\n",
       "    </tr>\n",
       "  </thead>\n",
       "  <tbody>\n",
       "    <tr>\n",
       "      <th>0</th>\n",
       "      <td>25905</td>\n",
       "      <td>2014-02-01</td>\n",
       "      <td>0</td>\n",
       "      <td>1</td>\n",
       "      <td>4.143135</td>\n",
       "      <td>1</td>\n",
       "      <td>1</td>\n",
       "      <td>0.000000</td>\n",
       "      <td>0</td>\n",
       "      <td>-2.008753</td>\n",
       "      <td>...</td>\n",
       "      <td>50</td>\n",
       "      <td>1</td>\n",
       "      <td>2</td>\n",
       "      <td>9.798183</td>\n",
       "      <td>4</td>\n",
       "      <td>1</td>\n",
       "      <td>0</td>\n",
       "      <td>0</td>\n",
       "      <td>1</td>\n",
       "      <td>2</td>\n",
       "    </tr>\n",
       "    <tr>\n",
       "      <th>1</th>\n",
       "      <td>63161</td>\n",
       "      <td>2014-03-12</td>\n",
       "      <td>0</td>\n",
       "      <td>0</td>\n",
       "      <td>4.094345</td>\n",
       "      <td>0</td>\n",
       "      <td>0</td>\n",
       "      <td>0.000000</td>\n",
       "      <td>0</td>\n",
       "      <td>-1.532276</td>\n",
       "      <td>...</td>\n",
       "      <td>50</td>\n",
       "      <td>2</td>\n",
       "      <td>3</td>\n",
       "      <td>9.852247</td>\n",
       "      <td>4</td>\n",
       "      <td>1</td>\n",
       "      <td>0</td>\n",
       "      <td>0</td>\n",
       "      <td>1</td>\n",
       "      <td>3</td>\n",
       "    </tr>\n",
       "    <tr>\n",
       "      <th>2</th>\n",
       "      <td>25887</td>\n",
       "      <td>2014-02-01</td>\n",
       "      <td>0</td>\n",
       "      <td>1</td>\n",
       "      <td>3.258097</td>\n",
       "      <td>1</td>\n",
       "      <td>0</td>\n",
       "      <td>1.098612</td>\n",
       "      <td>0</td>\n",
       "      <td>-1.408142</td>\n",
       "      <td>...</td>\n",
       "      <td>80</td>\n",
       "      <td>1</td>\n",
       "      <td>2</td>\n",
       "      <td>10.308986</td>\n",
       "      <td>1</td>\n",
       "      <td>4</td>\n",
       "      <td>1</td>\n",
       "      <td>0</td>\n",
       "      <td>1</td>\n",
       "      <td>2</td>\n",
       "    </tr>\n",
       "    <tr>\n",
       "      <th>3</th>\n",
       "      <td>16222</td>\n",
       "      <td>2014-01-23</td>\n",
       "      <td>0</td>\n",
       "      <td>0</td>\n",
       "      <td>3.988984</td>\n",
       "      <td>0</td>\n",
       "      <td>0</td>\n",
       "      <td>0.000000</td>\n",
       "      <td>0</td>\n",
       "      <td>-2.057471</td>\n",
       "      <td>...</td>\n",
       "      <td>50</td>\n",
       "      <td>2</td>\n",
       "      <td>3</td>\n",
       "      <td>9.210440</td>\n",
       "      <td>1</td>\n",
       "      <td>3</td>\n",
       "      <td>0</td>\n",
       "      <td>0</td>\n",
       "      <td>1</td>\n",
       "      <td>1</td>\n",
       "    </tr>\n",
       "    <tr>\n",
       "      <th>4</th>\n",
       "      <td>101655</td>\n",
       "      <td>2014-04-18</td>\n",
       "      <td>2</td>\n",
       "      <td>1</td>\n",
       "      <td>3.891820</td>\n",
       "      <td>0</td>\n",
       "      <td>0</td>\n",
       "      <td>0.000000</td>\n",
       "      <td>1</td>\n",
       "      <td>-1.244723</td>\n",
       "      <td>...</td>\n",
       "      <td>60</td>\n",
       "      <td>2</td>\n",
       "      <td>3</td>\n",
       "      <td>10.308986</td>\n",
       "      <td>1</td>\n",
       "      <td>4</td>\n",
       "      <td>1</td>\n",
       "      <td>0</td>\n",
       "      <td>1</td>\n",
       "      <td>4</td>\n",
       "    </tr>\n",
       "  </tbody>\n",
       "</table>\n",
       "<p>5 rows × 21 columns</p>\n",
       "</div>"
      ],
      "text/plain": [
       "   client_id   app_date  education  sex       age  car  car_type  \\\n",
       "0      25905 2014-02-01          0    1  4.143135    1         1   \n",
       "1      63161 2014-03-12          0    0  4.094345    0         0   \n",
       "2      25887 2014-02-01          0    1  3.258097    1         0   \n",
       "3      16222 2014-01-23          0    0  3.988984    0         0   \n",
       "4     101655 2014-04-18          2    1  3.891820    0         0   \n",
       "\n",
       "   decline_app_cnt  good_work  score_bki  ...  region_rating  home_address  \\\n",
       "0         0.000000          0  -2.008753  ...             50             1   \n",
       "1         0.000000          0  -1.532276  ...             50             2   \n",
       "2         1.098612          0  -1.408142  ...             80             1   \n",
       "3         0.000000          0  -2.057471  ...             50             2   \n",
       "4         0.000000          1  -1.244723  ...             60             2   \n",
       "\n",
       "   work_address     income  sna  first_time  foreign_passport  default  train  \\\n",
       "0             2   9.798183    4           1                 0        0      1   \n",
       "1             3   9.852247    4           1                 0        0      1   \n",
       "2             2  10.308986    1           4                 1        0      1   \n",
       "3             3   9.210440    1           3                 0        0      1   \n",
       "4             3  10.308986    1           4                 1        0      1   \n",
       "\n",
       "   app_month  \n",
       "0          2  \n",
       "1          3  \n",
       "2          2  \n",
       "3          1  \n",
       "4          4  \n",
       "\n",
       "[5 rows x 21 columns]"
      ]
     },
     "execution_count": 45,
     "metadata": {},
     "output_type": "execute_result"
    }
   ],
   "source": [
    "data_train.head()"
   ]
  },
  {
   "cell_type": "markdown",
   "id": "14841ab1",
   "metadata": {
    "papermill": {
     "duration": 0.097941,
     "end_time": "2021-08-05T10:07:12.941093",
     "exception": false,
     "start_time": "2021-08-05T10:07:12.843152",
     "status": "completed"
    },
    "tags": []
   },
   "source": [
    "Теперь объединим категориальные, бинарные и числовые переменные в единое пространство: "
   ]
  },
  {
   "cell_type": "code",
   "execution_count": 46,
   "id": "b3eeafee",
   "metadata": {
    "execution": {
     "iopub.execute_input": "2021-08-05T10:07:13.150580Z",
     "iopub.status.busy": "2021-08-05T10:07:13.149172Z",
     "iopub.status.idle": "2021-08-05T10:07:13.167267Z",
     "shell.execute_reply": "2021-08-05T10:07:13.166711Z",
     "shell.execute_reply.started": "2021-08-05T09:52:05.669613Z"
    },
    "papermill": {
     "duration": 0.122986,
     "end_time": "2021-08-05T10:07:13.167433",
     "exception": false,
     "start_time": "2021-08-05T10:07:13.044447",
     "status": "completed"
    },
    "tags": []
   },
   "outputs": [],
   "source": [
    "# Объединяем тренировочную выборку\n",
    "X_num_train = X_num[:73799]\n",
    "X_cat_train = X_cat[:73799]\n",
    "X = np.hstack([X_num_train,data_train[bin_cols].values, X_cat_train])\n",
    "Y = data_train['default'].values"
   ]
  },
  {
   "cell_type": "code",
   "execution_count": 47,
   "id": "6ef5b158",
   "metadata": {
    "execution": {
     "iopub.execute_input": "2021-08-05T10:07:13.368809Z",
     "iopub.status.busy": "2021-08-05T10:07:13.367077Z",
     "iopub.status.idle": "2021-08-05T10:07:13.387656Z",
     "shell.execute_reply": "2021-08-05T10:07:13.386957Z",
     "shell.execute_reply.started": "2021-08-05T09:52:05.696722Z"
    },
    "papermill": {
     "duration": 0.122608,
     "end_time": "2021-08-05T10:07:13.387804",
     "exception": false,
     "start_time": "2021-08-05T10:07:13.265196",
     "status": "completed"
    },
    "tags": []
   },
   "outputs": [],
   "source": [
    "# Разделим выборку на тренировочную и тестовую: \n",
    "X_train, X_test, y_train, y_test = train_test_split(X, Y, test_size=0.20, random_state=42)"
   ]
  },
  {
   "cell_type": "markdown",
   "id": "a5756ab1",
   "metadata": {
    "papermill": {
     "duration": 0.099055,
     "end_time": "2021-08-05T10:07:13.585775",
     "exception": false,
     "start_time": "2021-08-05T10:07:13.486720",
     "status": "completed"
    },
    "tags": []
   },
   "source": [
    "### Построим наивную модель и попробуем улучшить"
   ]
  },
  {
   "cell_type": "code",
   "execution_count": 48,
   "id": "9d76bd4e",
   "metadata": {
    "execution": {
     "iopub.execute_input": "2021-08-05T10:07:13.788784Z",
     "iopub.status.busy": "2021-08-05T10:07:13.788089Z",
     "iopub.status.idle": "2021-08-05T10:07:16.514878Z",
     "shell.execute_reply": "2021-08-05T10:07:16.514211Z",
     "shell.execute_reply.started": "2021-08-05T09:52:05.722259Z"
    },
    "papermill": {
     "duration": 2.831891,
     "end_time": "2021-08-05T10:07:16.515057",
     "exception": false,
     "start_time": "2021-08-05T10:07:13.683166",
     "status": "completed"
    },
    "tags": []
   },
   "outputs": [
    {
     "data": {
      "image/png": "[encoded data removed]",
      "text/plain": [
       "<Figure size 432x288 with 1 Axes>"
      ]
     },
     "metadata": {
      "needs_background": "light"
     },
     "output_type": "display_data"
    }
   ],
   "source": [
    "model = LogisticRegression(random_state=42, max_iter=1000)\n",
    "model.fit(X_train, y_train)\n",
    "\n",
    "#predict_proba - Probability estimates.\n",
    "probs = model.predict_proba(X_test)\n",
    "probs = probs[:,1]\n",
    "\n",
    "fpr, tpr, threshold = roc_curve(y_test, probs)\n",
    "roc_auc = roc_auc_score(y_test, probs)\n",
    "\n",
    "plt.figure()\n",
    "# [0, 1] чтобы график был в пространстве от 0 до 1, по типу диагонали\n",
    "plt.plot([0, 1], label='Baseline', linestyle='--')\n",
    "plt.plot(fpr, tpr, label = 'Regression')\n",
    "plt.title('Logistic Regression ROC AUC = %0.3f' % roc_auc)\n",
    "plt.ylabel('True Positive Rate')\n",
    "plt.xlabel('False Positive Rate')\n",
    "plt.legend(loc = 'lower right')\n",
    "plt.show()"
   ]
  },
  {
   "cell_type": "markdown",
   "id": "90966704",
   "metadata": {
    "papermill": {
     "duration": 0.10193,
     "end_time": "2021-08-05T10:07:16.721789",
     "exception": false,
     "start_time": "2021-08-05T10:07:16.619859",
     "status": "completed"
    },
    "tags": []
   },
   "source": [
    "Без подбора гиперпараметров значение на kaggle получилось 0.745, что выше, чем обработка на платформе. \n",
    "#### Проверим оценки модели: "
   ]
  },
  {
   "cell_type": "code",
   "execution_count": 49,
   "id": "b9ab6f89",
   "metadata": {
    "execution": {
     "iopub.execute_input": "2021-08-05T10:07:16.935164Z",
     "iopub.status.busy": "2021-08-05T10:07:16.933999Z",
     "iopub.status.idle": "2021-08-05T10:07:16.973644Z",
     "shell.execute_reply": "2021-08-05T10:07:16.975297Z",
     "shell.execute_reply.started": "2021-08-05T09:52:08.207882Z"
    },
    "papermill": {
     "duration": 0.154368,
     "end_time": "2021-08-05T10:07:16.975798",
     "exception": false,
     "start_time": "2021-08-05T10:07:16.821430",
     "status": "completed"
    },
    "tags": []
   },
   "outputs": [
    {
     "name": "stdout",
     "output_type": "stream",
     "text": [
      "test accuracy_score: 0.875\n",
      "test precision_score: 0.413\n",
      "test recall_score: 0.025\n",
      "test f1_score: 0.046\n"
     ]
    }
   ],
   "source": [
    "from sklearn.metrics import accuracy_score, precision_score, recall_score, f1_score\n",
    "\n",
    "Y_predicted_test = model.predict(X_test)\n",
    "print(f'test accuracy_score: {round(accuracy_score(y_test,Y_predicted_test),3)}')\n",
    "print(f'test precision_score: {round(precision_score(y_test, Y_predicted_test),3)}')\n",
    "print(f'test recall_score: {round(recall_score(y_test,Y_predicted_test),3)}')\n",
    "print(f'test f1_score: {round(f1_score(y_test,Y_predicted_test),3)}')"
   ]
  },
  {
   "cell_type": "code",
   "execution_count": 50,
   "id": "bad80ca6",
   "metadata": {
    "execution": {
     "iopub.execute_input": "2021-08-05T10:07:17.230872Z",
     "iopub.status.busy": "2021-08-05T10:07:17.229367Z",
     "iopub.status.idle": "2021-08-05T10:07:17.379600Z",
     "shell.execute_reply": "2021-08-05T10:07:17.380318Z",
     "shell.execute_reply.started": "2021-08-05T09:52:08.262671Z"
    },
    "papermill": {
     "duration": 0.262375,
     "end_time": "2021-08-05T10:07:17.380539",
     "exception": false,
     "start_time": "2021-08-05T10:07:17.118164",
     "status": "completed"
    },
    "tags": []
   },
   "outputs": [
    {
     "name": "stdout",
     "output_type": "stream",
     "text": [
      "train accuracy_score: 0.872\n",
      "train precision_score: 0.484\n",
      "train recall_score: 0.03\n",
      "train f1_score: 0.056\n"
     ]
    }
   ],
   "source": [
    "from sklearn.metrics import accuracy_score, precision_score, recall_score, f1_score\n",
    "\n",
    "Y_predicted_train = model.predict(X_train)\n",
    "print(f'train accuracy_score: {round(accuracy_score(y_train,Y_predicted_train),3)}')\n",
    "print(f'train precision_score: {round(precision_score(y_train,Y_predicted_train),3)}')\n",
    "print(f'train recall_score: {round(recall_score(y_train,Y_predicted_train),3)}')\n",
    "print(f'train f1_score: {round(f1_score(y_train,Y_predicted_train),3)}')"
   ]
  },
  {
   "cell_type": "markdown",
   "id": "b312d4d3",
   "metadata": {
    "papermill": {
     "duration": 0.098913,
     "end_time": "2021-08-05T10:07:17.582776",
     "exception": false,
     "start_time": "2021-08-05T10:07:17.483863",
     "status": "completed"
    },
    "tags": []
   },
   "source": [
    "Судя по результатам, F1 совсем маленький, но при этом accuracy больше 0.87\n",
    "\n",
    "### Попробуем добавить в модель гиперпараметры"
   ]
  },
  {
   "cell_type": "code",
   "execution_count": 51,
   "id": "c53e958e",
   "metadata": {
    "execution": {
     "iopub.execute_input": "2021-08-05T10:07:17.784611Z",
     "iopub.status.busy": "2021-08-05T10:07:17.783568Z",
     "iopub.status.idle": "2021-08-05T10:09:17.746850Z",
     "shell.execute_reply": "2021-08-05T10:09:17.747415Z",
     "shell.execute_reply.started": "2021-08-05T09:52:08.413426Z"
    },
    "papermill": {
     "duration": 120.066408,
     "end_time": "2021-08-05T10:09:17.747658",
     "exception": false,
     "start_time": "2021-08-05T10:07:17.681250",
     "status": "completed"
    },
    "tags": []
   },
   "outputs": [
    {
     "name": "stdout",
     "output_type": "stream",
     "text": [
      "Лучшее Penalty: l1\n",
      "Лучшее C: 1.0\n"
     ]
    }
   ],
   "source": [
    "from sklearn.model_selection import GridSearchCV\n",
    "# Добавим типы регуляризации\n",
    "penalty = ['l1', 'l2']\n",
    "# Зададим ограничения для параметра регуляризации\n",
    "C = np.logspace(0, 4, 10)\n",
    "# Создадим гиперпараметры\n",
    "hyperparameters = dict(C=C, penalty=penalty)\n",
    "model = LogisticRegression(solver='liblinear')\n",
    "model.fit(X_train, y_train)\n",
    "# Создаем сетку поиска с использованием 5-кратной перекрестной проверки\n",
    "clf = GridSearchCV(model, hyperparameters, cv=5, verbose=0)\n",
    "best_model = clf.fit(X_train, y_train)\n",
    "# View best hyperparameters\n",
    "print('Лучшее Penalty:', best_model.best_estimator_.get_params()['penalty'])\n",
    "print('Лучшее C:', best_model.best_estimator_.get_params()['C'])"
   ]
  },
  {
   "cell_type": "code",
   "execution_count": 52,
   "id": "d957dbf1",
   "metadata": {
    "execution": {
     "iopub.execute_input": "2021-08-05T10:09:17.950078Z",
     "iopub.status.busy": "2021-08-05T10:09:17.949296Z",
     "iopub.status.idle": "2021-08-05T10:09:28.534436Z",
     "shell.execute_reply": "2021-08-05T10:09:28.533849Z",
     "shell.execute_reply.started": "2021-08-05T09:53:48.572015Z"
    },
    "papermill": {
     "duration": 10.687254,
     "end_time": "2021-08-05T10:09:28.534601",
     "exception": false,
     "start_time": "2021-08-05T10:09:17.847347",
     "status": "completed"
    },
    "tags": []
   },
   "outputs": [
    {
     "data": {
      "image/png": "[encoded data removed]",
      "text/plain": [
       "<Figure size 432x288 with 1 Axes>"
      ]
     },
     "metadata": {
      "needs_background": "light"
     },
     "output_type": "display_data"
    }
   ],
   "source": [
    "# Посчитаем новую модель: \n",
    "new_model = LogisticRegression(random_state=42, max_iter=1000, C=1, penalty = 'l1', solver = 'liblinear')\n",
    "new_model.fit(X_train, y_train)\n",
    "\n",
    "#predict_proba - Probability estimates.\n",
    "probs = new_model.predict_proba(X_test)\n",
    "probs = probs[:,1]\n",
    "\n",
    "fpr, tpr, threshold = roc_curve(y_test, probs)\n",
    "roc_auc = roc_auc_score(y_test, probs)\n",
    "\n",
    "plt.figure()\n",
    "# [0, 1] чтобы график был в пространстве от 0 до 1, по типу диагонали\n",
    "plt.plot([0, 1], label='Baseline', linestyle='--')\n",
    "plt.plot(fpr, tpr, label = 'Regression')\n",
    "plt.title('Logistic Regression ROC AUC = %0.3f' % roc_auc)\n",
    "plt.ylabel('True Positive Rate')\n",
    "plt.xlabel('False Positive Rate')\n",
    "plt.legend(loc = 'lower right')\n",
    "plt.show()"
   ]
  },
  {
   "cell_type": "markdown",
   "id": "4bbb0fe0",
   "metadata": {
    "papermill": {
     "duration": 0.09976,
     "end_time": "2021-08-05T10:09:28.737189",
     "exception": false,
     "start_time": "2021-08-05T10:09:28.637429",
     "status": "completed"
    },
    "tags": []
   },
   "source": [
    "Как видим, с гиперпараметрами практически ничего не изменилось"
   ]
  },
  {
   "cell_type": "code",
   "execution_count": 53,
   "id": "1b74e318",
   "metadata": {
    "execution": {
     "iopub.execute_input": "2021-08-05T10:09:28.951034Z",
     "iopub.status.busy": "2021-08-05T10:09:28.949883Z",
     "iopub.status.idle": "2021-08-05T10:09:28.992318Z",
     "shell.execute_reply": "2021-08-05T10:09:28.993322Z",
     "shell.execute_reply.started": "2021-08-05T09:53:58.918474Z"
    },
    "papermill": {
     "duration": 0.15424,
     "end_time": "2021-08-05T10:09:28.993591",
     "exception": false,
     "start_time": "2021-08-05T10:09:28.839351",
     "status": "completed"
    },
    "tags": []
   },
   "outputs": [
    {
     "name": "stdout",
     "output_type": "stream",
     "text": [
      "best test accuracy_score: 0.875\n",
      "best test precision_score: 0.413\n",
      "best test recall_score: 0.025\n",
      "best test f1_score: 0.046\n"
     ]
    }
   ],
   "source": [
    "best_Y_predicted_test = new_model.predict(X_test)\n",
    "print(f'best test accuracy_score: {round(accuracy_score(y_test,best_Y_predicted_test),3)}')\n",
    "print(f'best test precision_score: {round(precision_score(y_test,best_Y_predicted_test),3)}')\n",
    "print(f'best test recall_score: {round(recall_score(y_test,best_Y_predicted_test),3)}')\n",
    "print(f'best test f1_score: {round(f1_score(y_test,best_Y_predicted_test),3)}')"
   ]
  },
  {
   "cell_type": "markdown",
   "id": "a978bbed",
   "metadata": {
    "papermill": {
     "duration": 0.102386,
     "end_time": "2021-08-05T10:09:29.238097",
     "exception": false,
     "start_time": "2021-08-05T10:09:29.135711",
     "status": "completed"
    },
    "tags": []
   },
   "source": [
    "### Объединим тренировочную и тестовую выборки, посчитаем модель: "
   ]
  },
  {
   "cell_type": "markdown",
   "id": "918702ad",
   "metadata": {
    "execution": {
     "iopub.execute_input": "2021-08-04T12:20:14.52517Z",
     "iopub.status.busy": "2021-08-04T12:20:14.524729Z",
     "iopub.status.idle": "2021-08-04T12:20:14.53149Z",
     "shell.execute_reply": "2021-08-04T12:20:14.530374Z",
     "shell.execute_reply.started": "2021-08-04T12:20:14.525133Z"
    },
    "papermill": {
     "duration": 0.102306,
     "end_time": "2021-08-05T10:09:29.443956",
     "exception": false,
     "start_time": "2021-08-05T10:09:29.341650",
     "status": "completed"
    },
    "tags": []
   },
   "source": [
    "Преобразуем тестовую выборку: "
   ]
  },
  {
   "cell_type": "code",
   "execution_count": 54,
   "id": "cd0cdee3",
   "metadata": {
    "execution": {
     "iopub.execute_input": "2021-08-05T10:09:29.656600Z",
     "iopub.status.busy": "2021-08-05T10:09:29.655446Z",
     "iopub.status.idle": "2021-08-05T10:09:29.790506Z",
     "shell.execute_reply": "2021-08-05T10:09:29.789750Z",
     "shell.execute_reply.started": "2021-08-05T09:53:58.967508Z"
    },
    "papermill": {
     "duration": 0.244721,
     "end_time": "2021-08-05T10:09:29.790664",
     "exception": false,
     "start_time": "2021-08-05T10:09:29.545943",
     "status": "completed"
    },
    "tags": []
   },
   "outputs": [
    {
     "data": {
      "text/plain": [
       "(110148, 30)"
      ]
     },
     "execution_count": 54,
     "metadata": {},
     "output_type": "execute_result"
    }
   ],
   "source": [
    "# Для преобразования бинарных признаков используем LabelEncoder, \n",
    "# который переводит бинарные признаки в числовой формат\n",
    "\n",
    "label_encoder = LabelEncoder()\n",
    "\n",
    "for column in bin_cols:\n",
    "    data[column] = label_encoder.fit_transform(data[column])\n",
    "    \n",
    "# убедимся в преобразовании    \n",
    "data.head()\n",
    "# Для категориальных признаков мы будем использовать OneHotEncoder \n",
    "X_cat = OneHotEncoder(sparse = False).fit_transform(data[cat_cols].values)\n",
    "X_cat.shape"
   ]
  },
  {
   "cell_type": "code",
   "execution_count": 55,
   "id": "0d8eac13",
   "metadata": {
    "execution": {
     "iopub.execute_input": "2021-08-05T10:09:30.005073Z",
     "iopub.status.busy": "2021-08-05T10:09:30.004357Z",
     "iopub.status.idle": "2021-08-05T10:09:30.016668Z",
     "shell.execute_reply": "2021-08-05T10:09:30.017161Z",
     "shell.execute_reply.started": "2021-08-05T09:53:59.133372Z"
    },
    "papermill": {
     "duration": 0.122679,
     "end_time": "2021-08-05T10:09:30.017369",
     "exception": false,
     "start_time": "2021-08-05T10:09:29.894690",
     "status": "completed"
    },
    "tags": []
   },
   "outputs": [],
   "source": [
    "# попробуем стандартизировать числовые признаки в тренировочной выборке: \n",
    "X_num = StandardScaler().fit_transform(data[num_cols].values)"
   ]
  },
  {
   "cell_type": "code",
   "execution_count": 56,
   "id": "e962aed5",
   "metadata": {
    "execution": {
     "iopub.execute_input": "2021-08-05T10:09:30.229338Z",
     "iopub.status.busy": "2021-08-05T10:09:30.228528Z",
     "iopub.status.idle": "2021-08-05T10:09:30.238198Z",
     "shell.execute_reply": "2021-08-05T10:09:30.237607Z",
     "shell.execute_reply.started": "2021-08-05T09:53:59.151518Z"
    },
    "papermill": {
     "duration": 0.118766,
     "end_time": "2021-08-05T10:09:30.238359",
     "exception": false,
     "start_time": "2021-08-05T10:09:30.119593",
     "status": "completed"
    },
    "tags": []
   },
   "outputs": [],
   "source": [
    "# Выделим тестовую выборку\n",
    "\n",
    "data_test = data[data['train']==0]\n",
    "X_num_test = X_num[73799:]\n",
    "X_cat_test = X_cat[73799:]\n"
   ]
  },
  {
   "cell_type": "code",
   "execution_count": 57,
   "id": "ae8a3edb",
   "metadata": {
    "execution": {
     "iopub.execute_input": "2021-08-05T10:09:30.448874Z",
     "iopub.status.busy": "2021-08-05T10:09:30.447905Z",
     "iopub.status.idle": "2021-08-05T10:09:30.452403Z",
     "shell.execute_reply": "2021-08-05T10:09:30.451817Z",
     "shell.execute_reply.started": "2021-08-05T09:53:59.163370Z"
    },
    "papermill": {
     "duration": 0.113217,
     "end_time": "2021-08-05T10:09:30.452544",
     "exception": false,
     "start_time": "2021-08-05T10:09:30.339327",
     "status": "completed"
    },
    "tags": []
   },
   "outputs": [
    {
     "data": {
      "text/plain": [
       "(36349, 5)"
      ]
     },
     "execution_count": 57,
     "metadata": {},
     "output_type": "execute_result"
    }
   ],
   "source": [
    "X_num_test.shape"
   ]
  },
  {
   "cell_type": "code",
   "execution_count": 58,
   "id": "67db2f91",
   "metadata": {
    "execution": {
     "iopub.execute_input": "2021-08-05T10:09:30.669930Z",
     "iopub.status.busy": "2021-08-05T10:09:30.668927Z",
     "iopub.status.idle": "2021-08-05T10:09:30.674526Z",
     "shell.execute_reply": "2021-08-05T10:09:30.674972Z",
     "shell.execute_reply.started": "2021-08-05T09:53:59.177357Z"
    },
    "papermill": {
     "duration": 0.114048,
     "end_time": "2021-08-05T10:09:30.675145",
     "exception": false,
     "start_time": "2021-08-05T10:09:30.561097",
     "status": "completed"
    },
    "tags": []
   },
   "outputs": [
    {
     "data": {
      "text/plain": [
       "(36349, 30)"
      ]
     },
     "execution_count": 58,
     "metadata": {},
     "output_type": "execute_result"
    }
   ],
   "source": [
    "X_cat_test.shape"
   ]
  },
  {
   "cell_type": "code",
   "execution_count": 59,
   "id": "7273ee68",
   "metadata": {
    "execution": {
     "iopub.execute_input": "2021-08-05T10:09:30.884347Z",
     "iopub.status.busy": "2021-08-05T10:09:30.883277Z",
     "iopub.status.idle": "2021-08-05T10:09:30.891181Z",
     "shell.execute_reply": "2021-08-05T10:09:30.890547Z",
     "shell.execute_reply.started": "2021-08-05T09:53:59.191406Z"
    },
    "papermill": {
     "duration": 0.112241,
     "end_time": "2021-08-05T10:09:30.891344",
     "exception": false,
     "start_time": "2021-08-05T10:09:30.779103",
     "status": "completed"
    },
    "tags": []
   },
   "outputs": [
    {
     "data": {
      "text/plain": [
       "(36349, 5)"
      ]
     },
     "execution_count": 59,
     "metadata": {},
     "output_type": "execute_result"
    }
   ],
   "source": [
    "data_test[bin_cols].values.shape"
   ]
  },
  {
   "cell_type": "code",
   "execution_count": 60,
   "id": "14327353",
   "metadata": {
    "execution": {
     "iopub.execute_input": "2021-08-05T10:09:31.109160Z",
     "iopub.status.busy": "2021-08-05T10:09:31.108171Z",
     "iopub.status.idle": "2021-08-05T10:09:31.112434Z",
     "shell.execute_reply": "2021-08-05T10:09:31.112900Z",
     "shell.execute_reply.started": "2021-08-05T09:53:59.208269Z"
    },
    "papermill": {
     "duration": 0.119098,
     "end_time": "2021-08-05T10:09:31.113207",
     "exception": false,
     "start_time": "2021-08-05T10:09:30.994109",
     "status": "completed"
    },
    "tags": []
   },
   "outputs": [
    {
     "data": {
      "text/plain": [
       "73799     0\n",
       "73800     0\n",
       "73801     0\n",
       "73802     0\n",
       "73803     0\n",
       "         ..\n",
       "110143    0\n",
       "110144    0\n",
       "110145    0\n",
       "110146    0\n",
       "110147    0\n",
       "Name: default, Length: 36349, dtype: int64"
      ]
     },
     "execution_count": 60,
     "metadata": {},
     "output_type": "execute_result"
    }
   ],
   "source": [
    "data_test['default']"
   ]
  },
  {
   "cell_type": "code",
   "execution_count": 61,
   "id": "5497bf06",
   "metadata": {
    "execution": {
     "iopub.execute_input": "2021-08-05T10:09:31.331738Z",
     "iopub.status.busy": "2021-08-05T10:09:31.330785Z",
     "iopub.status.idle": "2021-08-05T10:09:31.335602Z",
     "shell.execute_reply": "2021-08-05T10:09:31.335004Z",
     "shell.execute_reply.started": "2021-08-05T09:53:59.224841Z"
    },
    "papermill": {
     "duration": 0.117345,
     "end_time": "2021-08-05T10:09:31.335754",
     "exception": false,
     "start_time": "2021-08-05T10:09:31.218409",
     "status": "completed"
    },
    "tags": []
   },
   "outputs": [
    {
     "data": {
      "text/plain": [
       "(73799, 40)"
      ]
     },
     "execution_count": 61,
     "metadata": {},
     "output_type": "execute_result"
    }
   ],
   "source": [
    "X.shape"
   ]
  },
  {
   "cell_type": "code",
   "execution_count": 62,
   "id": "08fd81ce",
   "metadata": {
    "execution": {
     "iopub.execute_input": "2021-08-05T10:09:31.549919Z",
     "iopub.status.busy": "2021-08-05T10:09:31.548979Z",
     "iopub.status.idle": "2021-08-05T10:09:31.553623Z",
     "shell.execute_reply": "2021-08-05T10:09:31.552982Z",
     "shell.execute_reply.started": "2021-08-05T09:53:59.238831Z"
    },
    "papermill": {
     "duration": 0.113433,
     "end_time": "2021-08-05T10:09:31.553773",
     "exception": false,
     "start_time": "2021-08-05T10:09:31.440340",
     "status": "completed"
    },
    "tags": []
   },
   "outputs": [
    {
     "data": {
      "text/plain": [
       "(73799,)"
      ]
     },
     "execution_count": 62,
     "metadata": {},
     "output_type": "execute_result"
    }
   ],
   "source": [
    "Y.shape"
   ]
  },
  {
   "cell_type": "code",
   "execution_count": 63,
   "id": "e4bc7b16",
   "metadata": {
    "execution": {
     "iopub.execute_input": "2021-08-05T10:09:31.769105Z",
     "iopub.status.busy": "2021-08-05T10:09:31.766989Z",
     "iopub.status.idle": "2021-08-05T10:09:31.788798Z",
     "shell.execute_reply": "2021-08-05T10:09:31.788103Z",
     "shell.execute_reply.started": "2021-08-05T09:53:59.254253Z"
    },
    "papermill": {
     "duration": 0.132557,
     "end_time": "2021-08-05T10:09:31.788942",
     "exception": false,
     "start_time": "2021-08-05T10:09:31.656385",
     "status": "completed"
    },
    "tags": []
   },
   "outputs": [],
   "source": [
    "# Разделим выборку на тренировочную и тестовую: \n",
    "X_train, X_test, y_train, y_test = train_test_split(X, Y, test_size=0.20, random_state=42)\n",
    "X_train = X\n",
    "y_train = Y\n",
    "X_test = np.hstack([X_num_test,data_test[bin_cols].values, X_cat_test])"
   ]
  },
  {
   "cell_type": "code",
   "execution_count": 64,
   "id": "39420544",
   "metadata": {
    "execution": {
     "iopub.execute_input": "2021-08-05T10:09:32.007170Z",
     "iopub.status.busy": "2021-08-05T10:09:32.005790Z",
     "iopub.status.idle": "2021-08-05T10:09:48.802441Z",
     "shell.execute_reply": "2021-08-05T10:09:48.801824Z",
     "shell.execute_reply.started": "2021-08-05T09:54:23.800593Z"
    },
    "papermill": {
     "duration": 16.90857,
     "end_time": "2021-08-05T10:09:48.802609",
     "exception": false,
     "start_time": "2021-08-05T10:09:31.894039",
     "status": "completed"
    },
    "tags": []
   },
   "outputs": [],
   "source": [
    "# Посчитаем новую модель для всей выборки: \n",
    "new_model.fit(X_train, y_train)\n",
    "y_pred = new_model.predict(X_test)"
   ]
  },
  {
   "cell_type": "code",
   "execution_count": 65,
   "id": "92e63c0c",
   "metadata": {
    "execution": {
     "iopub.execute_input": "2021-08-05T10:09:49.070138Z",
     "iopub.status.busy": "2021-08-05T10:09:49.069445Z",
     "iopub.status.idle": "2021-08-05T10:09:49.072511Z",
     "shell.execute_reply": "2021-08-05T10:09:49.072971Z",
     "shell.execute_reply.started": "2021-08-05T10:03:39.240033Z"
    },
    "papermill": {
     "duration": 0.112203,
     "end_time": "2021-08-05T10:09:49.073146",
     "exception": false,
     "start_time": "2021-08-05T10:09:48.960943",
     "status": "completed"
    },
    "tags": []
   },
   "outputs": [],
   "source": [
    "submit = pd.DataFrame(data_test['client_id'])"
   ]
  },
  {
   "cell_type": "code",
   "execution_count": 66,
   "id": "cc2e2c4e",
   "metadata": {
    "execution": {
     "iopub.execute_input": "2021-08-05T10:09:49.285315Z",
     "iopub.status.busy": "2021-08-05T10:09:49.283936Z",
     "iopub.status.idle": "2021-08-05T10:09:49.358803Z",
     "shell.execute_reply": "2021-08-05T10:09:49.358126Z",
     "shell.execute_reply.started": "2021-08-05T10:05:25.536207Z"
    },
    "papermill": {
     "duration": 0.183491,
     "end_time": "2021-08-05T10:09:49.358952",
     "exception": false,
     "start_time": "2021-08-05T10:09:49.175461",
     "status": "completed"
    },
    "tags": []
   },
   "outputs": [],
   "source": [
    "submit['default'] = y_pred\n",
    "submit.to_csv('submission.csv', index=False)"
   ]
  },
  {
   "cell_type": "code",
   "execution_count": 67,
   "id": "8a0867e3",
   "metadata": {
    "execution": {
     "iopub.execute_input": "2021-08-05T10:09:49.570299Z",
     "iopub.status.busy": "2021-08-05T10:09:49.569300Z",
     "iopub.status.idle": "2021-08-05T10:09:49.580656Z",
     "shell.execute_reply": "2021-08-05T10:09:49.581099Z",
     "shell.execute_reply.started": "2021-08-05T10:05:45.473966Z"
    },
    "papermill": {
     "duration": 0.117449,
     "end_time": "2021-08-05T10:09:49.581292",
     "exception": false,
     "start_time": "2021-08-05T10:09:49.463843",
     "status": "completed"
    },
    "tags": []
   },
   "outputs": [
    {
     "data": {
      "text/html": [
       "<div>\n",
       "<style scoped>\n",
       "    .dataframe tbody tr th:only-of-type {\n",
       "        vertical-align: middle;\n",
       "    }\n",
       "\n",
       "    .dataframe tbody tr th {\n",
       "        vertical-align: top;\n",
       "    }\n",
       "\n",
       "    .dataframe thead th {\n",
       "        text-align: right;\n",
       "    }\n",
       "</style>\n",
       "<table border=\"1\" class=\"dataframe\">\n",
       "  <thead>\n",
       "    <tr style=\"text-align: right;\">\n",
       "      <th></th>\n",
       "      <th>client_id</th>\n",
       "      <th>default</th>\n",
       "    </tr>\n",
       "  </thead>\n",
       "  <tbody>\n",
       "    <tr>\n",
       "      <th>81920</th>\n",
       "      <td>52306</td>\n",
       "      <td>0</td>\n",
       "    </tr>\n",
       "    <tr>\n",
       "      <th>83828</th>\n",
       "      <td>29610</td>\n",
       "      <td>0</td>\n",
       "    </tr>\n",
       "    <tr>\n",
       "      <th>109763</th>\n",
       "      <td>82047</td>\n",
       "      <td>0</td>\n",
       "    </tr>\n",
       "    <tr>\n",
       "      <th>109733</th>\n",
       "      <td>89224</td>\n",
       "      <td>0</td>\n",
       "    </tr>\n",
       "    <tr>\n",
       "      <th>94511</th>\n",
       "      <td>36292</td>\n",
       "      <td>0</td>\n",
       "    </tr>\n",
       "    <tr>\n",
       "      <th>90357</th>\n",
       "      <td>4005</td>\n",
       "      <td>0</td>\n",
       "    </tr>\n",
       "    <tr>\n",
       "      <th>80030</th>\n",
       "      <td>79117</td>\n",
       "      <td>0</td>\n",
       "    </tr>\n",
       "    <tr>\n",
       "      <th>77282</th>\n",
       "      <td>95064</td>\n",
       "      <td>0</td>\n",
       "    </tr>\n",
       "    <tr>\n",
       "      <th>98524</th>\n",
       "      <td>37684</td>\n",
       "      <td>1</td>\n",
       "    </tr>\n",
       "    <tr>\n",
       "      <th>96788</th>\n",
       "      <td>3368</td>\n",
       "      <td>0</td>\n",
       "    </tr>\n",
       "  </tbody>\n",
       "</table>\n",
       "</div>"
      ],
      "text/plain": [
       "        client_id  default\n",
       "81920       52306        0\n",
       "83828       29610        0\n",
       "109763      82047        0\n",
       "109733      89224        0\n",
       "94511       36292        0\n",
       "90357        4005        0\n",
       "80030       79117        0\n",
       "77282       95064        0\n",
       "98524       37684        1\n",
       "96788        3368        0"
      ]
     },
     "execution_count": 67,
     "metadata": {},
     "output_type": "execute_result"
    }
   ],
   "source": [
    "submit.sample(10)"
   ]
  },
  {
   "cell_type": "markdown",
   "id": "2ac4ebfa",
   "metadata": {
    "papermill": {
     "duration": 0.10297,
     "end_time": "2021-08-05T10:09:49.787893",
     "exception": false,
     "start_time": "2021-08-05T10:09:49.684923",
     "status": "completed"
    },
    "tags": []
   },
   "source": []
  }
 ],
 "metadata": {
  "kernelspec": {
   "display_name": "Python 3",
   "language": "python",
   "name": "python3"
  },
  "language_info": {
   "codemirror_mode": {
    "name": "ipython",
    "version": 3
   },
   "file_extension": ".py",
   "mimetype": "text/x-python",
   "name": "python",
   "nbconvert_exporter": "python",
   "pygments_lexer": "ipython3",
   "version": "3.7.10"
  },
  "papermill": {
   "default_parameters": {},
   "duration": 188.193143,
   "end_time": "2021-08-05T10:09:51.463870",
   "environment_variables": {},
   "exception": null,
   "input_path": "__notebook__.ipynb",
   "output_path": "__notebook__.ipynb",
   "parameters": {},
   "start_time": "2021-08-05T10:06:43.270727",
   "version": "2.3.3"
  }
 },
 "nbformat": 4,
 "nbformat_minor": 5
}
